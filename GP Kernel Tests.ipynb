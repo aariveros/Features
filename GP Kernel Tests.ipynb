{
 "metadata": {
  "name": ""
 },
 "nbformat": 3,
 "nbformat_minor": 0,
 "worksheets": [
  {
   "cells": [
    {
     "cell_type": "code",
     "collapsed": false,
     "input": [
      "import lightcurves.lc_utils as lu\n",
      "import matplotlib.pyplot as plt\n",
      "import pandas as pd\n",
      "#%matplotlib inline"
     ],
     "language": "python",
     "metadata": {},
     "outputs": [
      {
       "output_type": "stream",
       "stream": "stderr",
       "text": [
        "/Users/npcastro/anaconda/lib/python2.7/site-packages/pytz/__init__.py:29: UserWarning: Module argparse was already imported from /Users/npcastro/anaconda/python.app/Contents/lib/python2.7/argparse.pyc, but /Users/npcastro/anaconda/lib/python2.7/site-packages is being added to sys.path\n",
        "  from pkg_resources import resource_stream\n"
       ]
      }
     ],
     "prompt_number": 1
    },
    {
     "cell_type": "code",
     "collapsed": false,
     "input": [
      "def graf(X, y, x_pred, y_pred, sigma):\n",
      "    \"\"\"\n",
      "    X: puntos de las observaciones\n",
      "    y: valor de f(x) en las observaciones\n",
      "    x: puntos donde se pregunta al gp\n",
      "    y_pred: f(x) dde se pregunto al gp\n",
      "    sigma: std en los ptos dde se pregunto al gp\n",
      "    \"\"\"\n",
      "\n",
      "    # Grafico las observaciones\n",
      "    X2 = np.array(X)\n",
      "    X2 = (X2.T).ravel()\n",
      "    plt.plot(X2,y,'.r')\n",
      "    \n",
      "    # Grafico la regresi\u00f3n ajustada\n",
      "    X3 = np.array(x_pred)\n",
      "    X3 = X3.ravel()\n",
      "    plt.plot(X3, y_pred, 'b-', label=u'Prediction')\n",
      "    \n",
      "    # Agrego el intervalo de confianza\n",
      "    plt.fill(np.concatenate([X3, X3[::-1]]), \\\n",
      "            np.concatenate([y_pred - 1.9600 * sigma,\n",
      "                           (y_pred + 1.9600 * sigma)[::-1]]), \\\n",
      "            alpha=.5, fc='b', ec='None', label='95% confidence interval')\n",
      "    \n",
      "    # Leyenda\n",
      "    plt.xlabel('$x$')\n",
      "    plt.ylabel('$f(x)$')\n",
      "    plt.legend(loc='upper right')"
     ],
     "language": "python",
     "metadata": {},
     "outputs": [],
     "prompt_number": 2
    },
    {
     "cell_type": "code",
     "collapsed": false,
     "input": [
      "import numpy as np\n",
      "def GP_sample(y, sigma):\n",
      "    \"\"\"\n",
      "    y: medias de las predicciones\n",
      "    sigma: std de las predicciones\n",
      "    \"\"\"\n",
      "    \n",
      "    return np.random.normal(y, sigma)"
     ],
     "language": "python",
     "metadata": {},
     "outputs": [],
     "prompt_number": 3
    },
    {
     "cell_type": "markdown",
     "metadata": {},
     "source": [
      "Primero abro una curva de ejemplo y la grafico"
     ]
    },
    {
     "cell_type": "code",
     "collapsed": false,
     "input": [
      "# Ubicacion de las curvas\n",
      "# 0-1           Be_lc\n",
      "# 255-256       CEPH\n",
      "# 457-458       EB\n",
      "# 967-968       longperiod_lc\n",
      "# 1697-1698     microlensing_lc\n",
      "# 2862-2863     non_variables\n",
      "# 12527-12528   quasar_lc\n",
      "# 12645-12646   RRL\n",
      "\n",
      "paths = lu.get_lightcurve_paths()\n",
      "a, b = 967, 968\n",
      "\n",
      "azul = lu.open_lightcurve(paths[a])\n",
      "roja = lu.open_lightcurve(paths[b])\n",
      "curva = pd.concat([azul, roja], axis=1, keys=['azul', 'roja'], join='inner')\n",
      "\n",
      "plt.plot( curva.index, curva['azul']['mag'], '.', color = 'b')"
     ],
     "language": "python",
     "metadata": {},
     "outputs": [
      {
       "metadata": {},
       "output_type": "pyout",
       "prompt_number": 4,
       "text": [
        "[<matplotlib.lines.Line2D at 0x109a11210>]"
       ]
      }
     ],
     "prompt_number": 4
    },
    {
     "cell_type": "markdown",
     "metadata": {},
     "source": [
      "Preparo los datos de la curva azul"
     ]
    },
    {
     "cell_type": "code",
     "collapsed": false,
     "input": [
      "import numpy as np\n",
      "import random\n",
      "\n",
      "# Array con los tiempos de medicion normalizados\n",
      "t_obs = np.array(azul.index.reshape(len(azul.index),1))\n",
      "t_obs = (t_obs - np.mean(t_obs)) / np.std(t_obs)\n",
      "\n",
      "# Array con los brillos normalizados\n",
      "y_obs = azul['mag'].reshape(len(azul.index), 1)\n",
      "y_obs = (y_obs - np.mean(y_obs)) / np.std(y_obs)\n",
      "\n",
      "# Array con los errores de las mediciones normalizados segun las observaciones\n",
      "# No tiene sentido centrar los errores\n",
      "err_obs = azul['err'].reshape(len(azul.index), 1)\n",
      "err_obs = err_obs / azul['mag'].std()\n",
      "\n",
      "min_time = np.min(t_obs)\n",
      "max_time = np.max(t_obs)\n",
      "\n",
      "# Tomo una muestra aleatoria de puntos de la curva\n",
      "random.seed(3)\n",
      "n_sampled_points = 100\n",
      "rand_indices = random.sample(range(0,np.max(np.shape(t_obs))),n_sampled_points)\n",
      "rand_indices.sort()\n",
      "\n",
      "t_obs = t_obs[rand_indices]\n",
      "y_obs = y_obs[rand_indices]\n",
      "err_obs = err_obs[rand_indices]\n",
      "\n",
      "# Transformo a matriz\n",
      "t_obs = np.asmatrix(t_obs)\n",
      "y_obs = np.asmatrix(y_obs)\n",
      "err_obs = np.asmatrix(err_obs)"
     ],
     "language": "python",
     "metadata": {},
     "outputs": [],
     "prompt_number": 5
    },
    {
     "cell_type": "heading",
     "level": 3,
     "metadata": {},
     "source": [
      "Gaussian Process"
     ]
    },
    {
     "cell_type": "markdown",
     "metadata": {},
     "source": [
      "Kernel squared exponential"
     ]
    },
    {
     "cell_type": "code",
     "collapsed": false,
     "input": [
      "import numpy as np\n",
      "from sklearn.gaussian_process import GaussianProcess\n",
      "from matplotlib import pyplot as plt\n",
      "\n",
      "#----------------------------------------------------------------------\n",
      "# Pruebo tomando como error el que viene con las mediciones\n",
      "dy = np.array(err_obs.T)[0]\n",
      "\n",
      "X = t_obs\n",
      "y = np.array(y_obs.T)[0]\n",
      "\n",
      "# Mesh the input space for evaluations of the real function, the prediction and its MSE\n",
      "# Instanciate a Gaussian Process model\n",
      "gp = GaussianProcess(corr='squared_exponential', theta0=1e-1,\n",
      "                     thetaL=1e-15, thetaU=1,\n",
      "                     nugget=(dy/y)**2,\n",
      "                     random_start=100)\n",
      "\n",
      "# Fit to data using Maximum Likelihood Estimation of the parameters\n",
      "gp = gp.fit(X, y)\n",
      "print gp.theta_\n",
      "\n",
      "# Make the prediction on the meshed x-axis (ask for MSE as well)\n",
      "num_locs = n_sampled_points\n",
      "extra_time = 0.0\n",
      "\n",
      "x_pred = np.asmatrix(np.linspace(min_time,max_time + extra_time,num_locs)).T\n",
      "y_pred, MSE = gp.predict(x_pred, eval_MSE=True)\n",
      "sigma = np.sqrt(MSE)"
     ],
     "language": "python",
     "metadata": {},
     "outputs": [
      {
       "output_type": "stream",
       "stream": "stdout",
       "text": [
        "[[ 0.40011682]]\n"
       ]
      }
     ],
     "prompt_number": 6
    },
    {
     "cell_type": "code",
     "collapsed": false,
     "input": [
      "# Plot the function, the prediction and the 95% confidence interval based on the MSE\n",
      "fig = plt.figure()\n",
      "\n",
      "graf(X, y, x_pred, y_pred, sigma)\n",
      "plt.show()"
     ],
     "language": "python",
     "metadata": {},
     "outputs": [],
     "prompt_number": 7
    },
    {
     "cell_type": "code",
     "collapsed": false,
     "input": [
      "y_pred, MSE = gp.predict(x_pred, eval_MSE=True)\n",
      "\n",
      "np.random.seed(1)\n",
      "aux = np.random.normal(y_pred, np.sqrt(MSE))\n",
      "\n",
      "X2 = np.array(x_pred)\n",
      "X2 = (X2.T).ravel()\n",
      "\n",
      "plt.plot(X2, aux, '.r')\n",
      "plt.show()"
     ],
     "language": "python",
     "metadata": {},
     "outputs": [],
     "prompt_number": 8
    },
    {
     "cell_type": "code",
     "collapsed": false,
     "input": [],
     "language": "python",
     "metadata": {},
     "outputs": []
    }
   ],
   "metadata": {}
  }
 ]
}