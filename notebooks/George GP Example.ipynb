{
 "cells": [
  {
   "cell_type": "raw",
   "metadata": {},
   "source": [
    "Este script toma una curva de luz, le ajusta un modelo y toma muestras de el"
   ]
  },
  {
   "cell_type": "code",
   "execution_count": 1,
   "metadata": {
    "collapsed": false
   },
   "outputs": [],
   "source": [
    "import lightcurves.lc_utils as lu\n",
    "import matplotlib.pyplot as plt\n",
    "import pandas as pd\n",
    "import numpy as np\n",
    "#%matplotlib inline"
   ]
  },
  {
   "cell_type": "markdown",
   "metadata": {},
   "source": [
    "Primero abro una curva de ejemplo y la grafico"
   ]
  },
  {
   "cell_type": "code",
   "execution_count": 2,
   "metadata": {
    "collapsed": false
   },
   "outputs": [],
   "source": [
    "# Ubicacion de las curvas\n",
    "# 0-1           Be_lc\n",
    "# 255-256       CEPH\n",
    "# 457-458       EB\n",
    "# 967-968       longperiod_lc\n",
    "# 1697-1698     microlensing_lc\n",
    "# 2862-2863     non_variables\n",
    "# 12527-12528   quasar_lc\n",
    "# 12645-12646   RRL\n",
    "\n",
    "paths = lu.get_lightcurve_paths()\n",
    "a, b = 967, 968\n",
    "#a, b = 2864, 2865\n",
    "#a, b = 4, 5\n",
    "\n",
    "azul = lu.open_lightcurve(paths[a])\n",
    "roja = lu.open_lightcurve(paths[b])\n",
    "curva = pd.concat([azul, roja], axis=1, keys=['azul', 'roja'], join='inner')\n",
    "\n",
    "#plt.plot( azul.index, azul['mag'], '.', color = 'b')\n",
    "plt.errorbar(azul.index, azul['mag'], yerr=azul['err'], fmt=\".b\", ecolor='r', capsize=0)\n",
    "plt.show()"
   ]
  },
  {
   "cell_type": "code",
   "execution_count": 3,
   "metadata": {
    "collapsed": false
   },
   "outputs": [],
   "source": [
    "#plt.plot( azul.index[0::10], azul['mag'].iloc[0::10], '.', color = 'b')\n",
    "plt.errorbar(azul.index[0::10], azul['mag'].iloc[0::10], yerr=azul['err'][0::10], fmt=\".b\", ecolor='r', capsize=0)\n",
    "plt.show()"
   ]
  },
  {
   "cell_type": "markdown",
   "metadata": {},
   "source": [
    "### Gaussian Process"
   ]
  },
  {
   "cell_type": "code",
   "execution_count": 7,
   "metadata": {
    "collapsed": false
   },
   "outputs": [],
   "source": [
    "t_obs, y_obs, err_obs, min_time, max_time = lu.prepare_lightcurve(azul, 100)\n",
    "#t_obs, y_obs, err_obs, min_time, max_time = lu.prepare_lightcurve(azul, 500)\n",
    "\n",
    "t_obs = np.ravel(t_obs)\n",
    "y_obs = np.ravel(y_obs)\n",
    "err_obs = np.ravel(err_obs) \n",
    "\n",
    "# Reduzco a la fuerza el ruido a ver si el ajuste mejora\n",
    "# err_obs = err_obs/10"
   ]
  },
  {
   "cell_type": "code",
   "execution_count": 8,
   "metadata": {
    "collapsed": false
   },
   "outputs": [],
   "source": [
    "#plt.plot( t_obs.ravel(), y_obs.ravel(), '.', color = 'b')\n",
    "plt.errorbar(t_obs.ravel(), y_obs.ravel(), yerr=err_obs.ravel(), fmt=\".b\", ecolor='r', capsize=0)\n",
    "plt.show()"
   ]
  },
  {
   "cell_type": "code",
   "execution_count": 9,
   "metadata": {
    "collapsed": false
   },
   "outputs": [
    {
     "name": "stdout",
     "output_type": "stream",
     "text": [
      "Fitting GP\n",
      "Running burn-in\n",
      "Running second burn-in\n",
      "Running production\n"
     ]
    }
   ],
   "source": [
    "import george\n",
    "from george import kernels\n",
    "from model import *\n",
    "\n",
    "print(\"Fitting GP\")\n",
    "data = (t_obs, y_obs, err_obs)\n",
    "\n",
    "#parameters = [m, b, alpha, l, sigma]\n",
    "\n",
    "initial = [0.0, 0.0, -1.0, 0.1, 0.4]\n",
    "sampler = fit_gp(initial, data, verbose=True)"
   ]
  },
  {
   "cell_type": "markdown",
   "metadata": {},
   "source": [
    "#### Grafico curvas sampleadas del GP ajustado"
   ]
  },
  {
   "cell_type": "code",
   "execution_count": 15,
   "metadata": {
    "collapsed": false
   },
   "outputs": [
    {
     "name": "stdout",
     "output_type": "stream",
     "text": [
      "Making plots\n"
     ]
    }
   ],
   "source": [
    "print(\"Making plots\")\n",
    "samples = sampler.flatchain\n",
    "x = np.linspace(min_time, max_time, 500)\n",
    "\n",
    "plt.figure()\n",
    "plt.errorbar(t_obs, y_obs, yerr=err_obs, fmt=\".b\",ecolor='r', capsize=0)\n",
    "\n",
    "s = samples[10]\n",
    "#for s in samples[np.random.randint(len(samples), size=24)]:\n",
    "for i in xrange(24):\n",
    "    gp = george.GP(np.exp(s[0]) * kernels.Matern32Kernel(np.exp(s[1])))\n",
    "    gp.compute(t_obs, err_obs)\n",
    "    m = gp.sample_conditional(y_obs - model(s[2:], t_obs), x) + model(s[2:], x)\n",
    "    plt.plot(x, m, color=\"#4682b4\", alpha=0.3)\n",
    "    #plt.plot(x, m, alpha=0.3)\n",
    "    \n",
    "plt.ylabel(r\"$y$\")\n",
    "plt.xlabel(r\"$t$\")\n",
    "plt.xlim(min_time, max_time)\n",
    "plt.title(\"results with Gaussian process noise model\")\n",
    "plt.show()"
   ]
  },
  {
   "cell_type": "markdown",
   "metadata": {},
   "source": [
    "#### Grafico modelo ajustado con su incertidumbre"
   ]
  },
  {
   "cell_type": "code",
   "execution_count": 16,
   "metadata": {
    "collapsed": false
   },
   "outputs": [],
   "source": [
    "x = np.linspace(min_time, max_time, 500)\n",
    "\n",
    "plt.close()\n",
    "plt.figure()\n",
    "plt.errorbar(t_obs, y_obs, yerr=err_obs, fmt=\".b\", ecolor='r', capsize=0)\n",
    "\n",
    "gp = george.GP(np.exp(s[0]) * kernels.Matern32Kernel(np.exp(s[1])))\n",
    "gp.compute(t_obs, yerr=err_obs)\n",
    "mu, cov = gp.predict(y_obs - model(s[2:], t_obs), x)\n",
    "mu = mu + model(s[2:], x)\n",
    "#sigma = cov.diagonal()\n",
    "sigma = np.sqrt(np.diag(cov))\n",
    "\n",
    "plt.plot(x, mu, color=\"#4682b4\", alpha=0.3)\n",
    "\n",
    "# Agrego el intervalo de confianza\n",
    "plt.fill(np.concatenate([x, x[::-1]]), \\\n",
    "        np.concatenate([mu - 1.9600 * sigma,\n",
    "                       (mu + 1.9600 * sigma)[::-1]]), \\\n",
    "        alpha=.5, fc='#C0C0C0', ec='None', label='95% confidence interval')\n",
    "plt.show()"
   ]
  },
  {
   "cell_type": "markdown",
   "metadata": {},
   "source": [
    "Comparo los valores de las features"
   ]
  },
  {
   "cell_type": "code",
   "execution_count": 20,
   "metadata": {
    "collapsed": false
   },
   "outputs": [],
   "source": [
    "import os, sys\n",
    "lib_path = os.path.abspath('../FATS')\n",
    "sys.path.append(lib_path)\n",
    "\n",
    "import FATS"
   ]
  },
  {
   "cell_type": "code",
   "execution_count": 60,
   "metadata": {
    "collapsed": false
   },
   "outputs": [],
   "source": [
    "feature_names = ['Amplitude', 'Beyond1Std', 'Con','MaxSlope', 'MedianAbsDev','MedianBRP',\n",
    "                 'PairSlopeTrend', 'Rcs', 'Skew', 'SmallKurtosis','Std','StestonK',\n",
    "                 'VariabilityIndex', 'meanvariance']\n",
    "\n",
    "fs = FATS.FeatureSpace(Data=['magnitude', 'time', 'error'],\n",
    "                       featureList=['Amplitude', 'Beyond1Std', 'Con',\n",
    "                                    'MaxSlope', 'MedianAbsDev','MedianBRP',\n",
    "                                    'PairSlopeTrend', 'Rcs', 'Skew', 'SmallKurtosis',\n",
    "                                    'Std','StestonK', 'VariabilityIndex', 'meanvariance'], excludeList=None)\n"
   ]
  },
  {
   "cell_type": "code",
   "execution_count": 62,
   "metadata": {
    "collapsed": false
   },
   "outputs": [
    {
     "ename": "ValueError",
     "evalue": "Unknown format code 'f' for object of type 'str'",
     "output_type": "error",
     "traceback": [
      "\u001b[0;31m---------------------------------------------------------------------------\u001b[0m",
      "\u001b[0;31mValueError\u001b[0m                                Traceback (most recent call last)",
      "\u001b[0;32m<ipython-input-62-d604b0aeb0e7>\u001b[0m in \u001b[0;36m<module>\u001b[0;34m()\u001b[0m\n\u001b[1;32m      2\u001b[0m \u001b[0;34m\u001b[0m\u001b[0m\n\u001b[1;32m      3\u001b[0m \u001b[0mfs\u001b[0m \u001b[0;34m=\u001b[0m \u001b[0mfs\u001b[0m\u001b[0;34m.\u001b[0m\u001b[0mcalculateFeature\u001b[0m\u001b[0;34m(\u001b[0m\u001b[0;34m[\u001b[0m\u001b[0my_obs\u001b[0m\u001b[0;34m,\u001b[0m \u001b[0mt_obs\u001b[0m\u001b[0;34m,\u001b[0m \u001b[0merr_obs\u001b[0m\u001b[0;34m]\u001b[0m\u001b[0;34m)\u001b[0m\u001b[0;34m\u001b[0m\u001b[0m\n\u001b[0;32m----> 4\u001b[0;31m \u001b[0;32mprint\u001b[0m \u001b[0mmap\u001b[0m\u001b[0;34m(\u001b[0m\u001b[0;32mlambda\u001b[0m \u001b[0mx\u001b[0m\u001b[0;34m:\u001b[0m \u001b[0mfloat\u001b[0m\u001b[0;34m(\u001b[0m\u001b[0;34m\"{0:.5f}\"\u001b[0m\u001b[0;34m.\u001b[0m\u001b[0mformat\u001b[0m\u001b[0;34m(\u001b[0m\u001b[0mx\u001b[0m\u001b[0;34m)\u001b[0m\u001b[0;34m)\u001b[0m\u001b[0;34m,\u001b[0m\u001b[0mfs\u001b[0m\u001b[0;34m.\u001b[0m\u001b[0mresult\u001b[0m\u001b[0;34m(\u001b[0m\u001b[0mmethod\u001b[0m\u001b[0;34m=\u001b[0m\u001b[0;34m'dict'\u001b[0m\u001b[0;34m)\u001b[0m\u001b[0;34m)\u001b[0m\u001b[0;34m\u001b[0m\u001b[0m\n\u001b[0m",
      "\u001b[0;32m<ipython-input-62-d604b0aeb0e7>\u001b[0m in \u001b[0;36m<lambda>\u001b[0;34m(x)\u001b[0m\n\u001b[1;32m      2\u001b[0m \u001b[0;34m\u001b[0m\u001b[0m\n\u001b[1;32m      3\u001b[0m \u001b[0mfs\u001b[0m \u001b[0;34m=\u001b[0m \u001b[0mfs\u001b[0m\u001b[0;34m.\u001b[0m\u001b[0mcalculateFeature\u001b[0m\u001b[0;34m(\u001b[0m\u001b[0;34m[\u001b[0m\u001b[0my_obs\u001b[0m\u001b[0;34m,\u001b[0m \u001b[0mt_obs\u001b[0m\u001b[0;34m,\u001b[0m \u001b[0merr_obs\u001b[0m\u001b[0;34m]\u001b[0m\u001b[0;34m)\u001b[0m\u001b[0;34m\u001b[0m\u001b[0m\n\u001b[0;32m----> 4\u001b[0;31m \u001b[0;32mprint\u001b[0m \u001b[0mmap\u001b[0m\u001b[0;34m(\u001b[0m\u001b[0;32mlambda\u001b[0m \u001b[0mx\u001b[0m\u001b[0;34m:\u001b[0m \u001b[0mfloat\u001b[0m\u001b[0;34m(\u001b[0m\u001b[0;34m\"{0:.5f}\"\u001b[0m\u001b[0;34m.\u001b[0m\u001b[0mformat\u001b[0m\u001b[0;34m(\u001b[0m\u001b[0mx\u001b[0m\u001b[0;34m)\u001b[0m\u001b[0;34m)\u001b[0m\u001b[0;34m,\u001b[0m\u001b[0mfs\u001b[0m\u001b[0;34m.\u001b[0m\u001b[0mresult\u001b[0m\u001b[0;34m(\u001b[0m\u001b[0mmethod\u001b[0m\u001b[0;34m=\u001b[0m\u001b[0;34m'dict'\u001b[0m\u001b[0;34m)\u001b[0m\u001b[0;34m)\u001b[0m\u001b[0;34m\u001b[0m\u001b[0m\n\u001b[0m",
      "\u001b[0;31mValueError\u001b[0m: Unknown format code 'f' for object of type 'str'"
     ]
    }
   ],
   "source": [
    "fs.calculateFeature([y_obs, t_obs, err_obs])\n",
    "\n",
    "fs = fs.calculateFeature([y_obs, t_obs, err_obs])\n",
    "print map(lambda x: float(\"{0:.5f}\".format(x)),fs.result(method='dict'))"
   ]
  },
  {
   "cell_type": "code",
   "execution_count": 56,
   "metadata": {
    "collapsed": false
   },
   "outputs": [
    {
     "name": "stdout",
     "output_type": "stream",
     "text": [
      "[0.51, 6.06, 0.0, 90.3, 0.24, 6.45, -0.0, 1.02, 3.92, -28.28, 0.11]\n"
     ]
    }
   ],
   "source": [
    "fs = fs.calculateFeature([y_obs, t_obs, err_obs])\n",
    "real_values = np.array(fs.result(method=''))\n",
    "\n",
    "mu, cov = gp.predict(y_obs - model(s[2:], t_obs), t_obs)\n",
    "mu = mu + model(s[2:], t_obs)\n",
    "\n",
    "fs = fs.calculateFeature([mu, t_obs, np.sqrt(np.diag(cov))])\n",
    "model_values = np.array(fs.result(method=''))\n",
    "\n",
    "percentage = (abs(real_values - model_values) / real_values) * 100\n",
    "\n",
    "print map(lambda x: float(\"{0:.2f}\".format(x)),percentage)"
   ]
  },
  {
   "cell_type": "markdown",
   "metadata": {},
   "source": [
    "#### Histograma"
   ]
  },
  {
   "cell_type": "code",
   "execution_count": 57,
   "metadata": {
    "collapsed": false
   },
   "outputs": [],
   "source": [
    "# Sampleo las muestras a las que les voy a calcular las features\n",
    "samples = sampler.flatchain\n",
    "x = np.linspace(min_time, max_time, 500)\n",
    "\n",
    "muestras = []\n",
    "\n",
    "for s in samples[np.random.randint(len(samples), size=100)]:\n",
    "    gp = george.GP(np.exp(s[0]) * kernels.Matern32Kernel(np.exp(s[1])))\n",
    "    gp.compute(t_obs, err_obs)\n",
    "    m = gp.sample_conditional(y_obs - model(s[2:], t_obs), t_obs) + model(s[2:], t_obs)\n",
    "    mu, cov = gp.predict(m, t_obs)\n",
    "\n",
    "    sigma = np.sqrt(np.diag(cov))\n",
    "    muestras.append((m, sigma))"
   ]
  },
  {
   "cell_type": "code",
   "execution_count": 58,
   "metadata": {
    "collapsed": false
   },
   "outputs": [],
   "source": [
    "# Calculos las features y las guardo en una matriz\n",
    "feature_samples = []\n",
    "\n",
    "for m in muestras:\n",
    "    fs = fs.calculateFeature([m[0], t_obs, m[1]])\n",
    "    feature_samples.append(fs.result(method=''))"
   ]
  },
  {
   "cell_type": "code",
   "execution_count": 59,
   "metadata": {
    "collapsed": false
   },
   "outputs": [
    {
     "data": {
      "text/plain": [
       "(100, 11)"
      ]
     },
     "execution_count": 59,
     "metadata": {},
     "output_type": "execute_result"
    }
   ],
   "source": [
    "aux = np.array(feature_samples)\n",
    "aux.shape"
   ]
  },
  {
   "cell_type": "code",
   "execution_count": 53,
   "metadata": {
    "collapsed": false
   },
   "outputs": [
    {
     "name": "stdout",
     "output_type": "stream",
     "text": [
      "The autoreload extension is already loaded. To reload it, use:\n",
      "  %reload_ext autoreload\n",
      "14\n"
     ]
    }
   ],
   "source": [
    "%load_ext autoreload\n",
    "%autoreload 2"
   ]
  },
  {
   "cell_type": "code",
   "execution_count": 52,
   "metadata": {
    "collapsed": false
   },
   "outputs": [
    {
     "ename": "IndexError",
     "evalue": "index 11 is out of bounds for axis 1 with size 11",
     "output_type": "error",
     "traceback": [
      "\u001b[0;31m---------------------------------------------------------------------------\u001b[0m",
      "\u001b[0;31mIndexError\u001b[0m                                Traceback (most recent call last)",
      "\u001b[0;32m<ipython-input-52-a287f2f5e6e4>\u001b[0m in \u001b[0;36m<module>\u001b[0;34m()\u001b[0m\n\u001b[1;32m      3\u001b[0m \u001b[0;32mfor\u001b[0m \u001b[0mi\u001b[0m \u001b[0;32min\u001b[0m \u001b[0mxrange\u001b[0m\u001b[0;34m(\u001b[0m\u001b[0mlen\u001b[0m\u001b[0;34m(\u001b[0m\u001b[0mfeature_names\u001b[0m\u001b[0;34m)\u001b[0m\u001b[0;34m)\u001b[0m\u001b[0;34m:\u001b[0m\u001b[0;34m\u001b[0m\u001b[0m\n\u001b[1;32m      4\u001b[0m     \u001b[0;31m#sample_hist(aux[:,i], real_values[i], feature_names[i], 'Resultados/Graficos Ajuste GP/Be_lc/')\u001b[0m\u001b[0;34m\u001b[0m\u001b[0;34m\u001b[0m\u001b[0m\n\u001b[0;32m----> 5\u001b[0;31m     \u001b[0msample_hist\u001b[0m\u001b[0;34m(\u001b[0m\u001b[0maux\u001b[0m\u001b[0;34m[\u001b[0m\u001b[0;34m:\u001b[0m\u001b[0;34m,\u001b[0m\u001b[0mi\u001b[0m\u001b[0;34m]\u001b[0m\u001b[0;34m,\u001b[0m \u001b[0mfeature_name\u001b[0m\u001b[0;34m=\u001b[0m\u001b[0mfeature_names\u001b[0m\u001b[0;34m[\u001b[0m\u001b[0mi\u001b[0m\u001b[0;34m]\u001b[0m\u001b[0;34m,\u001b[0m \u001b[0msave_path\u001b[0m\u001b[0;34m=\u001b[0m\u001b[0;34m'Resultados/Graficos Ajuste GP/Be_lc/'\u001b[0m\u001b[0;34m)\u001b[0m\u001b[0;34m\u001b[0m\u001b[0m\n\u001b[0m",
      "\u001b[0;31mIndexError\u001b[0m: index 11 is out of bounds for axis 1 with size 11"
     ]
    }
   ],
   "source": [
    "import graf\n",
    "\n",
    "for i in xrange(len(feature_names)):\n",
    "    #sample_hist(aux[:,i], real_values[i], feature_names[i], 'Resultados/Graficos Ajuste GP/Be_lc/')\n",
    "    graf.sample_hist(aux[:,i], feature_name=feature_names[i], save_path='Resultados/Graficos Ajuste GP/Be_lc/')"
   ]
  },
  {
   "cell_type": "code",
   "execution_count": null,
   "metadata": {
    "collapsed": false
   },
   "outputs": [],
   "source": [
    "print aux[:,0].mean()\n",
    "print real_values[0]"
   ]
  },
  {
   "cell_type": "code",
   "execution_count": 18,
   "metadata": {
    "collapsed": false
   },
   "outputs": [
    {
     "data": {
      "text/plain": [
       "array([ 4.98225425, -4.9991223 ,  9.45956269,  0.29556945,  1.22432777])"
      ]
     },
     "execution_count": 18,
     "metadata": {},
     "output_type": "execute_result"
    }
   ],
   "source": [
    "s"
   ]
  },
  {
   "cell_type": "code",
   "execution_count": null,
   "metadata": {
    "collapsed": false
   },
   "outputs": [],
   "source": []
  }
 ],
 "metadata": {
  "kernelspec": {
   "display_name": "Python 2",
   "language": "python",
   "name": "python2"
  },
  "language_info": {
   "codemirror_mode": {
    "name": "ipython",
    "version": 2
   },
   "file_extension": ".py",
   "mimetype": "text/x-python",
   "name": "python",
   "nbconvert_exporter": "python",
   "pygments_lexer": "ipython2",
   "version": "2.7.10"
  }
 },
 "nbformat": 4,
 "nbformat_minor": 0
}
