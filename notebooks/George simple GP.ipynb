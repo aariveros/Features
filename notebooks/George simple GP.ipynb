{
 "cells": [
  {
   "cell_type": "code",
   "execution_count": 1,
   "metadata": {
    "collapsed": false
   },
   "outputs": [
    {
     "ename": "ImportError",
     "evalue": "No module named lightcurves.lc_utils",
     "output_type": "error",
     "traceback": [
      "\u001b[0;31m---------------------------------------------------------------------------\u001b[0m",
      "\u001b[0;31mImportError\u001b[0m                               Traceback (most recent call last)",
      "\u001b[0;32m<ipython-input-1-27cd42ff1217>\u001b[0m in \u001b[0;36m<module>\u001b[0;34m()\u001b[0m\n\u001b[0;32m----> 1\u001b[0;31m \u001b[0;32mimport\u001b[0m \u001b[0mlightcurves\u001b[0m\u001b[0;34m.\u001b[0m\u001b[0mlc_utils\u001b[0m \u001b[0;32mas\u001b[0m \u001b[0mlu\u001b[0m\u001b[0;34m\u001b[0m\u001b[0m\n\u001b[0m\u001b[1;32m      2\u001b[0m \u001b[0;32mimport\u001b[0m \u001b[0mmatplotlib\u001b[0m\u001b[0;34m.\u001b[0m\u001b[0mpyplot\u001b[0m \u001b[0;32mas\u001b[0m \u001b[0mplt\u001b[0m\u001b[0;34m\u001b[0m\u001b[0m\n\u001b[1;32m      3\u001b[0m \u001b[0;32mimport\u001b[0m \u001b[0mpandas\u001b[0m \u001b[0;32mas\u001b[0m \u001b[0mpd\u001b[0m\u001b[0;34m\u001b[0m\u001b[0m\n\u001b[1;32m      4\u001b[0m \u001b[0;32mimport\u001b[0m \u001b[0mnumpy\u001b[0m \u001b[0;32mas\u001b[0m \u001b[0mnp\u001b[0m\u001b[0;34m\u001b[0m\u001b[0m\n\u001b[1;32m      5\u001b[0m \u001b[0;31m#%matplotlib inline\u001b[0m\u001b[0;34m\u001b[0m\u001b[0;34m\u001b[0m\u001b[0m\n",
      "\u001b[0;31mImportError\u001b[0m: No module named lightcurves.lc_utils"
     ]
    }
   ],
   "source": [
    "import lightcurves.lc_utils as lu\n",
    "import matplotlib.pyplot as plt\n",
    "import pandas as pd\n",
    "import numpy as np\n",
    "#%matplotlib inline"
   ]
  },
  {
   "cell_type": "code",
   "execution_count": 20,
   "metadata": {
    "collapsed": false
   },
   "outputs": [],
   "source": [
    "# Ubicacion de las curvas\n",
    "# 0-1           Be_lc\n",
    "# 255-256       CEPH\n",
    "# 457-458       EB\n",
    "# 967-968       longperiod_lc\n",
    "# 1697-1698     microlensing_lc\n",
    "# 2862-2863     non_variables\n",
    "# 12527-12528   quasar_lc\n",
    "# 12645-12646   RRL\n",
    "\n",
    "paths = lu.get_lightcurve_paths()\n",
    "#a, b = 967, 968\n",
    "#a, b = 255, 256\n",
    "#a, b = 2864, 2865\n",
    "#a, b = 4, 5\n",
    "#a,b = 2778, 2779\n",
    "a,b= 12527,12528\n",
    "\n",
    "azul = lu.open_lightcurve(paths[a])\n",
    "roja = lu.open_lightcurve(paths[b])\n",
    "curva = pd.concat([azul, roja], axis=1, keys=['azul', 'roja'], join='inner')\n",
    "\n",
    "#plt.plot( azul.index, azul['mag'], '.', color = 'b')\n",
    "plt.errorbar(azul.index, azul['mag'], yerr=azul['err'], fmt=\".b\", ecolor='r', capsize=0)\n",
    "plt.show()"
   ]
  },
  {
   "cell_type": "code",
   "execution_count": 21,
   "metadata": {
    "collapsed": false
   },
   "outputs": [
    {
     "name": "stdout",
     "output_type": "stream",
     "text": [
      "2704.784063\n",
      "0.00150206533984\n"
     ]
    }
   ],
   "source": [
    "print azul.index[-1] - azul.index[0]\n",
    "print 4 / 2663.0"
   ]
  },
  {
   "cell_type": "code",
   "execution_count": 22,
   "metadata": {
    "collapsed": false
   },
   "outputs": [],
   "source": [
    "#t_obs, y_obs, err_obs, min_time, max_time = lu.prepare_lightcurve(azul, 400)\n",
    "t_obs, y_obs, err_obs, min_time, max_time = lu.prepare_lightcurve(azul, 500)\n",
    "\n",
    "t_obs = np.ravel(t_obs)\n",
    "y_obs = np.ravel(y_obs)\n",
    "err_obs = np.ravel(err_obs) \n",
    "\n",
    "# Reduzco a la fuerza el ruido a ver si el ajuste mejora\n",
    "# err_obs = err_obs/10"
   ]
  },
  {
   "cell_type": "code",
   "execution_count": 23,
   "metadata": {
    "collapsed": false
   },
   "outputs": [
    {
     "name": "stdout",
     "output_type": "stream",
     "text": [
      "(500,)\n",
      "(500,)\n"
     ]
    }
   ],
   "source": [
    "print y_obs.shape\n",
    "print t_obs.shape"
   ]
  },
  {
   "cell_type": "code",
   "execution_count": 24,
   "metadata": {
    "collapsed": false
   },
   "outputs": [
    {
     "name": "stdout",
     "output_type": "stream",
     "text": [
      "Optimization terminated successfully.\n",
      "[-8.36467709]\n",
      "-549.714504943\n"
     ]
    }
   ],
   "source": [
    "import george\n",
    "from george import kernels\n",
    "\n",
    "#Elijo el kernel que quiero ocupar\n",
    "#kernel = 0.7**2 * kernels.ExpSquaredKernel(0.006**2)\n",
    "kernel = np.var(y_obs)**2 * kernels.ExpSquaredKernel(0.006**2)\n",
    "\n",
    "#gp = george.GP(kernel, mean=np.mean(y_obs))\n",
    "gp = george.GP(kernel)\n",
    "\n",
    "p, results = gp.optimize(t_obs, y_obs, yerr=err_obs, dims=[1])\n",
    "#p, results = gp.optimize(t_obs, y_obs, dims=[1])\n",
    "print p\n",
    "print gp.lnlikelihood(y_obs)"
   ]
  },
  {
   "cell_type": "markdown",
   "metadata": {},
   "source": [
    "Valores arbitrarios para usar en el kernel"
   ]
  },
  {
   "cell_type": "code",
   "execution_count": 25,
   "metadata": {
    "collapsed": false
   },
   "outputs": [
    {
     "name": "stdout",
     "output_type": "stream",
     "text": [
      "0.826383596563 0.00901586402258 1.01952217747\n"
     ]
    }
   ],
   "source": [
    "mean_err = np.mean(err_obs)\n",
    "var = np.var(y_obs)\n",
    "#l = -(np.max(t_obs) - np.min(t_obs)) / 40\n",
    "total_days = azul.index[-1] - azul.index[0]\n",
    "l = 6 * (max_time - min_time) / float(total_days)   # son 6 dias segun lo observado en otros ajustes\n",
    "kernel = var**2 * kernels.ExpSquaredKernel(l**2)\n",
    "\n",
    "print mean_err, l, var"
   ]
  },
  {
   "cell_type": "code",
   "execution_count": 26,
   "metadata": {
    "collapsed": false
   },
   "outputs": [
    {
     "name": "stdout",
     "output_type": "stream",
     "text": [
      "-568.798378222\n"
     ]
    }
   ],
   "source": [
    "#kernel = var * kernels.ExpSquaredKernel(l**2)\n",
    "gp = george.GP(kernel)\n",
    "gp.compute(t_obs, yerr=err_obs)\n",
    "print gp.lnlikelihood(y_obs)"
   ]
  },
  {
   "cell_type": "code",
   "execution_count": 27,
   "metadata": {
    "collapsed": false
   },
   "outputs": [],
   "source": [
    "x = np.linspace(np.min(t_obs), np.max(t_obs), 500)\n",
    "\n",
    "s = gp.sample_conditional(y_obs , t_obs)\n",
    "mu, cov = gp.predict(s, x)\n",
    "std = np.sqrt(np.diag(cov))\n",
    "\n",
    "plt.plot(x, mu, color=\"#4682b4\", alpha=0.3)\n",
    "plt.errorbar(t_obs, y_obs, yerr=err_obs, fmt=\".b\", ecolor='r', capsize=0)\n",
    "\n",
    "# Agrego el intervalo de confianza\n",
    "plt.fill(np.concatenate([x, x[::-1]]), \\\n",
    "        np.concatenate([mu - 1.9600 * std,\n",
    "                       (mu + 1.9600 * std)[::-1]]), \\\n",
    "        alpha=.5, fc='#C0C0C0', ec='None', label='95% confidence interval')\n",
    "plt.show()"
   ]
  },
  {
   "cell_type": "code",
   "execution_count": 89,
   "metadata": {
    "collapsed": false
   },
   "outputs": [],
   "source": [
    "x = np.linspace(np.min(t_obs), np.max(t_obs), 500)\n",
    "mu, cov = gp.predict(y_obs, x)\n",
    "std = np.sqrt(np.diag(cov))\n",
    "\n",
    "plt.plot(x, mu, color=\"#4682b4\", alpha=0.3)\n",
    "plt.errorbar(t_obs, y_obs, yerr=err_obs, fmt=\".b\", ecolor='r', capsize=0)\n",
    "\n",
    "# Agrego el intervalo de confianza\n",
    "plt.fill(np.concatenate([x, x[::-1]]), \\\n",
    "        np.concatenate([mu - 1.9600 * std,\n",
    "                       (mu + 1.9600 * std)[::-1]]), \\\n",
    "        alpha=.5, fc='#C0C0C0', ec='None', label='95% confidence interval')\n",
    "plt.show()"
   ]
  },
  {
   "cell_type": "code",
   "execution_count": 66,
   "metadata": {
    "collapsed": false
   },
   "outputs": [
    {
     "data": {
      "text/plain": [
       "0.0043054715240097748"
      ]
     },
     "execution_count": 66,
     "metadata": {},
     "output_type": "execute_result"
    }
   ],
   "source": []
  },
  {
   "cell_type": "code",
   "execution_count": null,
   "metadata": {
    "collapsed": false
   },
   "outputs": [],
   "source": []
  }
 ],
 "metadata": {
  "kernelspec": {
   "display_name": "Python 2",
   "language": "python",
   "name": "python2"
  },
  "language_info": {
   "codemirror_mode": {
    "name": "ipython",
    "version": 2
   },
   "file_extension": ".py",
   "mimetype": "text/x-python",
   "name": "python",
   "nbconvert_exporter": "python",
   "pygments_lexer": "ipython2",
   "version": "2.7.10"
  }
 },
 "nbformat": 4,
 "nbformat_minor": 0
}
