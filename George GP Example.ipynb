{
 "metadata": {
  "name": ""
 },
 "nbformat": 3,
 "nbformat_minor": 0,
 "worksheets": [
  {
   "cells": [
    {
     "cell_type": "raw",
     "metadata": {},
     "source": [
      "Este script toma una curva de luz, le ajusta un modelo y toma muestras de el"
     ]
    },
    {
     "cell_type": "code",
     "collapsed": false,
     "input": [
      "import lightcurves.lc_utils as lu\n",
      "import matplotlib.pyplot as plt\n",
      "import pandas as pd\n",
      "import numpy as np\n",
      "#%matplotlib inline"
     ],
     "language": "python",
     "metadata": {},
     "outputs": [],
     "prompt_number": 1
    },
    {
     "cell_type": "markdown",
     "metadata": {},
     "source": [
      "Primero abro una curva de ejemplo y la grafico"
     ]
    },
    {
     "cell_type": "code",
     "collapsed": false,
     "input": [
      "# Ubicacion de las curvas\n",
      "# 0-1           Be_lc\n",
      "# 255-256       CEPH\n",
      "# 457-458       EB\n",
      "# 967-968       longperiod_lc\n",
      "# 1697-1698     microlensing_lc\n",
      "# 2862-2863     non_variables\n",
      "# 12527-12528   quasar_lc\n",
      "# 12645-12646   RRL\n",
      "\n",
      "paths = lu.get_lightcurve_paths()\n",
      "#a, b = 967, 968\n",
      "a, b = 2864, 2865\n",
      "\n",
      "azul = lu.open_lightcurve(paths[a])\n",
      "roja = lu.open_lightcurve(paths[b])\n",
      "curva = pd.concat([azul, roja], axis=1, keys=['azul', 'roja'], join='inner')\n",
      "\n",
      "#plt.plot( azul.index, azul['mag'], '.', color = 'b')\n",
      "plt.errorbar(azul.index, azul['mag'], yerr=azul['err'], fmt=\".b\", ecolor='r', capsize=0)\n",
      "plt.show()"
     ],
     "language": "python",
     "metadata": {},
     "outputs": [],
     "prompt_number": 8
    },
    {
     "cell_type": "code",
     "collapsed": false,
     "input": [
      "#plt.plot( azul.index[0::10], azul['mag'].iloc[0::10], '.', color = 'b')\n",
      "plt.errorbar(azul.index[0::10], azul['mag'].iloc[0::10], yerr=azul['err'][0::10], fmt=\".b\", ecolor='r', capsize=0)\n",
      "plt.show()"
     ],
     "language": "python",
     "metadata": {},
     "outputs": [],
     "prompt_number": 10
    },
    {
     "cell_type": "heading",
     "level": 3,
     "metadata": {},
     "source": [
      "Gaussian Process"
     ]
    },
    {
     "cell_type": "code",
     "collapsed": false,
     "input": [
      "t_obs, y_obs, err_obs, min_time, max_time = lu.prepare_lightcurve(azul, 100)\n",
      "\n",
      "t_obs = np.ravel(t_obs)\n",
      "y_obs = np.ravel(y_obs)\n",
      "err_obs = np.ravel(err_obs) \n",
      "\n",
      "# Reduzco a la fuerza el ruido a ver si el ajuste mejora\n",
      "#err_obs = err_obs/10"
     ],
     "language": "python",
     "metadata": {},
     "outputs": [],
     "prompt_number": 27
    },
    {
     "cell_type": "code",
     "collapsed": false,
     "input": [
      "#plt.plot( t_obs.ravel(), y_obs.ravel(), '.', color = 'b')\n",
      "plt.errorbar(t_obs.ravel(), y_obs.ravel(), yerr=err_obs.ravel(), fmt=\".b\", ecolor='r', capsize=0)\n",
      "plt.show()"
     ],
     "language": "python",
     "metadata": {},
     "outputs": [],
     "prompt_number": 14
    },
    {
     "cell_type": "code",
     "collapsed": false,
     "input": [
      "import george\n",
      "from george import kernels\n",
      "from model import *\n",
      "\n",
      "print(\"Fitting GP\")\n",
      "data = (t_obs, y_obs, err_obs)\n",
      "\n",
      "#parameters = [m, b, alpha, l, sigma]\n",
      "\n",
      "initial = [0.0, 0.0, -1.0, 0.1, 0.4]\n",
      "sampler = fit_gp(initial, data, verbose=True)"
     ],
     "language": "python",
     "metadata": {},
     "outputs": [
      {
       "output_type": "stream",
       "stream": "stdout",
       "text": [
        "Fitting GP\n",
        "Running burn-in\n",
        "Running second burn-in"
       ]
      },
      {
       "output_type": "stream",
       "stream": "stdout",
       "text": [
        "\n",
        "Running production"
       ]
      },
      {
       "output_type": "stream",
       "stream": "stdout",
       "text": [
        "\n"
       ]
      }
     ],
     "prompt_number": 30
    },
    {
     "cell_type": "heading",
     "level": 4,
     "metadata": {},
     "source": [
      "Grafico curvas sampleadas del GP ajustado"
     ]
    },
    {
     "cell_type": "code",
     "collapsed": false,
     "input": [
      "print(\"Making plots\")\n",
      "samples = sampler.flatchain\n",
      "x = np.linspace(min_time, max_time, 500)\n",
      "\n",
      "plt.figure()\n",
      "plt.errorbar(t_obs, y_obs, yerr=err_obs, fmt=\".b\",ecolor='r', capsize=0)\n",
      "\n",
      "for s in samples[np.random.randint(len(samples), size=24)]:\n",
      "    gp = george.GP(np.exp(s[0]) * kernels.Matern32Kernel(np.exp(s[1])))\n",
      "    gp.compute(t_obs, err_obs)\n",
      "    m = gp.sample_conditional(y_obs - model(s[2:], t_obs), x) + model(s[2:], x)\n",
      "    plt.plot(x, m, color=\"#4682b4\", alpha=0.3)\n",
      "    \n",
      "plt.ylabel(r\"$y$\")\n",
      "plt.xlabel(r\"$t$\")\n",
      "plt.xlim(min_time, max_time)\n",
      "plt.title(\"results with Gaussian process noise model\")\n",
      "plt.show()"
     ],
     "language": "python",
     "metadata": {},
     "outputs": [
      {
       "output_type": "stream",
       "stream": "stdout",
       "text": [
        "Making plots\n"
       ]
      }
     ],
     "prompt_number": 31
    },
    {
     "cell_type": "heading",
     "level": 4,
     "metadata": {},
     "source": [
      "Grafico modelo ajustado con su incertidumbre"
     ]
    },
    {
     "cell_type": "code",
     "collapsed": false,
     "input": [
      "x = np.linspace(min_time, max_time, 500)\n",
      "\n",
      "plt.close()\n",
      "plt.figure()\n",
      "plt.errorbar(t_obs, y_obs, yerr=err_obs, fmt=\".b\", ecolor='r', capsize=0)\n",
      "\n",
      "gp = george.GP(np.exp(s[0]) * kernels.Matern32Kernel(np.exp(s[1])))\n",
      "gp.compute(t_obs, err_obs)\n",
      "mu, cov = gp.predict(y_obs - model(s[2:], t_obs), x)\n",
      "mu = mu + model(s[2:], x)\n",
      "sigma = cov.diagonal()\n",
      "\n",
      "plt.plot(x, mu, color=\"#4682b4\", alpha=0.3)\n",
      "\n",
      "# Agrego el intervalo de confianza\n",
      "plt.fill(np.concatenate([x, x[::-1]]), \\\n",
      "        np.concatenate([mu - 1.9600 * sigma,\n",
      "                       (mu + 1.9600 * sigma)[::-1]]), \\\n",
      "        alpha=.5, fc='#C0C0C0', ec='None', label='95% confidence interval')\n",
      "plt.show()"
     ],
     "language": "python",
     "metadata": {},
     "outputs": [],
     "prompt_number": 32
    },
    {
     "cell_type": "markdown",
     "metadata": {},
     "source": [
      "Comparo los valores de las features"
     ]
    },
    {
     "cell_type": "code",
     "collapsed": false,
     "input": [
      "import os, sys\n",
      "lib_path = os.path.abspath('../time-series-feats')\n",
      "sys.path.append(lib_path)\n",
      "\n",
      "from Feature import FeatureSpace"
     ],
     "language": "python",
     "metadata": {},
     "outputs": [],
     "prompt_number": 33
    },
    {
     "cell_type": "code",
     "collapsed": false,
     "input": [
      "lista = ['Amplitude', 'Beyond1Std', 'Con', 'MaxSlope', 'MedianAbsDev', 'MedianBRP', 'PairSlopeTrend', 'Rcs', 'Skew', 'SmallKurtosis', 'Std', 'StestonK', 'VariabilityIndex', 'meanvariance']\n",
      "\n",
      "fs = FeatureSpace(featureList=lista, Beyond1Std=err_obs, MaxSlope=t_obs)"
     ],
     "language": "python",
     "metadata": {},
     "outputs": [],
     "prompt_number": 34
    },
    {
     "cell_type": "code",
     "collapsed": false,
     "input": [
      "fs = fs.calculateFeature(y_obs)\n",
      "real_values = np.array(fs.result(method=''))\n",
      "\n",
      "mu, cov = gp.predict(y_obs - model(s[2:], t_obs), t_obs)\n",
      "mu = mu + model(s[2:], t_obs)\n",
      "\n",
      "fs = fs.calculateFeature(mu)\n",
      "model_values = np.array(fs.result(method=''))\n",
      "\n",
      "percentage = (abs(real_values - model_values) / real_values) * 100\n",
      "\n",
      "print map(lambda x: float(\"{0:.2f}\".format(x)),percentage)"
     ],
     "language": "python",
     "metadata": {},
     "outputs": [
      {
       "output_type": "stream",
       "stream": "stdout",
       "text": [
        "[98.97, 241.67, nan, 100.0, 89.6, 65.48, -480.0, 4752.89, 107.05, 110.33, 97.44, 60.52, 99.87, -99.49]\n"
       ]
      }
     ],
     "prompt_number": 35
    },
    {
     "cell_type": "code",
     "collapsed": false,
     "input": [],
     "language": "python",
     "metadata": {},
     "outputs": []
    },
    {
     "cell_type": "code",
     "collapsed": false,
     "input": [],
     "language": "python",
     "metadata": {},
     "outputs": []
    }
   ],
   "metadata": {}
  }
 ]
}