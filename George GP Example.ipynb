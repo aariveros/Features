{
 "metadata": {
  "name": "",
  "signature": "sha256:b86772fd9d6163973225aecb6a98e06e0e112d8ba8c16c86723975199b6a65b5"
 },
 "nbformat": 3,
 "nbformat_minor": 0,
 "worksheets": [
  {
   "cells": [
    {
     "cell_type": "raw",
     "metadata": {},
     "source": [
      "Este script toma una curva de luz, le ajusta un modelo y toma muestras de el"
     ]
    },
    {
     "cell_type": "code",
     "collapsed": false,
     "input": [
      "import lightcurves.lc_utils as lu\n",
      "import matplotlib.pyplot as plt\n",
      "import pandas as pd\n",
      "import numpy as np\n",
      "#%matplotlib inline"
     ],
     "language": "python",
     "metadata": {},
     "outputs": [],
     "prompt_number": 1
    },
    {
     "cell_type": "markdown",
     "metadata": {},
     "source": [
      "Primero abro una curva de ejemplo y la grafico"
     ]
    },
    {
     "cell_type": "code",
     "collapsed": false,
     "input": [
      "# Ubicacion de las curvas\n",
      "# 0-1           Be_lc\n",
      "# 255-256       CEPH\n",
      "# 457-458       EB\n",
      "# 967-968       longperiod_lc\n",
      "# 1697-1698     microlensing_lc\n",
      "# 2862-2863     non_variables\n",
      "# 12527-12528   quasar_lc\n",
      "# 12645-12646   RRL\n",
      "\n",
      "paths = lu.get_lightcurve_paths()\n",
      "a, b = 967, 968\n",
      "#a, b = 2864, 2865\n",
      "#a, b = 4, 5\n",
      "\n",
      "azul = lu.open_lightcurve(paths[a])\n",
      "roja = lu.open_lightcurve(paths[b])\n",
      "curva = pd.concat([azul, roja], axis=1, keys=['azul', 'roja'], join='inner')\n",
      "\n",
      "#plt.plot( azul.index, azul['mag'], '.', color = 'b')\n",
      "plt.errorbar(azul.index, azul['mag'], yerr=azul['err'], fmt=\".b\", ecolor='r', capsize=0)\n",
      "plt.show()"
     ],
     "language": "python",
     "metadata": {},
     "outputs": [],
     "prompt_number": 2
    },
    {
     "cell_type": "code",
     "collapsed": false,
     "input": [
      "#plt.plot( azul.index[0::10], azul['mag'].iloc[0::10], '.', color = 'b')\n",
      "plt.errorbar(azul.index[0::10], azul['mag'].iloc[0::10], yerr=azul['err'][0::10], fmt=\".b\", ecolor='r', capsize=0)\n",
      "plt.show()"
     ],
     "language": "python",
     "metadata": {},
     "outputs": [],
     "prompt_number": 76
    },
    {
     "cell_type": "heading",
     "level": 3,
     "metadata": {},
     "source": [
      "Gaussian Process"
     ]
    },
    {
     "cell_type": "code",
     "collapsed": false,
     "input": [
      "#t_obs, y_obs, err_obs, min_time, max_time = lu.prepare_lightcurve(azul, 100)\n",
      "t_obs, y_obs, err_obs, min_time, max_time = lu.prepare_lightcurve(azul, 500)\n",
      "\n",
      "t_obs = np.ravel(t_obs)\n",
      "y_obs = np.ravel(y_obs)\n",
      "err_obs = np.ravel(err_obs) \n",
      "\n",
      "# Reduzco a la fuerza el ruido a ver si el ajuste mejora\n",
      "# err_obs = err_obs/10"
     ],
     "language": "python",
     "metadata": {},
     "outputs": [],
     "prompt_number": 3
    },
    {
     "cell_type": "code",
     "collapsed": false,
     "input": [
      "#plt.plot( t_obs.ravel(), y_obs.ravel(), '.', color = 'b')\n",
      "plt.errorbar(t_obs.ravel(), y_obs.ravel(), yerr=err_obs.ravel(), fmt=\".b\", ecolor='r', capsize=0)\n",
      "plt.show()"
     ],
     "language": "python",
     "metadata": {},
     "outputs": [],
     "prompt_number": 4
    },
    {
     "cell_type": "code",
     "collapsed": false,
     "input": [
      "import george\n",
      "from george import kernels\n",
      "from model import *\n",
      "\n",
      "print(\"Fitting GP\")\n",
      "data = (t_obs, y_obs, err_obs)\n",
      "\n",
      "#parameters = [m, b, alpha, l, sigma]\n",
      "\n",
      "initial = [0.0, 0.0, -1.0, 0.1, 0.4]\n",
      "sampler = fit_gp(initial, data, verbose=True)"
     ],
     "language": "python",
     "metadata": {},
     "outputs": [
      {
       "output_type": "stream",
       "stream": "stdout",
       "text": [
        "Fitting GP\n",
        "Running burn-in\n",
        "Running second burn-in"
       ]
      },
      {
       "output_type": "stream",
       "stream": "stdout",
       "text": [
        "\n",
        "Running production"
       ]
      },
      {
       "output_type": "stream",
       "stream": "stdout",
       "text": [
        "\n"
       ]
      }
     ],
     "prompt_number": 4
    },
    {
     "cell_type": "heading",
     "level": 4,
     "metadata": {},
     "source": [
      "Grafico curvas sampleadas del GP ajustado"
     ]
    },
    {
     "cell_type": "code",
     "collapsed": false,
     "input": [
      "print(\"Making plots\")\n",
      "samples = sampler.flatchain\n",
      "x = np.linspace(min_time, max_time, 500)\n",
      "\n",
      "plt.figure()\n",
      "plt.errorbar(t_obs, y_obs, yerr=err_obs, fmt=\".b\",ecolor='r', capsize=0)\n",
      "\n",
      "s = samples[10]\n",
      "#for s in samples[np.random.randint(len(samples), size=24)]:\n",
      "for i in xrange(24):\n",
      "    gp = george.GP(np.exp(s[0]) * kernels.Matern32Kernel(np.exp(s[1])))\n",
      "    gp.compute(t_obs, err_obs)\n",
      "    m = gp.sample_conditional(y_obs - model(s[2:], t_obs), x) + model(s[2:], x)\n",
      "    plt.plot(x, m, color=\"#4682b4\", alpha=0.3)\n",
      "    \n",
      "plt.ylabel(r\"$y$\")\n",
      "plt.xlabel(r\"$t$\")\n",
      "plt.xlim(min_time, max_time)\n",
      "plt.title(\"results with Gaussian process noise model\")\n",
      "plt.show()"
     ],
     "language": "python",
     "metadata": {},
     "outputs": [
      {
       "output_type": "stream",
       "stream": "stdout",
       "text": [
        "Making plots\n"
       ]
      }
     ],
     "prompt_number": 6
    },
    {
     "cell_type": "heading",
     "level": 4,
     "metadata": {},
     "source": [
      "Grafico modelo ajustado con su incertidumbre"
     ]
    },
    {
     "cell_type": "code",
     "collapsed": false,
     "input": [
      "x = np.linspace(min_time, max_time, 500)\n",
      "\n",
      "plt.close()\n",
      "plt.figure()\n",
      "plt.errorbar(t_obs, y_obs, yerr=err_obs, fmt=\".b\", ecolor='r', capsize=0)\n",
      "\n",
      "gp = george.GP(np.exp(s[0]) * kernels.Matern32Kernel(np.exp(s[1])))\n",
      "gp.compute(t_obs, yerr=err_obs)\n",
      "mu, cov = gp.predict(y_obs - model(s[2:], t_obs), x)\n",
      "mu = mu + model(s[2:], x)\n",
      "#sigma = cov.diagonal()\n",
      "sigma = np.sqrt(np.diag(cov))\n",
      "\n",
      "plt.plot(x, mu, color=\"#4682b4\", alpha=0.3)\n",
      "\n",
      "# Agrego el intervalo de confianza\n",
      "plt.fill(np.concatenate([x, x[::-1]]), \\\n",
      "        np.concatenate([mu - 1.9600 * sigma,\n",
      "                       (mu + 1.9600 * sigma)[::-1]]), \\\n",
      "        alpha=.5, fc='#C0C0C0', ec='None', label='95% confidence interval')\n",
      "plt.show()"
     ],
     "language": "python",
     "metadata": {},
     "outputs": [],
     "prompt_number": 11
    },
    {
     "cell_type": "markdown",
     "metadata": {},
     "source": [
      "Comparo los valores de las features"
     ]
    },
    {
     "cell_type": "code",
     "collapsed": false,
     "input": [
      "import os, sys\n",
      "lib_path = os.path.abspath('../time-series-feats')\n",
      "sys.path.append(lib_path)\n",
      "\n",
      "from Feature import FeatureSpace"
     ],
     "language": "python",
     "metadata": {},
     "outputs": [],
     "prompt_number": 8
    },
    {
     "cell_type": "code",
     "collapsed": false,
     "input": [
      "feature_names = ['Amplitude', 'Beyond1Std', 'Con', 'MaxSlope', 'MedianAbsDev', 'MedianBRP', 'PairSlopeTrend', 'Rcs', 'Skew', 'SmallKurtosis', 'Std', 'StestonK', 'VariabilityIndex', 'meanvariance']\n",
      "\n",
      "fs = FeatureSpace(featureList=feature_names, Beyond1Std=err_obs, MaxSlope=t_obs)"
     ],
     "language": "python",
     "metadata": {},
     "outputs": [],
     "prompt_number": 12
    },
    {
     "cell_type": "code",
     "collapsed": false,
     "input": [
      "fs = fs.calculateFeature(y_obs)\n",
      "print map(lambda x: float(\"{0:.5f}\".format(x)),fs.result(method=''))"
     ],
     "language": "python",
     "metadata": {},
     "outputs": [
      {
       "output_type": "stream",
       "stream": "stdout",
       "text": [
        "[2.76032, 0.334, 0.01205, 6288.62683, 0.69008, 0.382, 0.16667, 0.14278, 0.33585, -0.35063, 1.02451, 0.81869, 0.28221, 237.95542]\n"
       ]
      }
     ],
     "prompt_number": 15
    },
    {
     "cell_type": "code",
     "collapsed": false,
     "input": [
      "fs = fs.calculateFeature(y_obs)\n",
      "real_values = np.array(fs.result(method=''))\n",
      "\n",
      "mu, cov = gp.predict(y_obs - model(s[2:], t_obs), t_obs)\n",
      "mu = mu + model(s[2:], t_obs)\n",
      "\n",
      "fs = fs.calculateFeature(mu)\n",
      "model_values = np.array(fs.result(method=''))\n",
      "\n",
      "percentage = (abs(real_values - model_values) / real_values) * 100\n",
      "\n",
      "print map(lambda x: float(\"{0:.2f}\".format(x)),percentage)"
     ],
     "language": "python",
     "metadata": {},
     "outputs": [
      {
       "output_type": "stream",
       "stream": "stdout",
       "text": [
        "[74.33, 59.74, 1900.0, 99.9, 22.6, 46.06, 333.33, 98.5, 157.96, 98.19, 39.07, 18.9, 99.03, -76.72]\n"
       ]
      }
     ],
     "prompt_number": 84
    },
    {
     "cell_type": "heading",
     "level": 4,
     "metadata": {},
     "source": [
      "Histograma"
     ]
    },
    {
     "cell_type": "code",
     "collapsed": false,
     "input": [
      "# Sampleo las muestras a las que les voy a calcular las features\n",
      "samples = sampler.flatchain\n",
      "x = np.linspace(min_time, max_time, 500)\n",
      "\n",
      "muestras = []\n",
      "\n",
      "for s in samples[np.random.randint(len(samples), size=100)]:\n",
      "    gp = george.GP(np.exp(s[0]) * kernels.Matern32Kernel(np.exp(s[1])))\n",
      "    gp.compute(t_obs, err_obs)\n",
      "    m = gp.sample_conditional(y_obs - model(s[2:], t_obs), t_obs) + model(s[2:], t_obs)\n",
      "    muestras.append(m)"
     ],
     "language": "python",
     "metadata": {},
     "outputs": [],
     "prompt_number": 85
    },
    {
     "cell_type": "code",
     "collapsed": false,
     "input": [
      "# Calculos las features y las guardo en una matriz\n",
      "feature_samples = []\n",
      "\n",
      "for m in muestras:\n",
      "    fs = fs.calculateFeature(m)\n",
      "    feature_samples.append(fs.result(method=''))"
     ],
     "language": "python",
     "metadata": {},
     "outputs": [],
     "prompt_number": 86
    },
    {
     "cell_type": "code",
     "collapsed": false,
     "input": [
      "aux = np.array(feature_samples)\n",
      "aux.shape"
     ],
     "language": "python",
     "metadata": {},
     "outputs": [
      {
       "metadata": {},
       "output_type": "pyout",
       "prompt_number": 87,
       "text": [
        "(100, 14)"
       ]
      }
     ],
     "prompt_number": 87
    },
    {
     "cell_type": "code",
     "collapsed": false,
     "input": [
      "%load_ext autoreload\n",
      "%autoreload 2"
     ],
     "language": "python",
     "metadata": {},
     "outputs": [
      {
       "output_type": "stream",
       "stream": "stdout",
       "text": [
        "The autoreload extension is already loaded. To reload it, use:\n",
        "  %reload_ext autoreload\n"
       ]
      }
     ],
     "prompt_number": 88
    },
    {
     "cell_type": "code",
     "collapsed": false,
     "input": [
      "from gp_hist import *\n",
      "\n",
      "for i in xrange(len(feature_names)):\n",
      "    #sample_hist(aux[:,i], real_values[i], feature_names[i], 'Resultados/Graficos Ajuste GP/Be_lc/')\n",
      "    sample_hist(aux[:,i], feature_name=feature_names[i], save_path='Resultados/Graficos Ajuste GP/Be_lc/')"
     ],
     "language": "python",
     "metadata": {},
     "outputs": [],
     "prompt_number": 92
    },
    {
     "cell_type": "code",
     "collapsed": false,
     "input": [
      "print aux[:,0].mean()\n",
      "print real_values[0]"
     ],
     "language": "python",
     "metadata": {},
     "outputs": [
      {
       "output_type": "stream",
       "stream": "stdout",
       "text": [
        "3.08500624359\n",
        "4.17386416347\n"
       ]
      }
     ],
     "prompt_number": 56
    },
    {
     "cell_type": "code",
     "collapsed": false,
     "input": [
      "s"
     ],
     "language": "python",
     "metadata": {},
     "outputs": [
      {
       "metadata": {},
       "output_type": "pyout",
       "prompt_number": 18,
       "text": [
        "array([ 4.98225425, -4.9991223 ,  9.45956269,  0.29556945,  1.22432777])"
       ]
      }
     ],
     "prompt_number": 18
    },
    {
     "cell_type": "code",
     "collapsed": false,
     "input": [],
     "language": "python",
     "metadata": {},
     "outputs": []
    }
   ],
   "metadata": {}
  }
 ]
}