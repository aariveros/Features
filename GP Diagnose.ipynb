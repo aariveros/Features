{
 "metadata": {
  "name": "",
  "signature": "sha256:f1b1d97e8acf50c60cdb707b4372f9b56a98da4ef0f1272eaff3cd6fc75725b6"
 },
 "nbformat": 3,
 "nbformat_minor": 0,
 "worksheets": [
  {
   "cells": [
    {
     "cell_type": "markdown",
     "metadata": {},
     "source": [
      "Voy a tomar unas 10 curvas de cada clase y ajustar un gaussian process a ellas. Despues voy a guardar imagenes del ajuste (sampleos e incertidumbre) y los par\u00e1metros del modelo ajustado. Con esto voy a poder revisar que curvas se ajustan bien o mal y porque. Tambi\u00e9n deber\u00eda aprovechar de calcular valores de las features e histogramas."
     ]
    }
   ],
   "metadata": {}
  }
 ]
}