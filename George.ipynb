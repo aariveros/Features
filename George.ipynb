{
 "metadata": {
  "name": ""
 },
 "nbformat": 3,
 "nbformat_minor": 0,
 "worksheets": [
  {
   "cells": [
    {
     "cell_type": "code",
     "collapsed": false,
     "input": [
      "import matplotlib.pyplot as plt\n",
      "import numpy as np\n",
      "import george\n",
      "%matplotlib inline"
     ],
     "language": "python",
     "metadata": {},
     "outputs": [],
     "prompt_number": 9
    },
    {
     "cell_type": "code",
     "collapsed": false,
     "input": [
      "def graf(X, y, x_pred, y_pred, sigma):\n",
      "    \"\"\"\n",
      "    Grafica una linea y su intervalo de confianza\n",
      "    \n",
      "    X: puntos de las observaciones\n",
      "    y: valor de f(x) en las observaciones\n",
      "    x_pred: puntos donde se pregunta al gp\n",
      "    y_pred: f(x) dde se pregunto al gp\n",
      "    sigma: std en los ptos dde se pregunto al gp\n",
      "    \"\"\"\n",
      "\n",
      "    # Grafico las observaciones\n",
      "    X2 = np.array(X)\n",
      "    X2 = (X2.T).ravel()\n",
      "    plt.plot(X2,y,'.r')\n",
      "    \n",
      "    # Grafico la regresi\u00f3n ajustada\n",
      "    X3 = np.array(x_pred)\n",
      "    X3 = X3.ravel()\n",
      "    plt.plot(X3, y_pred, 'b-', label=u'Prediction')\n",
      "    \n",
      "    # Agrego el intervalo de confianza\n",
      "    plt.fill(np.concatenate([X3, X3[::-1]]), \\\n",
      "            np.concatenate([y_pred - 1.9600 * sigma,\n",
      "                           (y_pred + 1.9600 * sigma)[::-1]]), \\\n",
      "            alpha=.5, fc='#C0C0C0', ec='None', label='95% confidence interval')\n",
      "    \n",
      "    # Leyenda\n",
      "    plt.xlabel('$x$')\n",
      "    plt.ylabel('$f(x)$')\n",
      "    plt.legend(loc='upper right')"
     ],
     "language": "python",
     "metadata": {},
     "outputs": [],
     "prompt_number": 10
    },
    {
     "cell_type": "code",
     "collapsed": false,
     "input": [
      "# Generate some fake noisy data.\n",
      "\n",
      "x = 10 * np.sort(np.random.rand(10))\n",
      "yerr = 0.2 * np.ones_like(x)\n",
      "y = np.sin(x) + yerr * np.random.randn(len(x))"
     ],
     "language": "python",
     "metadata": {},
     "outputs": [],
     "prompt_number": 11
    },
    {
     "cell_type": "code",
     "collapsed": false,
     "input": [
      "from george.kernels import ExpSquaredKernel\n",
      "\n",
      "# Set up the Gaussian process.\n",
      "kernel = ExpSquaredKernel(1.0)\n",
      "gp = george.GP(kernel)\n",
      "\n",
      "# Pre-compute the factorization of the matrix.\n",
      "gp.compute(x, yerr)\n",
      "\n",
      "# Compute the log likelihood.\n",
      "print(gp.lnlikelihood(y))"
     ],
     "language": "python",
     "metadata": {},
     "outputs": [
      {
       "output_type": "stream",
       "stream": "stdout",
       "text": [
        "-10.1447680576\n"
       ]
      }
     ],
     "prompt_number": 12
    },
    {
     "cell_type": "code",
     "collapsed": false,
     "input": [
      "t = np.linspace(0, 10, 500)\n",
      "mu, cov = gp.predict(y, t)\n",
      "std = np.sqrt(np.diag(cov))"
     ],
     "language": "python",
     "metadata": {},
     "outputs": [],
     "prompt_number": 13
    },
    {
     "cell_type": "code",
     "collapsed": false,
     "input": [
      "graf(x, y, t, mu, std)"
     ],
     "language": "python",
     "metadata": {},
     "outputs": [
      {
       "metadata": {},
       "output_type": "display_data",
       "png": "[encoded data removed]",
       "text": [
        "<matplotlib.figure.Figure at 0x107993410>"
       ]
      }
     ],
     "prompt_number": 14
    },
    {
     "cell_type": "code",
     "collapsed": false,
     "input": [],
     "language": "python",
     "metadata": {},
     "outputs": []
    }
   ],
   "metadata": {}
  }
 ]
}