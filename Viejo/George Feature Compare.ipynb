{
 "metadata": {
  "name": "",
  "signature": "sha256:b737d2a069ffa04c24f5398accee36859566537bffbdbd6f39aac36000895d4c"
 },
 "nbformat": 3,
 "nbformat_minor": 0,
 "worksheets": [
  {
   "cells": [
    {
     "cell_type": "raw",
     "metadata": {},
     "source": [
      "Este script toma una curva de luz, le ajusta un GP con george y calcula el valor de varias features sobre la curva original y sobre el modelo ajustado. "
     ]
    },
    {
     "cell_type": "code",
     "collapsed": false,
     "input": [
      "import lightcurves.lc_utils as lu\n",
      "import matplotlib.pyplot as plt\n",
      "import pandas as pd\n",
      "import numpy as np"
     ],
     "language": "python",
     "metadata": {},
     "outputs": [],
     "prompt_number": 1
    },
    {
     "cell_type": "markdown",
     "metadata": {},
     "source": [
      "Primero abro una curva de luz"
     ]
    },
    {
     "cell_type": "code",
     "collapsed": false,
     "input": [
      "# Ubicacion de las curvas\n",
      "# 0-1           Be_lc\n",
      "# 255-256       CEPH\n",
      "# 457-458       EB\n",
      "# 967-968       longperiod_lc\n",
      "# 1697-1698     microlensing_lc\n",
      "# 2862-2863     non_variables\n",
      "# 12527-12528   quasar_lc\n",
      "# 12645-12646   RRL\n",
      "\n",
      "paths = lu.get_lightcurve_paths()\n",
      "a, b = 967, 968\n",
      "#a, b = 457, 458\n",
      "azul = lu.open_lightcurve(paths[a])\n",
      "roja = lu.open_lightcurve(paths[b])\n",
      "\n",
      "#azul = lu.open_lightcurve('/Users/npcastro/Dropbox/lightcurves/quasar_lc/lc_5.4892.1971.B.mjd')\n",
      "#roja = lu.open_lightcurve('/Users/npcastro/Dropbox/lightcurves/quasar_lc/lc_5.4892.1971.R.mjd')\n",
      "curva = pd.concat([azul, roja], axis=1, keys=['azul', 'roja'], join='inner')"
     ],
     "language": "python",
     "metadata": {},
     "outputs": [],
     "prompt_number": 2
    },
    {
     "cell_type": "code",
     "collapsed": false,
     "input": [
      "t_obs, y_obs, err_obs, min_time, max_time = lu.prepare_lightcurve(azul, 100)\n",
      "\n",
      "t_obs = np.ravel(t_obs)\n",
      "y_obs = np.ravel(y_obs)\n",
      "err_obs = np.ravel(err_obs)"
     ],
     "language": "python",
     "metadata": {},
     "outputs": [],
     "prompt_number": 3
    },
    {
     "cell_type": "heading",
     "level": 3,
     "metadata": {},
     "source": [
      "Gaussian Process"
     ]
    },
    {
     "cell_type": "code",
     "collapsed": false,
     "input": [
      "import george\n",
      "from george import kernels\n",
      "from model import *\n",
      "\n",
      "print(\"Fitting GP\")\n",
      "data = (t_obs, y_obs, err_obs)\n",
      "\n",
      "# parameters = [m, b, tau, l, sigma]\n",
      "\n",
      "initial = [0.0, 0.0, -1.0, 0.1, 0.4]\n",
      "sampler = fit_gp(initial, data)"
     ],
     "language": "python",
     "metadata": {},
     "outputs": [
      {
       "ename": "ImportError",
       "evalue": "No module named george",
       "output_type": "pyerr",
       "traceback": [
        "\u001b[0;31m---------------------------------------------------------------------------\u001b[0m\n\u001b[0;31mImportError\u001b[0m                               Traceback (most recent call last)",
        "\u001b[0;32m<ipython-input-8-01eac512cbb9>\u001b[0m in \u001b[0;36m<module>\u001b[0;34m()\u001b[0m\n\u001b[0;32m----> 1\u001b[0;31m \u001b[0;32mimport\u001b[0m \u001b[0mgeorge\u001b[0m\u001b[0;34m\u001b[0m\u001b[0m\n\u001b[0m\u001b[1;32m      2\u001b[0m \u001b[0;32mfrom\u001b[0m \u001b[0mgeorge\u001b[0m \u001b[0;32mimport\u001b[0m \u001b[0mkernels\u001b[0m\u001b[0;34m\u001b[0m\u001b[0m\n\u001b[1;32m      3\u001b[0m \u001b[0;32mfrom\u001b[0m \u001b[0mmodel\u001b[0m \u001b[0;32mimport\u001b[0m \u001b[0;34m*\u001b[0m\u001b[0;34m\u001b[0m\u001b[0m\n\u001b[1;32m      4\u001b[0m \u001b[0;34m\u001b[0m\u001b[0m\n\u001b[1;32m      5\u001b[0m \u001b[0;32mprint\u001b[0m\u001b[0;34m(\u001b[0m\u001b[0;34m\"Fitting GP\"\u001b[0m\u001b[0;34m)\u001b[0m\u001b[0;34m\u001b[0m\u001b[0m\n",
        "\u001b[0;31mImportError\u001b[0m: No module named george"
       ]
      }
     ],
     "prompt_number": 8
    },
    {
     "cell_type": "markdown",
     "metadata": {},
     "source": [
      "Sampleo una curva del GP"
     ]
    },
    {
     "cell_type": "code",
     "collapsed": false,
     "input": [
      "samples = sampler.flatchain\n",
      "\n",
      "# Lugares donde voy a samplear del GP\n",
      "x = t_obs\n",
      "\n",
      "# Elijo un set de par\u00e1metros del mcmc sampleado\n",
      "s = np.percentile(samples, 50, axis=0)\n",
      "\n",
      "# Ajusto el GP sobre los datos?\n",
      "gp = george.GP(np.exp(s[0]) * kernels.Matern32Kernel(np.exp(s[1])))\n",
      "gp.compute(t_obs, err_obs)\n",
      "\n",
      "# Sampleo del GP en las mismas posiciones donde existen observaciones\n",
      "#m = gp.sample_conditional(y_obs - model(s[2:], t_obs), x) + model(s[2:], x)\n",
      "(m, cov) = gp.predict(y_obs - model(s[2:], t_obs), x) \n",
      "m = m + model(s[2:], x)\n",
      "\n",
      "# Grafico los puntos originales y los sampleados\n",
      "plt.errorbar(t_obs, y_obs, yerr=err_obs, fmt=\".r\", capsize=0)\n",
      "plt.plot(x, m, \".b\")\n",
      "\n",
      "plt.show()"
     ],
     "language": "python",
     "metadata": {},
     "outputs": [],
     "prompt_number": 6
    },
    {
     "cell_type": "markdown",
     "metadata": {},
     "source": [
      "Calculo features para los dos grupos de puntos"
     ]
    },
    {
     "cell_type": "code",
     "collapsed": false,
     "input": [
      "import os, sys\n",
      "lib_path = os.path.abspath('../time-series-feats')\n",
      "sys.path.append(lib_path)\n",
      "\n",
      "from Feature import FeatureSpace"
     ],
     "language": "python",
     "metadata": {},
     "outputs": [],
     "prompt_number": 7
    },
    {
     "cell_type": "code",
     "collapsed": false,
     "input": [
      "lista = ['Amplitude', 'Beyond1Std', 'Con', 'MaxSlope', 'MedianAbsDev', 'MedianBRP', 'PairSlopeTrend', 'Rcs', 'Skew', 'SmallKurtosis', 'Std', 'StestonK', 'VariabilityIndex', 'meanvariance']\n",
      "\n",
      "a = FeatureSpace(featureList=lista, Beyond1Std=err_obs, MaxSlope=t_obs)\n",
      "print a.featureList"
     ],
     "language": "python",
     "metadata": {},
     "outputs": [
      {
       "output_type": "stream",
       "stream": "stdout",
       "text": [
        "['Amplitude', 'Beyond1Std', 'Con', 'MaxSlope', 'MedianAbsDev', 'MedianBRP', 'PairSlopeTrend', 'Rcs', 'Skew', 'SmallKurtosis', 'Std', 'StestonK', 'VariabilityIndex', 'meanvariance']\n"
       ]
      }
     ],
     "prompt_number": 8
    },
    {
     "cell_type": "code",
     "collapsed": false,
     "input": [
      "# Curva real\n",
      "a = a.calculateFeature(y_obs)\n",
      "real_values = np.array(a.result(method=''))\n",
      "\n",
      "a = a.calculateFeature(m)\n",
      "model_values = np.array(a.result(method=''))\n",
      "\n",
      "percentage = (abs(real_values - model_values) / real_values) * 100\n",
      "\n",
      "print percentage"
     ],
     "language": "python",
     "metadata": {},
     "outputs": [
      {
       "output_type": "stream",
       "stream": "stdout",
       "text": [
        "[  1.27684176   0.           0.          54.18024605   0.07590663\n",
        "   6.4516129   -0.           1.3912326    3.79215637 -27.76708749\n",
        "   0.10993856   0.09127829   3.76472671  10.71110489]\n"
       ]
      }
     ],
     "prompt_number": 9
    },
    {
     "cell_type": "code",
     "collapsed": false,
     "input": [
      "print real_values.tolist()\n",
      "print model_values.tolist()"
     ],
     "language": "python",
     "metadata": {},
     "outputs": [
      {
       "output_type": "stream",
       "stream": "stdout",
       "text": [
        "[3.9687442943598987, 0.14, 0.0, 5642.234917174844, 0.2628409273181811, 0.81, 0.1, 0.1369713000889813, 4.0986416442764515, 22.53705858511133, 1.1164288289735782, 0.5777955286200581, 1.1612180200429465, 29.70905558720112]\n",
        "[0.8918574691950338, 0.27, 0.01020408163265306, 43.381096861509555, 0.2199293583279131, 0.43, -0.1, 0.5337056327902937, 0.7927526504621145, 0.31931513831272307, 0.39290478911728105, 0.7834008998534425, 0.8224289472822947, -2.150294156189516]\n"
       ]
      }
     ],
     "prompt_number": 14
    },
    {
     "cell_type": "code",
     "collapsed": false,
     "input": [
      "import pandas as pd\n",
      "df = {}\n",
      "\n",
      "for i in xrange(len(percentage)):\n",
      "    df[a.featureList[i]] = []\n",
      "\n",
      "for i in xrange(len(percentage)):\n",
      "    df[a.featureList[i]].append(percentage[i])"
     ],
     "language": "python",
     "metadata": {},
     "outputs": [],
     "prompt_number": 15
    },
    {
     "cell_type": "code",
     "collapsed": false,
     "input": [
      "df"
     ],
     "language": "python",
     "metadata": {},
     "outputs": [
      {
       "metadata": {},
       "output_type": "pyout",
       "prompt_number": 16,
       "text": [
        "{'Amplitude': [77.527968469460745],\n",
        " 'Beyond1Std': [92.857142857142847],\n",
        " 'Con': [inf],\n",
        " 'MaxSlope': [99.231136287334323],\n",
        " 'MedianAbsDev': [16.326060567546829],\n",
        " 'MedianBRP': [46.913580246913583],\n",
        " 'PairSlopeTrend': [200.0],\n",
        " 'Rcs': [289.6477820124216],\n",
        " 'Skew': [80.658161428453894],\n",
        " 'SmallKurtosis': [98.583155219183425],\n",
        " 'Std': [64.807000775991284],\n",
        " 'StestonK': [35.584451773870448],\n",
        " 'VariabilityIndex': [29.175319958272954],\n",
        " 'meanvariance': [107.23784083232817]}"
       ]
      }
     ],
     "prompt_number": 16
    },
    {
     "cell_type": "code",
     "collapsed": false,
     "input": [],
     "language": "python",
     "metadata": {},
     "outputs": [],
     "prompt_number": 130
    }
   ],
   "metadata": {}
  }
 ]
}