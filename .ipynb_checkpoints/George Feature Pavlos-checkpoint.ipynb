{
 "metadata": {
  "name": "",
  "signature": "sha256:88e38eee0465931efc7225a3be2a42cddb2177b025ec50da45dde343912e931f"
 },
 "nbformat": 3,
 "nbformat_minor": 0,
 "worksheets": [
  {
   "cells": [
    {
     "cell_type": "raw",
     "metadata": {},
     "source": [
      "Este script ajusta un GP a varias estrellas de distintas clases y calcula los errores porcentuales de las features \n",
      "calculadas sobre el modelo ajustado v/s el valor real de la curva."
     ]
    },
    {
     "cell_type": "code",
     "collapsed": false,
     "input": [
      "import lightcurves.lc_utils as lu\n",
      "import matplotlib.pyplot as plt\n",
      "import pandas as pd\n",
      "import numpy as np\n",
      "import george\n",
      "from george import kernels\n",
      "from model import *"
     ],
     "language": "python",
     "metadata": {},
     "outputs": [],
     "prompt_number": 1
    },
    {
     "cell_type": "code",
     "collapsed": false,
     "input": [
      "import os, sys\n",
      "lib_path = os.path.abspath('../time-series-feats')\n",
      "sys.path.append(lib_path)\n",
      "\n",
      "from Feature import FeatureSpace"
     ],
     "language": "python",
     "metadata": {},
     "outputs": [],
     "prompt_number": 2
    },
    {
     "cell_type": "code",
     "collapsed": false,
     "input": [
      "def open_lc(path):\n",
      "    azul = lu.open_lightcurve(path)\n",
      "    \n",
      "    try:\n",
      "        t_obs, y_obs, err_obs, min_time, max_time = lu.prepare_lightcurve(azul, 100)\n",
      "        t_obs = np.ravel(t_obs)\n",
      "        y_obs = np.ravel(y_obs)\n",
      "        err_obs = np.ravel(err_obs)\n",
      "    except:\n",
      "        return [],[],[]\n",
      "    \n",
      "    return t_obs, y_obs, err_obs\n",
      "    "
     ],
     "language": "python",
     "metadata": {},
     "outputs": [],
     "prompt_number": 3
    },
    {
     "cell_type": "code",
     "collapsed": false,
     "input": [
      "def fit_model(t_obs, y_obs, err_obs, graf=False):\n",
      "\n",
      "    print(\"Fitting GP\")\n",
      "    data = (t_obs, y_obs, err_obs)\n",
      "    \n",
      "    # parameters = [m, b, tau, l, sigma]\n",
      "    \n",
      "    initial = [0.0, 0.0, -1.0, 0.1, 0.4]\n",
      "    sampler = fit_gp(initial, data)\n",
      "\n",
      "    samples = sampler.flatchain\n",
      "\n",
      "    \n",
      "    # Lugares donde voy a samplear del GP\n",
      "    x = t_obs\n",
      "    \n",
      "    # Elijo un set de par\u00e1metros del mcmc sampleado\n",
      "    s = np.percentile(samples, 50, axis=0)\n",
      "    \n",
      "    # Ajusto el GP sobre los datos?\n",
      "    gp = george.GP(np.exp(s[0]) * kernels.Matern32Kernel(np.exp(s[1])))\n",
      "    gp.compute(t_obs, err_obs)\n",
      "    \n",
      "    # Sampleo del GP en las mismas posiciones donde existen observaciones\n",
      "    #m = gp.sample_conditional(y_obs - model(s[2:], t_obs), x) + model(s[2:], x)\n",
      "    (m, cov) = gp.predict(y_obs - model(s[2:], t_obs), x) \n",
      "    m = m + model(s[2:], x)\n",
      "    \n",
      "    if graf:\n",
      "        plt.errorbar(t_obs, y_obs, yerr=err_obs, fmt=\".r\", capsize=0)\n",
      "        plt.plot(x, m, \".b\")\n",
      "        plt.show()\n",
      "    \n",
      "    return m"
     ],
     "language": "python",
     "metadata": {},
     "outputs": [],
     "prompt_number": 4
    },
    {
     "cell_type": "code",
     "collapsed": false,
     "input": [
      "def run(t_obs, y_obs, err_obs, feature_space, df, clase):\n",
      "    \"\"\"\n",
      "    df = diccionario con nombres de features como keys y listas con los errores porcentuales para muchas estrellas.\n",
      "    \"\"\"\n",
      "    m = fit_model(t_obs, y_obs, err_obs)\n",
      "    \n",
      "    # Calculo features para los dos grupos de puntos\n",
      "    # Curva real\n",
      "    feature_space = feature_space.calculateFeature(y_obs)\n",
      "    real_values = np.array(feature_space.result(method=''))\n",
      "    \n",
      "    # Curva ajustada con GP\n",
      "    feature_space = feature_space.calculateFeature(m)\n",
      "    model_values = np.array(feature_space.result(method=''))\n",
      "    \n",
      "    # Diferencias porcentuales\n",
      "    percentage = (abs(real_values - model_values / real_values)) * 100\n",
      "    \n",
      "    # Agrego al diccionario\n",
      "    for i in xrange(len(percentage)):\n",
      "        df[feature_space.featureList[i]].append(percentage[i])\n",
      "        \n",
      "    df['class'].append(clase)\n",
      "    "
     ],
     "language": "python",
     "metadata": {},
     "outputs": [],
     "prompt_number": 5
    },
    {
     "cell_type": "code",
     "collapsed": false,
     "input": [
      "lista = ['Amplitude', 'Beyond1Std', 'Con', 'MaxSlope', 'MedianAbsDev', 'MedianBRP', 'PairSlopeTrend', 'Rcs', 'Skew', 'SmallKurtosis', 'Std', 'StestonK', 'VariabilityIndex', 'meanvariance']\n",
      "\n",
      "df = {}\n",
      "\n",
      "for i, f in enumerate(lista):\n",
      "    df[lista[i]] = []\n",
      "    \n",
      "df['class'] = []"
     ],
     "language": "python",
     "metadata": {},
     "outputs": [],
     "prompt_number": 6
    },
    {
     "cell_type": "markdown",
     "metadata": {},
     "source": [
      "Primero abro una curva de luz"
     ]
    },
    {
     "cell_type": "code",
     "collapsed": false,
     "input": [
      "# Ubicacion de las curvas\n",
      "# 0-1           Be_lc\n",
      "# 255-256       CEPH\n",
      "# 457-458       EB\n",
      "# 967-968       longperiod_lc\n",
      "# 1697-1698     microlensing_lc\n",
      "# 2862-2863     non_variables\n",
      "# 12527-12528   quasar_lc\n",
      "# 12645-12646   RRL\n",
      "\n",
      "aux = [0, 255, 457, 967, 1697, 2862, 12527, 12645]\n",
      "algo = []\n",
      "\n",
      "for i in aux:\n",
      "    algo.append(range(i,i + 40)[::2])\n",
      "nums = reduce(lambda x,y: x + y, algo)\n",
      "\n",
      "paths = lu.get_lightcurve_paths()\n",
      "\n",
      "for i in nums:\n",
      "\n",
      "    a = i\n",
      "    print lu.get_lightcurve_id(paths[a])\n",
      "    \n",
      "    t_obs, y_obs, err_obs = open_lc(paths[a])\n",
      "    \n",
      "    if len(t_obs) == 0:\n",
      "        continue\n",
      "\n",
      "    err_obs = err_obs / 10\n",
      "    \n",
      "    feature_space = FeatureSpace(featureList=lista, Beyond1Std=err_obs, MaxSlope=t_obs)\n",
      "    \n",
      "    # Gaussian Process\n",
      "    run(t_obs, y_obs, err_obs, feature_space, df, lu.get_lc_class_name(paths[a]))"
     ],
     "language": "python",
     "metadata": {},
     "outputs": [
      {
       "output_type": "stream",
       "stream": "stdout",
       "text": [
        "1.3567.1310\n",
        "Fitting GP\n",
        "1.4176.155"
       ]
      },
      {
       "output_type": "stream",
       "stream": "stdout",
       "text": [
        "\n",
        "Fitting GP\n",
        "1.4410.291"
       ]
      },
      {
       "output_type": "stream",
       "stream": "stdout",
       "text": [
        "\n",
        "Fitting GP\n",
        "1.4413.373"
       ]
      },
      {
       "output_type": "stream",
       "stream": "stdout",
       "text": [
        "\n",
        "Fitting GP\n",
        "1.4530.136"
       ]
      },
      {
       "output_type": "stream",
       "stream": "stdout",
       "text": [
        "\n",
        "Fitting GP\n",
        "1.4538.531"
       ]
      },
      {
       "output_type": "stream",
       "stream": "stdout",
       "text": [
        "\n",
        "Fitting GP\n",
        "1.4653.105"
       ]
      },
      {
       "output_type": "stream",
       "stream": "stdout",
       "text": [
        "\n",
        "Fitting GP\n",
        "1.4659.335"
       ]
      },
      {
       "output_type": "stream",
       "stream": "stdout",
       "text": [
        "\n",
        "Fitting GP\n",
        "10.4279.1493"
       ]
      },
      {
       "output_type": "stream",
       "stream": "stdout",
       "text": [
        "\n",
        "Fitting GP\n",
        "11.8751.968"
       ]
      },
      {
       "output_type": "stream",
       "stream": "stdout",
       "text": [
        "\n",
        "Fitting GP\n",
        "11.9358.200"
       ]
      },
      {
       "output_type": "stream",
       "stream": "stdout",
       "text": [
        "\n",
        "Fitting GP\n",
        "11.9714.184"
       ]
      },
      {
       "output_type": "stream",
       "stream": "stdout",
       "text": [
        "\n",
        "Fitting GP\n",
        "11.9720.68"
       ]
      },
      {
       "output_type": "stream",
       "stream": "stdout",
       "text": [
        "\n",
        "Fitting GP\n",
        "12.10561.1161"
       ]
      },
      {
       "output_type": "stream",
       "stream": "stdout",
       "text": [
        "\n",
        "Fitting GP\n",
        "12.10684.267"
       ]
      },
      {
       "output_type": "stream",
       "stream": "stdout",
       "text": [
        "\n",
        "Fitting GP\n",
        "12.10926.76"
       ]
      },
      {
       "output_type": "stream",
       "stream": "stdout",
       "text": [
        "\n",
        "Fitting GP\n",
        "13.6689.2365"
       ]
      },
      {
       "output_type": "stream",
       "stream": "stdout",
       "text": [
        "\n",
        "Fitting GP\n",
        "13.6931.2479"
       ]
      },
      {
       "output_type": "stream",
       "stream": "stdout",
       "text": [
        "\n",
        "Fitting GP\n",
        "14.8493.39"
       ]
      },
      {
       "output_type": "stream",
       "stream": "stdout",
       "text": [
        "\n",
        "Fitting GP\n",
        "14.8622.3551"
       ]
      },
      {
       "output_type": "stream",
       "stream": "stdout",
       "text": [
        "\n",
        "Fitting GP\n",
        "1.3441.15"
       ]
      },
      {
       "output_type": "stream",
       "stream": "stdout",
       "text": [
        "\n",
        "Fitting GP\n",
        "1.3441.45"
       ]
      },
      {
       "output_type": "stream",
       "stream": "stdout",
       "text": [
        "\n",
        "Fitting GP\n",
        "1.3443.26"
       ]
      },
      {
       "output_type": "stream",
       "stream": "stdout",
       "text": [
        "\n",
        "Fitting GP\n",
        "1.3443.30"
       ]
      },
      {
       "output_type": "stream",
       "stream": "stdout",
       "text": [
        "\n",
        "Fitting GP\n",
        "1.3447.36"
       ]
      },
      {
       "output_type": "stream",
       "stream": "stdout",
       "text": [
        "\n",
        "Fitting GP\n",
        "1.3448.13"
       ]
      },
      {
       "output_type": "stream",
       "stream": "stdout",
       "text": [
        "\n",
        "Fitting GP\n",
        "1.3449.62"
       ]
      },
      {
       "output_type": "stream",
       "stream": "stdout",
       "text": [
        "\n",
        "Fitting GP\n",
        "1.3451.33"
       ]
      },
      {
       "output_type": "stream",
       "stream": "stdout",
       "text": [
        "\n",
        "Fitting GP\n",
        "1.3451.9"
       ]
      },
      {
       "output_type": "stream",
       "stream": "stdout",
       "text": [
        "\n",
        "Fitting GP\n",
        "1.3562.12"
       ]
      },
      {
       "output_type": "stream",
       "stream": "stdout",
       "text": [
        "\n",
        "Fitting GP\n",
        "1.3563.34"
       ]
      },
      {
       "output_type": "stream",
       "stream": "stdout",
       "text": [
        "\n",
        "Fitting GP\n",
        "1.3565.47"
       ]
      },
      {
       "output_type": "stream",
       "stream": "stdout",
       "text": [
        "\n",
        "Fitting GP\n",
        "1.3565.87"
       ]
      },
      {
       "output_type": "stream",
       "stream": "stdout",
       "text": [
        "\n",
        "Fitting GP\n",
        "1.3567.1010"
       ]
      },
      {
       "output_type": "stream",
       "stream": "stdout",
       "text": [
        "\n",
        "Fitting GP\n",
        "1.3570.29"
       ]
      },
      {
       "output_type": "stream",
       "stream": "stdout",
       "text": [
        "\n",
        "Fitting GP\n",
        "1.3570.32"
       ]
      },
      {
       "output_type": "stream",
       "stream": "stdout",
       "text": [
        "\n",
        "Fitting GP\n",
        "1.3571.25"
       ]
      },
      {
       "output_type": "stream",
       "stream": "stdout",
       "text": [
        "\n",
        "Fitting GP\n",
        "1.3571.31"
       ]
      },
      {
       "output_type": "stream",
       "stream": "stdout",
       "text": [
        "\n",
        "Fitting GP\n",
        "1.3572.23"
       ]
      },
      {
       "output_type": "stream",
       "stream": "stdout",
       "text": [
        "\n",
        "Fitting GP\n",
        "1.3683.25"
       ]
      },
      {
       "output_type": "stream",
       "stream": "stdout",
       "text": [
        "\n",
        "Fitting GP\n",
        "1.3325.93"
       ]
      },
      {
       "output_type": "stream",
       "stream": "stdout",
       "text": [
        "\n",
        "Fitting GP\n",
        "1.3442.172"
       ]
      },
      {
       "output_type": "stream",
       "stream": "stdout",
       "text": [
        "\n",
        "Fitting GP\n",
        "1.3442.233"
       ]
      },
      {
       "output_type": "stream",
       "stream": "stdout",
       "text": [
        "\n",
        "Fitting GP\n",
        "1.3443.177"
       ]
      },
      {
       "output_type": "stream",
       "stream": "stdout",
       "text": [
        "\n",
        "Fitting GP\n",
        "1.3444.1086"
       ]
      },
      {
       "output_type": "stream",
       "stream": "stdout",
       "text": [
        "\n",
        "Fitting GP\n",
        "1.3444.614"
       ]
      },
      {
       "output_type": "stream",
       "stream": "stdout",
       "text": [
        "\n",
        "Fitting GP\n",
        "1.3444.880"
       ]
      },
      {
       "output_type": "stream",
       "stream": "stdout",
       "text": [
        "\n",
        "Fitting GP\n",
        "1.3445.320"
       ]
      },
      {
       "output_type": "stream",
       "stream": "stdout",
       "text": [
        "\n",
        "Fitting GP\n",
        "1.3446.1407"
       ]
      },
      {
       "output_type": "stream",
       "stream": "stdout",
       "text": [
        "\n",
        "Fitting GP\n",
        "1.3447.783"
       ]
      },
      {
       "output_type": "stream",
       "stream": "stdout",
       "text": [
        "\n",
        "Fitting GP\n",
        "1.3448.153"
       ]
      },
      {
       "output_type": "stream",
       "stream": "stdout",
       "text": [
        "\n",
        "Fitting GP\n",
        "1.3448.294"
       ]
      },
      {
       "output_type": "stream",
       "stream": "stdout",
       "text": [
        "\n",
        "Fitting GP\n",
        "1.3449.149"
       ]
      },
      {
       "output_type": "stream",
       "stream": "stdout",
       "text": [
        "\n",
        "Fitting GP\n",
        "1.3449.27"
       ]
      },
      {
       "output_type": "stream",
       "stream": "stdout",
       "text": [
        "\n",
        "Fitting GP\n",
        "1.3449.948"
       ]
      },
      {
       "output_type": "stream",
       "stream": "stdout",
       "text": [
        "\n",
        "Fitting GP\n",
        "1.3562.57"
       ]
      },
      {
       "output_type": "stream",
       "stream": "stdout",
       "text": [
        "\n",
        "Fitting GP\n",
        "1.3564.163"
       ]
      },
      {
       "output_type": "stream",
       "stream": "stdout",
       "text": [
        "\n",
        "Fitting GP\n",
        "1.3564.516"
       ]
      },
      {
       "output_type": "stream",
       "stream": "stdout",
       "text": [
        "\n",
        "Fitting GP\n",
        "1.3565.99"
       ]
      },
      {
       "output_type": "stream",
       "stream": "stdout",
       "text": [
        "\n",
        "Fitting GP\n",
        "1.3566.1669"
       ]
      },
      {
       "output_type": "stream",
       "stream": "stdout",
       "text": [
        "\n",
        "Fitting GP\n",
        "1.3319.10"
       ]
      },
      {
       "output_type": "stream",
       "stream": "stdout",
       "text": [
        "\n",
        "Fitting GP\n",
        "1.3441.25"
       ]
      },
      {
       "output_type": "stream",
       "stream": "stdout",
       "text": [
        "\n",
        "Fitting GP\n",
        "1.3445.28"
       ]
      },
      {
       "output_type": "stream",
       "stream": "stdout",
       "text": [
        "\n",
        "Fitting GP\n",
        "1.3446.9"
       ]
      },
      {
       "output_type": "stream",
       "stream": "stdout",
       "text": [
        "\n",
        "1.3449.20\n",
        "Fitting GP\n",
        "1.3450.53"
       ]
      },
      {
       "output_type": "stream",
       "stream": "stdout",
       "text": [
        "\n",
        "Fitting GP\n",
        "1.3561.7"
       ]
      },
      {
       "output_type": "stream",
       "stream": "stdout",
       "text": [
        "\n",
        "Fitting GP\n",
        "1.3562.17"
       ]
      },
      {
       "output_type": "stream",
       "stream": "stdout",
       "text": [
        "\n",
        "Fitting GP\n",
        "1.3562.18"
       ]
      },
      {
       "output_type": "stream",
       "stream": "stdout",
       "text": [
        "\n",
        "Fitting GP\n",
        "1.3563.29"
       ]
      },
      {
       "output_type": "stream",
       "stream": "stdout",
       "text": [
        "\n",
        "Fitting GP\n",
        "1.3564.32"
       ]
      },
      {
       "output_type": "stream",
       "stream": "stdout",
       "text": [
        "\n",
        "Fitting GP\n",
        "1.3565.23"
       ]
      },
      {
       "output_type": "stream",
       "stream": "stdout",
       "text": [
        "\n",
        "Fitting GP\n",
        "1.3571.21"
       ]
      },
      {
       "output_type": "stream",
       "stream": "stdout",
       "text": [
        "\n",
        "Fitting GP\n",
        "1.3683.51"
       ]
      },
      {
       "output_type": "stream",
       "stream": "stdout",
       "text": [
        "\n",
        "Fitting GP\n",
        "1.3687.23"
       ]
      },
      {
       "output_type": "stream",
       "stream": "stdout",
       "text": [
        "\n",
        "Fitting GP\n",
        "1.3688.997"
       ]
      },
      {
       "output_type": "stream",
       "stream": "stdout",
       "text": [
        "\n",
        "Fitting GP\n",
        "1.3689.30"
       ]
      },
      {
       "output_type": "stream",
       "stream": "stdout",
       "text": [
        "\n",
        "Fitting GP\n",
        "1.3690.27"
       ]
      },
      {
       "output_type": "stream",
       "stream": "stdout",
       "text": [
        "\n",
        "Fitting GP\n",
        "1.3691.27"
       ]
      },
      {
       "output_type": "stream",
       "stream": "stdout",
       "text": [
        "\n",
        "Fitting GP\n",
        "1.3691.28"
       ]
      },
      {
       "output_type": "stream",
       "stream": "stdout",
       "text": [
        "\n",
        "Fitting GP\n",
        "1.3324.122"
       ]
      },
      {
       "output_type": "stream",
       "stream": "stdout",
       "text": [
        "\n",
        "Fitting GP\n",
        "10.3802.872"
       ]
      },
      {
       "output_type": "stream",
       "stream": "stdout",
       "text": [
        "\n",
        "Fitting GP\n",
        "101.20650.1216"
       ]
      },
      {
       "output_type": "stream",
       "stream": "stdout",
       "text": [
        "\n",
        "Fitting GP\n",
        "101.20650.3427"
       ]
      },
      {
       "output_type": "stream",
       "stream": "stdout",
       "text": [
        "\n",
        "Fitting GP\n",
        "101.20658.2639"
       ]
      },
      {
       "output_type": "stream",
       "stream": "stdout",
       "text": [
        "\n",
        "Fitting GP\n",
        "101.20908.1433"
       ]
      },
      {
       "output_type": "stream",
       "stream": "stdout",
       "text": [
        "\n",
        "Fitting GP\n",
        "101.20910.2922"
       ]
      },
      {
       "output_type": "stream",
       "stream": "stdout",
       "text": [
        "\n",
        "Fitting GP\n",
        "101.20913.2158"
       ]
      },
      {
       "output_type": "stream",
       "stream": "stdout",
       "text": [
        "\n",
        "Fitting GP\n",
        "101.20914.3873"
       ]
      },
      {
       "output_type": "stream",
       "stream": "stdout",
       "text": [
        "\n",
        "Fitting GP\n",
        "101.21042.1247"
       ]
      },
      {
       "output_type": "stream",
       "stream": "stdout",
       "text": [
        "\n",
        "Fitting GP\n",
        "101.21042.5059"
       ]
      },
      {
       "output_type": "stream",
       "stream": "stdout",
       "text": [
        "\n",
        "Fitting GP\n",
        "101.21045.2528"
       ]
      },
      {
       "output_type": "stream",
       "stream": "stdout",
       "text": [
        "\n",
        "Fitting GP\n",
        "101.21170.2699"
       ]
      },
      {
       "output_type": "stream",
       "stream": "stdout",
       "text": [
        "\n",
        "Fitting GP\n",
        "101.21171.4799"
       ]
      },
      {
       "output_type": "stream",
       "stream": "stdout",
       "text": [
        "\n",
        "Fitting GP\n",
        "101.21174.1990"
       ]
      },
      {
       "output_type": "stream",
       "stream": "stdout",
       "text": [
        "\n",
        "Fitting GP\n",
        "101.21174.2534"
       ]
      },
      {
       "output_type": "stream",
       "stream": "stdout",
       "text": [
        "\n",
        "Fitting GP\n",
        "101.21174.3112"
       ]
      },
      {
       "output_type": "stream",
       "stream": "stdout",
       "text": [
        "\n",
        "Fitting GP\n",
        "101.21176.5465"
       ]
      },
      {
       "output_type": "stream",
       "stream": "stdout",
       "text": [
        "\n",
        "Fitting GP\n",
        "101.21307.880"
       ]
      },
      {
       "output_type": "stream",
       "stream": "stdout",
       "text": [
        "\n",
        "Fitting GP\n",
        "101.21428.2452"
       ]
      },
      {
       "output_type": "stream",
       "stream": "stdout",
       "text": [
        "\n",
        "Fitting GP\n",
        "1.3320.10"
       ]
      },
      {
       "output_type": "stream",
       "stream": "stdout",
       "text": [
        "\n",
        "Fitting GP\n",
        "1.3320.100"
       ]
      },
      {
       "output_type": "stream",
       "stream": "stdout",
       "text": [
        "\n",
        "Fitting GP\n",
        "1.3320.101"
       ]
      },
      {
       "output_type": "stream",
       "stream": "stdout",
       "text": [
        "\n",
        "Fitting GP\n",
        "1.3320.102"
       ]
      },
      {
       "output_type": "stream",
       "stream": "stdout",
       "text": [
        "\n",
        "Fitting GP\n",
        "1.3320.103"
       ]
      },
      {
       "output_type": "stream",
       "stream": "stdout",
       "text": [
        "\n",
        "Fitting GP\n",
        "1.3320.104"
       ]
      },
      {
       "output_type": "stream",
       "stream": "stdout",
       "text": [
        "\n",
        "Fitting GP\n",
        "1.3320.105"
       ]
      },
      {
       "output_type": "stream",
       "stream": "stdout",
       "text": [
        "\n",
        "Fitting GP\n",
        "1.3320.106"
       ]
      },
      {
       "output_type": "stream",
       "stream": "stdout",
       "text": [
        "\n",
        "Fitting GP\n",
        "1.3320.107"
       ]
      },
      {
       "output_type": "stream",
       "stream": "stdout",
       "text": [
        "\n",
        "Fitting GP\n",
        "1.3320.108"
       ]
      },
      {
       "output_type": "stream",
       "stream": "stdout",
       "text": [
        "\n",
        "Fitting GP\n",
        "1.3320.109"
       ]
      },
      {
       "output_type": "stream",
       "stream": "stdout",
       "text": [
        "\n",
        "Fitting GP\n",
        "1.3320.11"
       ]
      },
      {
       "output_type": "stream",
       "stream": "stdout",
       "text": [
        "\n",
        "Fitting GP\n",
        "1.3320.110"
       ]
      },
      {
       "output_type": "stream",
       "stream": "stdout",
       "text": [
        "\n",
        "Fitting GP\n",
        "1.3320.111"
       ]
      },
      {
       "output_type": "stream",
       "stream": "stdout",
       "text": [
        "\n",
        "Fitting GP\n",
        "1.3320.112"
       ]
      },
      {
       "output_type": "stream",
       "stream": "stdout",
       "text": [
        "\n",
        "Fitting GP\n",
        "1.3320.113"
       ]
      },
      {
       "output_type": "stream",
       "stream": "stdout",
       "text": [
        "\n",
        "Fitting GP\n",
        "1.3320.114"
       ]
      },
      {
       "output_type": "stream",
       "stream": "stdout",
       "text": [
        "\n",
        "Fitting GP\n",
        "1.3320.115"
       ]
      },
      {
       "output_type": "stream",
       "stream": "stdout",
       "text": [
        "\n",
        "Fitting GP\n",
        "1.3320.116"
       ]
      },
      {
       "output_type": "stream",
       "stream": "stdout",
       "text": [
        "\n",
        "Fitting GP\n",
        "1.3320.117"
       ]
      },
      {
       "output_type": "stream",
       "stream": "stdout",
       "text": [
        "\n",
        "Fitting GP\n",
        "1.4418.1930"
       ]
      },
      {
       "output_type": "stream",
       "stream": "stdout",
       "text": [
        "\n",
        "Fitting GP\n",
        "1.4537.1642"
       ]
      },
      {
       "output_type": "stream",
       "stream": "stdout",
       "text": [
        "\n",
        "Fitting GP\n",
        "11.8988.1350"
       ]
      },
      {
       "output_type": "stream",
       "stream": "stdout",
       "text": [
        "\n",
        "Fitting GP\n",
        "13.5717.178"
       ]
      },
      {
       "output_type": "stream",
       "stream": "stdout",
       "text": [
        "\n",
        "Fitting GP\n",
        "13.5962.237"
       ]
      },
      {
       "output_type": "stream",
       "stream": "stdout",
       "text": [
        "\n",
        "Fitting GP\n",
        "13.6805.324"
       ]
      },
      {
       "output_type": "stream",
       "stream": "stdout",
       "text": [
        "\n",
        "Fitting GP\n",
        "13.6808.521"
       ]
      },
      {
       "output_type": "stream",
       "stream": "stdout",
       "text": [
        "\n",
        "Fitting GP\n",
        "14.8249.74"
       ]
      },
      {
       "output_type": "stream",
       "stream": "stdout",
       "text": [
        "\n",
        "Fitting GP\n",
        "17.2227.488"
       ]
      },
      {
       "output_type": "stream",
       "stream": "stdout",
       "text": [
        "\n",
        "Fitting GP\n",
        "17.3197.1182"
       ]
      },
      {
       "output_type": "stream",
       "stream": "stdout",
       "text": [
        "\n",
        "Fitting GP\n",
        "2.5873.82"
       ]
      },
      {
       "output_type": "stream",
       "stream": "stdout",
       "text": [
        "\n",
        "Fitting GP\n",
        "20.4678.600"
       ]
      },
      {
       "output_type": "stream",
       "stream": "stdout",
       "text": [
        "\n",
        "Fitting GP\n",
        "206.16653.987"
       ]
      },
      {
       "output_type": "stream",
       "stream": "stdout",
       "text": [
        "\n",
        "Fitting GP\n",
        "206.17052.388"
       ]
      },
      {
       "output_type": "stream",
       "stream": "stdout",
       "text": [
        "\n",
        "Fitting GP\n",
        "207.16310.1050"
       ]
      },
      {
       "output_type": "stream",
       "stream": "stdout",
       "text": [
        "\n",
        "Fitting GP\n",
        "207.16316.446"
       ]
      },
      {
       "output_type": "stream",
       "stream": "stdout",
       "text": [
        "\n",
        "Fitting GP\n",
        "208.15799.1085"
       ]
      },
      {
       "output_type": "stream",
       "stream": "stdout",
       "text": [
        "\n",
        "Fitting GP\n",
        "208.15920.619"
       ]
      },
      {
       "output_type": "stream",
       "stream": "stdout",
       "text": [
        "\n",
        "Fitting GP\n",
        "208.16034.100"
       ]
      },
      {
       "output_type": "stream",
       "stream": "stdout",
       "text": [
        "\n",
        "Fitting GP\n",
        "211.16703.311"
       ]
      },
      {
       "output_type": "stream",
       "stream": "stdout",
       "text": [
        "\n",
        "Fitting GP\n",
        "1.3321.195"
       ]
      },
      {
       "output_type": "stream",
       "stream": "stdout",
       "text": [
        "\n",
        "Fitting GP\n",
        "1.3442.1051"
       ]
      },
      {
       "output_type": "stream",
       "stream": "stdout",
       "text": [
        "\n",
        "Fitting GP\n",
        "1.3442.1107"
       ]
      },
      {
       "output_type": "stream",
       "stream": "stdout",
       "text": [
        "\n",
        "Fitting GP\n",
        "1.3442.1388"
       ]
      },
      {
       "output_type": "stream",
       "stream": "stdout",
       "text": [
        "\n",
        "Fitting GP\n",
        "1.3442.503"
       ]
      },
      {
       "output_type": "stream",
       "stream": "stdout",
       "text": [
        "\n",
        "Fitting GP\n",
        "1.3443.1313"
       ]
      },
      {
       "output_type": "stream",
       "stream": "stdout",
       "text": [
        "\n",
        "Fitting GP\n",
        "1.3443.1335"
       ]
      },
      {
       "output_type": "stream",
       "stream": "stdout",
       "text": [
        "\n",
        "Fitting GP\n",
        "1.3444.1187"
       ]
      },
      {
       "output_type": "stream",
       "stream": "stdout",
       "text": [
        "\n",
        "Fitting GP\n",
        "1.3444.1268"
       ]
      },
      {
       "output_type": "stream",
       "stream": "stdout",
       "text": [
        "\n",
        "Fitting GP\n",
        "1.3445.1179"
       ]
      },
      {
       "output_type": "stream",
       "stream": "stdout",
       "text": [
        "\n",
        "Fitting GP\n",
        "1.3445.1197"
       ]
      },
      {
       "output_type": "stream",
       "stream": "stdout",
       "text": [
        "\n",
        "Fitting GP\n",
        "1.3445.1369"
       ]
      },
      {
       "output_type": "stream",
       "stream": "stdout",
       "text": [
        "\n",
        "Fitting GP\n",
        "1.3446.1877"
       ]
      },
      {
       "output_type": "stream",
       "stream": "stdout",
       "text": [
        "\n",
        "Fitting GP\n",
        "1.3446.2073"
       ]
      },
      {
       "output_type": "stream",
       "stream": "stdout",
       "text": [
        "\n",
        "Fitting GP\n",
        "1.3447.1254"
       ]
      },
      {
       "output_type": "stream",
       "stream": "stdout",
       "text": [
        "\n",
        "Fitting GP\n",
        "1.3449.1327"
       ]
      },
      {
       "output_type": "stream",
       "stream": "stdout",
       "text": [
        "\n",
        "Fitting GP\n",
        "1.3449.1459"
       ]
      },
      {
       "output_type": "stream",
       "stream": "stdout",
       "text": [
        "\n",
        "Fitting GP\n",
        "1.3562.1159"
       ]
      },
      {
       "output_type": "stream",
       "stream": "stdout",
       "text": [
        "\n",
        "Fitting GP\n",
        "1.3562.1596"
       ]
      },
      {
       "output_type": "stream",
       "stream": "stdout",
       "text": [
        "\n",
        "Fitting GP\n",
        "1.3562.798"
       ]
      },
      {
       "output_type": "stream",
       "stream": "stdout",
       "text": [
        "\n",
        "Fitting GP\n"
       ]
      }
     ],
     "prompt_number": 7
    },
    {
     "cell_type": "code",
     "collapsed": false,
     "input": [
      "aux = pd.DataFrame(df)"
     ],
     "language": "python",
     "metadata": {},
     "outputs": [],
     "prompt_number": 8
    },
    {
     "cell_type": "code",
     "collapsed": false,
     "input": [
      "aux.to_csv('errores_sobreajustados.csv', index=False, sep=';', float_format=\"%.2f\")"
     ],
     "language": "python",
     "metadata": {},
     "outputs": [],
     "prompt_number": 12
    },
    {
     "cell_type": "code",
     "collapsed": false,
     "input": [],
     "language": "python",
     "metadata": {},
     "outputs": []
    }
   ],
   "metadata": {}
  }
 ]
}