{
 "metadata": {
  "name": ""
 },
 "nbformat": 3,
 "nbformat_minor": 0,
 "worksheets": [
  {
   "cells": [
    {
     "cell_type": "raw",
     "metadata": {},
     "source": [
      "Este script toma el csv con los errores porcentuales de las features estimadas por el GP y calcula sus promedios para distintas clases."
     ]
    },
    {
     "cell_type": "code",
     "collapsed": false,
     "input": [
      "import pandas as pd\n",
      "import matplotlib.pyplot as plt\n",
      "import numpy as np\n",
      "%matplotlib inline"
     ],
     "language": "python",
     "metadata": {},
     "outputs": [],
     "prompt_number": 52
    },
    {
     "cell_type": "code",
     "collapsed": false,
     "input": [
      "df = pd.read_csv('errors.csv')"
     ],
     "language": "python",
     "metadata": {},
     "outputs": [],
     "prompt_number": 53
    },
    {
     "cell_type": "markdown",
     "metadata": {},
     "source": [
      "Se ven errores muy considerables en el valor de las features.\n",
      "Para el promedio de todas las clases"
     ]
    },
    {
     "cell_type": "code",
     "collapsed": false,
     "input": [
      "error_general = df.mean()\n",
      "print error_general"
     ],
     "language": "python",
     "metadata": {},
     "outputs": [
      {
       "output_type": "stream",
       "stream": "stdout",
       "text": [
        "Amplitude            42.295215\n",
        "Beyond1Std           42.529875\n",
        "Con                        inf\n",
        "MaxSlope             86.850092\n",
        "MedianAbsDev         28.727747\n",
        "MedianBRP            22.867143\n",
        "PairSlopeTrend      233.251472\n",
        "Rcs                 195.392894\n",
        "Skew                184.969923\n",
        "SmallKurtosis       103.711744\n",
        "Std                  32.706566\n",
        "StestonK             11.467915\n",
        "VariabilityIndex     49.830340\n",
        "meanvariance         93.205809\n",
        "dtype: float64\n"
       ]
      }
     ],
     "prompt_number": 54
    },
    {
     "cell_type": "heading",
     "level": 4,
     "metadata": {},
     "source": [
      "Graficos"
     ]
    },
    {
     "cell_type": "code",
     "collapsed": false,
     "input": [
      "n_groups = len(df.columns) - 1\n",
      "index = np.arange(n_groups)\n",
      "bar_width = 0.2\n",
      "opacity = 0.8"
     ],
     "language": "python",
     "metadata": {},
     "outputs": [],
     "prompt_number": 57
    },
    {
     "cell_type": "code",
     "collapsed": false,
     "input": [
      "def add_legends( class_name, feature_names ):\n",
      "    plt.xlabel('Feature')\n",
      "    plt.ylabel('Error Porcentual')\n",
      "    plt.title('Error Porcentual promedio v/s ' + class_name)\n",
      "    plt.xticks(index + bar_width, feature_names, rotation='vertical')\n",
      "    plt.legend()"
     ],
     "language": "python",
     "metadata": {},
     "outputs": [],
     "prompt_number": 74
    },
    {
     "cell_type": "code",
     "collapsed": false,
     "input": [
      "def add_bars(index, means, bar_width, opacitiy, color, label, offset=0):\n",
      "    plt.bar(index + offset, means, bar_width, alpha=opacity, color=color, label=label)"
     ],
     "language": "python",
     "metadata": {},
     "outputs": [],
     "prompt_number": 75
    },
    {
     "cell_type": "heading",
     "level": 3,
     "metadata": {},
     "source": [
      "Errores por Clase"
     ]
    },
    {
     "cell_type": "heading",
     "level": 4,
     "metadata": {},
     "source": [
      "Be Stars"
     ]
    },
    {
     "cell_type": "raw",
     "metadata": {},
     "source": [
      "Errores variados con respecto a la media de las clases"
     ]
    },
    {
     "cell_type": "code",
     "collapsed": false,
     "input": [
      "aux = df[df['class'] == 'Be_lc']\n",
      "#print aux.mean()\n",
      "#print aux.mean() - error_general\n",
      "\n",
      "plt.figure()\n",
      "add_bars(index, tuple(aux.mean().tolist()), bar_width, opacity, 'b', 'Be Stars')\n",
      "add_bars(index, tuple(error_general.tolist()), bar_width, opacity, 'r', 'Promedio', offset = bar_width)\n",
      "add_legends('Be Stars', tuple(aux.columns.tolist()))\n",
      "plt.show()"
     ],
     "language": "python",
     "metadata": {},
     "outputs": [
      {
       "metadata": {},
       "output_type": "display_data",
       "png": "[encoded data removed]",
       "text": [
        "<matplotlib.figure.Figure at 0x1079dba90>"
       ]
      }
     ],
     "prompt_number": 76
    },
    {
     "cell_type": "heading",
     "level": 4,
     "metadata": {},
     "source": [
      "Cepheids"
     ]
    },
    {
     "cell_type": "raw",
     "metadata": {},
     "source": [
      "Errores m\u00e1s bajos que el promedio de las estrellas"
     ]
    },
    {
     "cell_type": "code",
     "collapsed": false,
     "input": [
      "aux = df[df['class'] == 'CEPH']\n",
      "#print aux.mean()\n",
      "# aux.mean() - error_general\n",
      "\n",
      "plt.close()\n",
      "plt.figure()\n",
      "add_bars(index, tuple(aux.mean().tolist()), bar_width, opacity, 'b', 'Cepheids')\n",
      "add_bars(index, tuple(error_general.tolist()), bar_width, opacity, 'r', 'Promedio', offset = bar_width)\n",
      "add_legends('Cepheids', tuple(aux.columns.tolist()))\n",
      "plt.show()"
     ],
     "language": "python",
     "metadata": {},
     "outputs": [
      {
       "metadata": {},
       "output_type": "display_data",
       "png": "[encoded data removed]",
       "text": [
        "<matplotlib.figure.Figure at 0x10793fd10>"
       ]
      }
     ],
     "prompt_number": 77
    },
    {
     "cell_type": "heading",
     "level": 4,
     "metadata": {},
     "source": [
      "Eclipsing Binaries"
     ]
    },
    {
     "cell_type": "code",
     "collapsed": false,
     "input": [
      "aux = df[df['class'] == 'EB']\n",
      "# print aux.mean()\n",
      "plt.close()\n",
      "plt.figure()\n",
      "add_bars(index, tuple(aux.mean().tolist()), bar_width, opacity, 'b', 'Eclipsing Binaries')\n",
      "add_bars(index, tuple(error_general.tolist()), bar_width, opacity, 'r', 'Promedio', offset = bar_width)\n",
      "add_legends('Eclipsing Binaries', tuple(aux.columns.tolist()))\n",
      "plt.show()"
     ],
     "language": "python",
     "metadata": {},
     "outputs": [
      {
       "output_type": "stream",
       "stream": "stdout",
       "text": [
        "Amplitude            34.688888\n",
        "Beyond1Std           20.966385\n",
        "Con                        inf\n",
        "MaxSlope             82.557417\n",
        "MedianAbsDev         20.144476\n",
        "MedianBRP            15.588806\n",
        "PairSlopeTrend      102.190476\n",
        "Rcs                  59.492627\n",
        "Skew                 51.949986\n",
        "SmallKurtosis        50.847154\n",
        "Std                  30.502637\n",
        "StestonK              7.013338\n",
        "VariabilityIndex     22.954159\n",
        "meanvariance        103.049906\n",
        "dtype: float64\n"
       ]
      }
     ],
     "prompt_number": 37
    },
    {
     "cell_type": "markdown",
     "metadata": {},
     "source": [
      "Errores m\u00e1s bajos que el promedio de las clases"
     ]
    },
    {
     "cell_type": "code",
     "collapsed": false,
     "input": [
      "print aux.mean() - error_general"
     ],
     "language": "python",
     "metadata": {},
     "outputs": [
      {
       "output_type": "stream",
       "stream": "stdout",
       "text": [
        "Amplitude            -7.606326\n",
        "Beyond1Std          -21.563490\n",
        "Con                        NaN\n",
        "MaxSlope             -4.292675\n",
        "MedianAbsDev         -8.583272\n",
        "MedianBRP            -7.278337\n",
        "PairSlopeTrend     -131.060996\n",
        "Rcs                -135.900267\n",
        "Skew               -133.019936\n",
        "SmallKurtosis       -52.864590\n",
        "Std                  -2.203929\n",
        "StestonK             -4.454578\n",
        "VariabilityIndex    -26.876181\n",
        "meanvariance          9.844097\n",
        "dtype: float64\n"
       ]
      }
     ],
     "prompt_number": 36
    },
    {
     "cell_type": "heading",
     "level": 4,
     "metadata": {},
     "source": [
      "Long Period"
     ]
    },
    {
     "cell_type": "code",
     "collapsed": false,
     "input": [
      "aux = df[df['class'] == 'longperiod_lc']\n",
      "print aux.mean()"
     ],
     "language": "python",
     "metadata": {},
     "outputs": [
      {
       "output_type": "stream",
       "stream": "stdout",
       "text": [
        "Amplitude             8.739160\n",
        "Beyond1Std            4.125076\n",
        "Con                  25.000000\n",
        "MaxSlope             83.196131\n",
        "MedianAbsDev          4.100551\n",
        "MedianBRP             7.539606\n",
        "PairSlopeTrend       18.713450\n",
        "Rcs                   3.785191\n",
        "Skew                246.301799\n",
        "SmallKurtosis        72.052383\n",
        "Std                   3.154069\n",
        "StestonK              0.865086\n",
        "VariabilityIndex      7.843576\n",
        "meanvariance         22.663654\n",
        "dtype: float64\n"
       ]
      }
     ],
     "prompt_number": 38
    },
    {
     "cell_type": "raw",
     "metadata": {},
     "source": [
      "Errores m\u00e1s bajos salvo para la skewness"
     ]
    },
    {
     "cell_type": "code",
     "collapsed": false,
     "input": [
      "print aux.mean() - error_general"
     ],
     "language": "python",
     "metadata": {},
     "outputs": [
      {
       "output_type": "stream",
       "stream": "stdout",
       "text": [
        "Amplitude           -33.556055\n",
        "Beyond1Std          -38.404799\n",
        "Con                       -inf\n",
        "MaxSlope             -3.653961\n",
        "MedianAbsDev        -24.627197\n",
        "MedianBRP           -15.327538\n",
        "PairSlopeTrend     -214.538022\n",
        "Rcs                -191.607703\n",
        "Skew                 61.331876\n",
        "SmallKurtosis       -31.659361\n",
        "Std                 -29.552497\n",
        "StestonK            -10.602830\n",
        "VariabilityIndex    -41.986764\n",
        "meanvariance        -70.542155\n",
        "dtype: float64\n"
       ]
      }
     ],
     "prompt_number": 39
    },
    {
     "cell_type": "heading",
     "level": 4,
     "metadata": {},
     "source": [
      "MicroLensing"
     ]
    },
    {
     "cell_type": "code",
     "collapsed": false,
     "input": [
      "aux = df[df['class'] == 'microlensing_lc']\n",
      "print aux.mean()"
     ],
     "language": "python",
     "metadata": {},
     "outputs": [
      {
       "output_type": "stream",
       "stream": "stdout",
       "text": [
        "Amplitude            68.572257\n",
        "Beyond1Std           67.126993\n",
        "Con                        inf\n",
        "MaxSlope             97.563099\n",
        "MedianAbsDev         67.297576\n",
        "MedianBRP            23.403607\n",
        "PairSlopeTrend      656.476190\n",
        "Rcs                 190.813121\n",
        "Skew                320.024311\n",
        "SmallKurtosis       181.096899\n",
        "Std                  61.039706\n",
        "StestonK             19.413383\n",
        "VariabilityIndex     78.063464\n",
        "meanvariance        126.352246\n",
        "dtype: float64\n"
       ]
      }
     ],
     "prompt_number": 40
    },
    {
     "cell_type": "raw",
     "metadata": {},
     "source": [
      "Errores superiores al promedio de las clases"
     ]
    },
    {
     "cell_type": "code",
     "collapsed": false,
     "input": [
      "print aux.mean() - error_general"
     ],
     "language": "python",
     "metadata": {},
     "outputs": [
      {
       "output_type": "stream",
       "stream": "stdout",
       "text": [
        "Amplitude            26.277042\n",
        "Beyond1Std           24.597119\n",
        "Con                        NaN\n",
        "MaxSlope             10.713007\n",
        "MedianAbsDev         38.569829\n",
        "MedianBRP             0.536464\n",
        "PairSlopeTrend      423.224718\n",
        "Rcs                  -4.579774\n",
        "Skew                135.054388\n",
        "SmallKurtosis        77.385155\n",
        "Std                  28.333140\n",
        "StestonK              7.945468\n",
        "VariabilityIndex     28.233124\n",
        "meanvariance         33.146437\n",
        "dtype: float64\n"
       ]
      }
     ],
     "prompt_number": 41
    },
    {
     "cell_type": "heading",
     "level": 4,
     "metadata": {},
     "source": [
      "No Variables"
     ]
    },
    {
     "cell_type": "code",
     "collapsed": false,
     "input": [
      "aux = df[df['class'] == 'non_variables']\n",
      "print aux.mean()"
     ],
     "language": "python",
     "metadata": {},
     "outputs": [
      {
       "output_type": "stream",
       "stream": "stdout",
       "text": [
        "Amplitude             67.017535\n",
        "Beyond1Std            84.979027\n",
        "Con                         inf\n",
        "MaxSlope              95.938532\n",
        "MedianAbsDev          56.738381\n",
        "MedianBRP             30.774079\n",
        "PairSlopeTrend       299.333333\n",
        "Rcs                 1069.454699\n",
        "Skew                 210.715270\n",
        "SmallKurtosis         85.972475\n",
        "Std                   62.165849\n",
        "StestonK              23.370032\n",
        "VariabilityIndex      73.067949\n",
        "meanvariance         107.366963\n",
        "dtype: float64\n"
       ]
      }
     ],
     "prompt_number": 44
    },
    {
     "cell_type": "raw",
     "metadata": {},
     "source": [
      "Errores superiores que el promedio de las clases"
     ]
    },
    {
     "cell_type": "code",
     "collapsed": false,
     "input": [
      "print aux.mean() - error_general"
     ],
     "language": "python",
     "metadata": {},
     "outputs": [
      {
       "output_type": "stream",
       "stream": "stdout",
       "text": [
        "Amplitude            24.722320\n",
        "Beyond1Std           42.449152\n",
        "Con                        NaN\n",
        "MaxSlope              9.088440\n",
        "MedianAbsDev         28.010634\n",
        "MedianBRP             7.906935\n",
        "PairSlopeTrend       66.081861\n",
        "Rcs                 874.061805\n",
        "Skew                 25.745348\n",
        "SmallKurtosis       -17.739270\n",
        "Std                  29.459283\n",
        "StestonK             11.902117\n",
        "VariabilityIndex     23.237608\n",
        "meanvariance         14.161155\n",
        "dtype: float64\n"
       ]
      }
     ],
     "prompt_number": 45
    },
    {
     "cell_type": "heading",
     "level": 4,
     "metadata": {},
     "source": [
      "Quasares"
     ]
    },
    {
     "cell_type": "code",
     "collapsed": false,
     "input": [
      "aux = df[df['class'] == 'quasar_lc']\n",
      "print aux.mean()"
     ],
     "language": "python",
     "metadata": {},
     "outputs": [
      {
       "output_type": "stream",
       "stream": "stdout",
       "text": [
        "Amplitude            54.435693\n",
        "Beyond1Std           55.293144\n",
        "Con                        inf\n",
        "MaxSlope             98.313605\n",
        "MedianAbsDev         24.927587\n",
        "MedianBRP            31.323233\n",
        "PairSlopeTrend      393.809524\n",
        "Rcs                  54.723857\n",
        "Skew                194.397200\n",
        "SmallKurtosis       199.560642\n",
        "Std                  32.674579\n",
        "StestonK             15.100314\n",
        "VariabilityIndex     88.123914\n",
        "meanvariance        110.604968\n",
        "dtype: float64\n"
       ]
      }
     ],
     "prompt_number": 46
    },
    {
     "cell_type": "raw",
     "metadata": {},
     "source": [
      "Errores variados pero similares con respecto a la media"
     ]
    },
    {
     "cell_type": "code",
     "collapsed": false,
     "input": [
      "print aux.mean() - error_general"
     ],
     "language": "python",
     "metadata": {},
     "outputs": [
      {
       "output_type": "stream",
       "stream": "stdout",
       "text": [
        "Amplitude            12.140479\n",
        "Beyond1Std           12.763269\n",
        "Con                        NaN\n",
        "MaxSlope             11.463513\n",
        "MedianAbsDev         -3.800160\n",
        "MedianBRP             8.456089\n",
        "PairSlopeTrend      160.558051\n",
        "Rcs                -140.669037\n",
        "Skew                  9.427277\n",
        "SmallKurtosis        95.848898\n",
        "Std                  -0.031987\n",
        "StestonK              3.632399\n",
        "VariabilityIndex     38.293574\n",
        "meanvariance         17.399160\n",
        "dtype: float64\n"
       ]
      }
     ],
     "prompt_number": 47
    },
    {
     "cell_type": "heading",
     "level": 4,
     "metadata": {},
     "source": [
      "RR Lyrae"
     ]
    },
    {
     "cell_type": "code",
     "collapsed": false,
     "input": [
      "aux = df[df['class'] == 'RRL']\n",
      "print aux.mean()"
     ],
     "language": "python",
     "metadata": {},
     "outputs": [
      {
       "output_type": "stream",
       "stream": "stdout",
       "text": [
        "Amplitude            51.170863\n",
        "Beyond1Std           64.610261\n",
        "Con                        inf\n",
        "MaxSlope             94.713913\n",
        "MedianAbsDev         31.901565\n",
        "MedianBRP            33.070217\n",
        "PairSlopeTrend       75.428571\n",
        "Rcs                 127.966946\n",
        "Skew                161.258285\n",
        "SmallKurtosis       132.233116\n",
        "Std                  40.632315\n",
        "StestonK             14.452518\n",
        "VariabilityIndex     41.797979\n",
        "meanvariance        112.033859\n",
        "dtype: float64\n"
       ]
      }
     ],
     "prompt_number": 49
    },
    {
     "cell_type": "raw",
     "metadata": {},
     "source": [
      "Errores variados pero similares"
     ]
    },
    {
     "cell_type": "code",
     "collapsed": false,
     "input": [
      "print aux.mean() - error_general"
     ],
     "language": "python",
     "metadata": {},
     "outputs": [
      {
       "output_type": "stream",
       "stream": "stdout",
       "text": [
        "Amplitude             8.875648\n",
        "Beyond1Std           22.080386\n",
        "Con                        NaN\n",
        "MaxSlope              7.863821\n",
        "MedianAbsDev          3.173818\n",
        "MedianBRP            10.203074\n",
        "PairSlopeTrend     -157.822901\n",
        "Rcs                 -67.425948\n",
        "Skew                -23.711638\n",
        "SmallKurtosis        28.521371\n",
        "Std                   7.925749\n",
        "StestonK              2.984603\n",
        "VariabilityIndex     -8.032361\n",
        "meanvariance         18.828050\n",
        "dtype: float64\n"
       ]
      }
     ],
     "prompt_number": 50
    },
    {
     "cell_type": "code",
     "collapsed": false,
     "input": [],
     "language": "python",
     "metadata": {},
     "outputs": []
    }
   ],
   "metadata": {}
  }
 ]
}