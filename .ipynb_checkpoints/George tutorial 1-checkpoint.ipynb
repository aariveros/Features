{
 "metadata": {
  "name": ""
 },
 "nbformat": 3,
 "nbformat_minor": 0,
 "worksheets": [
  {
   "cells": [
    {
     "cell_type": "code",
     "collapsed": false,
     "input": [
      "from __future__ import division, print_function\n",
      "\n",
      "import emcee\n",
      "import triangle\n",
      "import numpy as np\n",
      "import matplotlib.pyplot as plt\n",
      "\n",
      "import george\n",
      "from george import kernels"
     ],
     "language": "python",
     "metadata": {},
     "outputs": [],
     "prompt_number": 25
    },
    {
     "cell_type": "markdown",
     "metadata": {},
     "source": [
      "Implementation of the uncorrelated model"
     ]
    },
    {
     "cell_type": "code",
     "collapsed": false,
     "input": [
      "def model(params, t):\n",
      "    amp, loc, sig2 = params\n",
      "    return amp * np.exp(-0.5 * (t - loc) ** 2 / sig2)\n",
      "\n",
      "#Computes the log-likelihood of the mode\n",
      "def lnlike_ind(p, t, y, invar):\n",
      "    m = model(p[2:], t) + p[0] * t + p[1]\n",
      "    return -0.5 * np.sum((y - m) ** 2 * invar)"
     ],
     "language": "python",
     "metadata": {},
     "outputs": [],
     "prompt_number": 26
    },
    {
     "cell_type": "markdown",
     "metadata": {},
     "source": [
      "To fit the model with MCMC we need priors."
     ]
    },
    {
     "cell_type": "code",
     "collapsed": false,
     "input": [
      "def lnprior_base(p):\n",
      "    amp, loc, sig2 = p\n",
      "    if not -10 < amp < 10:\n",
      "        return -np.inf\n",
      "    if not -5 < loc < 5:\n",
      "        return -np.inf\n",
      "    if not 0 < sig2 < 3.0:\n",
      "        return -np.inf\n",
      "    return 0.0\n",
      "\n",
      "# Simple uniform prior on the parameters\n",
      "def lnprior_ind(p):\n",
      "    m, b = p[:2]\n",
      "    if not -10 < m < 10:\n",
      "        return -np.inf\n",
      "    if not -10 < b < 10:\n",
      "        return -np.inf\n",
      "    return lnprior_base(p[2:])\n",
      "\n",
      "# Combine the prior and the likelihood to get the probabilistic model\n",
      "def lnprob_ind(p, t, y, invar):\n",
      "    lp = lnprior_ind(p)\n",
      "    if not np.isfinite(lp):\n",
      "        return -np.inf\n",
      "    return lp + lnlike_ind(p, t, y, invar)"
     ],
     "language": "python",
     "metadata": {},
     "outputs": [],
     "prompt_number": 27
    },
    {
     "cell_type": "code",
     "collapsed": false,
     "input": [
      "# Necessary to generate the artificial data\n",
      "def generate_data(params, N, rng=(-5, 5)):\n",
      "    gp = george.GP(0.1 * kernels.ExpSquaredKernel(3.3))\n",
      "    t = rng[0] + np.diff(rng) * np.sort(np.random.rand(N))\n",
      "    y = gp.sample(t)\n",
      "    y += model(params, t)\n",
      "    yerr = 0.05 + 0.05 * np.random.rand(N)\n",
      "    y += yerr * np.random.randn(N)\n",
      "    return t, y, yerr"
     ],
     "language": "python",
     "metadata": {},
     "outputs": [],
     "prompt_number": 28
    },
    {
     "cell_type": "markdown",
     "metadata": {},
     "source": [
      "Generate the data from the model and graf"
     ]
    },
    {
     "cell_type": "code",
     "collapsed": false,
     "input": [
      "np.random.seed(1234)\n",
      "\n",
      "# True values of the model that generated the data\n",
      "truth = [-1.0, 0.1, 0.4]\n",
      "t, y, yerr = generate_data(truth, 50)\n",
      "\n",
      "fig = plt.figure(1)\n",
      "ax = fig.add_subplot(111)\n",
      "plt.ylabel(r\"$y$\")\n",
      "plt.xlabel(r\"$t$\")\n",
      "plt.xlim(-5, 5)\n",
      "plt.title(\"simulated data\")\n",
      "plt.errorbar(t, y, yerr=yerr, fmt=\".k\", capsize=0, color='k')"
     ],
     "language": "python",
     "metadata": {},
     "outputs": [
      {
       "metadata": {},
       "output_type": "display_data",
       "png": "[encoded data removed]",
       "text": [
        "<matplotlib.figure.Figure at 0x1083633d0>"
       ]
      }
     ],
     "prompt_number": 36
    },
    {
     "cell_type": "markdown",
     "metadata": {},
     "source": [
      "Fit assuming independent noise between the observations"
     ]
    },
    {
     "cell_type": "code",
     "collapsed": false,
     "input": [
      "def fit_ind(initial, data, nwalkers=32):\n",
      "    ndim = len(initial)\n",
      "    p0 = [np.array(initial) + 1e-8 * np.random.randn(ndim)\n",
      "          for i in xrange(nwalkers)]\n",
      "    sampler = emcee.EnsembleSampler(nwalkers, ndim, lnprob_ind, args=data)\n",
      "\n",
      "    print(\"Running burn-in\")\n",
      "    p0, _, _ = sampler.run_mcmc(p0, 500)\n",
      "    sampler.reset()\n",
      "\n",
      "    print(\"Running production\")\n",
      "    p0, _, _ = sampler.run_mcmc(p0, 1000)\n",
      "\n",
      "    return sampler"
     ],
     "language": "python",
     "metadata": {},
     "outputs": [],
     "prompt_number": 37
    },
    {
     "cell_type": "code",
     "collapsed": false,
     "input": [
      "# Fit assuming independent.\n",
      "print(\"Fitting independent\")\n",
      "data = (t, y, 1.0 / yerr ** 2)\n",
      "truth_ind = [0.0, 0.0] + truth\n",
      "sampler = fit_ind(truth_ind, data)\n",
      "\n",
      "# Plot the samples in data space.\n",
      "print(\"Making plots\")\n",
      "samples = sampler.flatchain\n",
      "x = np.linspace(-5, 5, 500)\n",
      "for s in samples[np.random.randint(len(samples), size=24)]:\n",
      "    plt.plot(x, model(s[2:], x)+s[0]*x+s[1], color=\"#4682b4\", alpha=0.3)\n",
      "plt.title(\"results assuming uncorrelated noise\")\n",
      "plt.errorbar(t, y, yerr=yerr, fmt=\".k\", capsize=0, color='k')\n",
      "plt.show()"
     ],
     "language": "python",
     "metadata": {},
     "outputs": [
      {
       "output_type": "stream",
       "stream": "stdout",
       "text": [
        "Fitting independent\n",
        "Running burn-in\n",
        "Running production"
       ]
      },
      {
       "output_type": "stream",
       "stream": "stdout",
       "text": [
        "\n",
        "Making plots"
       ]
      },
      {
       "output_type": "stream",
       "stream": "stdout",
       "text": [
        "\n"
       ]
      },
      {
       "metadata": {},
       "output_type": "display_data",
       "png": "[encoded data removed]",
       "text": [
        "<matplotlib.figure.Figure at 0x10a7b9750>"
       ]
      }
     ],
     "prompt_number": 39
    },
    {
     "cell_type": "code",
     "collapsed": false,
     "input": [
      "import george\n",
      "from george import kernels\n",
      "\n",
      "def model2(params, t):\n",
      "    _, _, amp, loc, sig2 = params\n",
      "    return amp * np.exp(-0.5 * (t - loc) ** 2 / sig2)\n",
      "\n",
      "def lnlike2(p, t, y, yerr):\n",
      "    a, tau = np.exp(p[:2])\n",
      "    gp = george.GP(a * kernels.Matern32Kernel(tau))\n",
      "    gp.compute(t, yerr)\n",
      "    return gp.lnlikelihood(y - model2(p, t))\n",
      "\n",
      "def lnprior2(p):\n",
      "    lna, lntau, amp, loc, sig2 = p\n",
      "    if (-5 < lna < 5 and  -5 < lntau < 5 and -10 < amp < 10 and\n",
      "            -5 < loc < 5 and 0 < sig2 < 3):\n",
      "        return 0.0\n",
      "    return -np.inf\n",
      "\n",
      "def lnprob2(p, x, y, yerr):\n",
      "    lp = lnprior2(p)\n",
      "    return lp + lnlike2(p, x, y, yerr) if np.isfinite(lp) else -np.inf"
     ],
     "language": "python",
     "metadata": {},
     "outputs": []
    }
   ],
   "metadata": {}
  }
 ]
}