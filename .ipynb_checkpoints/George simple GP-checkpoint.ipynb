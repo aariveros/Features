{
 "metadata": {
  "name": "",
  "signature": "sha256:a0082201514728081ca0df7e50bf737c367c206ac93b268f556bcd15b9e829ed"
 },
 "nbformat": 3,
 "nbformat_minor": 0,
 "worksheets": [
  {
   "cells": [
    {
     "cell_type": "code",
     "collapsed": false,
     "input": [
      "import lightcurves.lc_utils as lu\n",
      "import matplotlib.pyplot as plt\n",
      "import pandas as pd\n",
      "import numpy as np\n",
      "#%matplotlib inline"
     ],
     "language": "python",
     "metadata": {},
     "outputs": [],
     "prompt_number": 3
    },
    {
     "cell_type": "code",
     "collapsed": false,
     "input": [
      "# Ubicacion de las curvas\n",
      "# 0-1           Be_lc\n",
      "# 255-256       CEPH\n",
      "# 457-458       EB\n",
      "# 967-968       longperiod_lc\n",
      "# 1697-1698     microlensing_lc\n",
      "# 2862-2863     non_variables\n",
      "# 12527-12528   quasar_lc\n",
      "# 12645-12646   RRL\n",
      "\n",
      "paths = lu.get_lightcurve_paths()\n",
      "#a, b = 967, 968\n",
      "#a, b = 255, 256\n",
      "#a, b = 2864, 2865\n",
      "#a, b = 4, 5\n",
      "#a,b = 2778, 2779\n",
      "a,b= 12527,12528\n",
      "\n",
      "azul = lu.open_lightcurve(paths[a])\n",
      "roja = lu.open_lightcurve(paths[b])\n",
      "curva = pd.concat([azul, roja], axis=1, keys=['azul', 'roja'], join='inner')\n",
      "\n",
      "#plt.plot( azul.index, azul['mag'], '.', color = 'b')\n",
      "plt.errorbar(azul.index, azul['mag'], yerr=azul['err'], fmt=\".b\", ecolor='r', capsize=0)\n",
      "plt.show()"
     ],
     "language": "python",
     "metadata": {},
     "outputs": [],
     "prompt_number": 13
    },
    {
     "cell_type": "code",
     "collapsed": false,
     "input": [
      "print azul.index[-1] - azul.index[0]\n",
      "print 4 / 2663.0"
     ],
     "language": "python",
     "metadata": {},
     "outputs": [
      {
       "output_type": "stream",
       "stream": "stdout",
       "text": [
        "2722.847778\n",
        "0.00150206533984\n"
       ]
      }
     ],
     "prompt_number": 14
    },
    {
     "cell_type": "code",
     "collapsed": false,
     "input": [
      "#t_obs, y_obs, err_obs, min_time, max_time = lu.prepare_lightcurve(azul, 400)\n",
      "t_obs, y_obs, err_obs, min_time, max_time = lu.prepare_lightcurve(azul, 500)\n",
      "\n",
      "t_obs = np.ravel(t_obs)\n",
      "y_obs = np.ravel(y_obs)\n",
      "err_obs = np.ravel(err_obs) \n",
      "\n",
      "# Reduzco a la fuerza el ruido a ver si el ajuste mejora\n",
      "# err_obs = err_obs/10"
     ],
     "language": "python",
     "metadata": {},
     "outputs": [],
     "prompt_number": 15
    },
    {
     "cell_type": "code",
     "collapsed": false,
     "input": [
      "print y_obs.shape\n",
      "print t_obs.shape"
     ],
     "language": "python",
     "metadata": {},
     "outputs": [
      {
       "output_type": "stream",
       "stream": "stdout",
       "text": [
        "(500,)\n",
        "(500,)\n"
       ]
      }
     ],
     "prompt_number": 100
    },
    {
     "cell_type": "code",
     "collapsed": false,
     "input": [
      "import george\n",
      "from george import kernels\n",
      "\n",
      "#Elijo el kernel que quiero ocupar\n",
      "#kernel = 0.7**2 * kernels.ExpSquaredKernel(0.006**2)\n",
      "kernel = np.var(y_obs)**2 * kernels.ExpSquaredKernel(0.006**2)\n",
      "\n",
      "#gp = george.GP(kernel, mean=np.mean(y_obs))\n",
      "gp = george.GP(kernel)\n",
      "\n",
      "p, results = gp.optimize(t_obs, y_obs, yerr=err_obs, dims=[1])\n",
      "#p, results = gp.optimize(t_obs, y_obs, dims=[1])\n",
      "print p\n",
      "print gp.lnlikelihood(y_obs)"
     ],
     "language": "python",
     "metadata": {},
     "outputs": [
      {
       "output_type": "stream",
       "stream": "stdout",
       "text": [
        "Desired error not necessarily achieved due to precision loss.\n",
        "[-491.21438146]\n",
        "-707.931750348\n"
       ]
      }
     ],
     "prompt_number": 16
    },
    {
     "cell_type": "markdown",
     "metadata": {},
     "source": [
      "Valores arbitrarios para usar en el kernel"
     ]
    },
    {
     "cell_type": "code",
     "collapsed": false,
     "input": [
      "mean_err = np.mean(err_obs)\n",
      "var = np.var(y_obs)\n",
      "#l = -(np.max(t_obs) - np.min(t_obs)) / 40\n",
      "total_days = azul.index[-1] - azul.index[0]\n",
      "l = 6 * (max_time - min_time) / float(total_days)   # son 6 dias segun lo observado en otros ajustes\n",
      "kernel = var**2 * kernels.ExpSquaredKernel(l**2)\n",
      "\n",
      "print mean_err, l, var"
     ],
     "language": "python",
     "metadata": {},
     "outputs": [
      {
       "output_type": "stream",
       "stream": "stdout",
       "text": [
        "0.0110741493806 0.00870611444137 0.992947537406\n"
       ]
      }
     ],
     "prompt_number": 17
    },
    {
     "cell_type": "code",
     "collapsed": false,
     "input": [
      "#kernel = var * kernels.ExpSquaredKernel(l**2)\n",
      "gp = george.GP(kernel)\n",
      "gp.compute(t_obs, yerr=err_obs)\n",
      "print gp.lnlikelihood(y_obs)"
     ],
     "language": "python",
     "metadata": {},
     "outputs": [
      {
       "output_type": "stream",
       "stream": "stdout",
       "text": [
        "-78089.0823754\n"
       ]
      }
     ],
     "prompt_number": 18
    },
    {
     "cell_type": "code",
     "collapsed": false,
     "input": [
      "x = np.linspace(np.min(t_obs), np.max(t_obs), 500)\n",
      "\n",
      "s = gp.sample_conditional(y_obs , t_obs)\n",
      "mu, cov = gp.predict(s, x)\n",
      "std = np.sqrt(np.diag(cov))\n",
      "\n",
      "plt.plot(x, mu, color=\"#4682b4\", alpha=0.3)\n",
      "plt.errorbar(t_obs, y_obs, yerr=err_obs, fmt=\".b\", ecolor='r', capsize=0)\n",
      "\n",
      "# Agrego el intervalo de confianza\n",
      "plt.fill(np.concatenate([x, x[::-1]]), \\\n",
      "        np.concatenate([mu - 1.9600 * std,\n",
      "                       (mu + 1.9600 * std)[::-1]]), \\\n",
      "        alpha=.5, fc='#C0C0C0', ec='None', label='95% confidence interval')\n",
      "plt.show()"
     ],
     "language": "python",
     "metadata": {},
     "outputs": [],
     "prompt_number": 19
    },
    {
     "cell_type": "code",
     "collapsed": false,
     "input": [
      "x = np.linspace(np.min(t_obs), np.max(t_obs), 500)\n",
      "mu, cov = gp.predict(y_obs, x)\n",
      "std = np.sqrt(np.diag(cov))\n",
      "\n",
      "plt.plot(x, mu, color=\"#4682b4\", alpha=0.3)\n",
      "plt.errorbar(t_obs, y_obs, yerr=err_obs, fmt=\".b\", ecolor='r', capsize=0)\n",
      "\n",
      "# Agrego el intervalo de confianza\n",
      "plt.fill(np.concatenate([x, x[::-1]]), \\\n",
      "        np.concatenate([mu - 1.9600 * std,\n",
      "                       (mu + 1.9600 * std)[::-1]]), \\\n",
      "        alpha=.5, fc='#C0C0C0', ec='None', label='95% confidence interval')\n",
      "plt.show()"
     ],
     "language": "python",
     "metadata": {},
     "outputs": [],
     "prompt_number": 89
    },
    {
     "cell_type": "code",
     "collapsed": false,
     "input": [],
     "language": "python",
     "metadata": {},
     "outputs": [
      {
       "metadata": {},
       "output_type": "pyout",
       "prompt_number": 66,
       "text": [
        "0.0043054715240097748"
       ]
      }
     ],
     "prompt_number": 66
    },
    {
     "cell_type": "code",
     "collapsed": false,
     "input": [],
     "language": "python",
     "metadata": {},
     "outputs": []
    }
   ],
   "metadata": {}
  }
 ]
}