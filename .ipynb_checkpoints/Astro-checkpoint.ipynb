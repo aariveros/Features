{
 "metadata": {
  "name": ""
 },
 "nbformat": 3,
 "nbformat_minor": 0,
 "worksheets": [
  {
   "cells": [
    {
     "cell_type": "code",
     "collapsed": false,
     "input": [
      "import lightcurves.lc_utils as lu\n",
      "import matplotlib.pyplot as plt\n",
      "import pandas as pd"
     ],
     "language": "python",
     "metadata": {},
     "outputs": [
      {
       "output_type": "stream",
       "stream": "stderr",
       "text": [
        "/Users/npcastro/anaconda/lib/python2.7/site-packages/pytz/__init__.py:29: UserWarning: Module argparse was already imported from /Users/npcastro/anaconda/python.app/Contents/lib/python2.7/argparse.pyc, but /Users/npcastro/anaconda/lib/python2.7/site-packages is being added to sys.path\n",
        "  from pkg_resources import resource_stream\n"
       ]
      }
     ],
     "prompt_number": 1
    },
    {
     "cell_type": "code",
     "collapsed": false,
     "input": [
      "def graf(X, y, x_pred, y_pred, sigma):\n",
      "    \"\"\"\n",
      "    Grafica una linea y su intervalo de confianza\n",
      "    \n",
      "    X: puntos de las observaciones\n",
      "    y: valor de f(x) en las observaciones\n",
      "    x_pred: puntos donde se pregunta al gp\n",
      "    y_pred: f(x) dde se pregunto al gp\n",
      "    sigma: std en los ptos dde se pregunto al gp\n",
      "    \"\"\"\n",
      "\n",
      "    # Grafico las observaciones\n",
      "    X2 = np.array(X)\n",
      "    X2 = (X2.T).ravel()\n",
      "    plt.plot(X2,y,'.r')\n",
      "    \n",
      "    # Grafico la regresi\u00f3n ajustada\n",
      "    X3 = np.array(x_pred)\n",
      "    X3 = X3.ravel()\n",
      "    plt.plot(X3, y_pred, 'b-', label=u'Prediction')\n",
      "    \n",
      "    # Agrego el intervalo de confianza\n",
      "    plt.fill(np.concatenate([X3, X3[::-1]]), \\\n",
      "            np.concatenate([y_pred - 1.9600 * sigma,\n",
      "                           (y_pred + 1.9600 * sigma)[::-1]]), \\\n",
      "            alpha=.5, fc='#C0C0C0', ec='None', label='95% confidence interval')\n",
      "    \n",
      "    # Leyenda\n",
      "    plt.xlabel('$x$')\n",
      "    plt.ylabel('$f(x)$')\n",
      "    plt.legend(loc='upper right')"
     ],
     "language": "python",
     "metadata": {},
     "outputs": [],
     "prompt_number": 2
    },
    {
     "cell_type": "code",
     "collapsed": false,
     "input": [
      "def sample_LC(X, y, k, sigmas, x):\n",
      "    \"\"\"\n",
      "    X: inputs vector with the location of the observed data\n",
      "    y: vector with the observed values of f(x)\n",
      "    k: covariance function\n",
      "    sigmas: vector with the std of the observations\n",
      "    x: vector with the desired prediction locations\n",
      "    \"\"\"\n",
      "    \n",
      "    num_obs = len(X)\n",
      "    num_pred = len(x)\n",
      "    \n",
      "    # Mean of the predictions\n",
      "    \n",
      "    # K = K(X,X)\n",
      "    # K_pred = K(X*,X)\n",
      "    # K_ = K(X*,X*)\n",
      "    \n",
      "    K = np.matrix(np.zeros((num_obs, num_obs)))\n",
      "    for i in xrange(num_obs):\n",
      "        for j in xrange(num_obs):\n",
      "            K[i,j] = k(X[i],X[j])\n",
      "    \n",
      "    K_pred = np.matrix(np.zeros((num_pred, num_obs)))\n",
      "    for i in xrange(num_pred):\n",
      "        for j in xrange(num_obs):\n",
      "            K_pred[i,j] = k(x[i],X[j])\n",
      "            \n",
      "    K_ = np.matrix(np.zeros((num_pred, num_pred)))\n",
      "    for i in xrange(num_pred):\n",
      "        for j in xrange(num_pred):\n",
      "            K_[i,j] = k(x[i],x[j])\n",
      "    \n",
      "    error = np.matrix(np.eye(num_obs)*sigmas)\n",
      "    y = y.reshape(len(y),1)\n",
      "    \n",
      "    # Mean vector\n",
      "    lc = np.ravel(K_pred * np.linalg.inv(K + error) * y)\n",
      "    \n",
      "    # Covariance Matrix\n",
      "    cov = K_ - (K_pred * np.linalg.inv(K + error) * K_pred.T)\n",
      "    \n",
      "    return lc, cov"
     ],
     "language": "python",
     "metadata": {},
     "outputs": [],
     "prompt_number": 3
    },
    {
     "cell_type": "code",
     "collapsed": false,
     "input": [
      "# Ubicacion de las curvas\n",
      "# 0-1           Be_lc\n",
      "# 255-256       CEPH\n",
      "# 457-458       EB\n",
      "# 967-968       longperiod_lc\n",
      "# 1697-1698     microlensing_lc\n",
      "# 2862-2863     non_variables\n",
      "# 12527-12528   quasar_lc\n",
      "# 12645-12646   RRL\n",
      "\n",
      "paths = lu.get_lightcurve_paths()\n",
      "#a, b = 967, 968\n",
      "a, b = 12705, 12706\n",
      "azul = lu.open_lightcurve(paths[a])\n",
      "roja = lu.open_lightcurve(paths[b])\n",
      "\n",
      "#azul = lu.open_lightcurve('/Users/npcastro/Dropbox/lightcurves/quasar_lc/lc_5.4892.1971.B.mjd')\n",
      "#roja = lu.open_lightcurve('/Users/npcastro/Dropbox/lightcurves/quasar_lc/lc_5.4892.1971.R.mjd')\n",
      "#curva = pd.concat([azul, roja], axis=1, keys=['azul', 'roja'], join='inner')\n",
      "\n",
      "#plt.plot( curva.index, curva['azul']['mag'], '.', color = 'b')\n",
      "#plt.plot( azul.index, azul['mag'], '.', color = 'b')\n",
      "#plt.show()\n",
      "\n",
      "azul = lu.filter_data(azul)"
     ],
     "language": "python",
     "metadata": {},
     "outputs": [],
     "prompt_number": 77
    },
    {
     "cell_type": "code",
     "collapsed": false,
     "input": [
      "import numpy as np\n",
      "import random\n",
      "\n",
      "# Array con los tiempos de medicion normalizados\n",
      "t_obs = np.array(azul.index.reshape(len(azul.index),1))\n",
      "t_obs = (t_obs - np.mean(t_obs)) / np.std(t_obs)\n",
      "\n",
      "# Obtengo el tiempo que voy a cortar la curva\n",
      "aux = t_obs[-1] - t_obs[600]\n",
      "print aux\n",
      "\n",
      "\n",
      "azul = azul.iloc[0:600]\n",
      "\n",
      "# Array con los tiempos de medicion normalizados\n",
      "t_obs = np.array(azul.index.reshape(len(azul.index),1))\n",
      "t_obs = (t_obs - np.mean(t_obs)) / np.std(t_obs)\n",
      "\n",
      "\n",
      "# Array con los brillos normalizados\n",
      "y_obs = azul['mag'].reshape(len(azul.index), 1)\n",
      "y_obs = (y_obs - np.mean(y_obs)) / np.std(y_obs)\n",
      "\n",
      "# Array con los errores de las mediciones normalizados segun las observaciones\n",
      "# No tiene sentido centrar los errores\n",
      "err_obs = azul['err'].reshape(len(azul.index), 1)\n",
      "err_obs = err_obs / azul['mag'].std()\n",
      "\n",
      "# quito un numero de puntos\n",
      "#t_obs = t_obs[0:600]\n",
      "#y_obs = y_obs[0:600]\n",
      "#err_obs = err_obs[0:600]\n",
      "\n",
      "min_time = np.min(t_obs)\n",
      "max_time = np.max(t_obs)\n",
      "\n",
      "# Tomo una muestra aleatoria de puntos de la curva\n",
      "random.seed(3)\n",
      "n_sampled_points = 100\n",
      "rand_indices = random.sample(range(0,np.max(np.shape(t_obs))),n_sampled_points)\n",
      "rand_indices.sort()\n",
      "\n",
      "t_obs = t_obs[rand_indices]\n",
      "y_obs = y_obs[rand_indices]\n",
      "err_obs = err_obs[rand_indices]\n",
      "\n",
      "# Transformo a matriz\n",
      "t_obs = np.asmatrix(t_obs)\n",
      "y_obs = np.asmatrix(y_obs)\n",
      "err_obs = np.asmatrix(err_obs)"
     ],
     "language": "python",
     "metadata": {},
     "outputs": [
      {
       "output_type": "stream",
       "stream": "stdout",
       "text": [
        "[ 2.79237496]\n"
       ]
      }
     ],
     "prompt_number": 78
    },
    {
     "cell_type": "code",
     "collapsed": false,
     "input": [
      "import numpy as np\n",
      "from sklearn.gaussian_process import GaussianProcess\n",
      "from matplotlib import pyplot as plt\n",
      "\n",
      "#----------------------------------------------------------------------\n",
      "# Pruebo tomando como error el que viene con las mediciones\n",
      "#dy = np.ravel(np.sqrt(err_obs).T)\n",
      "dy = np.ravel(err_obs.T)\n",
      "\n",
      "#np.random.seed(1)\n",
      "#dy = 0.25 + 1.0 * np.random.random(y_obs.shape[0])\n",
      "#noise = np.random.normal(0, dy)\n",
      "#y_obs += noise.reshape(len(noise),1)\n",
      "\n",
      "\n",
      "X = t_obs\n",
      "y = np.ravel(y_obs.T)\n",
      "nuggets = (dy/y)**2\n",
      "\n",
      "# Mesh the input space for evaluations of the real function, the prediction and its MSE\n",
      "# Instanciate a Gaussian Process model\n",
      "gp = GaussianProcess(corr='squared_exponential', theta0=1e-1,\n",
      "                     thetaL=1e-3, thetaU=1,\n",
      "                     nugget=nuggets,\n",
      "                     random_start=100)\n",
      "\n",
      "# Fit to data using Maximum Likelihood Estimation of the parameters\n",
      "gp = gp.fit(X, y)\n",
      "print gp.theta_"
     ],
     "language": "python",
     "metadata": {},
     "outputs": [
      {
       "output_type": "stream",
       "stream": "stdout",
       "text": [
        "[[ 1.]]\n"
       ]
      }
     ],
     "prompt_number": 79
    },
    {
     "cell_type": "code",
     "collapsed": false,
     "input": [
      "# Make the prediction on the meshed x-axis (ask for MSE as well)\n",
      "num_locs = n_sampled_points\n",
      "extra_time = aux\n",
      "\n",
      "x_pred = np.asmatrix(np.linspace(min_time,max_time + extra_time,num_locs)).T\n",
      "y_pred, MSE = gp.predict(x_pred, eval_MSE=True)\n",
      "sigma = np.sqrt(MSE)\n",
      "\n",
      "# Plot the function, the prediction and the 95% confidence interval based on the MSE\n",
      "fig = plt.figure()\n",
      "\n",
      "#graf(X, y, x_pred, y_pred, sigma)\n",
      "#plt.show()\n",
      "#plt.close()"
     ],
     "language": "python",
     "metadata": {},
     "outputs": [],
     "prompt_number": 80
    },
    {
     "cell_type": "code",
     "collapsed": false,
     "input": [
      "L = gp.theta_\n",
      "\n",
      "k = lambda x,y:np.exp( -L*((x-y)**2) )\n",
      "\n",
      "lc, cov = sample_LC(X, y, k, (dy/y)**2, x_pred)\n",
      "\n",
      "X2 = np.array(x_pred)\n",
      "X2 = (X2.T).ravel()\n",
      "\n",
      "plt.plot(np.ravel(X), y, '.r')\n",
      "\n",
      "plt.plot(X2, y_pred, '-r')\n",
      "plt.plot(X2, lc, '-b')\n",
      "\n",
      "# Agrego el intervalo de confianza\n",
      "plt.fill(np.concatenate([X2, X2[::-1]]), \\\n",
      "        np.concatenate([y_pred - 1.9600 * sigma,\n",
      "                       (y_pred + 1.9600 * sigma)[::-1]]), \\\n",
      "        alpha=.5, fc='#C0C0C0', ec='None', label='95% confidence interval')\n",
      "\n",
      "np.random.seed(1)\n",
      "\n",
      "mag = np.random.multivariate_normal(np.ones(num_locs)*lc, cov)\n",
      "#plt.plot(X2, mag, '-g')\n",
      "\n",
      "mag = np.random.multivariate_normal(np.ones(num_locs)*lc, cov)\n",
      "#plt.plot(X2, mag, '-y')\n",
      "\n",
      "mag = np.random.multivariate_normal(np.ones(num_locs)*lc, cov)\n",
      "#plt.plot(X2, mag, '-r')\n",
      "\n",
      "for i in xrange(100):\n",
      "    mag = np.random.multivariate_normal(np.ones(num_locs)*lc, cov)\n",
      "    plt.plot(X2, mag, '-')\n",
      "    \n",
      "plt.show()"
     ],
     "language": "python",
     "metadata": {},
     "outputs": [
      {
       "output_type": "stream",
       "stream": "stderr",
       "text": [
        "-c:22: DeprecationWarning: using a non-integer number instead of an integer will result in an error in the future\n",
        "-c:25: DeprecationWarning: using a non-integer number instead of an integer will result in an error in the future\n",
        "-c:28: DeprecationWarning: using a non-integer number instead of an integer will result in an error in the future\n"
       ]
      },
      {
       "output_type": "stream",
       "stream": "stderr",
       "text": [
        "-c:22: DeprecationWarning: using a non-integer number instead of an integer will result in an error in the future\n",
        "-c:25: DeprecationWarning: using a non-integer number instead of an integer will result in an error in the future\n",
        "-c:28: DeprecationWarning: using a non-integer number instead of an integer will result in an error in the future\n",
        "-c:32: DeprecationWarning: using a non-integer number instead of an integer will result in an error in the future\n",
        "-c:32: DeprecationWarning: using a non-integer number instead of an integer will result in an error in the future\n",
        "-c:32: DeprecationWarning: using a non-integer number instead of an integer will result in an error in the future\n",
        "-c:32: DeprecationWarning: using a non-integer number instead of an integer will result in an error in the future\n",
        "-c:32: DeprecationWarning: using a non-integer number instead of an integer will result in an error in the future\n",
        "-c:32: DeprecationWarning: using a non-integer number instead of an integer will result in an error in the future\n",
        "-c:32: DeprecationWarning: using a non-integer number instead of an integer will result in an error in the future\n",
        "-c:32: DeprecationWarning: using a non-integer number instead of an integer will result in an error in the future\n",
        "-c:32: DeprecationWarning: using a non-integer number instead of an integer will result in an error in the future\n"
       ]
      },
      {
       "output_type": "stream",
       "stream": "stderr",
       "text": [
        "-c:32: DeprecationWarning: using a non-integer number instead of an integer will result in an error in the future\n",
        "-c:32: DeprecationWarning: using a non-integer number instead of an integer will result in an error in the future\n",
        "-c:32: DeprecationWarning: using a non-integer number instead of an integer will result in an error in the future\n",
        "-c:32: DeprecationWarning: using a non-integer number instead of an integer will result in an error in the future\n",
        "-c:32: DeprecationWarning: using a non-integer number instead of an integer will result in an error in the future\n",
        "-c:32: DeprecationWarning: using a non-integer number instead of an integer will result in an error in the future\n",
        "-c:32: DeprecationWarning: using a non-integer number instead of an integer will result in an error in the future\n",
        "-c:32: DeprecationWarning: using a non-integer number instead of an integer will result in an error in the future\n",
        "-c:32: DeprecationWarning: using a non-integer number instead of an integer will result in an error in the future\n",
        "-c:32: DeprecationWarning: using a non-integer number instead of an integer will result in an error in the future\n",
        "-c:32: DeprecationWarning: using a non-integer number instead of an integer will result in an error in the future\n",
        "-c:32: DeprecationWarning: using a non-integer number instead of an integer will result in an error in the future\n"
       ]
      },
      {
       "output_type": "stream",
       "stream": "stderr",
       "text": [
        "-c:32: DeprecationWarning: using a non-integer number instead of an integer will result in an error in the future\n",
        "-c:32: DeprecationWarning: using a non-integer number instead of an integer will result in an error in the future\n",
        "-c:32: DeprecationWarning: using a non-integer number instead of an integer will result in an error in the future\n",
        "-c:32: DeprecationWarning: using a non-integer number instead of an integer will result in an error in the future\n",
        "-c:32: DeprecationWarning: using a non-integer number instead of an integer will result in an error in the future\n",
        "-c:32: DeprecationWarning: using a non-integer number instead of an integer will result in an error in the future\n",
        "-c:32: DeprecationWarning: using a non-integer number instead of an integer will result in an error in the future\n",
        "-c:32: DeprecationWarning: using a non-integer number instead of an integer will result in an error in the future\n",
        "-c:32: DeprecationWarning: using a non-integer number instead of an integer will result in an error in the future\n",
        "-c:32: DeprecationWarning: using a non-integer number instead of an integer will result in an error in the future\n",
        "-c:32: DeprecationWarning: using a non-integer number instead of an integer will result in an error in the future\n",
        "-c:32: DeprecationWarning: using a non-integer number instead of an integer will result in an error in the future\n"
       ]
      },
      {
       "output_type": "stream",
       "stream": "stderr",
       "text": [
        "-c:32: DeprecationWarning: using a non-integer number instead of an integer will result in an error in the future\n",
        "-c:32: DeprecationWarning: using a non-integer number instead of an integer will result in an error in the future\n",
        "-c:32: DeprecationWarning: using a non-integer number instead of an integer will result in an error in the future\n",
        "-c:32: DeprecationWarning: using a non-integer number instead of an integer will result in an error in the future\n",
        "-c:32: DeprecationWarning: using a non-integer number instead of an integer will result in an error in the future\n",
        "-c:32: DeprecationWarning: using a non-integer number instead of an integer will result in an error in the future\n",
        "-c:32: DeprecationWarning: using a non-integer number instead of an integer will result in an error in the future\n",
        "-c:32: DeprecationWarning: using a non-integer number instead of an integer will result in an error in the future\n",
        "-c:32: DeprecationWarning: using a non-integer number instead of an integer will result in an error in the future\n",
        "-c:32: DeprecationWarning: using a non-integer number instead of an integer will result in an error in the future\n"
       ]
      },
      {
       "output_type": "stream",
       "stream": "stderr",
       "text": [
        "-c:32: DeprecationWarning: using a non-integer number instead of an integer will result in an error in the future\n",
        "-c:32: DeprecationWarning: using a non-integer number instead of an integer will result in an error in the future\n",
        "-c:32: DeprecationWarning: using a non-integer number instead of an integer will result in an error in the future\n",
        "-c:32: DeprecationWarning: using a non-integer number instead of an integer will result in an error in the future\n",
        "-c:32: DeprecationWarning: using a non-integer number instead of an integer will result in an error in the future\n",
        "-c:32: DeprecationWarning: using a non-integer number instead of an integer will result in an error in the future\n",
        "-c:32: DeprecationWarning: using a non-integer number instead of an integer will result in an error in the future\n",
        "-c:32: DeprecationWarning: using a non-integer number instead of an integer will result in an error in the future\n",
        "-c:32: DeprecationWarning: using a non-integer number instead of an integer will result in an error in the future\n",
        "-c:32: DeprecationWarning: using a non-integer number instead of an integer will result in an error in the future\n",
        "-c:32: DeprecationWarning: using a non-integer number instead of an integer will result in an error in the future\n",
        "-c:32: DeprecationWarning: using a non-integer number instead of an integer will result in an error in the future\n"
       ]
      },
      {
       "output_type": "stream",
       "stream": "stderr",
       "text": [
        "-c:32: DeprecationWarning: using a non-integer number instead of an integer will result in an error in the future\n",
        "-c:32: DeprecationWarning: using a non-integer number instead of an integer will result in an error in the future\n",
        "-c:32: DeprecationWarning: using a non-integer number instead of an integer will result in an error in the future\n",
        "-c:32: DeprecationWarning: using a non-integer number instead of an integer will result in an error in the future\n",
        "-c:32: DeprecationWarning: using a non-integer number instead of an integer will result in an error in the future\n",
        "-c:32: DeprecationWarning: using a non-integer number instead of an integer will result in an error in the future\n",
        "-c:32: DeprecationWarning: using a non-integer number instead of an integer will result in an error in the future\n",
        "-c:32: DeprecationWarning: using a non-integer number instead of an integer will result in an error in the future\n",
        "-c:32: DeprecationWarning: using a non-integer number instead of an integer will result in an error in the future\n",
        "-c:32: DeprecationWarning: using a non-integer number instead of an integer will result in an error in the future\n",
        "-c:32: DeprecationWarning: using a non-integer number instead of an integer will result in an error in the future\n",
        "-c:32: DeprecationWarning: using a non-integer number instead of an integer will result in an error in the future\n"
       ]
      },
      {
       "output_type": "stream",
       "stream": "stderr",
       "text": [
        "-c:32: DeprecationWarning: using a non-integer number instead of an integer will result in an error in the future\n",
        "-c:32: DeprecationWarning: using a non-integer number instead of an integer will result in an error in the future\n",
        "-c:32: DeprecationWarning: using a non-integer number instead of an integer will result in an error in the future\n",
        "-c:32: DeprecationWarning: using a non-integer number instead of an integer will result in an error in the future\n",
        "-c:32: DeprecationWarning: using a non-integer number instead of an integer will result in an error in the future\n",
        "-c:32: DeprecationWarning: using a non-integer number instead of an integer will result in an error in the future\n",
        "-c:32: DeprecationWarning: using a non-integer number instead of an integer will result in an error in the future\n",
        "-c:32: DeprecationWarning: using a non-integer number instead of an integer will result in an error in the future\n",
        "-c:32: DeprecationWarning: using a non-integer number instead of an integer will result in an error in the future\n",
        "-c:32: DeprecationWarning: using a non-integer number instead of an integer will result in an error in the future\n",
        "-c:32: DeprecationWarning: using a non-integer number instead of an integer will result in an error in the future\n"
       ]
      },
      {
       "output_type": "stream",
       "stream": "stderr",
       "text": [
        "-c:32: DeprecationWarning: using a non-integer number instead of an integer will result in an error in the future\n",
        "-c:32: DeprecationWarning: using a non-integer number instead of an integer will result in an error in the future\n",
        "-c:32: DeprecationWarning: using a non-integer number instead of an integer will result in an error in the future\n",
        "-c:32: DeprecationWarning: using a non-integer number instead of an integer will result in an error in the future\n",
        "-c:32: DeprecationWarning: using a non-integer number instead of an integer will result in an error in the future\n",
        "-c:32: DeprecationWarning: using a non-integer number instead of an integer will result in an error in the future\n",
        "-c:32: DeprecationWarning: using a non-integer number instead of an integer will result in an error in the future\n",
        "-c:32: DeprecationWarning: using a non-integer number instead of an integer will result in an error in the future\n",
        "-c:32: DeprecationWarning: using a non-integer number instead of an integer will result in an error in the future\n"
       ]
      },
      {
       "output_type": "stream",
       "stream": "stderr",
       "text": [
        "-c:32: DeprecationWarning: using a non-integer number instead of an integer will result in an error in the future\n",
        "-c:32: DeprecationWarning: using a non-integer number instead of an integer will result in an error in the future\n",
        "-c:32: DeprecationWarning: using a non-integer number instead of an integer will result in an error in the future\n",
        "-c:32: DeprecationWarning: using a non-integer number instead of an integer will result in an error in the future\n",
        "-c:32: DeprecationWarning: using a non-integer number instead of an integer will result in an error in the future\n",
        "-c:32: DeprecationWarning: using a non-integer number instead of an integer will result in an error in the future\n",
        "-c:32: DeprecationWarning: using a non-integer number instead of an integer will result in an error in the future\n",
        "-c:32: DeprecationWarning: using a non-integer number instead of an integer will result in an error in the future\n",
        "-c:32: DeprecationWarning: using a non-integer number instead of an integer will result in an error in the future\n",
        "-c:32: DeprecationWarning: using a non-integer number instead of an integer will result in an error in the future\n",
        "-c:32: DeprecationWarning: using a non-integer number instead of an integer will result in an error in the future\n"
       ]
      },
      {
       "output_type": "stream",
       "stream": "stderr",
       "text": [
        "-c:32: DeprecationWarning: using a non-integer number instead of an integer will result in an error in the future\n",
        "-c:32: DeprecationWarning: using a non-integer number instead of an integer will result in an error in the future\n"
       ]
      }
     ],
     "prompt_number": 25
    },
    {
     "cell_type": "code",
     "collapsed": false,
     "input": [],
     "language": "python",
     "metadata": {},
     "outputs": []
    },
    {
     "cell_type": "code",
     "collapsed": false,
     "input": [],
     "language": "python",
     "metadata": {},
     "outputs": [
      {
       "output_type": "stream",
       "stream": "stdout",
       "text": [
        "[ 0.01724504  0.01017057  0.00593386  0.00369009  0.00274379  0.00256591\n",
        "  0.00278631  0.0031691   0.00357973  0.00395154  0.00425806  0.00449376\n",
        "  0.00466359  0.00477935  0.00486002  0.00493294  0.00503382  0.00520456\n",
        "  0.00548875  0.005926    0.00654583  0.00736232  0.00837005  0.00954175\n",
        "  0.01082767  0.01215712  0.01344216  0.01458398  0.01548206  0.01604555\n",
        "  0.01620595  0.015929    0.01522328  0.01414326  0.01278499  0.01127416\n",
        "  0.0097481   0.00833493  0.00713427  0.00620389  0.00555566  0.00516187\n",
        "  0.00497029  0.0049237   0.00497821  0.0051146   0.00533854  0.00566935\n",
        "  0.00612012  0.00667636  0.00728188  0.00784066  0.00824047  0.00839913\n",
        "  0.00832804  0.00820199  0.00842025  0.00964295  0.01278967  0.01899275\n",
        "  0.02950617  0.04557911  0.0683108   0.09850751  0.13656319  0.182382\n",
        "  0.23535451  0.29439098  0.35800647  0.42444535  0.4918278   0.55829947\n",
        "  0.62216662  0.68200304  0.73672034  0.78559917  0.82828382  0.86474717\n",
        "  0.89523455  0.92019662  0.94021971  0.9559612   0.96809452  0.97726672\n",
        "  0.98406902  0.98901942  0.9925556   0.99503549  0.99674324  0.99789827\n",
        "  0.99866564  0.99916652  0.99948777  0.99969026  0.99981571  0.9998921\n",
        "  0.99993783  0.99996475  0.99998033  0.9999892 ]\n"
       ]
      }
     ],
     "prompt_number": 23
    },
    {
     "cell_type": "code",
     "collapsed": false,
     "input": [],
     "language": "python",
     "metadata": {},
     "outputs": []
    }
   ],
   "metadata": {}
  }
 ]
}