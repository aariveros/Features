{
 "metadata": {
  "name": ""
 },
 "nbformat": 3,
 "nbformat_minor": 0,
 "worksheets": [
  {
   "cells": [
    {
     "cell_type": "code",
     "collapsed": false,
     "input": [
      "import lightcurves.lc_utils as lu\n",
      "import matplotlib.pyplot as plt\n",
      "import pandas as pd\n",
      "import numpy as np"
     ],
     "language": "python",
     "metadata": {},
     "outputs": [],
     "prompt_number": 1
    },
    {
     "cell_type": "markdown",
     "metadata": {},
     "source": [
      "Primero abro una curva de luz"
     ]
    },
    {
     "cell_type": "code",
     "collapsed": false,
     "input": [
      "# Ubicacion de las curvas\n",
      "# 0-1           Be_lc\n",
      "# 255-256       CEPH\n",
      "# 457-458       EB\n",
      "# 967-968       longperiod_lc\n",
      "# 1697-1698     microlensing_lc\n",
      "# 2862-2863     non_variables\n",
      "# 12527-12528   quasar_lc\n",
      "# 12645-12646   RRL\n",
      "\n",
      "paths = lu.get_lightcurve_paths()\n",
      "#a, b = 967, 968\n",
      "a, b = 457, 458\n",
      "azul = lu.open_lightcurve(paths[a])\n",
      "roja = lu.open_lightcurve(paths[b])\n",
      "\n",
      "#azul = lu.open_lightcurve('/Users/npcastro/Dropbox/lightcurves/quasar_lc/lc_5.4892.1971.B.mjd')\n",
      "#roja = lu.open_lightcurve('/Users/npcastro/Dropbox/lightcurves/quasar_lc/lc_5.4892.1971.R.mjd')\n",
      "curva = pd.concat([azul, roja], axis=1, keys=['azul', 'roja'], join='inner')"
     ],
     "language": "python",
     "metadata": {},
     "outputs": [],
     "prompt_number": 2
    },
    {
     "cell_type": "code",
     "collapsed": false,
     "input": [
      "t_obs, y_obs, err_obs, min_time, max_time = lu.prepare_lightcurve(azul, 100)\n",
      "\n",
      "t_obs = np.ravel(t_obs)\n",
      "y_obs = np.ravel(y_obs)\n",
      "err_obs = np.ravel(err_obs)"
     ],
     "language": "python",
     "metadata": {},
     "outputs": [],
     "prompt_number": 3
    },
    {
     "cell_type": "heading",
     "level": 3,
     "metadata": {},
     "source": [
      "Gaussian Process"
     ]
    },
    {
     "cell_type": "code",
     "collapsed": false,
     "input": [
      "import george\n",
      "from george import kernels\n",
      "from model import *\n",
      "\n",
      "print(\"Fitting GP\")\n",
      "data = (t_obs, y_obs, err_obs)\n",
      "\n",
      "# parameters = [m, b, tau, l, sigma]\n",
      "\n",
      "initial = [0.0, 0.0, -1.0, 0.1, 0.4]\n",
      "sampler = fit_gp(initial, data)"
     ],
     "language": "python",
     "metadata": {},
     "outputs": [
      {
       "output_type": "stream",
       "stream": "stdout",
       "text": [
        "Fitting GP\n",
        "Running burn-in\n",
        "Running second burn-in"
       ]
      },
      {
       "output_type": "stream",
       "stream": "stdout",
       "text": [
        "\n",
        "Running production"
       ]
      },
      {
       "output_type": "stream",
       "stream": "stdout",
       "text": [
        "\n"
       ]
      }
     ],
     "prompt_number": 4
    },
    {
     "cell_type": "markdown",
     "metadata": {},
     "source": [
      "Sampleo una curva del GP"
     ]
    },
    {
     "cell_type": "code",
     "collapsed": false,
     "input": [
      "samples = sampler.flatchain\n",
      "\n",
      "# Lugares donde voy a samplear del GP\n",
      "x = t_obs\n",
      "\n",
      "# Elijo un set de par\u00e1metros del mcmc sampleado\n",
      "s = np.percentile(samples, 50, axis=0)\n",
      "\n",
      "# Ajusto el GP sobre los datos?\n",
      "gp = george.GP(np.exp(s[0]) * kernels.Matern32Kernel(np.exp(s[1])))\n",
      "gp.compute(t_obs, err_obs)\n",
      "\n",
      "# Sampleo del GP en las mismas posiciones donde existen observaciones\n",
      "#m = gp.sample_conditional(y_obs - model(s[2:], t_obs), x) + model(s[2:], x)\n",
      "(m, cov) = gp.predict(y_obs - model(s[2:], t_obs), x) \n",
      "m = m + model(s[2:], x)\n",
      "\n",
      "# Grafico los puntos originales y los sampleados\n",
      "plt.errorbar(t_obs, y_obs, yerr=err_obs, fmt=\".r\", capsize=0)\n",
      "plt.plot(x, m, \".b\")\n",
      "\n",
      "plt.show()"
     ],
     "language": "python",
     "metadata": {},
     "outputs": [
      {
       "ename": "TypeError",
       "evalue": "predict() got an unexpected keyword argument 'mean_only'",
       "output_type": "pyerr",
       "traceback": [
        "\u001b[0;31m---------------------------------------------------------------------------\u001b[0m\n\u001b[0;31mTypeError\u001b[0m                                 Traceback (most recent call last)",
        "\u001b[0;32m<ipython-input-9-1da5745b1c88>\u001b[0m in \u001b[0;36m<module>\u001b[0;34m()\u001b[0m\n\u001b[1;32m     13\u001b[0m \u001b[0;31m# Sampleo del GP en las mismas posiciones donde existen observaciones\u001b[0m\u001b[0;34m\u001b[0m\u001b[0;34m\u001b[0m\u001b[0m\n\u001b[1;32m     14\u001b[0m \u001b[0;31m#m = gp.sample_conditional(y_obs - model(s[2:], t_obs), x) + model(s[2:], x)\u001b[0m\u001b[0;34m\u001b[0m\u001b[0;34m\u001b[0m\u001b[0m\n\u001b[0;32m---> 15\u001b[0;31m \u001b[0mm\u001b[0m \u001b[0;34m=\u001b[0m \u001b[0mgp\u001b[0m\u001b[0;34m.\u001b[0m\u001b[0mpredict\u001b[0m\u001b[0;34m(\u001b[0m\u001b[0my_obs\u001b[0m \u001b[0;34m-\u001b[0m \u001b[0mmodel\u001b[0m\u001b[0;34m(\u001b[0m\u001b[0ms\u001b[0m\u001b[0;34m[\u001b[0m\u001b[0;36m2\u001b[0m\u001b[0;34m:\u001b[0m\u001b[0;34m]\u001b[0m\u001b[0;34m,\u001b[0m \u001b[0mt_obs\u001b[0m\u001b[0;34m)\u001b[0m\u001b[0;34m,\u001b[0m \u001b[0mx\u001b[0m\u001b[0;34m,\u001b[0m \u001b[0mmean_only\u001b[0m\u001b[0;34m=\u001b[0m\u001b[0mTrue\u001b[0m\u001b[0;34m)\u001b[0m \u001b[0;34m+\u001b[0m \u001b[0mmodel\u001b[0m\u001b[0;34m(\u001b[0m\u001b[0ms\u001b[0m\u001b[0;34m[\u001b[0m\u001b[0;36m2\u001b[0m\u001b[0;34m:\u001b[0m\u001b[0;34m]\u001b[0m\u001b[0;34m,\u001b[0m \u001b[0mx\u001b[0m\u001b[0;34m)\u001b[0m\u001b[0;34m\u001b[0m\u001b[0m\n\u001b[0m\u001b[1;32m     16\u001b[0m \u001b[0;34m\u001b[0m\u001b[0m\n\u001b[1;32m     17\u001b[0m \u001b[0;31m# Grafico los puntos originales y los sampleados\u001b[0m\u001b[0;34m\u001b[0m\u001b[0;34m\u001b[0m\u001b[0m\n",
        "\u001b[0;31mTypeError\u001b[0m: predict() got an unexpected keyword argument 'mean_only'"
       ]
      }
     ],
     "prompt_number": 9
    },
    {
     "cell_type": "markdown",
     "metadata": {},
     "source": [
      "Calculo features para los dos grupos de puntos"
     ]
    },
    {
     "cell_type": "code",
     "collapsed": false,
     "input": [
      "import os, sys\n",
      "lib_path = os.path.abspath('../time-series-feats')\n",
      "sys.path.append(lib_path)\n",
      "\n",
      "from Feature import FeatureSpace"
     ],
     "language": "python",
     "metadata": {},
     "outputs": [],
     "prompt_number": 125
    },
    {
     "cell_type": "code",
     "collapsed": false,
     "input": [
      "lista = ['Amplitude', 'Beyond1Std', 'Con', 'MaxSlope', 'MedianAbsDev', 'MedianBRP', 'PairSlopeTrend', 'Rcs', 'Skew', 'SmallKurtosis', 'Std', 'StestonK', 'VariabilityIndex', 'meanvariance']\n",
      "\n",
      "a = FeatureSpace(featureList=lista, Beyond1Std=err_obs, MaxSlope=t_obs)\n",
      "print a.featureList"
     ],
     "language": "python",
     "metadata": {},
     "outputs": [
      {
       "output_type": "stream",
       "stream": "stdout",
       "text": [
        "['Amplitude', 'Beyond1Std', 'Con', 'MaxSlope', 'MedianAbsDev', 'MedianBRP', 'PairSlopeTrend', 'Rcs', 'Skew', 'SmallKurtosis', 'Std', 'StestonK', 'VariabilityIndex', 'meanvariance']\n"
       ]
      }
     ],
     "prompt_number": 126
    },
    {
     "cell_type": "code",
     "collapsed": false,
     "input": [
      "# Curva real\n",
      "a = a.calculateFeature(y_obs)\n",
      "real_values = np.array(a.result(method=''))\n",
      "\n",
      "a = a.calculateFeature(m)\n",
      "model_values = np.array(a.result(method=''))\n",
      "\n",
      "percentage = (abs(real_values - model_values) / real_values) * 100\n",
      "\n",
      "print percentage"
     ],
     "language": "python",
     "metadata": {},
     "outputs": [
      {
       "output_type": "stream",
       "stream": "stdout",
       "text": [
        "[  74.75534371  107.14285714           nan   99.14354189   17.67381056\n",
        "   50.61728395  200.          188.52971363   87.33496901  100.47225416\n",
        "   62.65215677   40.01615489   17.00345606  110.29679195]\n"
       ]
      }
     ],
     "prompt_number": 127
    },
    {
     "cell_type": "code",
     "collapsed": false,
     "input": [
      "print real_values.tolist()\n",
      "print model_values.tolist()"
     ],
     "language": "python",
     "metadata": {},
     "outputs": [
      {
       "output_type": "stream",
       "stream": "stdout",
       "text": [
        "[3.9687442943598987, 0.14, 0.0, 5642.234917174844, 0.2628409273181811, 0.81, 0.1, 0.1369713000889813, 4.0986416442764515, 22.53705858511133, 1.1164288289735782, 0.5777955286200581, 1.1612180200429465, 29.70905558720112]\n",
        "[1.0018958562548215, 0.29, 0.0, 48.32337864018469, 0.3092949348963458, 0.4, -0.1, 0.395202899900111, 0.5190942344148182, -0.10643219623166145, 0.4169620888505044, 0.809007082299949, 0.9637708242514714, -3.0590796443776918]\n"
       ]
      }
     ],
     "prompt_number": 128
    },
    {
     "cell_type": "code",
     "collapsed": false,
     "input": [
      "import pandas as pd\n",
      "df = {}\n",
      "\n",
      "for i in xrange(len(percentage)):\n",
      "    df[a.featureList[i]] = []\n",
      "\n",
      "for i in xrange(len(percentage)):\n",
      "    df[a.featureList[i]].append(percentage[i])"
     ],
     "language": "python",
     "metadata": {},
     "outputs": [],
     "prompt_number": 129
    },
    {
     "cell_type": "code",
     "collapsed": false,
     "input": [
      "df"
     ],
     "language": "python",
     "metadata": {},
     "outputs": [
      {
       "metadata": {},
       "output_type": "pyout",
       "prompt_number": 130,
       "text": [
        "{'Amplitude': [74.755343707110441],\n",
        " 'Beyond1Std': [107.14285714285711],\n",
        " 'Con': [nan],\n",
        " 'MaxSlope': [99.143541888107336],\n",
        " 'MedianAbsDev': [17.673810563729283],\n",
        " 'MedianBRP': [50.617283950617285],\n",
        " 'PairSlopeTrend': [200.0],\n",
        " 'Rcs': [188.52971362860208],\n",
        " 'Skew': [87.334969010044887],\n",
        " 'SmallKurtosis': [100.47225415787833],\n",
        " 'Std': [62.652156767229783],\n",
        " 'StestonK': [40.016154889964369],\n",
        " 'VariabilityIndex': [17.003456059368823],\n",
        " 'meanvariance': [110.29679195085409]}"
       ]
      }
     ],
     "prompt_number": 130
    },
    {
     "cell_type": "code",
     "collapsed": false,
     "input": [],
     "language": "python",
     "metadata": {},
     "outputs": [],
     "prompt_number": 130
    }
   ],
   "metadata": {}
  }
 ]
}