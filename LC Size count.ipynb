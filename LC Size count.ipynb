{
 "metadata": {
  "name": "",
  "signature": "sha256:7672f2b30262983205b7bb4765045b50cb6ced8c40936ffc5d60cf8eb4c65bbd"
 },
 "nbformat": 3,
 "nbformat_minor": 0,
 "worksheets": [
  {
   "cells": [
    {
     "cell_type": "code",
     "collapsed": false,
     "input": [
      "import lightcurves.lc_utils as lu\n",
      "import pandas as pd\n",
      "import numpy as np"
     ],
     "language": "python",
     "metadata": {},
     "outputs": [],
     "prompt_number": 2
    },
    {
     "cell_type": "markdown",
     "metadata": {},
     "source": [
      "Primero abro una curva de ejemplo y la grafico"
     ]
    },
    {
     "cell_type": "code",
     "collapsed": false,
     "input": [
      "def has_both_bands(lc_path, all_paths):\n",
      "    \"\"\"\n",
      "    lc_path: path de una curva\n",
      "    all_paths: paths de todas las curvas\n",
      "    \"\"\"\n",
      "    \n",
      "    if not 'B.mjd' in lc_path:\n",
      "        return False\n",
      "    \n",
      "    red = lc_path.replace('B.mjd', 'R.mjd')\n",
      "    \n",
      "    if not red in all_paths:\n",
      "        return False\n",
      "    return True"
     ],
     "language": "python",
     "metadata": {},
     "outputs": [],
     "prompt_number": 22
    },
    {
     "cell_type": "code",
     "collapsed": false,
     "input": [
      "# Ubicacion de las curvas\n",
      "# 0-1           Be_lc\n",
      "# 255-256       CEPH\n",
      "# 457-458       EB\n",
      "# 967-968       longperiod_lc\n",
      "# 1697-1698     microlensing_lc\n",
      "# 2862-2863     non_variables\n",
      "# 12527-12528   quasar_lc\n",
      "# 12645-12646   RRL\n",
      "\n",
      "paths = lu.get_lightcurve_paths()\n",
      "\n",
      "indice = []\n",
      "azules_length = []\n",
      "rojas_length = []\n",
      "ambas_length = []\n",
      "\n",
      "for i in range(len(paths)):\n",
      "    \n",
      "    if not has_both_bands(paths[i], paths):\n",
      "        continue\n",
      "    \n",
      "    print i\n",
      "    \n",
      "    a, b = i, i+1\n",
      "    \n",
      "    azul = lu.open_lightcurve(paths[a])\n",
      "    roja = lu.open_lightcurve(paths[b])\n",
      "    curva = pd.concat([azul, roja], axis=1, keys=['azul', 'roja'], join='inner')\n",
      "    \n",
      "    indice.append(i)\n",
      "    azules_length.append( len(azul.index) )\n",
      "    rojas_length.append( len(roja.index) )\n",
      "    ambas_length.append( len(curva.index) )"
     ],
     "language": "python",
     "metadata": {},
     "outputs": [
      {
       "output_type": "stream",
       "stream": "stdout",
       "text": [
        "0\n",
        "2\n",
        "4\n",
        "6\n",
        "8\n",
        "10\n",
        "12"
       ]
      },
      {
       "output_type": "stream",
       "stream": "stdout",
       "text": [
        "\n",
        "14\n",
        "16\n",
        "18\n",
        "20\n",
        "22"
       ]
      },
      {
       "output_type": "stream",
       "stream": "stdout",
       "text": [
        "\n",
        "24\n",
        "26\n",
        "28\n",
        "30"
       ]
      },
      {
       "output_type": "stream",
       "stream": "stdout",
       "text": [
        "\n",
        "32\n",
        "34\n",
        "36"
       ]
      },
      {
       "output_type": "stream",
       "stream": "stdout",
       "text": [
        "\n",
        "38\n",
        "40\n",
        "42\n",
        "44"
       ]
      },
      {
       "output_type": "stream",
       "stream": "stdout",
       "text": [
        "\n",
        "46\n",
        "48\n",
        "50\n",
        "52"
       ]
      },
      {
       "output_type": "stream",
       "stream": "stdout",
       "text": [
        "\n",
        "54\n",
        "56\n",
        "58\n",
        "60"
       ]
      },
      {
       "output_type": "stream",
       "stream": "stdout",
       "text": [
        "\n",
        "62\n",
        "64\n",
        "66\n",
        "68"
       ]
      },
      {
       "output_type": "stream",
       "stream": "stdout",
       "text": [
        "\n",
        "70\n",
        "72\n",
        "74"
       ]
      },
      {
       "output_type": "stream",
       "stream": "stdout",
       "text": [
        "\n",
        "76\n",
        "78\n",
        "80"
       ]
      },
      {
       "output_type": "stream",
       "stream": "stdout",
       "text": [
        "\n",
        "82\n",
        "84\n",
        "86\n",
        "88"
       ]
      },
      {
       "output_type": "stream",
       "stream": "stdout",
       "text": [
        "\n",
        "90\n",
        "92\n",
        "94"
       ]
      },
      {
       "output_type": "stream",
       "stream": "stdout",
       "text": [
        "\n",
        "96\n",
        "98\n",
        "100\n",
        "102"
       ]
      },
      {
       "output_type": "stream",
       "stream": "stdout",
       "text": [
        "\n",
        "104\n",
        "106"
       ]
      },
      {
       "output_type": "stream",
       "stream": "stdout",
       "text": [
        "\n",
        "109\n",
        "111\n",
        "113"
       ]
      },
      {
       "output_type": "stream",
       "stream": "stdout",
       "text": [
        "\n",
        "115\n",
        "117\n",
        "119"
       ]
      },
      {
       "output_type": "stream",
       "stream": "stdout",
       "text": [
        "\n",
        "121\n",
        "123\n",
        "125"
       ]
      },
      {
       "output_type": "stream",
       "stream": "stdout",
       "text": [
        "\n",
        "127\n",
        "129\n",
        "131\n",
        "133"
       ]
      },
      {
       "output_type": "stream",
       "stream": "stdout",
       "text": [
        "\n",
        "135\n",
        "137\n",
        "139\n",
        "141\n",
        "143"
       ]
      },
      {
       "output_type": "stream",
       "stream": "stdout",
       "text": [
        "\n",
        "145\n",
        "147\n",
        "149\n",
        "151\n",
        "153"
       ]
      },
      {
       "output_type": "stream",
       "stream": "stdout",
       "text": [
        "\n",
        "155\n",
        "157\n",
        "159\n",
        "161\n",
        "163\n",
        "165"
       ]
      },
      {
       "output_type": "stream",
       "stream": "stdout",
       "text": [
        "\n",
        "167\n",
        "169\n",
        "171\n",
        "173"
       ]
      },
      {
       "output_type": "stream",
       "stream": "stdout",
       "text": [
        "\n",
        "175\n",
        "177\n",
        "179\n",
        "181\n",
        "183"
       ]
      },
      {
       "output_type": "stream",
       "stream": "stdout",
       "text": [
        "\n",
        "185\n",
        "187\n",
        "189\n",
        "191\n",
        "193"
       ]
      },
      {
       "output_type": "stream",
       "stream": "stdout",
       "text": [
        "\n",
        "195\n",
        "197\n",
        "199"
       ]
      },
      {
       "output_type": "stream",
       "stream": "stdout",
       "text": [
        "\n",
        "201\n",
        "203\n",
        "205\n",
        "207"
       ]
      },
      {
       "output_type": "stream",
       "stream": "stdout",
       "text": [
        "\n",
        "209\n",
        "211\n",
        "213\n",
        "215"
       ]
      },
      {
       "output_type": "stream",
       "stream": "stdout",
       "text": [
        "\n",
        "217\n",
        "219\n",
        "221\n",
        "223"
       ]
      },
      {
       "output_type": "stream",
       "stream": "stdout",
       "text": [
        "\n",
        "225\n",
        "227\n",
        "229"
       ]
      },
      {
       "output_type": "stream",
       "stream": "stdout",
       "text": [
        "\n",
        "231\n",
        "233\n",
        "235\n",
        "237"
       ]
      },
      {
       "output_type": "stream",
       "stream": "stdout",
       "text": [
        "\n",
        "239\n",
        "241\n",
        "243\n",
        "245"
       ]
      },
      {
       "output_type": "stream",
       "stream": "stdout",
       "text": [
        "\n",
        "247\n",
        "249\n",
        "251\n",
        "253"
       ]
      },
      {
       "output_type": "stream",
       "stream": "stdout",
       "text": [
        "\n",
        "255\n",
        "257\n",
        "259\n",
        "261"
       ]
      },
      {
       "output_type": "stream",
       "stream": "stdout",
       "text": [
        "\n",
        "263\n",
        "265\n",
        "267\n",
        "269"
       ]
      },
      {
       "output_type": "stream",
       "stream": "stdout",
       "text": [
        "\n",
        "271\n",
        "273\n",
        "275\n",
        "277"
       ]
      },
      {
       "output_type": "stream",
       "stream": "stdout",
       "text": [
        "\n",
        "279\n",
        "281\n",
        "283\n",
        "285"
       ]
      },
      {
       "output_type": "stream",
       "stream": "stdout",
       "text": [
        "\n",
        "287\n",
        "289\n",
        "291\n",
        "293\n",
        "295\n",
        "297"
       ]
      },
      {
       "output_type": "stream",
       "stream": "stdout",
       "text": [
        "\n",
        "299\n",
        "301\n",
        "303\n",
        "305\n",
        "307"
       ]
      },
      {
       "output_type": "stream",
       "stream": "stdout",
       "text": [
        "\n",
        "309\n",
        "311\n",
        "313\n",
        "315\n",
        "317"
       ]
      },
      {
       "output_type": "stream",
       "stream": "stdout",
       "text": [
        "\n",
        "319\n",
        "321\n",
        "323\n",
        "325\n",
        "327\n",
        "329"
       ]
      },
      {
       "output_type": "stream",
       "stream": "stdout",
       "text": [
        "\n",
        "331\n",
        "333\n",
        "335\n",
        "337"
       ]
      },
      {
       "output_type": "stream",
       "stream": "stdout",
       "text": [
        "\n",
        "339\n",
        "341\n",
        "343\n",
        "345\n",
        "347"
       ]
      },
      {
       "output_type": "stream",
       "stream": "stdout",
       "text": [
        "\n",
        "349\n",
        "351\n",
        "353\n",
        "355"
       ]
      },
      {
       "output_type": "stream",
       "stream": "stdout",
       "text": [
        "\n",
        "357\n",
        "359\n",
        "361\n",
        "363\n",
        "365"
       ]
      },
      {
       "output_type": "stream",
       "stream": "stdout",
       "text": [
        "\n",
        "367\n",
        "369\n",
        "371\n",
        "373\n",
        "375"
       ]
      },
      {
       "output_type": "stream",
       "stream": "stdout",
       "text": [
        "\n",
        "377\n",
        "379\n",
        "381\n",
        "383"
       ]
      },
      {
       "output_type": "stream",
       "stream": "stdout",
       "text": [
        "\n",
        "385\n",
        "387\n",
        "389"
       ]
      },
      {
       "output_type": "stream",
       "stream": "stdout",
       "text": [
        "\n",
        "391\n",
        "393\n",
        "395\n",
        "397\n",
        "399"
       ]
      },
      {
       "output_type": "stream",
       "stream": "stdout",
       "text": [
        "\n",
        "401\n",
        "403\n",
        "405\n",
        "407\n",
        "409"
       ]
      },
      {
       "output_type": "stream",
       "stream": "stdout",
       "text": [
        "\n",
        "411\n",
        "413\n",
        "415\n",
        "417"
       ]
      },
      {
       "output_type": "stream",
       "stream": "stdout",
       "text": [
        "\n",
        "419\n",
        "421\n",
        "423\n",
        "425\n",
        "427"
       ]
      },
      {
       "output_type": "stream",
       "stream": "stdout",
       "text": [
        "\n",
        "429\n",
        "431\n",
        "433\n",
        "435\n",
        "437"
       ]
      },
      {
       "output_type": "stream",
       "stream": "stdout",
       "text": [
        "\n",
        "439\n",
        "441\n",
        "443\n",
        "445"
       ]
      },
      {
       "output_type": "stream",
       "stream": "stdout",
       "text": [
        "\n",
        "447\n",
        "449\n",
        "451\n",
        "453\n",
        "455"
       ]
      },
      {
       "output_type": "stream",
       "stream": "stdout",
       "text": [
        "\n",
        "457\n",
        "459\n",
        "461\n",
        "463\n",
        "465"
       ]
      },
      {
       "output_type": "stream",
       "stream": "stdout",
       "text": [
        "\n",
        "467\n",
        "469\n",
        "471\n",
        "473\n",
        "475"
       ]
      },
      {
       "output_type": "stream",
       "stream": "stdout",
       "text": [
        "\n",
        "477\n",
        "479\n",
        "481\n",
        "483\n",
        "485"
       ]
      },
      {
       "output_type": "stream",
       "stream": "stdout",
       "text": [
        "\n",
        "487\n",
        "489\n",
        "491\n",
        "493\n",
        "495\n",
        "497"
       ]
      },
      {
       "output_type": "stream",
       "stream": "stdout",
       "text": [
        "\n",
        "499\n",
        "501\n",
        "503\n",
        "505\n",
        "507\n",
        "509"
       ]
      },
      {
       "output_type": "stream",
       "stream": "stdout",
       "text": [
        "\n",
        "511\n",
        "513\n",
        "515\n",
        "517\n",
        "519"
       ]
      },
      {
       "output_type": "stream",
       "stream": "stdout",
       "text": [
        "\n",
        "521\n",
        "523\n",
        "525\n",
        "527\n",
        "529"
       ]
      },
      {
       "output_type": "stream",
       "stream": "stdout",
       "text": [
        "\n",
        "531\n",
        "533\n",
        "535\n",
        "537\n",
        "539"
       ]
      },
      {
       "output_type": "stream",
       "stream": "stdout",
       "text": [
        "\n",
        "541\n",
        "543\n",
        "545\n",
        "547\n",
        "549\n",
        "551"
       ]
      },
      {
       "output_type": "stream",
       "stream": "stdout",
       "text": [
        "\n",
        "553\n",
        "555\n",
        "557\n",
        "559\n",
        "561"
       ]
      },
      {
       "output_type": "stream",
       "stream": "stdout",
       "text": [
        "\n",
        "563\n",
        "565\n",
        "567\n",
        "569"
       ]
      },
      {
       "output_type": "stream",
       "stream": "stdout",
       "text": [
        "\n",
        "571\n",
        "573\n",
        "575\n",
        "577\n",
        "579"
       ]
      },
      {
       "output_type": "stream",
       "stream": "stdout",
       "text": [
        "\n",
        "581\n",
        "583\n",
        "585\n",
        "587\n",
        "589"
       ]
      },
      {
       "output_type": "stream",
       "stream": "stdout",
       "text": [
        "\n",
        "591\n",
        "593\n",
        "595\n",
        "597\n",
        "599"
       ]
      },
      {
       "output_type": "stream",
       "stream": "stdout",
       "text": [
        "\n",
        "601\n",
        "603\n",
        "605\n",
        "607\n",
        "609"
       ]
      },
      {
       "output_type": "stream",
       "stream": "stdout",
       "text": [
        "\n",
        "611\n",
        "613\n",
        "615\n",
        "617\n",
        "619"
       ]
      },
      {
       "output_type": "stream",
       "stream": "stdout",
       "text": [
        "\n",
        "621\n",
        "623\n",
        "625\n",
        "627\n",
        "629"
       ]
      },
      {
       "output_type": "stream",
       "stream": "stdout",
       "text": [
        "\n",
        "631\n",
        "633\n",
        "635\n",
        "637\n",
        "639\n",
        "641"
       ]
      },
      {
       "output_type": "stream",
       "stream": "stdout",
       "text": [
        "\n",
        "643\n",
        "645\n",
        "647\n",
        "649\n",
        "651\n",
        "653"
       ]
      },
      {
       "output_type": "stream",
       "stream": "stdout",
       "text": [
        "\n",
        "655\n",
        "657\n",
        "659\n",
        "661\n",
        "663\n",
        "665"
       ]
      },
      {
       "output_type": "stream",
       "stream": "stdout",
       "text": [
        "\n",
        "667\n",
        "669\n",
        "671\n",
        "673\n",
        "675"
       ]
      },
      {
       "output_type": "stream",
       "stream": "stdout",
       "text": [
        "\n",
        "677\n",
        "679\n",
        "681\n",
        "683\n",
        "685"
       ]
      },
      {
       "output_type": "stream",
       "stream": "stdout",
       "text": [
        "\n",
        "687\n",
        "689\n",
        "691\n",
        "693"
       ]
      },
      {
       "output_type": "stream",
       "stream": "stdout",
       "text": [
        "\n",
        "695\n",
        "697\n",
        "699\n",
        "701\n",
        "703\n",
        "705"
       ]
      },
      {
       "output_type": "stream",
       "stream": "stdout",
       "text": [
        "\n",
        "707\n",
        "709\n",
        "711\n",
        "713\n",
        "715"
       ]
      },
      {
       "output_type": "stream",
       "stream": "stdout",
       "text": [
        "\n",
        "717\n",
        "719\n",
        "721\n",
        "723\n",
        "725"
       ]
      },
      {
       "output_type": "stream",
       "stream": "stdout",
       "text": [
        "\n",
        "727\n",
        "729\n",
        "731"
       ]
      },
      {
       "output_type": "stream",
       "stream": "stdout",
       "text": [
        "\n",
        "733\n",
        "735\n",
        "737\n",
        "739"
       ]
      },
      {
       "output_type": "stream",
       "stream": "stdout",
       "text": [
        "\n",
        "741\n",
        "743\n",
        "745"
       ]
      },
      {
       "output_type": "stream",
       "stream": "stdout",
       "text": [
        "\n",
        "747\n",
        "749\n",
        "751\n",
        "753"
       ]
      },
      {
       "output_type": "stream",
       "stream": "stdout",
       "text": [
        "\n",
        "755\n",
        "757\n",
        "759\n",
        "761"
       ]
      },
      {
       "output_type": "stream",
       "stream": "stdout",
       "text": [
        "\n",
        "763\n",
        "765\n",
        "767\n",
        "769\n",
        "771"
       ]
      },
      {
       "output_type": "stream",
       "stream": "stdout",
       "text": [
        "\n",
        "773\n",
        "775\n",
        "777\n",
        "779\n",
        "781\n",
        "783\n",
        "785"
       ]
      },
      {
       "output_type": "stream",
       "stream": "stdout",
       "text": [
        "\n",
        "787\n",
        "789\n",
        "791\n",
        "793\n",
        "795\n",
        "797\n",
        "799\n",
        "801"
       ]
      },
      {
       "output_type": "stream",
       "stream": "stdout",
       "text": [
        "\n",
        "803\n",
        "805\n",
        "807\n",
        "809\n",
        "811\n",
        "813\n",
        "815"
       ]
      },
      {
       "output_type": "stream",
       "stream": "stdout",
       "text": [
        "\n",
        "817\n",
        "819\n",
        "821\n",
        "823\n",
        "825\n",
        "827\n",
        "829"
       ]
      },
      {
       "output_type": "stream",
       "stream": "stdout",
       "text": [
        "\n",
        "831\n",
        "833\n",
        "835\n",
        "837\n",
        "839\n",
        "841\n",
        "843\n",
        "845"
       ]
      },
      {
       "output_type": "stream",
       "stream": "stdout",
       "text": [
        "\n",
        "847\n",
        "849\n",
        "851\n",
        "853\n",
        "855\n",
        "857\n",
        "859\n",
        "861"
       ]
      },
      {
       "output_type": "stream",
       "stream": "stdout",
       "text": [
        "\n",
        "863\n",
        "865\n",
        "867\n",
        "869\n",
        "871\n",
        "873\n",
        "875\n",
        "877"
       ]
      },
      {
       "output_type": "stream",
       "stream": "stdout",
       "text": [
        "\n",
        "879\n",
        "881\n",
        "883\n",
        "885\n",
        "887\n",
        "889\n",
        "891"
       ]
      },
      {
       "output_type": "stream",
       "stream": "stdout",
       "text": [
        "\n",
        "893\n",
        "895\n",
        "897\n",
        "899\n",
        "901\n",
        "903\n",
        "905"
       ]
      },
      {
       "output_type": "stream",
       "stream": "stdout",
       "text": [
        "\n",
        "907\n",
        "909\n",
        "911\n",
        "913\n",
        "915\n",
        "917\n",
        "919"
       ]
      },
      {
       "output_type": "stream",
       "stream": "stdout",
       "text": [
        "\n",
        "921\n",
        "923\n",
        "925\n",
        "927"
       ]
      },
      {
       "output_type": "stream",
       "stream": "stdout",
       "text": [
        "\n",
        "929\n",
        "931\n",
        "933\n",
        "935"
       ]
      },
      {
       "output_type": "stream",
       "stream": "stdout",
       "text": [
        "\n",
        "937\n",
        "939\n",
        "941\n",
        "943\n",
        "945"
       ]
      },
      {
       "output_type": "stream",
       "stream": "stdout",
       "text": [
        "\n",
        "947\n",
        "949\n",
        "951\n",
        "953\n",
        "955\n",
        "957"
       ]
      },
      {
       "output_type": "stream",
       "stream": "stdout",
       "text": [
        "\n",
        "959\n",
        "961\n",
        "963\n",
        "965"
       ]
      },
      {
       "output_type": "stream",
       "stream": "stdout",
       "text": [
        "\n",
        "967\n",
        "969\n",
        "971\n",
        "973\n",
        "975\n",
        "977"
       ]
      },
      {
       "output_type": "stream",
       "stream": "stdout",
       "text": [
        "\n",
        "979\n",
        "981\n",
        "983\n",
        "985"
       ]
      },
      {
       "output_type": "stream",
       "stream": "stdout",
       "text": [
        "\n",
        "987\n",
        "989\n",
        "991\n",
        "993"
       ]
      },
      {
       "output_type": "stream",
       "stream": "stdout",
       "text": [
        "\n",
        "995\n",
        "997\n",
        "999\n",
        "1001"
       ]
      },
      {
       "output_type": "stream",
       "stream": "stdout",
       "text": [
        "\n",
        "1003\n",
        "1005\n",
        "1007\n",
        "1009"
       ]
      },
      {
       "output_type": "stream",
       "stream": "stdout",
       "text": [
        "\n",
        "1011\n",
        "1013\n",
        "1015\n",
        "1017\n",
        "1019\n",
        "1021\n",
        "1023\n",
        "1025"
       ]
      },
      {
       "output_type": "stream",
       "stream": "stdout",
       "text": [
        "\n",
        "1027\n",
        "1029\n",
        "1031\n",
        "1033\n",
        "1035\n",
        "1037\n",
        "1039\n",
        "1041"
       ]
      },
      {
       "output_type": "stream",
       "stream": "stdout",
       "text": [
        "\n",
        "1043\n",
        "1045\n",
        "1047\n",
        "1049\n",
        "1051\n",
        "1053\n",
        "1055\n",
        "1057"
       ]
      },
      {
       "output_type": "stream",
       "stream": "stdout",
       "text": [
        "\n",
        "1059\n",
        "1061\n",
        "1063\n",
        "1065\n",
        "1067\n",
        "1069\n",
        "1071"
       ]
      },
      {
       "output_type": "stream",
       "stream": "stdout",
       "text": [
        "\n",
        "1073\n",
        "1075\n",
        "1077\n",
        "1079\n",
        "1081\n",
        "1083\n",
        "1085"
       ]
      },
      {
       "output_type": "stream",
       "stream": "stdout",
       "text": [
        "\n",
        "1087\n",
        "1089\n",
        "1091\n",
        "1093\n",
        "1095\n",
        "1097\n",
        "1099\n",
        "1101"
       ]
      },
      {
       "output_type": "stream",
       "stream": "stdout",
       "text": [
        "\n",
        "1103\n",
        "1105\n",
        "1107\n",
        "1109\n",
        "1111\n",
        "1113\n",
        "1115\n",
        "1117"
       ]
      },
      {
       "output_type": "stream",
       "stream": "stdout",
       "text": [
        "\n",
        "1119\n",
        "1121\n",
        "1123\n",
        "1125\n",
        "1127\n",
        "1129\n",
        "1131\n",
        "1133"
       ]
      },
      {
       "output_type": "stream",
       "stream": "stdout",
       "text": [
        "\n",
        "1135\n",
        "1137\n",
        "1139\n",
        "1141\n",
        "1143\n",
        "1145\n",
        "1147\n",
        "1149"
       ]
      },
      {
       "output_type": "stream",
       "stream": "stdout",
       "text": [
        "\n",
        "1151\n",
        "1153\n",
        "1155\n",
        "1157\n",
        "1159\n",
        "1161\n",
        "1163"
       ]
      },
      {
       "output_type": "stream",
       "stream": "stdout",
       "text": [
        "\n",
        "1165\n",
        "1167\n",
        "1169\n",
        "1171\n",
        "1173\n",
        "1175\n",
        "1177\n",
        "1179"
       ]
      },
      {
       "output_type": "stream",
       "stream": "stdout",
       "text": [
        "\n",
        "1181\n",
        "1183\n",
        "1185\n",
        "1187\n",
        "1189\n",
        "1191\n",
        "1193\n",
        "1195"
       ]
      },
      {
       "output_type": "stream",
       "stream": "stdout",
       "text": [
        "\n",
        "1197\n",
        "1199\n",
        "1201\n",
        "1203\n",
        "1205\n",
        "1207\n",
        "1209\n",
        "1211"
       ]
      },
      {
       "output_type": "stream",
       "stream": "stdout",
       "text": [
        "\n",
        "1213\n",
        "1215\n",
        "1217\n",
        "1219\n",
        "1221\n",
        "1223\n",
        "1225"
       ]
      },
      {
       "output_type": "stream",
       "stream": "stdout",
       "text": [
        "\n",
        "1227\n",
        "1229\n",
        "1231\n",
        "1233\n",
        "1235\n",
        "1237\n",
        "1239\n",
        "1241"
       ]
      },
      {
       "output_type": "stream",
       "stream": "stdout",
       "text": [
        "\n",
        "1243\n",
        "1245\n",
        "1247\n",
        "1249\n",
        "1251\n",
        "1253\n",
        "1255\n",
        "1257"
       ]
      },
      {
       "output_type": "stream",
       "stream": "stdout",
       "text": [
        "\n",
        "1259\n",
        "1261\n",
        "1263\n",
        "1265\n",
        "1267\n",
        "1269\n",
        "1271\n",
        "1273"
       ]
      },
      {
       "output_type": "stream",
       "stream": "stdout",
       "text": [
        "\n",
        "1275\n",
        "1277\n",
        "1279\n",
        "1281\n",
        "1283\n",
        "1285\n",
        "1287\n",
        "1289"
       ]
      },
      {
       "output_type": "stream",
       "stream": "stdout",
       "text": [
        "\n",
        "1291\n",
        "1293\n",
        "1295\n",
        "1297\n",
        "1299\n",
        "1301\n",
        "1303\n",
        "1305"
       ]
      },
      {
       "output_type": "stream",
       "stream": "stdout",
       "text": [
        "\n",
        "1307\n",
        "1309\n",
        "1311\n",
        "1313\n",
        "1315\n",
        "1317"
       ]
      },
      {
       "output_type": "stream",
       "stream": "stdout",
       "text": [
        "\n",
        "1319\n",
        "1321\n",
        "1323\n",
        "1325\n",
        "1327\n",
        "1329\n",
        "1331\n",
        "1333"
       ]
      },
      {
       "output_type": "stream",
       "stream": "stdout",
       "text": [
        "\n",
        "1335\n",
        "1337\n",
        "1339\n",
        "1341\n",
        "1343\n",
        "1345\n",
        "1347"
       ]
      },
      {
       "output_type": "stream",
       "stream": "stdout",
       "text": [
        "\n",
        "1349\n",
        "1351\n",
        "1353\n",
        "1355\n",
        "1357\n",
        "1359\n",
        "1361\n",
        "1363"
       ]
      },
      {
       "output_type": "stream",
       "stream": "stdout",
       "text": [
        "\n",
        "1365\n",
        "1367\n",
        "1369\n",
        "1371\n",
        "1373\n",
        "1375\n",
        "1377\n",
        "1379"
       ]
      },
      {
       "output_type": "stream",
       "stream": "stdout",
       "text": [
        "\n",
        "1381\n",
        "1383\n",
        "1385\n",
        "1387\n",
        "1389\n",
        "1391\n",
        "1393\n",
        "1395"
       ]
      },
      {
       "output_type": "stream",
       "stream": "stdout",
       "text": [
        "\n",
        "1397\n",
        "1399\n",
        "1401\n",
        "1403\n",
        "1405\n",
        "1407\n",
        "1409\n",
        "1411"
       ]
      },
      {
       "output_type": "stream",
       "stream": "stdout",
       "text": [
        "\n",
        "1413\n",
        "1415\n",
        "1417\n",
        "1419\n",
        "1421\n",
        "1423\n",
        "1425\n",
        "1427"
       ]
      },
      {
       "output_type": "stream",
       "stream": "stdout",
       "text": [
        "\n",
        "1429\n",
        "1431\n",
        "1433\n",
        "1435\n",
        "1437\n",
        "1439\n",
        "1441\n",
        "1443"
       ]
      },
      {
       "output_type": "stream",
       "stream": "stdout",
       "text": [
        "\n",
        "1445\n",
        "1447\n",
        "1449\n",
        "1451\n",
        "1453\n",
        "1455\n",
        "1457\n",
        "1459"
       ]
      },
      {
       "output_type": "stream",
       "stream": "stdout",
       "text": [
        "\n",
        "1461\n",
        "1463\n",
        "1465\n",
        "1467\n",
        "1469\n",
        "1471\n",
        "1473\n",
        "1475"
       ]
      },
      {
       "output_type": "stream",
       "stream": "stdout",
       "text": [
        "\n",
        "1477\n",
        "1479\n",
        "1481\n",
        "1483\n",
        "1485\n",
        "1487\n",
        "1489"
       ]
      },
      {
       "output_type": "stream",
       "stream": "stdout",
       "text": [
        "\n",
        "1491\n",
        "1493\n",
        "1495\n",
        "1497\n",
        "1499\n",
        "1501\n",
        "1503\n",
        "1505"
       ]
      },
      {
       "output_type": "stream",
       "stream": "stdout",
       "text": [
        "\n",
        "1507\n",
        "1509\n",
        "1511\n",
        "1513\n",
        "1515\n",
        "1517\n",
        "1519\n",
        "1521"
       ]
      },
      {
       "output_type": "stream",
       "stream": "stdout",
       "text": [
        "\n",
        "1523\n",
        "1525\n",
        "1527\n",
        "1529\n",
        "1531\n",
        "1533\n",
        "1535"
       ]
      },
      {
       "output_type": "stream",
       "stream": "stdout",
       "text": [
        "\n",
        "1537\n",
        "1539\n",
        "1541\n",
        "1543\n",
        "1545\n",
        "1547\n",
        "1549"
       ]
      },
      {
       "output_type": "stream",
       "stream": "stdout",
       "text": [
        "\n",
        "1551\n",
        "1553\n",
        "1555\n",
        "1557\n",
        "1559\n",
        "1561\n",
        "1563"
       ]
      },
      {
       "output_type": "stream",
       "stream": "stdout",
       "text": [
        "\n",
        "1565\n",
        "1567\n",
        "1569\n",
        "1571\n",
        "1573\n",
        "1575\n",
        "1577\n",
        "1579"
       ]
      },
      {
       "output_type": "stream",
       "stream": "stdout",
       "text": [
        "\n",
        "1581\n",
        "1583\n",
        "1585\n",
        "1587\n",
        "1589\n",
        "1591\n",
        "1593\n",
        "1595"
       ]
      },
      {
       "output_type": "stream",
       "stream": "stdout",
       "text": [
        "\n",
        "1597\n",
        "1599\n",
        "1601\n",
        "1603\n",
        "1605\n",
        "1607\n",
        "1609\n",
        "1611"
       ]
      },
      {
       "output_type": "stream",
       "stream": "stdout",
       "text": [
        "\n",
        "1613\n",
        "1615\n",
        "1617\n",
        "1619\n",
        "1621\n",
        "1623\n",
        "1625\n",
        "1627"
       ]
      },
      {
       "output_type": "stream",
       "stream": "stdout",
       "text": [
        "\n",
        "1629\n",
        "1631\n",
        "1633\n",
        "1635\n",
        "1637\n",
        "1639\n",
        "1641\n",
        "1643"
       ]
      },
      {
       "output_type": "stream",
       "stream": "stdout",
       "text": [
        "\n",
        "1645\n",
        "1647\n",
        "1649\n",
        "1651\n",
        "1653\n",
        "1655\n",
        "1657\n",
        "1659"
       ]
      },
      {
       "output_type": "stream",
       "stream": "stdout",
       "text": [
        "\n",
        "1661\n",
        "1663\n",
        "1665\n",
        "1667\n",
        "1669\n",
        "1671\n",
        "1673"
       ]
      },
      {
       "output_type": "stream",
       "stream": "stdout",
       "text": [
        "\n",
        "1675\n",
        "1677\n",
        "1679\n",
        "1681\n",
        "1683\n",
        "1685\n",
        "1687"
       ]
      },
      {
       "output_type": "stream",
       "stream": "stdout",
       "text": [
        "\n",
        "1689\n",
        "1691\n",
        "1693\n",
        "1695\n",
        "1697\n",
        "1699\n",
        "1701"
       ]
      },
      {
       "output_type": "stream",
       "stream": "stdout",
       "text": [
        "\n",
        "1703\n",
        "1705\n",
        "1707\n",
        "1709\n",
        "1711\n",
        "1713\n",
        "1715\n",
        "1717"
       ]
      },
      {
       "output_type": "stream",
       "stream": "stdout",
       "text": [
        "\n",
        "1719\n",
        "1721\n",
        "1723\n",
        "1725\n",
        "1727\n",
        "1729\n",
        "1731\n",
        "1733\n",
        "1735"
       ]
      },
      {
       "output_type": "stream",
       "stream": "stdout",
       "text": [
        "\n",
        "1737\n",
        "1739\n",
        "1741\n",
        "1743\n",
        "1745\n",
        "1747\n",
        "1749\n",
        "1751\n",
        "1753"
       ]
      },
      {
       "output_type": "stream",
       "stream": "stdout",
       "text": [
        "\n",
        "1755\n",
        "1757\n",
        "1759\n",
        "1761\n",
        "1763\n",
        "1765\n",
        "1767\n",
        "1769\n",
        "1771"
       ]
      },
      {
       "output_type": "stream",
       "stream": "stdout",
       "text": [
        "\n",
        "1773\n",
        "1775\n",
        "1777\n",
        "1779\n",
        "1781\n",
        "1783\n",
        "1785\n",
        "1787\n",
        "1789"
       ]
      },
      {
       "output_type": "stream",
       "stream": "stdout",
       "text": [
        "\n",
        "1791\n",
        "1793\n",
        "1795\n",
        "1797\n",
        "1799\n",
        "1801\n",
        "1803\n",
        "1805\n",
        "1807"
       ]
      },
      {
       "output_type": "stream",
       "stream": "stdout",
       "text": [
        "\n",
        "1809\n",
        "1811\n",
        "1813\n",
        "1815\n",
        "1817\n",
        "1819\n",
        "1821"
       ]
      },
      {
       "output_type": "stream",
       "stream": "stdout",
       "text": [
        "\n",
        "1823\n",
        "1825\n",
        "1827\n",
        "1829\n",
        "1831\n",
        "1833\n",
        "1835"
       ]
      },
      {
       "output_type": "stream",
       "stream": "stdout",
       "text": [
        "\n",
        "1837\n",
        "1839\n",
        "1841\n",
        "1843\n",
        "1845\n",
        "1847\n",
        "1849"
       ]
      },
      {
       "output_type": "stream",
       "stream": "stdout",
       "text": [
        "\n",
        "1851\n",
        "1853\n",
        "1855\n",
        "1857\n",
        "1859\n",
        "1861\n",
        "1863"
       ]
      },
      {
       "output_type": "stream",
       "stream": "stdout",
       "text": [
        "\n",
        "1865\n",
        "1867\n",
        "1869\n",
        "1871\n",
        "1873\n",
        "1875\n",
        "1877\n",
        "1879\n",
        "1881"
       ]
      },
      {
       "output_type": "stream",
       "stream": "stdout",
       "text": [
        "\n",
        "1883\n",
        "1885\n",
        "1887\n",
        "1889\n",
        "1891\n",
        "1893\n",
        "1895\n",
        "1897"
       ]
      },
      {
       "output_type": "stream",
       "stream": "stdout",
       "text": [
        "\n",
        "1899\n",
        "1901\n",
        "1903\n",
        "1905\n",
        "1907\n",
        "1909\n",
        "1911\n",
        "1913\n",
        "1915"
       ]
      },
      {
       "output_type": "stream",
       "stream": "stdout",
       "text": [
        "\n",
        "1917\n",
        "1919\n",
        "1921\n",
        "1923\n",
        "1926\n",
        "1928\n",
        "1930"
       ]
      },
      {
       "output_type": "stream",
       "stream": "stdout",
       "text": [
        "\n",
        "1932\n",
        "1934\n",
        "1936\n",
        "1938\n",
        "1940"
       ]
      },
      {
       "output_type": "stream",
       "stream": "stdout",
       "text": [
        "\n",
        "1942\n",
        "1944\n",
        "1946"
       ]
      },
      {
       "output_type": "stream",
       "stream": "stdout",
       "text": [
        "\n",
        "1948\n",
        "1950\n",
        "1952\n",
        "1954"
       ]
      },
      {
       "output_type": "stream",
       "stream": "stdout",
       "text": [
        "\n",
        "1956\n",
        "1958\n",
        "1960\n",
        "1962"
       ]
      },
      {
       "output_type": "stream",
       "stream": "stdout",
       "text": [
        "\n",
        "1964\n",
        "1966\n",
        "1968"
       ]
      },
      {
       "output_type": "stream",
       "stream": "stdout",
       "text": [
        "\n",
        "1970\n",
        "1972\n",
        "1974\n",
        "1976"
       ]
      },
      {
       "output_type": "stream",
       "stream": "stdout",
       "text": [
        "\n",
        "1978\n",
        "1980\n",
        "1982"
       ]
      },
      {
       "output_type": "stream",
       "stream": "stdout",
       "text": [
        "\n",
        "1984\n",
        "1986\n",
        "1988\n",
        "1990\n",
        "1992"
       ]
      },
      {
       "output_type": "stream",
       "stream": "stdout",
       "text": [
        "\n",
        "1994\n",
        "1996\n",
        "1998\n",
        "2000"
       ]
      },
      {
       "output_type": "stream",
       "stream": "stdout",
       "text": [
        "\n",
        "2002\n",
        "2004\n",
        "2006\n",
        "2008\n",
        "2010"
       ]
      },
      {
       "output_type": "stream",
       "stream": "stdout",
       "text": [
        "\n",
        "2012\n",
        "2014\n",
        "2016\n",
        "2018"
       ]
      },
      {
       "output_type": "stream",
       "stream": "stdout",
       "text": [
        "\n",
        "2020\n",
        "2022\n",
        "2024\n",
        "2026"
       ]
      },
      {
       "output_type": "stream",
       "stream": "stdout",
       "text": [
        "\n",
        "2028\n",
        "2030\n",
        "2032\n",
        "2034\n",
        "2036"
       ]
      },
      {
       "output_type": "stream",
       "stream": "stdout",
       "text": [
        "\n",
        "2038\n",
        "2040\n",
        "2042\n",
        "2044\n",
        "2046\n",
        "2048"
       ]
      },
      {
       "output_type": "stream",
       "stream": "stdout",
       "text": [
        "\n",
        "2050\n",
        "2052\n",
        "2054\n",
        "2056\n",
        "2058"
       ]
      },
      {
       "output_type": "stream",
       "stream": "stdout",
       "text": [
        "\n",
        "2060\n",
        "2062\n",
        "2064\n",
        "2066\n",
        "2068"
       ]
      },
      {
       "output_type": "stream",
       "stream": "stdout",
       "text": [
        "\n",
        "2070\n",
        "2072\n",
        "2074\n",
        "2076\n",
        "2078\n",
        "2080"
       ]
      },
      {
       "output_type": "stream",
       "stream": "stdout",
       "text": [
        "\n",
        "2082\n",
        "2084\n",
        "2086\n",
        "2088\n",
        "2090\n",
        "2092"
       ]
      },
      {
       "output_type": "stream",
       "stream": "stdout",
       "text": [
        "\n",
        "2094\n",
        "2096\n",
        "2098\n",
        "2100\n",
        "2102\n",
        "2104\n",
        "2106"
       ]
      },
      {
       "output_type": "stream",
       "stream": "stdout",
       "text": [
        "\n",
        "2108\n",
        "2110\n",
        "2112\n",
        "2114\n",
        "2116\n",
        "2118"
       ]
      },
      {
       "output_type": "stream",
       "stream": "stdout",
       "text": [
        "\n",
        "2120\n",
        "2122\n",
        "2124\n",
        "2126\n",
        "2128\n",
        "2130\n",
        "2132"
       ]
      },
      {
       "output_type": "stream",
       "stream": "stdout",
       "text": [
        "\n",
        "2134\n",
        "2136\n",
        "2138\n",
        "2140\n",
        "2142\n",
        "2144\n",
        "2146\n",
        "2148"
       ]
      },
      {
       "output_type": "stream",
       "stream": "stdout",
       "text": [
        "\n",
        "2150\n",
        "2152\n",
        "2154\n",
        "2156\n",
        "2158\n",
        "2160"
       ]
      },
      {
       "output_type": "stream",
       "stream": "stdout",
       "text": [
        "\n",
        "2162\n",
        "2164\n",
        "2166\n",
        "2168\n",
        "2170\n",
        "2172\n",
        "2174"
       ]
      },
      {
       "output_type": "stream",
       "stream": "stdout",
       "text": [
        "\n",
        "2176\n",
        "2178\n",
        "2180\n",
        "2182"
       ]
      },
      {
       "output_type": "stream",
       "stream": "stdout",
       "text": [
        "\n",
        "2184\n",
        "2186\n",
        "2188"
       ]
      },
      {
       "output_type": "stream",
       "stream": "stdout",
       "text": [
        "\n",
        "2190\n",
        "2192\n",
        "2194"
       ]
      },
      {
       "output_type": "stream",
       "stream": "stdout",
       "text": [
        "\n",
        "2196\n",
        "2198\n",
        "2200"
       ]
      },
      {
       "output_type": "stream",
       "stream": "stdout",
       "text": [
        "\n",
        "2202\n",
        "2204\n",
        "2206\n",
        "2208\n",
        "2210\n",
        "2212"
       ]
      },
      {
       "output_type": "stream",
       "stream": "stdout",
       "text": [
        "\n",
        "2214\n",
        "2216\n",
        "2218\n",
        "2220\n",
        "2222\n",
        "2224"
       ]
      },
      {
       "output_type": "stream",
       "stream": "stdout",
       "text": [
        "\n",
        "2226\n",
        "2228\n",
        "2230\n",
        "2232\n",
        "2234\n",
        "2236\n",
        "2238"
       ]
      },
      {
       "output_type": "stream",
       "stream": "stdout",
       "text": [
        "\n",
        "2240\n",
        "2242\n",
        "2244\n",
        "2246\n",
        "2248\n",
        "2250\n",
        "2252"
       ]
      },
      {
       "output_type": "stream",
       "stream": "stdout",
       "text": [
        "\n",
        "2254\n",
        "2256\n",
        "2258\n",
        "2260\n",
        "2262\n",
        "2264\n",
        "2266"
       ]
      },
      {
       "output_type": "stream",
       "stream": "stdout",
       "text": [
        "\n",
        "2268\n",
        "2270\n",
        "2272\n",
        "2274\n",
        "2276\n",
        "2278"
       ]
      },
      {
       "output_type": "stream",
       "stream": "stdout",
       "text": [
        "\n",
        "2280\n",
        "2282\n",
        "2284\n",
        "2286\n",
        "2288\n",
        "2290"
       ]
      },
      {
       "output_type": "stream",
       "stream": "stdout",
       "text": [
        "\n",
        "2292\n",
        "2294\n",
        "2296\n",
        "2298\n",
        "2300\n",
        "2302"
       ]
      },
      {
       "output_type": "stream",
       "stream": "stdout",
       "text": [
        "\n",
        "2304\n",
        "2306\n",
        "2308\n",
        "2310\n",
        "2312\n",
        "2314\n",
        "2316\n",
        "2318\n",
        "2320"
       ]
      },
      {
       "output_type": "stream",
       "stream": "stdout",
       "text": [
        "\n",
        "2322\n",
        "2324\n",
        "2326\n",
        "2328\n",
        "2330\n",
        "2332\n",
        "2334\n",
        "2336\n",
        "2338\n",
        "2340"
       ]
      },
      {
       "output_type": "stream",
       "stream": "stdout",
       "text": [
        "\n",
        "2342\n",
        "2344\n",
        "2346\n",
        "2348\n",
        "2350\n",
        "2352\n",
        "2354\n",
        "2356\n",
        "2358"
       ]
      },
      {
       "output_type": "stream",
       "stream": "stdout",
       "text": [
        "\n",
        "2360\n",
        "2362\n",
        "2364\n",
        "2366\n",
        "2368\n",
        "2370"
       ]
      },
      {
       "output_type": "stream",
       "stream": "stdout",
       "text": [
        "\n",
        "2372\n",
        "2374\n",
        "2376\n",
        "2378"
       ]
      },
      {
       "output_type": "stream",
       "stream": "stdout",
       "text": [
        "\n",
        "2380\n",
        "2382\n",
        "2384\n",
        "2386"
       ]
      },
      {
       "output_type": "stream",
       "stream": "stdout",
       "text": [
        "\n",
        "2388\n",
        "2390\n",
        "2392\n",
        "2394"
       ]
      },
      {
       "output_type": "stream",
       "stream": "stdout",
       "text": [
        "\n",
        "2396\n",
        "2398\n",
        "2400\n",
        "2402\n",
        "2404\n",
        "2406"
       ]
      },
      {
       "output_type": "stream",
       "stream": "stdout",
       "text": [
        "\n",
        "2408\n",
        "2410\n",
        "2412\n",
        "2414\n",
        "2416\n",
        "2418"
       ]
      },
      {
       "output_type": "stream",
       "stream": "stdout",
       "text": [
        "\n",
        "2420\n",
        "2422\n",
        "2424\n",
        "2426"
       ]
      },
      {
       "output_type": "stream",
       "stream": "stdout",
       "text": [
        "\n",
        "2428\n",
        "2430\n",
        "2432\n",
        "2434"
       ]
      },
      {
       "output_type": "stream",
       "stream": "stdout",
       "text": [
        "\n",
        "2436\n",
        "2438\n",
        "2440\n",
        "2442\n",
        "2444"
       ]
      },
      {
       "output_type": "stream",
       "stream": "stdout",
       "text": [
        "\n",
        "2446\n",
        "2448\n",
        "2450\n",
        "2452\n",
        "2454\n",
        "2456\n",
        "2458\n",
        "2460\n",
        "2462\n",
        "2464\n",
        "2466"
       ]
      },
      {
       "output_type": "stream",
       "stream": "stdout",
       "text": [
        "\n",
        "2468\n",
        "2470\n",
        "2472\n",
        "2474\n",
        "2476\n",
        "2478\n",
        "2480\n",
        "2482\n",
        "2484\n",
        "2486"
       ]
      },
      {
       "output_type": "stream",
       "stream": "stdout",
       "text": [
        "\n",
        "2488\n",
        "2490\n",
        "2492\n",
        "2494\n",
        "2496\n",
        "2498\n",
        "2500\n",
        "2502\n",
        "2504\n",
        "2506\n",
        "2508"
       ]
      },
      {
       "output_type": "stream",
       "stream": "stdout",
       "text": [
        "\n",
        "2510\n",
        "2512\n",
        "2514\n",
        "2516\n",
        "2518\n",
        "2520\n",
        "2522\n",
        "2524\n",
        "2526"
       ]
      },
      {
       "output_type": "stream",
       "stream": "stdout",
       "text": [
        "\n",
        "2528\n",
        "2530\n",
        "2532\n",
        "2534\n",
        "2536\n",
        "2538\n",
        "2540\n",
        "2542\n",
        "2544\n",
        "2546"
       ]
      },
      {
       "output_type": "stream",
       "stream": "stdout",
       "text": [
        "\n",
        "2548\n",
        "2550\n",
        "2552\n",
        "2554\n",
        "2556\n",
        "2558\n",
        "2560"
       ]
      },
      {
       "output_type": "stream",
       "stream": "stdout",
       "text": [
        "\n",
        "2562\n",
        "2564\n",
        "2566\n",
        "2568\n",
        "2570\n",
        "2572\n",
        "2574\n",
        "2576"
       ]
      },
      {
       "output_type": "stream",
       "stream": "stdout",
       "text": [
        "\n",
        "2578\n",
        "2580\n",
        "2582\n",
        "2584\n",
        "2586\n",
        "2588\n",
        "2590\n",
        "2592\n",
        "2594\n",
        "2596"
       ]
      },
      {
       "output_type": "stream",
       "stream": "stdout",
       "text": [
        "\n",
        "2598\n",
        "2600\n",
        "2602\n",
        "2604\n",
        "2606\n",
        "2608\n",
        "2610\n",
        "2612"
       ]
      },
      {
       "output_type": "stream",
       "stream": "stdout",
       "text": [
        "\n",
        "2614\n",
        "2616\n",
        "2618\n",
        "2620\n",
        "2622"
       ]
      },
      {
       "output_type": "stream",
       "stream": "stdout",
       "text": [
        "\n",
        "2624\n",
        "2626\n",
        "2628"
       ]
      },
      {
       "output_type": "stream",
       "stream": "stdout",
       "text": [
        "\n",
        "2630\n",
        "2632\n",
        "2634\n",
        "2636"
       ]
      },
      {
       "output_type": "stream",
       "stream": "stdout",
       "text": [
        "\n",
        "2638\n",
        "2640\n",
        "2642\n",
        "2644"
       ]
      },
      {
       "output_type": "stream",
       "stream": "stdout",
       "text": [
        "\n",
        "2646\n",
        "2648\n",
        "2650\n",
        "2652\n",
        "2654"
       ]
      },
      {
       "output_type": "stream",
       "stream": "stdout",
       "text": [
        "\n",
        "2656\n",
        "2658\n",
        "2660\n",
        "2662\n",
        "2664\n",
        "2666\n",
        "2668\n",
        "2670"
       ]
      },
      {
       "output_type": "stream",
       "stream": "stdout",
       "text": [
        "\n",
        "2672\n",
        "2674\n",
        "2676\n",
        "2678\n",
        "2680\n",
        "2682\n",
        "2684\n",
        "2686\n",
        "2688\n",
        "2690\n",
        "2692"
       ]
      },
      {
       "output_type": "stream",
       "stream": "stdout",
       "text": [
        "\n",
        "2694\n",
        "2696\n",
        "2698\n",
        "2700\n",
        "2702\n",
        "2704\n",
        "2706\n",
        "2708\n",
        "2710\n",
        "2712"
       ]
      },
      {
       "output_type": "stream",
       "stream": "stdout",
       "text": [
        "\n",
        "2714\n",
        "2716\n",
        "2718\n",
        "2720\n",
        "2722\n",
        "2724\n",
        "2726\n",
        "2728"
       ]
      },
      {
       "output_type": "stream",
       "stream": "stdout",
       "text": [
        "\n",
        "2730\n",
        "2732\n",
        "2734\n",
        "2736\n",
        "2738\n",
        "2740\n",
        "2742\n",
        "2744\n",
        "2746\n",
        "2748"
       ]
      },
      {
       "output_type": "stream",
       "stream": "stdout",
       "text": [
        "\n",
        "2750\n",
        "2752\n",
        "2754\n",
        "2756\n",
        "2758\n",
        "2760\n",
        "2762"
       ]
      },
      {
       "output_type": "stream",
       "stream": "stdout",
       "text": [
        "\n",
        "2764\n",
        "2766\n",
        "2768\n",
        "2770\n",
        "2772\n",
        "2774\n",
        "2776"
       ]
      },
      {
       "output_type": "stream",
       "stream": "stdout",
       "text": [
        "\n",
        "2778\n",
        "2780\n",
        "2782\n",
        "2784\n",
        "2786\n",
        "2788\n",
        "2790"
       ]
      },
      {
       "output_type": "stream",
       "stream": "stdout",
       "text": [
        "\n",
        "2792\n",
        "2794\n",
        "2796\n",
        "2798\n",
        "2800\n",
        "2802\n",
        "2804\n",
        "2806"
       ]
      },
      {
       "output_type": "stream",
       "stream": "stdout",
       "text": [
        "\n",
        "2808\n",
        "2810\n",
        "2812\n",
        "2814\n",
        "2816\n",
        "2818\n",
        "2820\n",
        "2822\n",
        "2824\n",
        "2826"
       ]
      },
      {
       "output_type": "stream",
       "stream": "stdout",
       "text": [
        "\n",
        "2828\n",
        "2830\n",
        "2832\n",
        "2834\n",
        "2836\n",
        "2838\n",
        "2840\n",
        "2842"
       ]
      },
      {
       "output_type": "stream",
       "stream": "stdout",
       "text": [
        "\n",
        "2844\n",
        "2846\n",
        "2848\n",
        "2850\n",
        "2852\n",
        "2854\n",
        "2856\n",
        "2858"
       ]
      },
      {
       "output_type": "stream",
       "stream": "stdout",
       "text": [
        "\n",
        "2860\n",
        "2862\n",
        "2864\n",
        "2866\n",
        "2868\n",
        "2870\n",
        "2872"
       ]
      },
      {
       "output_type": "stream",
       "stream": "stdout",
       "text": [
        "\n",
        "2874\n",
        "2876\n",
        "2878\n",
        "2880\n",
        "2882\n",
        "2884\n",
        "2886"
       ]
      },
      {
       "output_type": "stream",
       "stream": "stdout",
       "text": [
        "\n",
        "2888\n",
        "2890\n",
        "2892\n",
        "2894\n",
        "2896\n",
        "2898\n",
        "2900\n",
        "2902"
       ]
      },
      {
       "output_type": "stream",
       "stream": "stdout",
       "text": [
        "\n",
        "2904\n",
        "2906\n",
        "2908\n",
        "2910\n",
        "2912\n",
        "2914\n",
        "2916"
       ]
      },
      {
       "output_type": "stream",
       "stream": "stdout",
       "text": [
        "\n",
        "2918\n",
        "2920\n",
        "2922\n",
        "2924\n",
        "2926\n",
        "2928\n",
        "2930\n",
        "2932"
       ]
      },
      {
       "output_type": "stream",
       "stream": "stdout",
       "text": [
        "\n",
        "2934\n",
        "2936\n",
        "2938\n",
        "2940\n",
        "2942\n",
        "2944\n",
        "2946\n",
        "2948"
       ]
      },
      {
       "output_type": "stream",
       "stream": "stdout",
       "text": [
        "\n",
        "2950\n",
        "2952\n",
        "2954\n",
        "2956\n",
        "2958\n",
        "2960\n",
        "2962\n",
        "2964"
       ]
      },
      {
       "output_type": "stream",
       "stream": "stdout",
       "text": [
        "\n",
        "2966\n",
        "2968\n",
        "2970\n",
        "2972\n",
        "2974\n",
        "2976\n",
        "2978\n",
        "2980"
       ]
      },
      {
       "output_type": "stream",
       "stream": "stdout",
       "text": [
        "\n",
        "2982\n",
        "2984\n",
        "2986\n",
        "2988\n",
        "2990\n",
        "2992"
       ]
      },
      {
       "output_type": "stream",
       "stream": "stdout",
       "text": [
        "\n",
        "2994\n",
        "2997\n",
        "2999\n",
        "3001\n",
        "3003\n",
        "3005\n",
        "3007\n",
        "3009"
       ]
      },
      {
       "output_type": "stream",
       "stream": "stdout",
       "text": [
        "\n",
        "3011\n",
        "3013\n",
        "3015\n",
        "3017\n",
        "3019\n",
        "3021\n",
        "3023"
       ]
      },
      {
       "output_type": "stream",
       "stream": "stdout",
       "text": [
        "\n",
        "3025\n",
        "3027\n",
        "3029\n",
        "3031\n",
        "3033\n",
        "3035\n",
        "3037\n",
        "3039"
       ]
      },
      {
       "output_type": "stream",
       "stream": "stdout",
       "text": [
        "\n",
        "3041\n",
        "3043\n",
        "3046\n",
        "3048\n",
        "3050\n",
        "3052\n",
        "3054"
       ]
      },
      {
       "output_type": "stream",
       "stream": "stdout",
       "text": [
        "\n",
        "3056\n",
        "3058\n",
        "3060\n",
        "3062\n",
        "3064\n",
        "3066\n",
        "3068"
       ]
      },
      {
       "output_type": "stream",
       "stream": "stdout",
       "text": [
        "\n",
        "3071\n",
        "3073\n",
        "3075\n",
        "3077\n",
        "3079\n",
        "3081\n",
        "3083"
       ]
      },
      {
       "output_type": "stream",
       "stream": "stdout",
       "text": [
        "\n",
        "3085\n",
        "3087\n",
        "3089\n",
        "3091\n",
        "3093\n",
        "3095\n",
        "3097"
       ]
      },
      {
       "output_type": "stream",
       "stream": "stdout",
       "text": [
        "\n",
        "3099\n",
        "3101\n",
        "3103\n",
        "3105\n",
        "3107\n",
        "3109\n",
        "3111"
       ]
      },
      {
       "output_type": "stream",
       "stream": "stdout",
       "text": [
        "\n",
        "3113\n",
        "3115\n",
        "3117\n",
        "3119\n",
        "3121\n",
        "3123\n",
        "3125"
       ]
      },
      {
       "output_type": "stream",
       "stream": "stdout",
       "text": [
        "\n",
        "3127\n",
        "3129\n",
        "3131\n",
        "3133\n",
        "3135\n",
        "3137\n",
        "3139"
       ]
      },
      {
       "output_type": "stream",
       "stream": "stdout",
       "text": [
        "\n",
        "3141\n",
        "3143\n",
        "3145\n",
        "3147\n",
        "3149"
       ]
      },
      {
       "output_type": "stream",
       "stream": "stdout",
       "text": [
        "\n",
        "3151\n",
        "3153\n",
        "3155\n",
        "3157\n",
        "3159\n",
        "3161"
       ]
      },
      {
       "output_type": "stream",
       "stream": "stdout",
       "text": [
        "\n",
        "3163\n",
        "3165\n",
        "3167\n",
        "3169\n",
        "3171\n",
        "3173\n",
        "3175"
       ]
      },
      {
       "output_type": "stream",
       "stream": "stdout",
       "text": [
        "\n",
        "3177\n",
        "3179\n",
        "3181\n",
        "3183\n",
        "3185\n",
        "3187\n",
        "3189"
       ]
      },
      {
       "output_type": "stream",
       "stream": "stdout",
       "text": [
        "\n",
        "3191\n",
        "3193\n",
        "3195\n",
        "3197\n",
        "3199\n",
        "3201"
       ]
      },
      {
       "output_type": "stream",
       "stream": "stdout",
       "text": [
        "\n",
        "3203\n",
        "3205\n",
        "3207\n",
        "3209\n",
        "3211"
       ]
      },
      {
       "output_type": "stream",
       "stream": "stdout",
       "text": [
        "\n",
        "3213\n",
        "3215\n",
        "3217\n",
        "3219\n",
        "3221"
       ]
      },
      {
       "output_type": "stream",
       "stream": "stdout",
       "text": [
        "\n",
        "3223\n",
        "3225\n",
        "3227\n",
        "3229\n",
        "3231\n",
        "3233"
       ]
      },
      {
       "output_type": "stream",
       "stream": "stdout",
       "text": [
        "\n",
        "3235\n",
        "3237\n",
        "3239\n",
        "3241\n",
        "3243\n",
        "3245\n",
        "3247"
       ]
      },
      {
       "output_type": "stream",
       "stream": "stdout",
       "text": [
        "\n",
        "3249\n",
        "3251\n",
        "3253\n",
        "3255\n",
        "3257\n",
        "3259\n",
        "3261\n",
        "3263"
       ]
      },
      {
       "output_type": "stream",
       "stream": "stdout",
       "text": [
        "\n",
        "3265\n",
        "3267\n",
        "3269\n",
        "3271\n",
        "3273\n",
        "3275\n",
        "3277\n",
        "3280"
       ]
      },
      {
       "output_type": "stream",
       "stream": "stdout",
       "text": [
        "\n",
        "3282\n",
        "3284\n",
        "3286\n",
        "3288\n",
        "3290\n",
        "3292\n",
        "3294\n",
        "3296"
       ]
      },
      {
       "output_type": "stream",
       "stream": "stdout",
       "text": [
        "\n",
        "3298\n",
        "3300\n",
        "3302\n",
        "3304\n",
        "3306\n",
        "3308\n",
        "3310\n",
        "3312"
       ]
      },
      {
       "output_type": "stream",
       "stream": "stdout",
       "text": [
        "\n",
        "3314\n",
        "3316\n",
        "3318\n",
        "3320\n",
        "3322\n",
        "3324\n",
        "3326\n",
        "3328"
       ]
      },
      {
       "output_type": "stream",
       "stream": "stdout",
       "text": [
        "\n",
        "3330\n",
        "3332\n",
        "3334\n",
        "3336\n",
        "3338\n",
        "3340\n",
        "3342\n",
        "3344"
       ]
      },
      {
       "output_type": "stream",
       "stream": "stdout",
       "text": [
        "\n",
        "3346\n",
        "3348\n",
        "3350\n",
        "3352\n",
        "3354\n",
        "3357\n",
        "3360"
       ]
      },
      {
       "output_type": "stream",
       "stream": "stdout",
       "text": [
        "\n",
        "3362\n",
        "3364\n",
        "3366\n",
        "3368\n",
        "3370\n",
        "3372\n",
        "3374"
       ]
      },
      {
       "output_type": "stream",
       "stream": "stdout",
       "text": [
        "\n",
        "3376\n",
        "3378\n",
        "3380\n",
        "3382"
       ]
      },
      {
       "output_type": "stream",
       "stream": "stdout",
       "text": [
        "\n",
        "3384\n",
        "3386\n",
        "3388\n",
        "3390\n",
        "3392"
       ]
      },
      {
       "output_type": "stream",
       "stream": "stdout",
       "text": [
        "\n",
        "3394\n",
        "3396\n",
        "3398\n",
        "3400"
       ]
      },
      {
       "output_type": "stream",
       "stream": "stdout",
       "text": [
        "\n",
        "3402\n",
        "3404\n",
        "3406\n",
        "3408"
       ]
      },
      {
       "output_type": "stream",
       "stream": "stdout",
       "text": [
        "\n",
        "3411\n",
        "3413\n",
        "3415\n",
        "3417"
       ]
      },
      {
       "output_type": "stream",
       "stream": "stdout",
       "text": [
        "\n",
        "3419\n",
        "3421\n",
        "3423\n",
        "3425\n",
        "3427\n",
        "3429\n",
        "3431"
       ]
      },
      {
       "output_type": "stream",
       "stream": "stdout",
       "text": [
        "\n",
        "3433\n",
        "3435\n",
        "3437\n",
        "3439\n",
        "3442\n",
        "3444\n",
        "3446"
       ]
      },
      {
       "output_type": "stream",
       "stream": "stdout",
       "text": [
        "\n",
        "3448\n",
        "3450\n",
        "3452\n",
        "3454\n",
        "3456\n",
        "3458"
       ]
      },
      {
       "output_type": "stream",
       "stream": "stdout",
       "text": [
        "\n",
        "3460\n",
        "3462\n",
        "3464"
       ]
      },
      {
       "output_type": "stream",
       "stream": "stdout",
       "text": [
        "\n",
        "3467\n",
        "3469\n",
        "3471\n",
        "3473"
       ]
      },
      {
       "output_type": "stream",
       "stream": "stdout",
       "text": [
        "\n",
        "3475\n"
       ]
      },
      {
       "output_type": "stream",
       "stream": "stdout",
       "text": [
        "3477\n",
        "3479\n",
        "3481\n",
        "3483"
       ]
      },
      {
       "output_type": "stream",
       "stream": "stdout",
       "text": [
        "\n",
        "3485\n",
        "3487"
       ]
      },
      {
       "output_type": "stream",
       "stream": "stdout",
       "text": [
        "\n",
        "3490\n",
        "3492\n",
        "3494\n",
        "3496\n",
        "3498"
       ]
      },
      {
       "output_type": "stream",
       "stream": "stdout",
       "text": [
        "\n",
        "3500\n",
        "3502\n",
        "3504\n",
        "3508\n",
        "3510"
       ]
      },
      {
       "output_type": "stream",
       "stream": "stdout",
       "text": [
        "\n",
        "3512\n",
        "3515\n",
        "3517\n",
        "3519\n",
        "3523\n",
        "3525"
       ]
      },
      {
       "output_type": "stream",
       "stream": "stdout",
       "text": [
        "\n",
        "3527\n",
        "3529\n",
        "3531\n",
        "3534\n",
        "3536\n",
        "3541\n",
        "3544\n",
        "3546"
       ]
      },
      {
       "output_type": "stream",
       "stream": "stdout",
       "text": [
        "\n",
        "3548\n",
        "3550\n",
        "3552\n",
        "3554\n",
        "3556\n",
        "3558\n",
        "3560\n",
        "3562"
       ]
      },
      {
       "output_type": "stream",
       "stream": "stdout",
       "text": [
        "\n",
        "3564\n",
        "3566\n",
        "3568\n",
        "3570\n",
        "3574\n",
        "3576\n",
        "3578\n",
        "3580"
       ]
      },
      {
       "output_type": "stream",
       "stream": "stdout",
       "text": [
        "\n",
        "3582\n",
        "3584\n",
        "3586\n",
        "3588\n",
        "3590\n",
        "3592\n",
        "3595\n",
        "3597"
       ]
      },
      {
       "output_type": "stream",
       "stream": "stdout",
       "text": [
        "\n",
        "3599\n",
        "3602\n",
        "3604\n",
        "3607\n",
        "3609\n",
        "3611\n",
        "3613\n",
        "3617"
       ]
      },
      {
       "output_type": "stream",
       "stream": "stdout",
       "text": [
        "\n",
        "3620\n",
        "3623\n",
        "3625\n",
        "3627\n",
        "3629\n",
        "3631\n",
        "3633"
       ]
      },
      {
       "output_type": "stream",
       "stream": "stdout",
       "text": [
        "\n",
        "3635\n",
        "3637\n",
        "3640\n",
        "3642\n",
        "3644\n",
        "3646\n",
        "3648"
       ]
      },
      {
       "output_type": "stream",
       "stream": "stdout",
       "text": [
        "\n",
        "3650\n",
        "3653\n",
        "3655\n",
        "3658\n",
        "3660\n",
        "3662\n",
        "3665\n",
        "3669"
       ]
      },
      {
       "output_type": "stream",
       "stream": "stdout",
       "text": [
        "\n",
        "3671\n",
        "3674\n",
        "3676\n",
        "3680\n",
        "3682\n",
        "3684\n",
        "3686"
       ]
      },
      {
       "output_type": "stream",
       "stream": "stdout",
       "text": [
        "\n",
        "3689\n",
        "3691\n",
        "3693\n",
        "3695\n",
        "3697\n",
        "3700\n",
        "3702"
       ]
      },
      {
       "output_type": "stream",
       "stream": "stdout",
       "text": [
        "\n",
        "3704\n",
        "3706\n",
        "3709\n",
        "3711\n",
        "3714\n",
        "3716\n",
        "3718\n",
        "3720"
       ]
      },
      {
       "output_type": "stream",
       "stream": "stdout",
       "text": [
        "\n",
        "3722\n",
        "3725\n",
        "3728\n",
        "3732\n",
        "3734\n",
        "3738\n",
        "3750"
       ]
      },
      {
       "output_type": "stream",
       "stream": "stdout",
       "text": [
        "\n",
        "3762\n",
        "3774\n",
        "3785\n",
        "3787\n",
        "3789\n",
        "3791"
       ]
      },
      {
       "output_type": "stream",
       "stream": "stdout",
       "text": [
        "\n",
        "3793\n",
        "3795\n",
        "3797\n",
        "3799\n",
        "3801\n",
        "3803\n",
        "3805\n",
        "3807"
       ]
      },
      {
       "output_type": "stream",
       "stream": "stdout",
       "text": [
        "\n",
        "3809\n",
        "3811\n",
        "3813\n",
        "3815\n",
        "3817\n",
        "3819\n",
        "3821\n",
        "3823"
       ]
      },
      {
       "output_type": "stream",
       "stream": "stdout",
       "text": [
        "\n",
        "3825\n",
        "3827\n",
        "3829\n",
        "3831\n",
        "3833\n",
        "3835\n",
        "3837\n",
        "3839"
       ]
      },
      {
       "output_type": "stream",
       "stream": "stdout",
       "text": [
        "\n",
        "3841\n",
        "3843\n",
        "3845\n",
        "3847\n",
        "3849\n",
        "3851\n",
        "3853\n",
        "3855"
       ]
      },
      {
       "output_type": "stream",
       "stream": "stdout",
       "text": [
        "\n",
        "3857\n",
        "3859\n",
        "3861\n",
        "3863\n",
        "3865\n",
        "3867\n",
        "3869\n",
        "3871"
       ]
      },
      {
       "output_type": "stream",
       "stream": "stdout",
       "text": [
        "\n",
        "3873\n",
        "3875\n",
        "3878\n",
        "3880\n",
        "3882\n",
        "3884\n",
        "3886\n",
        "3888"
       ]
      },
      {
       "output_type": "stream",
       "stream": "stdout",
       "text": [
        "\n",
        "3890\n",
        "3892\n",
        "3894\n",
        "3896\n",
        "3898\n",
        "3900\n",
        "3902\n",
        "3904"
       ]
      },
      {
       "output_type": "stream",
       "stream": "stdout",
       "text": [
        "\n",
        "3906\n",
        "3908\n",
        "3910\n",
        "3912\n",
        "3914\n",
        "3916\n",
        "3918\n",
        "3920"
       ]
      },
      {
       "output_type": "stream",
       "stream": "stdout",
       "text": [
        "\n",
        "3922\n",
        "3924\n",
        "3926\n",
        "3928\n",
        "3930\n",
        "3932\n",
        "3934"
       ]
      },
      {
       "output_type": "stream",
       "stream": "stdout",
       "text": [
        "\n",
        "3936\n",
        "3938\n",
        "3940\n",
        "3942\n",
        "3944\n",
        "3946\n",
        "3948\n",
        "3950"
       ]
      },
      {
       "output_type": "stream",
       "stream": "stdout",
       "text": [
        "\n",
        "3952\n",
        "3954\n",
        "3956\n",
        "3958\n",
        "3960\n",
        "3962\n",
        "3964\n",
        "3966"
       ]
      },
      {
       "output_type": "stream",
       "stream": "stdout",
       "text": [
        "\n",
        "3968\n",
        "3970\n",
        "3972\n",
        "3974\n",
        "3976\n",
        "3978\n",
        "3980\n",
        "3982"
       ]
      },
      {
       "output_type": "stream",
       "stream": "stdout",
       "text": [
        "\n",
        "3984\n",
        "3986\n",
        "3988\n",
        "3990\n",
        "3992\n",
        "3994\n",
        "3996\n",
        "3998"
       ]
      },
      {
       "output_type": "stream",
       "stream": "stdout",
       "text": [
        "\n",
        "4000\n",
        "4002\n",
        "4004\n",
        "4006\n",
        "4008\n",
        "4010\n",
        "4012\n",
        "4014"
       ]
      },
      {
       "output_type": "stream",
       "stream": "stdout",
       "text": [
        "\n",
        "4016\n",
        "4018\n",
        "4020\n",
        "4022\n",
        "4024\n",
        "4026\n",
        "4028\n",
        "4030"
       ]
      },
      {
       "output_type": "stream",
       "stream": "stdout",
       "text": [
        "\n",
        "4032\n",
        "4034\n",
        "4036\n",
        "4038\n",
        "4040\n",
        "4042\n",
        "4044"
       ]
      },
      {
       "output_type": "stream",
       "stream": "stdout",
       "text": [
        "\n",
        "4046\n",
        "4048\n",
        "4050\n",
        "4052\n",
        "4054\n",
        "4056\n",
        "4058"
       ]
      },
      {
       "output_type": "stream",
       "stream": "stdout",
       "text": [
        "\n",
        "4060\n",
        "4062\n",
        "4064\n",
        "4066\n",
        "4068\n",
        "4070\n",
        "4072\n",
        "4074"
       ]
      },
      {
       "output_type": "stream",
       "stream": "stdout",
       "text": [
        "\n",
        "4076\n",
        "4078\n",
        "4080\n",
        "4082\n",
        "4084\n",
        "4086\n",
        "4088\n",
        "4090"
       ]
      },
      {
       "output_type": "stream",
       "stream": "stdout",
       "text": [
        "\n",
        "4092\n",
        "4094\n",
        "4096\n",
        "4098\n",
        "4100\n",
        "4102\n",
        "4104"
       ]
      },
      {
       "output_type": "stream",
       "stream": "stdout",
       "text": [
        "\n",
        "4106\n",
        "4108\n",
        "4110\n",
        "4112\n",
        "4114\n",
        "4116\n",
        "4118\n",
        "4120"
       ]
      },
      {
       "output_type": "stream",
       "stream": "stdout",
       "text": [
        "\n",
        "4122\n",
        "4124\n",
        "4126\n",
        "4128\n",
        "4130\n",
        "4132\n",
        "4134"
       ]
      },
      {
       "output_type": "stream",
       "stream": "stdout",
       "text": [
        "\n",
        "4136\n",
        "4138\n",
        "4140\n",
        "4142\n",
        "4144\n",
        "4146\n",
        "4148"
       ]
      },
      {
       "output_type": "stream",
       "stream": "stdout",
       "text": [
        "\n",
        "4150\n",
        "4152\n",
        "4154\n",
        "4156\n",
        "4158\n",
        "4160"
       ]
      },
      {
       "output_type": "stream",
       "stream": "stdout",
       "text": [
        "\n",
        "4162\n",
        "4164\n",
        "4166\n",
        "4168\n",
        "4170"
       ]
      },
      {
       "output_type": "stream",
       "stream": "stdout",
       "text": [
        "\n",
        "4172\n",
        "4174\n",
        "4176\n",
        "4178\n",
        "4180\n",
        "4182\n",
        "4184\n",
        "4186"
       ]
      },
      {
       "output_type": "stream",
       "stream": "stdout",
       "text": [
        "\n",
        "4188\n",
        "4190\n",
        "4192\n",
        "4194\n",
        "4196\n",
        "4198"
       ]
      },
      {
       "output_type": "stream",
       "stream": "stdout",
       "text": [
        "\n",
        "4200\n",
        "4202\n",
        "4204\n",
        "4206\n",
        "4208\n",
        "4210\n",
        "4212"
       ]
      },
      {
       "output_type": "stream",
       "stream": "stdout",
       "text": [
        "\n",
        "4214\n",
        "4216\n",
        "4218\n",
        "4220\n",
        "4222\n",
        "4224\n",
        "4227"
       ]
      },
      {
       "output_type": "stream",
       "stream": "stdout",
       "text": [
        "\n",
        "4229\n",
        "4231\n",
        "4233\n",
        "4235\n",
        "4237\n",
        "4239\n",
        "4241"
       ]
      },
      {
       "output_type": "stream",
       "stream": "stdout",
       "text": [
        "\n",
        "4243\n",
        "4245\n",
        "4247\n",
        "4249\n",
        "4251\n",
        "4254\n",
        "4256\n",
        "4258"
       ]
      },
      {
       "output_type": "stream",
       "stream": "stdout",
       "text": [
        "\n",
        "4260\n",
        "4262\n",
        "4264\n",
        "4266\n",
        "4268\n",
        "4270\n",
        "4272\n",
        "4274"
       ]
      },
      {
       "output_type": "stream",
       "stream": "stdout",
       "text": [
        "\n",
        "4276\n",
        "4278\n",
        "4280\n",
        "4282\n",
        "4284\n",
        "4286\n",
        "4288"
       ]
      },
      {
       "output_type": "stream",
       "stream": "stdout",
       "text": [
        "\n",
        "4290\n",
        "4292\n",
        "4294\n",
        "4296\n",
        "4298\n",
        "4300\n",
        "4302\n",
        "4304"
       ]
      },
      {
       "output_type": "stream",
       "stream": "stdout",
       "text": [
        "\n",
        "4306\n",
        "4308\n",
        "4310\n",
        "4312\n",
        "4314\n",
        "4316\n",
        "4318\n",
        "4320"
       ]
      },
      {
       "output_type": "stream",
       "stream": "stdout",
       "text": [
        "\n",
        "4322\n",
        "4324\n",
        "4326\n",
        "4328\n",
        "4330\n",
        "4332\n",
        "4334\n",
        "4336"
       ]
      },
      {
       "output_type": "stream",
       "stream": "stdout",
       "text": [
        "\n",
        "4338\n",
        "4340\n",
        "4342\n",
        "4344\n",
        "4346\n",
        "4348\n",
        "4350\n",
        "4352"
       ]
      },
      {
       "output_type": "stream",
       "stream": "stdout",
       "text": [
        "\n",
        "4354\n",
        "4356\n",
        "4358\n",
        "4360\n",
        "4362\n",
        "4364\n",
        "4366"
       ]
      },
      {
       "output_type": "stream",
       "stream": "stdout",
       "text": [
        "\n",
        "4368\n",
        "4370\n",
        "4372\n",
        "4374\n",
        "4376\n",
        "4378\n",
        "4380\n",
        "4382"
       ]
      },
      {
       "output_type": "stream",
       "stream": "stdout",
       "text": [
        "\n",
        "4384\n",
        "4386\n",
        "4388\n",
        "4390\n",
        "4392\n",
        "4394\n",
        "4396\n",
        "4398"
       ]
      },
      {
       "output_type": "stream",
       "stream": "stdout",
       "text": [
        "\n",
        "4400\n",
        "4402\n",
        "4404\n",
        "4406\n",
        "4408\n",
        "4410\n",
        "4412\n",
        "4414"
       ]
      },
      {
       "output_type": "stream",
       "stream": "stdout",
       "text": [
        "\n",
        "4416\n",
        "4418\n",
        "4420\n",
        "4422\n",
        "4424\n",
        "4426\n",
        "4428\n",
        "4430"
       ]
      },
      {
       "output_type": "stream",
       "stream": "stdout",
       "text": [
        "\n",
        "4432\n",
        "4434\n",
        "4436\n",
        "4438\n",
        "4440\n",
        "4442\n",
        "4444\n",
        "4446"
       ]
      },
      {
       "output_type": "stream",
       "stream": "stdout",
       "text": [
        "\n",
        "4448\n",
        "4450\n",
        "4452\n",
        "4454\n",
        "4456\n",
        "4458\n",
        "4460\n",
        "4462"
       ]
      },
      {
       "output_type": "stream",
       "stream": "stdout",
       "text": [
        "\n",
        "4464\n",
        "4466\n",
        "4468\n",
        "4470\n",
        "4472\n",
        "4474\n",
        "4476\n",
        "4478"
       ]
      },
      {
       "output_type": "stream",
       "stream": "stdout",
       "text": [
        "\n",
        "4480\n",
        "4482\n",
        "4484\n",
        "4486\n",
        "4488\n",
        "4490\n",
        "4492\n",
        "4494"
       ]
      },
      {
       "output_type": "stream",
       "stream": "stdout",
       "text": [
        "\n",
        "4496\n",
        "4498\n",
        "4500\n",
        "4502\n",
        "4504\n",
        "4506\n",
        "4508\n",
        "4510"
       ]
      },
      {
       "output_type": "stream",
       "stream": "stdout",
       "text": [
        "\n",
        "4512\n",
        "4514\n",
        "4516\n",
        "4518\n",
        "4520\n",
        "4522\n",
        "4524\n",
        "4526"
       ]
      },
      {
       "output_type": "stream",
       "stream": "stdout",
       "text": [
        "\n",
        "4528\n",
        "4530\n",
        "4532\n",
        "4534\n",
        "4536\n",
        "4538\n",
        "4540\n",
        "4542"
       ]
      },
      {
       "output_type": "stream",
       "stream": "stdout",
       "text": [
        "\n",
        "4544\n",
        "4546\n",
        "4548\n",
        "4550\n",
        "4552\n",
        "4554\n",
        "4556\n",
        "4558"
       ]
      },
      {
       "output_type": "stream",
       "stream": "stdout",
       "text": [
        "\n",
        "4560\n",
        "4562\n",
        "4564\n",
        "4566\n",
        "4568\n",
        "4570\n",
        "4572\n",
        "4574"
       ]
      },
      {
       "output_type": "stream",
       "stream": "stdout",
       "text": [
        "\n",
        "4576\n",
        "4578\n",
        "4580\n",
        "4582\n",
        "4584\n",
        "4586\n",
        "4588\n",
        "4590"
       ]
      },
      {
       "output_type": "stream",
       "stream": "stdout",
       "text": [
        "\n",
        "4592\n",
        "4594\n",
        "4596\n",
        "4598\n",
        "4600\n",
        "4602\n",
        "4604\n",
        "4606"
       ]
      },
      {
       "output_type": "stream",
       "stream": "stdout",
       "text": [
        "\n",
        "4608\n",
        "4610\n",
        "4612\n",
        "4614\n",
        "4616\n",
        "4618\n",
        "4620\n",
        "4622"
       ]
      },
      {
       "output_type": "stream",
       "stream": "stdout",
       "text": [
        "\n",
        "4624\n",
        "4627\n",
        "4629\n",
        "4631\n",
        "4633\n",
        "4635\n",
        "4637\n",
        "4639"
       ]
      },
      {
       "output_type": "stream",
       "stream": "stdout",
       "text": [
        "\n",
        "4641\n",
        "4643\n",
        "4645\n",
        "4647\n",
        "4649\n",
        "4651\n",
        "4653\n",
        "4655"
       ]
      },
      {
       "output_type": "stream",
       "stream": "stdout",
       "text": [
        "\n",
        "4657\n",
        "4659\n",
        "4661\n",
        "4663\n",
        "4665\n",
        "4667\n",
        "4669\n",
        "4671"
       ]
      },
      {
       "output_type": "stream",
       "stream": "stdout",
       "text": [
        "\n",
        "4673\n",
        "4675\n",
        "4677\n",
        "4679\n",
        "4681\n",
        "4683\n",
        "4685"
       ]
      },
      {
       "output_type": "stream",
       "stream": "stdout",
       "text": [
        "\n",
        "4687\n",
        "4689\n",
        "4691\n",
        "4693\n",
        "4695\n",
        "4697\n",
        "4700\n",
        "4702"
       ]
      },
      {
       "output_type": "stream",
       "stream": "stdout",
       "text": [
        "\n",
        "4704\n",
        "4706\n",
        "4708\n",
        "4710\n",
        "4712\n",
        "4714\n",
        "4716\n",
        "4718"
       ]
      },
      {
       "output_type": "stream",
       "stream": "stdout",
       "text": [
        "\n",
        "4720\n",
        "4722\n",
        "4724\n",
        "4726\n",
        "4728\n",
        "4730\n",
        "4732\n",
        "4734"
       ]
      },
      {
       "output_type": "stream",
       "stream": "stdout",
       "text": [
        "\n",
        "4736\n",
        "4738\n",
        "4740\n",
        "4742\n",
        "4744\n",
        "4746\n",
        "4748\n",
        "4750"
       ]
      },
      {
       "output_type": "stream",
       "stream": "stdout",
       "text": [
        "\n",
        "4752\n",
        "4754\n",
        "4756\n",
        "4758\n",
        "4760\n",
        "4762\n",
        "4764\n",
        "4766"
       ]
      },
      {
       "output_type": "stream",
       "stream": "stdout",
       "text": [
        "\n",
        "4768\n",
        "4770\n",
        "4772\n",
        "4774\n",
        "4776\n",
        "4778\n",
        "4780\n",
        "4782"
       ]
      },
      {
       "output_type": "stream",
       "stream": "stdout",
       "text": [
        "\n",
        "4784\n",
        "4786\n",
        "4788\n",
        "4790\n",
        "4792\n",
        "4794\n",
        "4796\n",
        "4798"
       ]
      },
      {
       "output_type": "stream",
       "stream": "stdout",
       "text": [
        "\n",
        "4800\n",
        "4802\n",
        "4804\n",
        "4806\n",
        "4808\n",
        "4810\n",
        "4812\n",
        "4814"
       ]
      },
      {
       "output_type": "stream",
       "stream": "stdout",
       "text": [
        "\n",
        "4816\n",
        "4818\n",
        "4820\n",
        "4822\n",
        "4824\n",
        "4826\n",
        "4828\n",
        "4830"
       ]
      },
      {
       "output_type": "stream",
       "stream": "stdout",
       "text": [
        "\n",
        "4832\n",
        "4834\n",
        "4836\n",
        "4838\n",
        "4840\n",
        "4842\n",
        "4844"
       ]
      },
      {
       "output_type": "stream",
       "stream": "stdout",
       "text": [
        "\n",
        "4846\n",
        "4848\n",
        "4850\n",
        "4852\n",
        "4854\n",
        "4856\n",
        "4858\n",
        "4860"
       ]
      },
      {
       "output_type": "stream",
       "stream": "stdout",
       "text": [
        "\n",
        "4862\n",
        "4864\n",
        "4866\n",
        "4868\n",
        "4870\n",
        "4872\n",
        "4874\n",
        "4876"
       ]
      },
      {
       "output_type": "stream",
       "stream": "stdout",
       "text": [
        "\n",
        "4878\n",
        "4880\n",
        "4882\n",
        "4884\n",
        "4886\n",
        "4888\n",
        "4890\n",
        "4892"
       ]
      },
      {
       "output_type": "stream",
       "stream": "stdout",
       "text": [
        "\n",
        "4894\n",
        "4896\n",
        "4898\n",
        "4900\n",
        "4902\n",
        "4904\n",
        "4906\n",
        "4908"
       ]
      },
      {
       "output_type": "stream",
       "stream": "stdout",
       "text": [
        "\n",
        "4910\n",
        "4912\n",
        "4914\n",
        "4916\n",
        "4918\n",
        "4921\n",
        "4923\n",
        "4925"
       ]
      },
      {
       "output_type": "stream",
       "stream": "stdout",
       "text": [
        "\n",
        "4927\n",
        "4929\n",
        "4931\n",
        "4933\n",
        "4935\n",
        "4937\n",
        "4939\n",
        "4941"
       ]
      },
      {
       "output_type": "stream",
       "stream": "stdout",
       "text": [
        "\n",
        "4943\n",
        "4945\n",
        "4947\n",
        "4949\n",
        "4951\n",
        "4953\n",
        "4955\n",
        "4957"
       ]
      },
      {
       "output_type": "stream",
       "stream": "stdout",
       "text": [
        "\n",
        "4959\n",
        "4961\n",
        "4963\n",
        "4965\n",
        "4967\n",
        "4969\n",
        "4971\n",
        "4973"
       ]
      },
      {
       "output_type": "stream",
       "stream": "stdout",
       "text": [
        "\n",
        "4975\n",
        "4977\n",
        "4979\n",
        "4981\n",
        "4983\n",
        "4985\n",
        "4987\n",
        "4989"
       ]
      },
      {
       "output_type": "stream",
       "stream": "stdout",
       "text": [
        "\n",
        "4991\n",
        "4993\n",
        "4995\n",
        "4997\n",
        "4999\n",
        "5001\n",
        "5003"
       ]
      },
      {
       "output_type": "stream",
       "stream": "stdout",
       "text": [
        "\n",
        "5005\n",
        "5007\n",
        "5009\n",
        "5011\n",
        "5013\n",
        "5015\n",
        "5017\n",
        "5019"
       ]
      },
      {
       "output_type": "stream",
       "stream": "stdout",
       "text": [
        "\n",
        "5021\n",
        "5023\n",
        "5025\n",
        "5027\n",
        "5029\n",
        "5031\n",
        "5033\n",
        "5035"
       ]
      },
      {
       "output_type": "stream",
       "stream": "stdout",
       "text": [
        "\n",
        "5037\n",
        "5039\n",
        "5041\n",
        "5043\n",
        "5045\n",
        "5047\n",
        "5049\n",
        "5051"
       ]
      },
      {
       "output_type": "stream",
       "stream": "stdout",
       "text": [
        "\n",
        "5053\n",
        "5055\n",
        "5057\n",
        "5059\n",
        "5061\n",
        "5063\n",
        "5065"
       ]
      },
      {
       "output_type": "stream",
       "stream": "stdout",
       "text": [
        "\n",
        "5067\n",
        "5069\n",
        "5071\n",
        "5073\n",
        "5075\n",
        "5077\n",
        "5079\n",
        "5081"
       ]
      },
      {
       "output_type": "stream",
       "stream": "stdout",
       "text": [
        "\n",
        "5083\n",
        "5085\n",
        "5087\n",
        "5089\n",
        "5091\n",
        "5093\n",
        "5095\n",
        "5097"
       ]
      },
      {
       "output_type": "stream",
       "stream": "stdout",
       "text": [
        "\n",
        "5099\n",
        "5101\n",
        "5103\n",
        "5105\n",
        "5107\n",
        "5109\n",
        "5111\n",
        "5113"
       ]
      },
      {
       "output_type": "stream",
       "stream": "stdout",
       "text": [
        "\n",
        "5115\n",
        "5117\n",
        "5119\n",
        "5121\n",
        "5123\n",
        "5125\n",
        "5127\n",
        "5129"
       ]
      },
      {
       "output_type": "stream",
       "stream": "stdout",
       "text": [
        "\n",
        "5131\n",
        "5133\n",
        "5135\n",
        "5137\n",
        "5139\n",
        "5141\n",
        "5143\n",
        "5145"
       ]
      },
      {
       "output_type": "stream",
       "stream": "stdout",
       "text": [
        "\n",
        "5147\n",
        "5149\n",
        "5151\n",
        "5153\n",
        "5155\n",
        "5157\n",
        "5159"
       ]
      },
      {
       "output_type": "stream",
       "stream": "stdout",
       "text": [
        "\n",
        "5161\n",
        "5163\n",
        "5165\n",
        "5167\n",
        "5170\n",
        "5172\n",
        "5174\n",
        "5176"
       ]
      },
      {
       "output_type": "stream",
       "stream": "stdout",
       "text": [
        "\n",
        "5178\n",
        "5181\n",
        "5183\n",
        "5186\n",
        "5188\n",
        "5190\n",
        "5192"
       ]
      },
      {
       "output_type": "stream",
       "stream": "stdout",
       "text": [
        "\n",
        "5194\n",
        "5196\n",
        "5198\n",
        "5200\n",
        "5202\n",
        "5204\n",
        "5206\n",
        "5208"
       ]
      },
      {
       "output_type": "stream",
       "stream": "stdout",
       "text": [
        "\n",
        "5210\n",
        "5212\n",
        "5214\n",
        "5216\n",
        "5218\n",
        "5220\n",
        "5222"
       ]
      },
      {
       "output_type": "stream",
       "stream": "stdout",
       "text": [
        "\n",
        "5224\n",
        "5226\n",
        "5228\n",
        "5230\n",
        "5232\n",
        "5234\n",
        "5236\n",
        "5238"
       ]
      },
      {
       "output_type": "stream",
       "stream": "stdout",
       "text": [
        "\n",
        "5240\n",
        "5242\n",
        "5244\n",
        "5246\n",
        "5248\n",
        "5250\n",
        "5252\n",
        "5254"
       ]
      },
      {
       "output_type": "stream",
       "stream": "stdout",
       "text": [
        "\n",
        "5256\n",
        "5258\n",
        "5260\n",
        "5262\n",
        "5264\n",
        "5266\n",
        "5268\n",
        "5270"
       ]
      },
      {
       "output_type": "stream",
       "stream": "stdout",
       "text": [
        "\n",
        "5272\n",
        "5274\n",
        "5276\n",
        "5278\n",
        "5280\n",
        "5282\n",
        "5284"
       ]
      },
      {
       "output_type": "stream",
       "stream": "stdout",
       "text": [
        "\n",
        "5286\n",
        "5288\n",
        "5290\n",
        "5292\n",
        "5294\n",
        "5296\n",
        "5298"
       ]
      },
      {
       "output_type": "stream",
       "stream": "stdout",
       "text": [
        "\n",
        "5300\n",
        "5302\n",
        "5304\n",
        "5306\n",
        "5308\n",
        "5310\n",
        "5312\n",
        "5314"
       ]
      },
      {
       "output_type": "stream",
       "stream": "stdout",
       "text": [
        "\n",
        "5316\n",
        "5318\n",
        "5320\n",
        "5322\n",
        "5324\n",
        "5326\n",
        "5328\n",
        "5330"
       ]
      },
      {
       "output_type": "stream",
       "stream": "stdout",
       "text": [
        "\n",
        "5332\n",
        "5334\n",
        "5336\n",
        "5338\n",
        "5340\n",
        "5342\n",
        "5344\n",
        "5346"
       ]
      },
      {
       "output_type": "stream",
       "stream": "stdout",
       "text": [
        "\n",
        "5348\n",
        "5350\n",
        "5352\n",
        "5354\n",
        "5356\n",
        "5358\n",
        "5360\n",
        "5362"
       ]
      },
      {
       "output_type": "stream",
       "stream": "stdout",
       "text": [
        "\n",
        "5364\n",
        "5366\n",
        "5368\n",
        "5370\n",
        "5372\n",
        "5374\n",
        "5376\n",
        "5378"
       ]
      },
      {
       "output_type": "stream",
       "stream": "stdout",
       "text": [
        "\n",
        "5380\n",
        "5382\n",
        "5384\n",
        "5386\n",
        "5388\n",
        "5390\n",
        "5392\n",
        "5394"
       ]
      },
      {
       "output_type": "stream",
       "stream": "stdout",
       "text": [
        "\n",
        "5396\n",
        "5398\n",
        "5400\n",
        "5402\n",
        "5404\n",
        "5406\n",
        "5408\n",
        "5410"
       ]
      },
      {
       "output_type": "stream",
       "stream": "stdout",
       "text": [
        "\n",
        "5412\n",
        "5414\n",
        "5416\n",
        "5418\n",
        "5420\n",
        "5422\n",
        "5424\n",
        "5426"
       ]
      },
      {
       "output_type": "stream",
       "stream": "stdout",
       "text": [
        "\n",
        "5428\n",
        "5430\n",
        "5432\n",
        "5434\n",
        "5436\n",
        "5438\n",
        "5440"
       ]
      },
      {
       "output_type": "stream",
       "stream": "stdout",
       "text": [
        "\n",
        "5442\n",
        "5444\n",
        "5446\n",
        "5448\n",
        "5450\n",
        "5452\n",
        "5455\n",
        "5457"
       ]
      },
      {
       "output_type": "stream",
       "stream": "stdout",
       "text": [
        "\n",
        "5459\n",
        "5461\n",
        "5463\n",
        "5465\n",
        "5467\n",
        "5469\n",
        "5471"
       ]
      },
      {
       "output_type": "stream",
       "stream": "stdout",
       "text": [
        "\n",
        "5473\n",
        "5475\n",
        "5477\n",
        "5479\n",
        "5481\n",
        "5483\n",
        "5485\n",
        "5487"
       ]
      },
      {
       "output_type": "stream",
       "stream": "stdout",
       "text": [
        "\n",
        "5489\n",
        "5491\n",
        "5493\n",
        "5495\n",
        "5497\n",
        "5499\n",
        "5501\n",
        "5503"
       ]
      },
      {
       "output_type": "stream",
       "stream": "stdout",
       "text": [
        "\n",
        "5505\n",
        "5507\n",
        "5509\n",
        "5512\n",
        "5514\n",
        "5516\n",
        "5518\n",
        "5520"
       ]
      },
      {
       "output_type": "stream",
       "stream": "stdout",
       "text": [
        "\n",
        "5522\n",
        "5524\n",
        "5526\n",
        "5528\n",
        "5530\n",
        "5532\n",
        "5534\n",
        "5536"
       ]
      },
      {
       "output_type": "stream",
       "stream": "stdout",
       "text": [
        "\n",
        "5538\n",
        "5540\n",
        "5542\n",
        "5544\n",
        "5546\n",
        "5548\n",
        "5550\n",
        "5552"
       ]
      },
      {
       "output_type": "stream",
       "stream": "stdout",
       "text": [
        "\n",
        "5554\n",
        "5556\n",
        "5558\n",
        "5560\n",
        "5562\n",
        "5564\n",
        "5566\n",
        "5568"
       ]
      },
      {
       "output_type": "stream",
       "stream": "stdout",
       "text": [
        "\n",
        "5570\n",
        "5572\n",
        "5574\n",
        "5576\n",
        "5578\n",
        "5580\n",
        "5582\n",
        "5584"
       ]
      },
      {
       "output_type": "stream",
       "stream": "stdout",
       "text": [
        "\n",
        "5586\n",
        "5588\n",
        "5590\n",
        "5592\n",
        "5594\n",
        "5596\n",
        "5598\n",
        "5600"
       ]
      },
      {
       "output_type": "stream",
       "stream": "stdout",
       "text": [
        "\n",
        "5602\n",
        "5604\n",
        "5606\n",
        "5608\n",
        "5610\n",
        "5613\n",
        "5615\n",
        "5617"
       ]
      },
      {
       "output_type": "stream",
       "stream": "stdout",
       "text": [
        "\n",
        "5619\n",
        "5621\n",
        "5623\n",
        "5625\n",
        "5627\n",
        "5629\n",
        "5631\n",
        "5633"
       ]
      },
      {
       "output_type": "stream",
       "stream": "stdout",
       "text": [
        "\n",
        "5635\n",
        "5637\n",
        "5639\n",
        "5641\n",
        "5643\n",
        "5645\n",
        "5648\n",
        "5650"
       ]
      },
      {
       "output_type": "stream",
       "stream": "stdout",
       "text": [
        "\n",
        "5652\n",
        "5654\n",
        "5656\n",
        "5658\n",
        "5660\n",
        "5662\n",
        "5664"
       ]
      },
      {
       "output_type": "stream",
       "stream": "stdout",
       "text": [
        "\n",
        "5666\n",
        "5668\n",
        "5670\n",
        "5672\n",
        "5674\n",
        "5676\n",
        "5678"
       ]
      },
      {
       "output_type": "stream",
       "stream": "stdout",
       "text": [
        "\n",
        "5680\n",
        "5682\n",
        "5684\n",
        "5686\n",
        "5688\n",
        "5690\n",
        "5692\n",
        "5694"
       ]
      },
      {
       "output_type": "stream",
       "stream": "stdout",
       "text": [
        "\n",
        "5696\n",
        "5698\n",
        "5700\n",
        "5702\n",
        "5704\n",
        "5706\n",
        "5708\n",
        "5710"
       ]
      },
      {
       "output_type": "stream",
       "stream": "stdout",
       "text": [
        "\n",
        "5712\n",
        "5714\n",
        "5716\n",
        "5718\n",
        "5720\n",
        "5722\n",
        "5724\n",
        "5726"
       ]
      },
      {
       "output_type": "stream",
       "stream": "stdout",
       "text": [
        "\n",
        "5728\n",
        "5730\n",
        "5732\n",
        "5734\n",
        "5736\n",
        "5738\n",
        "5740\n",
        "5742"
       ]
      },
      {
       "output_type": "stream",
       "stream": "stdout",
       "text": [
        "\n",
        "5744\n",
        "5746\n",
        "5748\n",
        "5750\n",
        "5752\n",
        "5754\n",
        "5756\n",
        "5758"
       ]
      },
      {
       "output_type": "stream",
       "stream": "stdout",
       "text": [
        "\n",
        "5760\n",
        "5762\n",
        "5764\n",
        "5766\n",
        "5768\n",
        "5770\n",
        "5772\n",
        "5774"
       ]
      },
      {
       "output_type": "stream",
       "stream": "stdout",
       "text": [
        "\n",
        "5776\n",
        "5778\n",
        "5780\n",
        "5782\n",
        "5784\n",
        "5786\n",
        "5788"
       ]
      },
      {
       "output_type": "stream",
       "stream": "stdout",
       "text": [
        "\n",
        "5790\n",
        "5792\n",
        "5794\n",
        "5796\n",
        "5798\n",
        "5800\n",
        "5802\n",
        "5804"
       ]
      },
      {
       "output_type": "stream",
       "stream": "stdout",
       "text": [
        "\n",
        "5806\n",
        "5808\n",
        "5810\n",
        "5812\n",
        "5814\n",
        "5816\n",
        "5818\n",
        "5820"
       ]
      },
      {
       "output_type": "stream",
       "stream": "stdout",
       "text": [
        "\n",
        "5822\n",
        "5824\n",
        "5826\n",
        "5828\n",
        "5830\n",
        "5832\n",
        "5834\n",
        "5836"
       ]
      },
      {
       "output_type": "stream",
       "stream": "stdout",
       "text": [
        "\n",
        "5838\n",
        "5840\n",
        "5842\n",
        "5844\n",
        "5846\n",
        "5848\n",
        "5850\n",
        "5852"
       ]
      },
      {
       "output_type": "stream",
       "stream": "stdout",
       "text": [
        "\n",
        "5854\n",
        "5856\n",
        "5858\n",
        "5860\n",
        "5862\n",
        "5864\n",
        "5866\n",
        "5868"
       ]
      },
      {
       "output_type": "stream",
       "stream": "stdout",
       "text": [
        "\n",
        "5870\n",
        "5872\n",
        "5874\n",
        "5876\n",
        "5878\n",
        "5880\n",
        "5882\n",
        "5884"
       ]
      },
      {
       "output_type": "stream",
       "stream": "stdout",
       "text": [
        "\n",
        "5886\n",
        "5888\n",
        "5890\n",
        "5892\n",
        "5894\n",
        "5896\n",
        "5898\n",
        "5900"
       ]
      },
      {
       "output_type": "stream",
       "stream": "stdout",
       "text": [
        "\n",
        "5902\n",
        "5904\n",
        "5906\n",
        "5908\n",
        "5910\n",
        "5912\n",
        "5914\n",
        "5916"
       ]
      },
      {
       "output_type": "stream",
       "stream": "stdout",
       "text": [
        "\n",
        "5918\n",
        "5920\n",
        "5922\n",
        "5924\n",
        "5926\n",
        "5928\n",
        "5930\n",
        "5932"
       ]
      },
      {
       "output_type": "stream",
       "stream": "stdout",
       "text": [
        "\n",
        "5934\n",
        "5936\n",
        "5938\n",
        "5940\n",
        "5942\n",
        "5944\n",
        "5946\n",
        "5948"
       ]
      },
      {
       "output_type": "stream",
       "stream": "stdout",
       "text": [
        "\n",
        "5950\n",
        "5952\n",
        "5954\n",
        "5957\n",
        "5959\n",
        "5961\n",
        "5963\n",
        "5965"
       ]
      },
      {
       "output_type": "stream",
       "stream": "stdout",
       "text": [
        "\n",
        "5967\n",
        "5969\n",
        "5971\n",
        "5973\n",
        "5975\n",
        "5977\n",
        "5979"
       ]
      },
      {
       "output_type": "stream",
       "stream": "stdout",
       "text": [
        "\n",
        "5981\n",
        "5983\n",
        "5985\n",
        "5987\n",
        "5989\n",
        "5991\n",
        "5993\n",
        "5995"
       ]
      },
      {
       "output_type": "stream",
       "stream": "stdout",
       "text": [
        "\n",
        "5997\n",
        "5999\n",
        "6001\n",
        "6003\n",
        "6005\n",
        "6007\n",
        "6009\n",
        "6011"
       ]
      },
      {
       "output_type": "stream",
       "stream": "stdout",
       "text": [
        "\n",
        "6013\n",
        "6015\n",
        "6017\n",
        "6019\n",
        "6021\n",
        "6023\n",
        "6025\n",
        "6027"
       ]
      },
      {
       "output_type": "stream",
       "stream": "stdout",
       "text": [
        "\n",
        "6029\n",
        "6031\n",
        "6033\n",
        "6035\n",
        "6037\n",
        "6039\n",
        "6041\n",
        "6043"
       ]
      },
      {
       "output_type": "stream",
       "stream": "stdout",
       "text": [
        "\n",
        "6045\n",
        "6047\n",
        "6049\n",
        "6051\n",
        "6054\n",
        "6056\n",
        "6058\n",
        "6060"
       ]
      },
      {
       "output_type": "stream",
       "stream": "stdout",
       "text": [
        "\n",
        "6062\n",
        "6064\n",
        "6066\n",
        "6068\n",
        "6070\n",
        "6072\n",
        "6074\n",
        "6076"
       ]
      },
      {
       "output_type": "stream",
       "stream": "stdout",
       "text": [
        "\n",
        "6078\n",
        "6080\n",
        "6082\n",
        "6084\n",
        "6086\n",
        "6088\n",
        "6090\n",
        "6092"
       ]
      },
      {
       "output_type": "stream",
       "stream": "stdout",
       "text": [
        "\n",
        "6094\n",
        "6096\n",
        "6098\n",
        "6100\n",
        "6102\n",
        "6104\n",
        "6106\n",
        "6108"
       ]
      },
      {
       "output_type": "stream",
       "stream": "stdout",
       "text": [
        "\n",
        "6110\n",
        "6112\n",
        "6114\n",
        "6116\n",
        "6118\n",
        "6120\n",
        "6122\n",
        "6124"
       ]
      },
      {
       "output_type": "stream",
       "stream": "stdout",
       "text": [
        "\n",
        "6126\n",
        "6128\n",
        "6130\n",
        "6132\n",
        "6134\n",
        "6136\n",
        "6138\n",
        "6140"
       ]
      },
      {
       "output_type": "stream",
       "stream": "stdout",
       "text": [
        "\n",
        "6142\n",
        "6144\n",
        "6146\n",
        "6148\n",
        "6150\n",
        "6152\n",
        "6154\n",
        "6156"
       ]
      },
      {
       "output_type": "stream",
       "stream": "stdout",
       "text": [
        "\n",
        "6158\n",
        "6160\n",
        "6162\n",
        "6164\n",
        "6166\n",
        "6168\n",
        "6170\n",
        "6172"
       ]
      },
      {
       "output_type": "stream",
       "stream": "stdout",
       "text": [
        "\n",
        "6174\n",
        "6176\n",
        "6178\n",
        "6180\n",
        "6182\n",
        "6184\n",
        "6186\n",
        "6188"
       ]
      },
      {
       "output_type": "stream",
       "stream": "stdout",
       "text": [
        "\n",
        "6190\n",
        "6192\n",
        "6194\n",
        "6196\n",
        "6198\n",
        "6200\n",
        "6202\n",
        "6204"
       ]
      },
      {
       "output_type": "stream",
       "stream": "stdout",
       "text": [
        "\n",
        "6206\n",
        "6208\n",
        "6210\n",
        "6212\n",
        "6214\n",
        "6216\n",
        "6218"
       ]
      },
      {
       "output_type": "stream",
       "stream": "stdout",
       "text": [
        "\n",
        "6220\n",
        "6222\n",
        "6224\n",
        "6226\n",
        "6228\n",
        "6230\n",
        "6232\n",
        "6234"
       ]
      },
      {
       "output_type": "stream",
       "stream": "stdout",
       "text": [
        "\n",
        "6236\n",
        "6238\n",
        "6240\n",
        "6242\n",
        "6244\n",
        "6246\n",
        "6248\n",
        "6250"
       ]
      },
      {
       "output_type": "stream",
       "stream": "stdout",
       "text": [
        "\n",
        "6252\n",
        "6254\n",
        "6256\n",
        "6258\n",
        "6260\n",
        "6262\n",
        "6264\n",
        "6266"
       ]
      },
      {
       "output_type": "stream",
       "stream": "stdout",
       "text": [
        "\n",
        "6268\n",
        "6270\n",
        "6272\n",
        "6274\n",
        "6276\n",
        "6278\n",
        "6280\n",
        "6282"
       ]
      },
      {
       "output_type": "stream",
       "stream": "stdout",
       "text": [
        "\n",
        "6284\n",
        "6286\n",
        "6288\n",
        "6290\n",
        "6292\n",
        "6294\n",
        "6296\n",
        "6298"
       ]
      },
      {
       "output_type": "stream",
       "stream": "stdout",
       "text": [
        "\n",
        "6300\n",
        "6302\n",
        "6304\n",
        "6306\n",
        "6308\n",
        "6310\n",
        "6312"
       ]
      },
      {
       "output_type": "stream",
       "stream": "stdout",
       "text": [
        "\n",
        "6314\n",
        "6317\n",
        "6319\n",
        "6321\n",
        "6323\n",
        "6325"
       ]
      },
      {
       "output_type": "stream",
       "stream": "stdout",
       "text": [
        "\n",
        "6327\n",
        "6329\n",
        "6331\n",
        "6333\n",
        "6335\n",
        "6337\n",
        "6339"
       ]
      },
      {
       "output_type": "stream",
       "stream": "stdout",
       "text": [
        "\n",
        "6341\n",
        "6343\n",
        "6345\n",
        "6347\n",
        "6349\n",
        "6351\n",
        "6353"
       ]
      },
      {
       "output_type": "stream",
       "stream": "stdout",
       "text": [
        "\n",
        "6355\n",
        "6357\n",
        "6359\n",
        "6361\n",
        "6363\n",
        "6365\n",
        "6367\n",
        "6369"
       ]
      },
      {
       "output_type": "stream",
       "stream": "stdout",
       "text": [
        "\n",
        "6371\n",
        "6373\n",
        "6375\n",
        "6377\n",
        "6379\n",
        "6381\n",
        "6383"
       ]
      },
      {
       "output_type": "stream",
       "stream": "stdout",
       "text": [
        "\n",
        "6385\n",
        "6387\n",
        "6389\n",
        "6391\n",
        "6393\n",
        "6395\n",
        "6397\n",
        "6399"
       ]
      },
      {
       "output_type": "stream",
       "stream": "stdout",
       "text": [
        "\n",
        "6401\n",
        "6403\n",
        "6405\n",
        "6407\n",
        "6409\n",
        "6411\n",
        "6413\n",
        "6415"
       ]
      },
      {
       "output_type": "stream",
       "stream": "stdout",
       "text": [
        "\n",
        "6417\n",
        "6419\n",
        "6421\n",
        "6423\n",
        "6425\n",
        "6427\n",
        "6429\n",
        "6431"
       ]
      },
      {
       "output_type": "stream",
       "stream": "stdout",
       "text": [
        "\n",
        "6433\n",
        "6435\n",
        "6437\n",
        "6439\n",
        "6441\n",
        "6443\n",
        "6445"
       ]
      },
      {
       "output_type": "stream",
       "stream": "stdout",
       "text": [
        "\n",
        "6447\n",
        "6449\n",
        "6451\n",
        "6453\n",
        "6455\n",
        "6457\n",
        "6459\n",
        "6461"
       ]
      },
      {
       "output_type": "stream",
       "stream": "stdout",
       "text": [
        "\n",
        "6463\n",
        "6465\n",
        "6467\n",
        "6469\n",
        "6471\n",
        "6473\n",
        "6475\n",
        "6477"
       ]
      },
      {
       "output_type": "stream",
       "stream": "stdout",
       "text": [
        "\n",
        "6479\n",
        "6481\n",
        "6483\n",
        "6486\n",
        "6488\n",
        "6490\n",
        "6492\n",
        "6494"
       ]
      },
      {
       "output_type": "stream",
       "stream": "stdout",
       "text": [
        "\n",
        "6496\n",
        "6498\n",
        "6500\n",
        "6502\n",
        "6504\n",
        "6507\n",
        "6509\n",
        "6511"
       ]
      },
      {
       "output_type": "stream",
       "stream": "stdout",
       "text": [
        "\n",
        "6513\n",
        "6515\n",
        "6517\n",
        "6519\n",
        "6521\n",
        "6523\n",
        "6525\n",
        "6527"
       ]
      },
      {
       "output_type": "stream",
       "stream": "stdout",
       "text": [
        "\n",
        "6529\n",
        "6531\n",
        "6533\n",
        "6535\n",
        "6537\n",
        "6539\n",
        "6541\n",
        "6543"
       ]
      },
      {
       "output_type": "stream",
       "stream": "stdout",
       "text": [
        "\n",
        "6545\n",
        "6547\n",
        "6549\n",
        "6551\n",
        "6553\n",
        "6555\n",
        "6557"
       ]
      },
      {
       "output_type": "stream",
       "stream": "stdout",
       "text": [
        "\n",
        "6560\n",
        "6562\n",
        "6564\n",
        "6566\n",
        "6568\n",
        "6570\n",
        "6572\n",
        "6574"
       ]
      },
      {
       "output_type": "stream",
       "stream": "stdout",
       "text": [
        "\n",
        "6576\n",
        "6578\n",
        "6580\n",
        "6582\n",
        "6584\n",
        "6586\n",
        "6588"
       ]
      },
      {
       "output_type": "stream",
       "stream": "stdout",
       "text": [
        "\n",
        "6590\n",
        "6592\n",
        "6594\n",
        "6596\n",
        "6598\n",
        "6600\n",
        "6602\n",
        "6604"
       ]
      },
      {
       "output_type": "stream",
       "stream": "stdout",
       "text": [
        "\n",
        "6606\n",
        "6608\n",
        "6610\n",
        "6612\n",
        "6614\n",
        "6616\n",
        "6618\n",
        "6620"
       ]
      },
      {
       "output_type": "stream",
       "stream": "stdout",
       "text": [
        "\n",
        "6622\n",
        "6624\n",
        "6626\n",
        "6628\n",
        "6630\n",
        "6632\n",
        "6634\n",
        "6636"
       ]
      },
      {
       "output_type": "stream",
       "stream": "stdout",
       "text": [
        "\n",
        "6638\n",
        "6640\n",
        "6642\n",
        "6644\n",
        "6646\n",
        "6648\n",
        "6650"
       ]
      },
      {
       "output_type": "stream",
       "stream": "stdout",
       "text": [
        "\n",
        "6652\n",
        "6655\n",
        "6657\n",
        "6659\n",
        "6662\n",
        "6664\n",
        "6666\n",
        "6668"
       ]
      },
      {
       "output_type": "stream",
       "stream": "stdout",
       "text": [
        "\n",
        "6670\n",
        "6672\n",
        "6675\n",
        "6677\n",
        "6679\n",
        "6681\n",
        "6683\n",
        "6685"
       ]
      },
      {
       "output_type": "stream",
       "stream": "stdout",
       "text": [
        "\n",
        "6687\n",
        "6689\n",
        "6691\n",
        "6693\n",
        "6695\n",
        "6697\n",
        "6699"
       ]
      },
      {
       "output_type": "stream",
       "stream": "stdout",
       "text": [
        "\n",
        "6701\n",
        "6703\n",
        "6705\n",
        "6707"
       ]
      },
      {
       "output_type": "stream",
       "stream": "stdout",
       "text": [
        "\n",
        "6709\n",
        "6712\n",
        "6714\n",
        "6716"
       ]
      },
      {
       "output_type": "stream",
       "stream": "stdout",
       "text": [
        "\n",
        "6718\n",
        "6720\n",
        "6722\n",
        "6724\n",
        "6726\n",
        "6728"
       ]
      },
      {
       "output_type": "stream",
       "stream": "stdout",
       "text": [
        "\n",
        "6730\n",
        "6732\n",
        "6734\n",
        "6736\n",
        "6738\n",
        "6740\n",
        "6742\n",
        "6744"
       ]
      },
      {
       "output_type": "stream",
       "stream": "stdout",
       "text": [
        "\n",
        "6746\n",
        "6748\n",
        "6750\n",
        "6752\n",
        "6754\n",
        "6756\n",
        "6758\n",
        "6760"
       ]
      },
      {
       "output_type": "stream",
       "stream": "stdout",
       "text": [
        "\n",
        "6762\n",
        "6764\n",
        "6766\n",
        "6768\n",
        "6770\n",
        "6772\n",
        "6774"
       ]
      },
      {
       "output_type": "stream",
       "stream": "stdout",
       "text": [
        "\n",
        "6776\n",
        "6778\n",
        "6780\n",
        "6782\n",
        "6784\n",
        "6786\n",
        "6788"
       ]
      },
      {
       "output_type": "stream",
       "stream": "stdout",
       "text": [
        "\n",
        "6791\n",
        "6793\n",
        "6795\n",
        "6798\n",
        "6800\n",
        "6802\n",
        "6804\n",
        "6806"
       ]
      },
      {
       "output_type": "stream",
       "stream": "stdout",
       "text": [
        "\n",
        "6808\n",
        "6810\n",
        "6812\n",
        "6814\n",
        "6816\n",
        "6818\n",
        "6820\n",
        "6822"
       ]
      },
      {
       "output_type": "stream",
       "stream": "stdout",
       "text": [
        "\n",
        "6824\n",
        "6826\n",
        "6828\n",
        "6830\n",
        "6832\n",
        "6834\n",
        "6836\n",
        "6838"
       ]
      },
      {
       "output_type": "stream",
       "stream": "stdout",
       "text": [
        "\n",
        "6840\n",
        "6842\n",
        "6844\n",
        "6846\n",
        "6849\n",
        "6851\n",
        "6854"
       ]
      },
      {
       "output_type": "stream",
       "stream": "stdout",
       "text": [
        "\n",
        "6856\n",
        "6858\n",
        "6861\n",
        "6863\n",
        "6865\n",
        "6867\n",
        "6869"
       ]
      },
      {
       "output_type": "stream",
       "stream": "stdout",
       "text": [
        "\n",
        "6871\n",
        "6873\n",
        "6875\n",
        "6877\n",
        "6879\n",
        "6881\n",
        "6883"
       ]
      },
      {
       "output_type": "stream",
       "stream": "stdout",
       "text": [
        "\n",
        "6885\n",
        "6887\n",
        "6889\n",
        "6891\n",
        "6893\n",
        "6895\n",
        "6897\n",
        "6899"
       ]
      },
      {
       "output_type": "stream",
       "stream": "stdout",
       "text": [
        "\n",
        "6902\n",
        "6904\n",
        "6906\n",
        "6908\n",
        "6910\n",
        "6912"
       ]
      },
      {
       "output_type": "stream",
       "stream": "stdout",
       "text": [
        "\n",
        "6914\n",
        "6916\n",
        "6918\n",
        "6920\n",
        "6922\n",
        "6924"
       ]
      },
      {
       "output_type": "stream",
       "stream": "stdout",
       "text": [
        "\n",
        "6926\n",
        "6928\n",
        "6930\n",
        "6932\n",
        "6934\n",
        "6936\n",
        "6938"
       ]
      },
      {
       "output_type": "stream",
       "stream": "stdout",
       "text": [
        "\n",
        "6940\n",
        "6942\n",
        "6945\n",
        "6947\n",
        "6949\n",
        "6951\n",
        "6953\n",
        "6955"
       ]
      },
      {
       "output_type": "stream",
       "stream": "stdout",
       "text": [
        "\n",
        "6957\n",
        "6959\n",
        "6961\n",
        "6963\n",
        "6965\n",
        "6967\n",
        "6969\n",
        "6971"
       ]
      },
      {
       "output_type": "stream",
       "stream": "stdout",
       "text": [
        "\n",
        "6973\n",
        "6975\n",
        "6977\n",
        "6979\n",
        "6981\n",
        "6983\n",
        "6986\n",
        "6988"
       ]
      },
      {
       "output_type": "stream",
       "stream": "stdout",
       "text": [
        "\n",
        "6990\n",
        "6992\n",
        "6994\n",
        "6996\n",
        "6998\n",
        "7000\n",
        "7002\n",
        "7004"
       ]
      },
      {
       "output_type": "stream",
       "stream": "stdout",
       "text": [
        "\n",
        "7006\n",
        "7008\n",
        "7010\n",
        "7012\n",
        "7014\n",
        "7016\n",
        "7018\n",
        "7020"
       ]
      },
      {
       "output_type": "stream",
       "stream": "stdout",
       "text": [
        "\n",
        "7022\n",
        "7024\n",
        "7026\n",
        "7028\n",
        "7030\n",
        "7032\n",
        "7035\n",
        "7037"
       ]
      },
      {
       "output_type": "stream",
       "stream": "stdout",
       "text": [
        "\n",
        "7039\n",
        "7041\n",
        "7043\n",
        "7045\n",
        "7047\n",
        "7049\n",
        "7051"
       ]
      },
      {
       "output_type": "stream",
       "stream": "stdout",
       "text": [
        "\n",
        "7053\n",
        "7055\n",
        "7057\n",
        "7059\n",
        "7061"
       ]
      },
      {
       "output_type": "stream",
       "stream": "stdout",
       "text": [
        "\n",
        "7063\n",
        "7065\n",
        "7067\n",
        "7069"
       ]
      },
      {
       "output_type": "stream",
       "stream": "stdout",
       "text": [
        "\n",
        "7071\n",
        "7073\n",
        "7075\n",
        "7077"
       ]
      },
      {
       "output_type": "stream",
       "stream": "stdout",
       "text": [
        "\n",
        "7079\n",
        "7081\n",
        "7083\n",
        "7085"
       ]
      },
      {
       "output_type": "stream",
       "stream": "stdout",
       "text": [
        "\n",
        "7087\n",
        "7089\n",
        "7091\n",
        "7093\n",
        "7095"
       ]
      },
      {
       "output_type": "stream",
       "stream": "stdout",
       "text": [
        "\n",
        "7097\n",
        "7100"
       ]
      },
      {
       "output_type": "stream",
       "stream": "stdout",
       "text": [
        "\n",
        "7102\n",
        "7104\n",
        "7106\n",
        "7108\n",
        "7110"
       ]
      },
      {
       "output_type": "stream",
       "stream": "stdout",
       "text": [
        "\n",
        "7112\n",
        "7114\n",
        "7116\n",
        "7118\n",
        "7120\n",
        "7122"
       ]
      },
      {
       "output_type": "stream",
       "stream": "stdout",
       "text": [
        "\n",
        "7124\n",
        "7126\n",
        "7128\n",
        "7130\n",
        "7132"
       ]
      },
      {
       "output_type": "stream",
       "stream": "stdout",
       "text": [
        "\n",
        "7134\n",
        "7136\n",
        "7138\n",
        "7140\n",
        "7142\n",
        "7144\n",
        "7146\n",
        "7148"
       ]
      },
      {
       "output_type": "stream",
       "stream": "stdout",
       "text": [
        "\n",
        "7150\n",
        "7152\n",
        "7154\n",
        "7156\n",
        "7158\n",
        "7160\n",
        "7162"
       ]
      },
      {
       "output_type": "stream",
       "stream": "stdout",
       "text": [
        "\n",
        "7164\n",
        "7166\n",
        "7168\n",
        "7170\n",
        "7172\n",
        "7174"
       ]
      },
      {
       "output_type": "stream",
       "stream": "stdout",
       "text": [
        "\n",
        "7176\n",
        "7178\n",
        "7180\n",
        "7182\n",
        "7184\n",
        "7186\n",
        "7188\n",
        "7190"
       ]
      },
      {
       "output_type": "stream",
       "stream": "stdout",
       "text": [
        "\n",
        "7192\n",
        "7194\n",
        "7196\n",
        "7198\n",
        "7200\n",
        "7202\n",
        "7204"
       ]
      },
      {
       "output_type": "stream",
       "stream": "stdout",
       "text": [
        "\n",
        "7206\n",
        "7208\n",
        "7210\n",
        "7212\n",
        "7215\n",
        "7217\n",
        "7219"
       ]
      },
      {
       "output_type": "stream",
       "stream": "stdout",
       "text": [
        "\n",
        "7221\n",
        "7223\n",
        "7225\n",
        "7227\n",
        "7229\n",
        "7231\n",
        "7234"
       ]
      },
      {
       "output_type": "stream",
       "stream": "stdout",
       "text": [
        "\n",
        "7236\n",
        "7238\n",
        "7240\n",
        "7242\n",
        "7244\n",
        "7246\n",
        "7248"
       ]
      },
      {
       "output_type": "stream",
       "stream": "stdout",
       "text": [
        "\n",
        "7250\n",
        "7252\n",
        "7254\n",
        "7256\n",
        "7258\n",
        "7261\n",
        "7263"
       ]
      },
      {
       "output_type": "stream",
       "stream": "stdout",
       "text": [
        "\n",
        "7265\n",
        "7267\n",
        "7269\n",
        "7271\n",
        "7273\n",
        "7276\n",
        "7278"
       ]
      },
      {
       "output_type": "stream",
       "stream": "stdout",
       "text": [
        "\n",
        "7280\n",
        "7282\n",
        "7284\n",
        "7286\n",
        "7288\n",
        "7290\n",
        "7292"
       ]
      },
      {
       "output_type": "stream",
       "stream": "stdout",
       "text": [
        "\n",
        "7294\n",
        "7296\n",
        "7298\n",
        "7300\n",
        "7302\n",
        "7304\n",
        "7306"
       ]
      },
      {
       "output_type": "stream",
       "stream": "stdout",
       "text": [
        "\n",
        "7308\n",
        "7310\n",
        "7312\n",
        "7314\n",
        "7316\n",
        "7318"
       ]
      },
      {
       "output_type": "stream",
       "stream": "stdout",
       "text": [
        "\n",
        "7320\n",
        "7322\n",
        "7324\n",
        "7326\n",
        "7328\n",
        "7331\n",
        "7333"
       ]
      },
      {
       "output_type": "stream",
       "stream": "stdout",
       "text": [
        "\n",
        "7335\n",
        "7337\n",
        "7339\n",
        "7342\n",
        "7345\n",
        "7347\n",
        "7349\n",
        "7351"
       ]
      },
      {
       "output_type": "stream",
       "stream": "stdout",
       "text": [
        "\n",
        "7353\n",
        "7356\n",
        "7358\n",
        "7360\n",
        "7362\n",
        "7364\n",
        "7366"
       ]
      },
      {
       "output_type": "stream",
       "stream": "stdout",
       "text": [
        "\n",
        "7368\n",
        "7370\n",
        "7372\n",
        "7374\n",
        "7376\n",
        "7378\n",
        "7380\n",
        "7383"
       ]
      },
      {
       "output_type": "stream",
       "stream": "stdout",
       "text": [
        "\n",
        "7385\n",
        "7387\n",
        "7389\n",
        "7391\n",
        "7393\n",
        "7395\n",
        "7397\n",
        "7399"
       ]
      },
      {
       "output_type": "stream",
       "stream": "stdout",
       "text": [
        "\n",
        "7401\n",
        "7403\n",
        "7405\n",
        "7407\n",
        "7409\n",
        "7411\n",
        "7413\n",
        "7415"
       ]
      },
      {
       "output_type": "stream",
       "stream": "stdout",
       "text": [
        "\n",
        "7417\n",
        "7419\n",
        "7421\n",
        "7423\n",
        "7425\n",
        "7427"
       ]
      },
      {
       "output_type": "stream",
       "stream": "stdout",
       "text": [
        "\n",
        "7429\n",
        "7431\n",
        "7433\n",
        "7435\n",
        "7437\n",
        "7439\n",
        "7441\n",
        "7443"
       ]
      },
      {
       "output_type": "stream",
       "stream": "stdout",
       "text": [
        "\n",
        "7445\n",
        "7447\n",
        "7449\n",
        "7451\n",
        "7453\n",
        "7456\n",
        "7458"
       ]
      },
      {
       "output_type": "stream",
       "stream": "stdout",
       "text": [
        "\n",
        "7460\n",
        "7462\n",
        "7464\n",
        "7467\n",
        "7469\n",
        "7471\n",
        "7473"
       ]
      },
      {
       "output_type": "stream",
       "stream": "stdout",
       "text": [
        "\n",
        "7475\n",
        "7477\n",
        "7479\n",
        "7481\n",
        "7483\n",
        "7485"
       ]
      },
      {
       "output_type": "stream",
       "stream": "stdout",
       "text": [
        "\n",
        "7487\n",
        "7489\n",
        "7491\n",
        "7494\n",
        "7496\n",
        "7498\n",
        "7500"
       ]
      },
      {
       "output_type": "stream",
       "stream": "stdout",
       "text": [
        "\n",
        "7502\n",
        "7504\n",
        "7508\n",
        "7510\n",
        "7512\n",
        "7514\n",
        "7516\n",
        "7518"
       ]
      },
      {
       "output_type": "stream",
       "stream": "stdout",
       "text": [
        "\n",
        "7520\n",
        "7523\n",
        "7525\n",
        "7527\n",
        "7529\n",
        "7531\n",
        "7533\n",
        "7535"
       ]
      },
      {
       "output_type": "stream",
       "stream": "stdout",
       "text": [
        "\n",
        "7537\n",
        "7539\n",
        "7541\n",
        "7543\n",
        "7545\n",
        "7547\n",
        "7549\n",
        "7553"
       ]
      },
      {
       "output_type": "stream",
       "stream": "stdout",
       "text": [
        "\n",
        "7555\n",
        "7558\n",
        "7560\n",
        "7563\n",
        "7565\n",
        "7567\n",
        "7569\n",
        "7571"
       ]
      },
      {
       "output_type": "stream",
       "stream": "stdout",
       "text": [
        "\n",
        "7573\n",
        "7575\n",
        "7577\n",
        "7579\n",
        "7581\n",
        "7583\n",
        "7585\n",
        "7587"
       ]
      },
      {
       "output_type": "stream",
       "stream": "stdout",
       "text": [
        "\n",
        "7589\n",
        "7591\n",
        "7593\n",
        "7595\n",
        "7597"
       ]
      },
      {
       "output_type": "stream",
       "stream": "stdout",
       "text": [
        "\n",
        "7599\n",
        "7601\n",
        "7603\n",
        "7605\n",
        "7607"
       ]
      },
      {
       "output_type": "stream",
       "stream": "stdout",
       "text": [
        "\n",
        "7609\n",
        "7612\n",
        "7614\n",
        "7616"
       ]
      },
      {
       "output_type": "stream",
       "stream": "stdout",
       "text": [
        "\n",
        "7618\n",
        "7620\n",
        "7622\n",
        "7624"
       ]
      },
      {
       "output_type": "stream",
       "stream": "stdout",
       "text": [
        "\n",
        "7626\n",
        "7628\n",
        "7630\n",
        "7633\n",
        "7635"
       ]
      },
      {
       "output_type": "stream",
       "stream": "stdout",
       "text": [
        "\n",
        "7637\n",
        "7639\n",
        "7641\n",
        "7644\n",
        "7646\n",
        "7648\n",
        "7650\n",
        "7652"
       ]
      },
      {
       "output_type": "stream",
       "stream": "stdout",
       "text": [
        "\n",
        "7654\n",
        "7656\n",
        "7658\n",
        "7660\n",
        "7662\n",
        "7664\n",
        "7666"
       ]
      },
      {
       "output_type": "stream",
       "stream": "stdout",
       "text": [
        "\n",
        "7668\n",
        "7670\n",
        "7672\n",
        "7674\n",
        "7676\n",
        "7678\n",
        "7681\n",
        "7683"
       ]
      },
      {
       "output_type": "stream",
       "stream": "stdout",
       "text": [
        "\n",
        "7685\n",
        "7687\n",
        "7689\n",
        "7691\n",
        "7693\n",
        "7695\n",
        "7697\n",
        "7699"
       ]
      },
      {
       "output_type": "stream",
       "stream": "stdout",
       "text": [
        "\n",
        "7701\n",
        "7703\n",
        "7705\n",
        "7707\n",
        "7709\n",
        "7711\n",
        "7713"
       ]
      },
      {
       "output_type": "stream",
       "stream": "stdout",
       "text": [
        "\n",
        "7716\n",
        "7719\n",
        "7721\n",
        "7723\n",
        "7725\n",
        "7727\n",
        "7729"
       ]
      },
      {
       "output_type": "stream",
       "stream": "stdout",
       "text": [
        "\n",
        "7731\n",
        "7733\n",
        "7735\n",
        "7737\n",
        "7739\n",
        "7741\n",
        "7743\n",
        "7745"
       ]
      },
      {
       "output_type": "stream",
       "stream": "stdout",
       "text": [
        "\n",
        "7747\n",
        "7750\n",
        "7752\n",
        "7754\n",
        "7757\n",
        "7759\n",
        "7761\n",
        "7763"
       ]
      },
      {
       "output_type": "stream",
       "stream": "stdout",
       "text": [
        "\n",
        "7767\n",
        "7769\n",
        "7771\n",
        "7773\n",
        "7775\n",
        "7777"
       ]
      },
      {
       "output_type": "stream",
       "stream": "stdout",
       "text": [
        "\n",
        "7779\n",
        "7781\n",
        "7783\n",
        "7785"
       ]
      },
      {
       "output_type": "stream",
       "stream": "stdout",
       "text": [
        "\n",
        "7787\n",
        "7789\n",
        "7791"
       ]
      },
      {
       "output_type": "stream",
       "stream": "stdout",
       "text": [
        "\n",
        "7793\n",
        "7795\n",
        "7797\n",
        "7799"
       ]
      },
      {
       "output_type": "stream",
       "stream": "stdout",
       "text": [
        "\n",
        "7802\n",
        "7804\n",
        "7806\n",
        "7808"
       ]
      },
      {
       "output_type": "stream",
       "stream": "stdout",
       "text": [
        "\n",
        "7810\n",
        "7812\n",
        "7814\n",
        "7816"
       ]
      },
      {
       "output_type": "stream",
       "stream": "stdout",
       "text": [
        "\n",
        "7818\n",
        "7820\n",
        "7822\n",
        "7824\n",
        "7826\n",
        "7828"
       ]
      },
      {
       "output_type": "stream",
       "stream": "stdout",
       "text": [
        "\n",
        "7830\n",
        "7833\n",
        "7835\n",
        "7837\n",
        "7839\n",
        "7841\n",
        "7843"
       ]
      },
      {
       "output_type": "stream",
       "stream": "stdout",
       "text": [
        "\n",
        "7846\n",
        "7848\n",
        "7851\n",
        "7853\n",
        "7855\n",
        "7857\n",
        "7859"
       ]
      },
      {
       "output_type": "stream",
       "stream": "stdout",
       "text": [
        "\n",
        "7861\n",
        "7863\n",
        "7865\n",
        "7867\n",
        "7869\n",
        "7871\n",
        "7873"
       ]
      },
      {
       "output_type": "stream",
       "stream": "stdout",
       "text": [
        "\n",
        "7875\n",
        "7877\n",
        "7879\n",
        "7881\n",
        "7883\n",
        "7885\n",
        "7887"
       ]
      },
      {
       "output_type": "stream",
       "stream": "stdout",
       "text": [
        "\n",
        "7889\n",
        "7891\n",
        "7893\n",
        "7896\n",
        "7898\n",
        "7900\n",
        "7902"
       ]
      },
      {
       "output_type": "stream",
       "stream": "stdout",
       "text": [
        "\n",
        "7905\n",
        "7907\n",
        "7909\n",
        "7911\n",
        "7913\n",
        "7915\n",
        "7917"
       ]
      },
      {
       "output_type": "stream",
       "stream": "stdout",
       "text": [
        "\n",
        "7919\n",
        "7921\n",
        "7923\n",
        "7926\n",
        "7928"
       ]
      },
      {
       "output_type": "stream",
       "stream": "stdout",
       "text": [
        "\n",
        "7930\n",
        "7932\n",
        "7934\n",
        "7936\n",
        "7938"
       ]
      },
      {
       "output_type": "stream",
       "stream": "stdout",
       "text": [
        "\n",
        "7940\n",
        "7943\n",
        "7945\n",
        "7947"
       ]
      },
      {
       "output_type": "stream",
       "stream": "stdout",
       "text": [
        "\n",
        "7949\n",
        "7951\n",
        "7953\n",
        "7955\n",
        "7957"
       ]
      },
      {
       "output_type": "stream",
       "stream": "stdout",
       "text": [
        "\n",
        "7959\n",
        "7961\n",
        "7963"
       ]
      },
      {
       "output_type": "stream",
       "stream": "stdout",
       "text": [
        "\n",
        "7966\n",
        "7968\n",
        "7970"
       ]
      },
      {
       "output_type": "stream",
       "stream": "stdout",
       "text": [
        "\n",
        "7972\n",
        "7974\n",
        "7976"
       ]
      },
      {
       "output_type": "stream",
       "stream": "stdout",
       "text": [
        "\n",
        "7978\n",
        "7980\n",
        "7982"
       ]
      },
      {
       "output_type": "stream",
       "stream": "stdout",
       "text": [
        "\n",
        "7984\n",
        "7987\n",
        "7989\n",
        "7991\n",
        "7993"
       ]
      },
      {
       "output_type": "stream",
       "stream": "stdout",
       "text": [
        "\n",
        "7995\n",
        "7997\n",
        "7999\n",
        "8001\n",
        "8003\n",
        "8005"
       ]
      },
      {
       "output_type": "stream",
       "stream": "stdout",
       "text": [
        "\n",
        "8007\n",
        "8009\n",
        "8011\n",
        "8013\n",
        "8015"
       ]
      },
      {
       "output_type": "stream",
       "stream": "stdout",
       "text": [
        "\n",
        "8017\n",
        "8019\n",
        "8021"
       ]
      },
      {
       "output_type": "stream",
       "stream": "stdout",
       "text": [
        "\n",
        "8023\n",
        "8025\n",
        "8027\n",
        "8029"
       ]
      },
      {
       "output_type": "stream",
       "stream": "stdout",
       "text": [
        "\n",
        "8031\n",
        "8033\n",
        "8035\n",
        "8037\n",
        "8039"
       ]
      },
      {
       "output_type": "stream",
       "stream": "stdout",
       "text": [
        "\n",
        "8041\n",
        "8043\n",
        "8045\n",
        "8047\n",
        "8049\n",
        "8051\n",
        "8053"
       ]
      },
      {
       "output_type": "stream",
       "stream": "stdout",
       "text": [
        "\n",
        "8055\n",
        "8057\n",
        "8060\n",
        "8062\n",
        "8064\n",
        "8067\n",
        "8069"
       ]
      },
      {
       "output_type": "stream",
       "stream": "stdout",
       "text": [
        "\n",
        "8071\n",
        "8073\n",
        "8075\n",
        "8077\n",
        "8079\n",
        "8081"
       ]
      },
      {
       "output_type": "stream",
       "stream": "stdout",
       "text": [
        "\n",
        "8083\n",
        "8085\n",
        "8087\n",
        "8089\n",
        "8091\n",
        "8093"
       ]
      },
      {
       "output_type": "stream",
       "stream": "stdout",
       "text": [
        "\n",
        "8095\n",
        "8097\n",
        "8099\n",
        "8101\n",
        "8103\n",
        "8105"
       ]
      },
      {
       "output_type": "stream",
       "stream": "stdout",
       "text": [
        "\n",
        "8107\n",
        "8109\n",
        "8111\n",
        "8113\n",
        "8115\n",
        "8117"
       ]
      },
      {
       "output_type": "stream",
       "stream": "stdout",
       "text": [
        "\n",
        "8120\n",
        "8122\n",
        "8124\n",
        "8126\n",
        "8128\n",
        "8130"
       ]
      },
      {
       "output_type": "stream",
       "stream": "stdout",
       "text": [
        "\n",
        "8132\n",
        "8134\n",
        "8136\n",
        "8138\n",
        "8140\n",
        "8142\n",
        "8144"
       ]
      },
      {
       "output_type": "stream",
       "stream": "stdout",
       "text": [
        "\n",
        "8146\n",
        "8148\n",
        "8150\n",
        "8152\n",
        "8154\n",
        "8156\n",
        "8158"
       ]
      },
      {
       "output_type": "stream",
       "stream": "stdout",
       "text": [
        "\n",
        "8160\n",
        "8162\n",
        "8164\n",
        "8166\n",
        "8169\n",
        "8172\n",
        "8174"
       ]
      },
      {
       "output_type": "stream",
       "stream": "stdout",
       "text": [
        "\n",
        "8176\n",
        "8178\n",
        "8181\n",
        "8183\n",
        "8185\n",
        "8187\n",
        "8189"
       ]
      },
      {
       "output_type": "stream",
       "stream": "stdout",
       "text": [
        "\n",
        "8191\n",
        "8193\n",
        "8195\n",
        "8197\n",
        "8199\n",
        "8201\n",
        "8203"
       ]
      },
      {
       "output_type": "stream",
       "stream": "stdout",
       "text": [
        "\n",
        "8205\n",
        "8207\n",
        "8209\n",
        "8211"
       ]
      },
      {
       "output_type": "stream",
       "stream": "stdout",
       "text": [
        "\n",
        "8213\n",
        "8215\n",
        "8218\n",
        "8220\n",
        "8222\n",
        "8225"
       ]
      },
      {
       "output_type": "stream",
       "stream": "stdout",
       "text": [
        "\n",
        "8227\n",
        "8231\n",
        "8233\n",
        "8235\n",
        "8237\n",
        "8239"
       ]
      },
      {
       "output_type": "stream",
       "stream": "stdout",
       "text": [
        "\n",
        "8241\n",
        "8243\n",
        "8245\n",
        "8247\n",
        "8249\n",
        "8251"
       ]
      },
      {
       "output_type": "stream",
       "stream": "stdout",
       "text": [
        "\n",
        "8253\n",
        "8255\n",
        "8257\n",
        "8259\n",
        "8261\n",
        "8263"
       ]
      },
      {
       "output_type": "stream",
       "stream": "stdout",
       "text": [
        "\n",
        "8265\n",
        "8267\n",
        "8269\n",
        "8271\n",
        "8273\n",
        "8275"
       ]
      },
      {
       "output_type": "stream",
       "stream": "stdout",
       "text": [
        "\n",
        "8277\n",
        "8279\n",
        "8282\n",
        "8284\n",
        "8286\n",
        "8289"
       ]
      },
      {
       "output_type": "stream",
       "stream": "stdout",
       "text": [
        "\n",
        "8291\n",
        "8293\n",
        "8295\n",
        "8297\n",
        "8299\n",
        "8302"
       ]
      },
      {
       "output_type": "stream",
       "stream": "stdout",
       "text": [
        "\n",
        "8304\n",
        "8306\n",
        "8308\n",
        "8311\n",
        "8313\n",
        "8315"
       ]
      },
      {
       "output_type": "stream",
       "stream": "stdout",
       "text": [
        "\n",
        "8319\n",
        "8321\n",
        "8323\n",
        "8325\n",
        "8327\n",
        "8329"
       ]
      },
      {
       "output_type": "stream",
       "stream": "stdout",
       "text": [
        "\n",
        "8331\n",
        "8335\n",
        "8337\n",
        "8339\n",
        "8341\n",
        "8343"
       ]
      },
      {
       "output_type": "stream",
       "stream": "stdout",
       "text": [
        "\n",
        "8345\n",
        "8347\n",
        "8349\n",
        "8351\n",
        "8355\n",
        "8357\n",
        "8359"
       ]
      },
      {
       "output_type": "stream",
       "stream": "stdout",
       "text": [
        "\n",
        "8361\n",
        "8363\n",
        "8365\n",
        "8368\n",
        "8370\n",
        "8372\n",
        "8375"
       ]
      },
      {
       "output_type": "stream",
       "stream": "stdout",
       "text": [
        "\n",
        "8377\n",
        "8379\n",
        "8381\n",
        "8383\n",
        "8386\n",
        "8388"
       ]
      },
      {
       "output_type": "stream",
       "stream": "stdout",
       "text": [
        "\n",
        "8390\n",
        "8392\n",
        "8395\n",
        "8397\n",
        "8399\n",
        "8401"
       ]
      },
      {
       "output_type": "stream",
       "stream": "stdout",
       "text": [
        "\n",
        "8403\n",
        "8405\n",
        "8407\n",
        "8409\n",
        "8411\n",
        "8413"
       ]
      },
      {
       "output_type": "stream",
       "stream": "stdout",
       "text": [
        "\n",
        "8415\n",
        "8417\n",
        "8419\n",
        "8421\n",
        "8423\n",
        "8425"
       ]
      },
      {
       "output_type": "stream",
       "stream": "stdout",
       "text": [
        "\n",
        "8427\n",
        "8429\n",
        "8431\n",
        "8433\n",
        "8436\n",
        "8438\n",
        "8440"
       ]
      },
      {
       "output_type": "stream",
       "stream": "stdout",
       "text": [
        "\n",
        "8442\n",
        "8444\n",
        "8446\n",
        "8448\n",
        "8450\n",
        "8453"
       ]
      },
      {
       "output_type": "stream",
       "stream": "stdout",
       "text": [
        "\n",
        "8455\n",
        "8457\n",
        "8459\n",
        "8461\n",
        "8463\n",
        "8465"
       ]
      },
      {
       "output_type": "stream",
       "stream": "stdout",
       "text": [
        "\n",
        "8467\n",
        "8469\n",
        "8471\n",
        "8474\n",
        "8476\n",
        "8478"
       ]
      },
      {
       "output_type": "stream",
       "stream": "stdout",
       "text": [
        "\n",
        "8480\n",
        "8482\n",
        "8484\n",
        "8486\n",
        "8488\n",
        "8490\n",
        "8492"
       ]
      },
      {
       "output_type": "stream",
       "stream": "stdout",
       "text": [
        "\n",
        "8494\n",
        "8496\n",
        "8498\n",
        "8500\n",
        "8502\n",
        "8505\n",
        "8507"
       ]
      },
      {
       "output_type": "stream",
       "stream": "stdout",
       "text": [
        "\n",
        "8509\n",
        "8511\n",
        "8513\n",
        "8515\n",
        "8517\n",
        "8519"
       ]
      },
      {
       "output_type": "stream",
       "stream": "stdout",
       "text": [
        "\n",
        "8522\n",
        "8524\n",
        "8526\n",
        "8528\n",
        "8530\n",
        "8532\n",
        "8534"
       ]
      },
      {
       "output_type": "stream",
       "stream": "stdout",
       "text": [
        "\n",
        "8536\n",
        "8541\n",
        "8543\n",
        "8545\n",
        "8547\n",
        "8549\n",
        "8551"
       ]
      },
      {
       "output_type": "stream",
       "stream": "stdout",
       "text": [
        "\n",
        "8553\n",
        "8555\n",
        "8559\n",
        "8561\n",
        "8563\n",
        "8565\n",
        "8567"
       ]
      },
      {
       "output_type": "stream",
       "stream": "stdout",
       "text": [
        "\n",
        "8569\n",
        "8571\n",
        "8573\n",
        "8575\n",
        "8577\n",
        "8580\n",
        "8583"
       ]
      },
      {
       "output_type": "stream",
       "stream": "stdout",
       "text": [
        "\n",
        "8585\n",
        "8587\n",
        "8589\n",
        "8591\n",
        "8593\n",
        "8595\n",
        "8597"
       ]
      },
      {
       "output_type": "stream",
       "stream": "stdout",
       "text": [
        "\n",
        "8599\n",
        "8601\n",
        "8603\n",
        "8605\n",
        "8607\n",
        "8609"
       ]
      },
      {
       "output_type": "stream",
       "stream": "stdout",
       "text": [
        "\n",
        "8611\n",
        "8613\n",
        "8615\n",
        "8617\n",
        "8619"
       ]
      },
      {
       "output_type": "stream",
       "stream": "stdout",
       "text": [
        "\n",
        "8622\n",
        "8624\n",
        "8626\n",
        "8628\n",
        "8631\n",
        "8634\n",
        "8636"
       ]
      },
      {
       "output_type": "stream",
       "stream": "stdout",
       "text": [
        "\n",
        "8638\n",
        "8640\n",
        "8642\n",
        "8644\n",
        "8646\n",
        "8648\n",
        "8650"
       ]
      },
      {
       "output_type": "stream",
       "stream": "stdout",
       "text": [
        "\n",
        "8652\n",
        "8654\n",
        "8656\n",
        "8658\n",
        "8660\n",
        "8662\n",
        "8664"
       ]
      },
      {
       "output_type": "stream",
       "stream": "stdout",
       "text": [
        "\n",
        "8666\n",
        "8668\n",
        "8670\n",
        "8672\n",
        "8675\n",
        "8677\n",
        "8679\n",
        "8681"
       ]
      },
      {
       "output_type": "stream",
       "stream": "stdout",
       "text": [
        "\n",
        "8683\n",
        "8685\n",
        "8687\n",
        "8689\n",
        "8691\n",
        "8693\n",
        "8695\n",
        "8697"
       ]
      },
      {
       "output_type": "stream",
       "stream": "stdout",
       "text": [
        "\n",
        "8699\n",
        "8701\n",
        "8705\n",
        "8707\n",
        "8709\n",
        "8712\n",
        "8715\n",
        "8717"
       ]
      },
      {
       "output_type": "stream",
       "stream": "stdout",
       "text": [
        "\n",
        "8719\n",
        "8721\n",
        "8725\n",
        "8727\n",
        "8729\n",
        "8732"
       ]
      },
      {
       "output_type": "stream",
       "stream": "stdout",
       "text": [
        "\n",
        "8734\n",
        "8736\n",
        "8738\n",
        "8740"
       ]
      },
      {
       "output_type": "stream",
       "stream": "stdout",
       "text": [
        "\n",
        "8742\n",
        "8744\n",
        "8746\n",
        "8748"
       ]
      },
      {
       "output_type": "stream",
       "stream": "stdout",
       "text": [
        "\n",
        "8750\n",
        "8754\n",
        "8756"
       ]
      },
      {
       "output_type": "stream",
       "stream": "stdout",
       "text": [
        "\n",
        "8758\n",
        "8760\n",
        "8762\n",
        "8765\n",
        "8767"
       ]
      },
      {
       "output_type": "stream",
       "stream": "stdout",
       "text": [
        "\n",
        "8769\n",
        "8771\n",
        "8773\n",
        "8775\n",
        "8777\n",
        "8779\n",
        "8781\n",
        "8784"
       ]
      },
      {
       "output_type": "stream",
       "stream": "stdout",
       "text": [
        "\n",
        "8786\n",
        "8788\n",
        "8790\n",
        "8793\n",
        "8795\n",
        "8797\n",
        "8800\n",
        "8802"
       ]
      },
      {
       "output_type": "stream",
       "stream": "stdout",
       "text": [
        "\n",
        "8804\n",
        "8806\n",
        "8808\n",
        "8810\n",
        "8812\n",
        "8814\n",
        "8816\n",
        "8818"
       ]
      },
      {
       "output_type": "stream",
       "stream": "stdout",
       "text": [
        "\n",
        "8820\n",
        "8822\n",
        "8824\n",
        "8828\n",
        "8830\n",
        "8832\n",
        "8834"
       ]
      },
      {
       "output_type": "stream",
       "stream": "stdout",
       "text": [
        "\n",
        "8836\n",
        "8838\n",
        "8840\n",
        "8842\n",
        "8844\n",
        "8846\n",
        "8848"
       ]
      },
      {
       "output_type": "stream",
       "stream": "stdout",
       "text": [
        "\n",
        "8851\n",
        "8853\n",
        "8856\n",
        "8858\n",
        "8860\n",
        "8862\n",
        "8864\n",
        "8866"
       ]
      },
      {
       "output_type": "stream",
       "stream": "stdout",
       "text": [
        "\n",
        "8868\n",
        "8870\n",
        "8872\n",
        "8874\n",
        "8876\n",
        "8879\n",
        "8881"
       ]
      },
      {
       "output_type": "stream",
       "stream": "stdout",
       "text": [
        "\n",
        "8883\n",
        "8885\n",
        "8887\n",
        "8889\n",
        "8891"
       ]
      },
      {
       "output_type": "stream",
       "stream": "stdout",
       "text": [
        "\n",
        "8894\n",
        "8896\n",
        "8898\n",
        "8900"
       ]
      },
      {
       "output_type": "stream",
       "stream": "stdout",
       "text": [
        "\n",
        "8902\n",
        "8904\n",
        "8906\n",
        "8908"
       ]
      },
      {
       "output_type": "stream",
       "stream": "stdout",
       "text": [
        "\n",
        "8910\n",
        "8912\n",
        "8914\n",
        "8916"
       ]
      },
      {
       "output_type": "stream",
       "stream": "stdout",
       "text": [
        "\n",
        "8918\n",
        "8920\n",
        "8922\n",
        "8924\n",
        "8926"
       ]
      },
      {
       "output_type": "stream",
       "stream": "stdout",
       "text": [
        "\n",
        "8930\n",
        "8932\n",
        "8935\n",
        "8937\n",
        "8939"
       ]
      },
      {
       "output_type": "stream",
       "stream": "stdout",
       "text": [
        "\n",
        "8941\n",
        "8944\n",
        "8948\n",
        "8951\n",
        "8953\n",
        "8956\n",
        "8958\n",
        "8960"
       ]
      },
      {
       "output_type": "stream",
       "stream": "stdout",
       "text": [
        "\n",
        "8966\n",
        "8968\n",
        "8970\n",
        "8972\n",
        "8974\n",
        "8976\n",
        "8978\n",
        "8981"
       ]
      },
      {
       "output_type": "stream",
       "stream": "stdout",
       "text": [
        "\n",
        "8985\n",
        "8987\n",
        "8989\n",
        "8992\n",
        "8994\n",
        "8996\n",
        "8998\n",
        "9000"
       ]
      },
      {
       "output_type": "stream",
       "stream": "stdout",
       "text": [
        "\n",
        "9002\n",
        "9005\n",
        "9007\n",
        "9009\n",
        "9011\n",
        "9013\n",
        "9015\n",
        "9019"
       ]
      },
      {
       "output_type": "stream",
       "stream": "stdout",
       "text": [
        "\n",
        "9021\n",
        "9023\n",
        "9026\n",
        "9028\n",
        "9031\n",
        "9033\n",
        "9035"
       ]
      },
      {
       "output_type": "stream",
       "stream": "stdout",
       "text": [
        "\n",
        "9037\n",
        "9039\n",
        "9042\n",
        "9045\n",
        "9048\n",
        "9050\n",
        "9052\n",
        "9054"
       ]
      },
      {
       "output_type": "stream",
       "stream": "stdout",
       "text": [
        "\n",
        "9056\n",
        "9058\n",
        "9060\n",
        "9062\n",
        "9064\n",
        "9066\n",
        "9068\n",
        "9070"
       ]
      },
      {
       "output_type": "stream",
       "stream": "stdout",
       "text": [
        "\n",
        "9072\n",
        "9075\n",
        "9078\n",
        "9080"
       ]
      },
      {
       "output_type": "stream",
       "stream": "stdout",
       "text": [
        "\n",
        "9082\n",
        "9084\n",
        "9086\n",
        "9088"
       ]
      },
      {
       "output_type": "stream",
       "stream": "stdout",
       "text": [
        "\n",
        "9090\n",
        "9093\n",
        "9095\n",
        "9099"
       ]
      },
      {
       "output_type": "stream",
       "stream": "stdout",
       "text": [
        "\n",
        "9101\n",
        "9103\n",
        "9105\n",
        "9109"
       ]
      },
      {
       "output_type": "stream",
       "stream": "stdout",
       "text": [
        "\n",
        "9111\n",
        "9113\n",
        "9115\n",
        "9117"
       ]
      },
      {
       "output_type": "stream",
       "stream": "stdout",
       "text": [
        "\n",
        "9119\n",
        "9122\n",
        "9124\n",
        "9126"
       ]
      },
      {
       "output_type": "stream",
       "stream": "stdout",
       "text": [
        "\n",
        "9128\n",
        "9131\n",
        "9133\n",
        "9136\n",
        "9138"
       ]
      },
      {
       "output_type": "stream",
       "stream": "stdout",
       "text": [
        "\n",
        "9141\n",
        "9143\n",
        "9145\n",
        "9148\n",
        "9150\n",
        "9152"
       ]
      },
      {
       "output_type": "stream",
       "stream": "stdout",
       "text": [
        "\n",
        "9154\n",
        "9156\n",
        "9158\n",
        "9161"
       ]
      },
      {
       "output_type": "stream",
       "stream": "stdout",
       "text": [
        "\n",
        "9163\n",
        "9165\n",
        "9167\n",
        "9169"
       ]
      },
      {
       "output_type": "stream",
       "stream": "stdout",
       "text": [
        "\n",
        "9172\n",
        "9175\n",
        "9177\n",
        "9179\n",
        "9181"
       ]
      },
      {
       "output_type": "stream",
       "stream": "stdout",
       "text": [
        "\n",
        "9183\n",
        "9185\n",
        "9188\n",
        "9191"
       ]
      },
      {
       "output_type": "stream",
       "stream": "stdout",
       "text": [
        "\n",
        "9193\n",
        "9195\n",
        "9197\n",
        "9200"
       ]
      },
      {
       "output_type": "stream",
       "stream": "stdout",
       "text": [
        "\n",
        "9202\n",
        "9204\n",
        "9207\n",
        "9210"
       ]
      },
      {
       "output_type": "stream",
       "stream": "stdout",
       "text": [
        "\n",
        "9213\n",
        "9216\n",
        "9218\n",
        "9221\n",
        "9223"
       ]
      },
      {
       "output_type": "stream",
       "stream": "stdout",
       "text": [
        "\n",
        "9225\n",
        "9228\n",
        "9231\n",
        "9233\n",
        "9236"
       ]
      },
      {
       "output_type": "stream",
       "stream": "stdout",
       "text": [
        "\n",
        "9239\n",
        "9241\n",
        "9245\n",
        "9247\n",
        "9249\n",
        "9251"
       ]
      },
      {
       "output_type": "stream",
       "stream": "stdout",
       "text": [
        "\n",
        "9253\n",
        "9256\n",
        "9259\n",
        "9261\n",
        "9263\n",
        "9265\n",
        "9267"
       ]
      },
      {
       "output_type": "stream",
       "stream": "stdout",
       "text": [
        "\n",
        "9271\n",
        "9273\n",
        "9275\n",
        "9277\n",
        "9283\n",
        "9285\n",
        "9287\n",
        "9289"
       ]
      },
      {
       "output_type": "stream",
       "stream": "stdout",
       "text": [
        "\n",
        "9292\n",
        "9294\n",
        "9297\n",
        "9299\n",
        "9301\n",
        "9303\n",
        "9305\n",
        "9307"
       ]
      },
      {
       "output_type": "stream",
       "stream": "stdout",
       "text": [
        "\n",
        "9309\n",
        "9312\n",
        "9314\n",
        "9316\n",
        "9318\n",
        "9320\n",
        "9322\n",
        "9324"
       ]
      },
      {
       "output_type": "stream",
       "stream": "stdout",
       "text": [
        "\n",
        "9327\n",
        "9329\n",
        "9331\n",
        "9333\n",
        "9335\n",
        "9338\n",
        "9340"
       ]
      },
      {
       "output_type": "stream",
       "stream": "stdout",
       "text": [
        "\n",
        "9342\n",
        "9344\n",
        "9346\n",
        "9348\n",
        "9351\n",
        "9353\n",
        "9356"
       ]
      },
      {
       "output_type": "stream",
       "stream": "stdout",
       "text": [
        "\n",
        "9358\n",
        "9360\n",
        "9363\n",
        "9365"
       ]
      },
      {
       "output_type": "stream",
       "stream": "stdout",
       "text": [
        "\n",
        "9367\n",
        "9377\n",
        "9381\n",
        "9385"
       ]
      },
      {
       "output_type": "stream",
       "stream": "stdout",
       "text": [
        "\n",
        "9387\n",
        "9389\n",
        "9391\n",
        "9393\n",
        "9395"
       ]
      },
      {
       "output_type": "stream",
       "stream": "stdout",
       "text": [
        "\n",
        "9398\n",
        "9401\n",
        "9403\n",
        "9407"
       ]
      },
      {
       "output_type": "stream",
       "stream": "stdout",
       "text": [
        "\n",
        "9409\n",
        "9412\n",
        "9414\n",
        "9416\n",
        "9419"
       ]
      },
      {
       "output_type": "stream",
       "stream": "stdout",
       "text": [
        "\n",
        "9421\n",
        "9423\n",
        "9425\n",
        "9427"
       ]
      },
      {
       "output_type": "stream",
       "stream": "stdout",
       "text": [
        "\n",
        "9429\n",
        "9432\n",
        "9434\n",
        "9436"
       ]
      },
      {
       "output_type": "stream",
       "stream": "stdout",
       "text": [
        "\n",
        "9438\n",
        "9440\n",
        "9442\n",
        "9446"
       ]
      },
      {
       "output_type": "stream",
       "stream": "stdout",
       "text": [
        "\n",
        "9450\n",
        "9452\n",
        "9454\n",
        "9457"
       ]
      },
      {
       "output_type": "stream",
       "stream": "stdout",
       "text": [
        "\n",
        "9461\n",
        "9463\n",
        "9465\n",
        "9468"
       ]
      },
      {
       "output_type": "stream",
       "stream": "stdout",
       "text": [
        "\n",
        "9470\n",
        "9473\n",
        "9475\n",
        "9478\n",
        "9480"
       ]
      },
      {
       "output_type": "stream",
       "stream": "stdout",
       "text": [
        "\n",
        "9485\n",
        "9487\n",
        "9491\n",
        "9493"
       ]
      },
      {
       "output_type": "stream",
       "stream": "stdout",
       "text": [
        "\n",
        "9495\n",
        "9498\n",
        "9500\n",
        "9503"
       ]
      },
      {
       "output_type": "stream",
       "stream": "stdout",
       "text": [
        "\n",
        "9505\n",
        "9507\n",
        "9510\n",
        "9513"
       ]
      },
      {
       "output_type": "stream",
       "stream": "stdout",
       "text": [
        "\n",
        "9515\n",
        "9517\n",
        "9519\n",
        "9521"
       ]
      },
      {
       "output_type": "stream",
       "stream": "stdout",
       "text": [
        "\n",
        "9524\n",
        "9527\n",
        "9532\n",
        "9534\n",
        "9536"
       ]
      },
      {
       "output_type": "stream",
       "stream": "stdout",
       "text": [
        "\n",
        "9540\n",
        "9542\n",
        "9546\n",
        "9549"
       ]
      },
      {
       "output_type": "stream",
       "stream": "stdout",
       "text": [
        "\n",
        "9552\n",
        "9554\n",
        "9557\n",
        "9560"
       ]
      },
      {
       "output_type": "stream",
       "stream": "stdout",
       "text": [
        "\n",
        "9562\n",
        "9565\n",
        "9567\n",
        "9569"
       ]
      },
      {
       "output_type": "stream",
       "stream": "stdout",
       "text": [
        "\n",
        "9571\n",
        "9573\n",
        "9575\n",
        "9577"
       ]
      },
      {
       "output_type": "stream",
       "stream": "stdout",
       "text": [
        "\n",
        "9582\n",
        "9587\n",
        "9589\n",
        "9591\n",
        "9593"
       ]
      },
      {
       "output_type": "stream",
       "stream": "stdout",
       "text": [
        "\n",
        "9595\n",
        "9598\n",
        "9601\n",
        "9604\n",
        "9608\n",
        "9610\n",
        "9612"
       ]
      },
      {
       "output_type": "stream",
       "stream": "stdout",
       "text": [
        "\n",
        "9616\n",
        "9618\n",
        "9621\n",
        "9624\n",
        "9626\n",
        "9628\n",
        "9630\n",
        "9634"
       ]
      },
      {
       "output_type": "stream",
       "stream": "stdout",
       "text": [
        "\n",
        "9636\n",
        "9639\n",
        "9643\n",
        "9646\n",
        "9648\n",
        "9650\n",
        "9653\n",
        "9655"
       ]
      },
      {
       "output_type": "stream",
       "stream": "stdout",
       "text": [
        "\n",
        "9657\n",
        "9660\n",
        "9663\n",
        "9665\n",
        "9668\n",
        "9671\n",
        "9677\n",
        "9679"
       ]
      },
      {
       "output_type": "stream",
       "stream": "stdout",
       "text": [
        "\n",
        "9681\n",
        "9684\n",
        "9687\n",
        "9693\n",
        "9696\n",
        "9698\n",
        "9701"
       ]
      },
      {
       "output_type": "stream",
       "stream": "stdout",
       "text": [
        "\n",
        "9704\n",
        "9708\n",
        "9710\n",
        "9712\n",
        "9714\n",
        "9717\n",
        "9719"
       ]
      },
      {
       "output_type": "stream",
       "stream": "stdout",
       "text": [
        "\n",
        "9723\n",
        "9725\n",
        "9727\n",
        "9729\n",
        "9731\n",
        "9733\n",
        "9735"
       ]
      },
      {
       "output_type": "stream",
       "stream": "stdout",
       "text": [
        "\n",
        "9738\n",
        "9740\n",
        "9742\n",
        "9745\n",
        "9747\n",
        "9749\n",
        "9751"
       ]
      },
      {
       "output_type": "stream",
       "stream": "stdout",
       "text": [
        "\n",
        "9753\n",
        "9758\n",
        "9760\n",
        "9762\n",
        "9765\n",
        "9768\n",
        "9770\n",
        "9772"
       ]
      },
      {
       "output_type": "stream",
       "stream": "stdout",
       "text": [
        "\n",
        "9774\n",
        "9778\n",
        "9781\n",
        "9783\n",
        "9787\n",
        "9789\n",
        "9791\n",
        "9794"
       ]
      },
      {
       "output_type": "stream",
       "stream": "stdout",
       "text": [
        "\n",
        "9797\n",
        "9800\n",
        "9803\n",
        "9805\n",
        "9807\n",
        "9810\n",
        "9812\n",
        "9814"
       ]
      },
      {
       "output_type": "stream",
       "stream": "stdout",
       "text": [
        "\n",
        "9816\n",
        "9818\n",
        "9820\n",
        "9824\n",
        "9826\n",
        "9828\n",
        "9831\n",
        "9833"
       ]
      },
      {
       "output_type": "stream",
       "stream": "stdout",
       "text": [
        "\n",
        "9835\n",
        "9837\n",
        "9839\n",
        "9841\n",
        "9843\n",
        "9845\n",
        "9847\n",
        "9849"
       ]
      },
      {
       "output_type": "stream",
       "stream": "stdout",
       "text": [
        "\n",
        "9851\n",
        "9853\n",
        "9855\n",
        "9857\n",
        "9859\n",
        "9861\n",
        "9866\n",
        "9878"
       ]
      },
      {
       "output_type": "stream",
       "stream": "stdout",
       "text": [
        "\n",
        "9890\n",
        "9902\n",
        "9914\n",
        "9926\n",
        "9938"
       ]
      },
      {
       "output_type": "stream",
       "stream": "stdout",
       "text": [
        "\n",
        "9940\n",
        "9952\n",
        "9964"
       ]
      },
      {
       "output_type": "stream",
       "stream": "stdout",
       "text": [
        "\n",
        "9976\n",
        "9988\n",
        "10000"
       ]
      },
      {
       "output_type": "stream",
       "stream": "stdout",
       "text": [
        "\n",
        "10012\n",
        "10024\n",
        "10036"
       ]
      },
      {
       "output_type": "stream",
       "stream": "stdout",
       "text": [
        "\n",
        "10048\n",
        "10060\n",
        "10062"
       ]
      },
      {
       "output_type": "stream",
       "stream": "stdout",
       "text": [
        "\n",
        "10074\n",
        "10086\n",
        "10098\n",
        "10110\n",
        "10122"
       ]
      },
      {
       "output_type": "stream",
       "stream": "stdout",
       "text": [
        "\n",
        "10134\n",
        "10137\n",
        "10139\n",
        "10141\n",
        "10143\n",
        "10145\n",
        "10147"
       ]
      },
      {
       "output_type": "stream",
       "stream": "stdout",
       "text": [
        "\n",
        "10149\n",
        "10151\n",
        "10153\n",
        "10155\n",
        "10157\n",
        "10159\n",
        "10161\n",
        "10163"
       ]
      },
      {
       "output_type": "stream",
       "stream": "stdout",
       "text": [
        "\n",
        "10165\n",
        "10167\n",
        "10169\n",
        "10171\n",
        "10173\n",
        "10175\n",
        "10177"
       ]
      },
      {
       "output_type": "stream",
       "stream": "stdout",
       "text": [
        "\n",
        "10179\n",
        "10181\n",
        "10183\n",
        "10185\n",
        "10187\n",
        "10189\n",
        "10191"
       ]
      },
      {
       "output_type": "stream",
       "stream": "stdout",
       "text": [
        "\n",
        "10193\n",
        "10195\n",
        "10197\n",
        "10199\n",
        "10201\n",
        "10203\n",
        "10205\n",
        "10207"
       ]
      },
      {
       "output_type": "stream",
       "stream": "stdout",
       "text": [
        "\n",
        "10209\n",
        "10211\n",
        "10213\n",
        "10215\n",
        "10217\n",
        "10219\n",
        "10221\n",
        "10223"
       ]
      },
      {
       "output_type": "stream",
       "stream": "stdout",
       "text": [
        "\n",
        "10225\n",
        "10227\n",
        "10229\n",
        "10231\n",
        "10233\n",
        "10235\n",
        "10237\n",
        "10239"
       ]
      },
      {
       "output_type": "stream",
       "stream": "stdout",
       "text": [
        "\n",
        "10241\n",
        "10243\n",
        "10245\n",
        "10247\n",
        "10249\n",
        "10251\n",
        "10253\n",
        "10255"
       ]
      },
      {
       "output_type": "stream",
       "stream": "stdout",
       "text": [
        "\n",
        "10257\n",
        "10259\n",
        "10261\n",
        "10263\n",
        "10265\n",
        "10267\n",
        "10269\n"
       ]
      },
      {
       "output_type": "stream",
       "stream": "stdout",
       "text": [
        "10271\n",
        "10273\n",
        "10275\n",
        "10277\n",
        "10279\n",
        "10281\n",
        "10283\n",
        "10285\n",
        "10287"
       ]
      },
      {
       "output_type": "stream",
       "stream": "stdout",
       "text": [
        "\n",
        "10289\n",
        "10291\n",
        "10293\n",
        "10295\n",
        "10297\n",
        "10299\n",
        "10301\n",
        "10303"
       ]
      },
      {
       "output_type": "stream",
       "stream": "stdout",
       "text": [
        "\n",
        "10305\n",
        "10307\n",
        "10309\n",
        "10311\n",
        "10313\n",
        "10315\n",
        "10317\n",
        "10319"
       ]
      },
      {
       "output_type": "stream",
       "stream": "stdout",
       "text": [
        "\n",
        "10321\n",
        "10323\n",
        "10325\n",
        "10327\n",
        "10329\n",
        "10331\n",
        "10333\n",
        "10335"
       ]
      },
      {
       "output_type": "stream",
       "stream": "stdout",
       "text": [
        "\n",
        "10337\n",
        "10339\n",
        "10341\n",
        "10343\n",
        "10345\n",
        "10347\n",
        "10349\n",
        "10351"
       ]
      },
      {
       "output_type": "stream",
       "stream": "stdout",
       "text": [
        "\n",
        "10353\n",
        "10355\n",
        "10357\n",
        "10359\n",
        "10361\n",
        "10363\n",
        "10365"
       ]
      },
      {
       "output_type": "stream",
       "stream": "stdout",
       "text": [
        "\n",
        "10367\n",
        "10369\n",
        "10371\n",
        "10373\n",
        "10375\n",
        "10377\n",
        "10379"
       ]
      },
      {
       "output_type": "stream",
       "stream": "stdout",
       "text": [
        "\n",
        "10381\n",
        "10383\n",
        "10385\n",
        "10387\n",
        "10389"
       ]
      },
      {
       "output_type": "stream",
       "stream": "stdout",
       "text": [
        "\n",
        "10391\n",
        "10393\n",
        "10395\n",
        "10397\n",
        "10399\n",
        "10401\n",
        "10403"
       ]
      },
      {
       "output_type": "stream",
       "stream": "stdout",
       "text": [
        "\n",
        "10405\n",
        "10407\n",
        "10409\n",
        "10411\n",
        "10413"
       ]
      },
      {
       "output_type": "stream",
       "stream": "stdout",
       "text": [
        "\n",
        "10415\n",
        "10417\n",
        "10419\n",
        "10421\n",
        "10423\n",
        "10425"
       ]
      },
      {
       "output_type": "stream",
       "stream": "stdout",
       "text": [
        "\n",
        "10427\n",
        "10429\n",
        "10431\n",
        "10433"
       ]
      },
      {
       "output_type": "stream",
       "stream": "stdout",
       "text": [
        "\n",
        "10435\n",
        "10437\n",
        "10439\n",
        "10441"
       ]
      },
      {
       "output_type": "stream",
       "stream": "stdout",
       "text": [
        "\n",
        "10443\n",
        "10445\n",
        "10447\n",
        "10449\n",
        "10451\n",
        "10453\n",
        "10455"
       ]
      },
      {
       "output_type": "stream",
       "stream": "stdout",
       "text": [
        "\n",
        "10457\n",
        "10459\n",
        "10461\n",
        "10463\n",
        "10465\n",
        "10467\n",
        "10469"
       ]
      },
      {
       "output_type": "stream",
       "stream": "stdout",
       "text": [
        "\n",
        "10471\n",
        "10473\n",
        "10475\n",
        "10477\n",
        "10479\n",
        "10481\n",
        "10483"
       ]
      },
      {
       "output_type": "stream",
       "stream": "stdout",
       "text": [
        "\n",
        "10485\n",
        "10487\n",
        "10489\n",
        "10491\n",
        "10493\n",
        "10495\n",
        "10497"
       ]
      },
      {
       "output_type": "stream",
       "stream": "stdout",
       "text": [
        "\n",
        "10499\n",
        "10501\n",
        "10503\n",
        "10505\n",
        "10507\n",
        "10509"
       ]
      },
      {
       "output_type": "stream",
       "stream": "stdout",
       "text": [
        "\n",
        "10511\n",
        "10513\n",
        "10515\n",
        "10517\n",
        "10519\n",
        "10521\n",
        "10523"
       ]
      },
      {
       "output_type": "stream",
       "stream": "stdout",
       "text": [
        "\n",
        "10525\n",
        "10527\n",
        "10529\n",
        "10531\n",
        "10533\n",
        "10535\n",
        "10537\n",
        "10539"
       ]
      },
      {
       "output_type": "stream",
       "stream": "stdout",
       "text": [
        "\n",
        "10541\n",
        "10543\n",
        "10545\n",
        "10547\n",
        "10549\n",
        "10551\n",
        "10553"
       ]
      },
      {
       "output_type": "stream",
       "stream": "stdout",
       "text": [
        "\n",
        "10555\n",
        "10557\n",
        "10559\n",
        "10561\n",
        "10563\n",
        "10565"
       ]
      },
      {
       "output_type": "stream",
       "stream": "stdout",
       "text": [
        "\n",
        "10567\n",
        "10569\n",
        "10571\n",
        "10573\n",
        "10575\n",
        "10577\n",
        "10579\n",
        "10581"
       ]
      },
      {
       "output_type": "stream",
       "stream": "stdout",
       "text": [
        "\n",
        "10583\n",
        "10585\n",
        "10587\n",
        "10589\n",
        "10591\n",
        "10593\n",
        "10595\n",
        "10597"
       ]
      },
      {
       "output_type": "stream",
       "stream": "stdout",
       "text": [
        "\n",
        "10599\n",
        "10601\n",
        "10603\n",
        "10605\n",
        "10607\n",
        "10609\n",
        "10611\n",
        "10613"
       ]
      },
      {
       "output_type": "stream",
       "stream": "stdout",
       "text": [
        "\n",
        "10615\n",
        "10617\n",
        "10619\n",
        "10621\n",
        "10623\n",
        "10625\n",
        "10627"
       ]
      },
      {
       "output_type": "stream",
       "stream": "stdout",
       "text": [
        "\n",
        "10629\n",
        "10631\n",
        "10633\n",
        "10635\n",
        "10637\n",
        "10639\n",
        "10641\n",
        "10643"
       ]
      },
      {
       "output_type": "stream",
       "stream": "stdout",
       "text": [
        "\n",
        "10645\n",
        "10647\n",
        "10649\n",
        "10651\n",
        "10653"
       ]
      },
      {
       "output_type": "stream",
       "stream": "stdout",
       "text": [
        "\n",
        "10655\n",
        "10657\n",
        "10659\n",
        "10661\n",
        "10663\n",
        "10665\n",
        "10667"
       ]
      },
      {
       "output_type": "stream",
       "stream": "stdout",
       "text": [
        "\n",
        "10669\n",
        "10671\n",
        "10673\n",
        "10675\n",
        "10677\n",
        "10679\n",
        "10681"
       ]
      },
      {
       "output_type": "stream",
       "stream": "stdout",
       "text": [
        "\n",
        "10683\n",
        "10685\n",
        "10687\n",
        "10689\n",
        "10691\n",
        "10693\n",
        "10695"
       ]
      },
      {
       "output_type": "stream",
       "stream": "stdout",
       "text": [
        "\n",
        "10697\n",
        "10699\n",
        "10701\n",
        "10703\n",
        "10705\n",
        "10707\n",
        "10709\n",
        "10711"
       ]
      },
      {
       "output_type": "stream",
       "stream": "stdout",
       "text": [
        "\n",
        "10713\n",
        "10715\n",
        "10717\n",
        "10719\n",
        "10721\n",
        "10723\n",
        "10725"
       ]
      },
      {
       "output_type": "stream",
       "stream": "stdout",
       "text": [
        "\n",
        "10727\n",
        "10729\n",
        "10731\n",
        "10733\n",
        "10735\n",
        "10737\n",
        "10739\n",
        "10741"
       ]
      },
      {
       "output_type": "stream",
       "stream": "stdout",
       "text": [
        "\n",
        "10743\n",
        "10745\n",
        "10747\n",
        "10749\n",
        "10751\n",
        "10753\n",
        "10755\n",
        "10757"
       ]
      },
      {
       "output_type": "stream",
       "stream": "stdout",
       "text": [
        "\n",
        "10759\n",
        "10761\n",
        "10763\n",
        "10765\n",
        "10767\n",
        "10769\n",
        "10771"
       ]
      },
      {
       "output_type": "stream",
       "stream": "stdout",
       "text": [
        "\n",
        "10773\n",
        "10775\n",
        "10777\n",
        "10779\n",
        "10781\n",
        "10783\n",
        "10785\n",
        "10787"
       ]
      },
      {
       "output_type": "stream",
       "stream": "stdout",
       "text": [
        "\n",
        "10789\n",
        "10791\n",
        "10793\n",
        "10795\n",
        "10797\n",
        "10799"
       ]
      },
      {
       "output_type": "stream",
       "stream": "stdout",
       "text": [
        "\n",
        "10801\n",
        "10803\n",
        "10805\n",
        "10807\n",
        "10809\n",
        "10811\n",
        "10813"
       ]
      },
      {
       "output_type": "stream",
       "stream": "stdout",
       "text": [
        "\n",
        "10815\n",
        "10817\n",
        "10819\n",
        "10821\n",
        "10823\n",
        "10825"
       ]
      },
      {
       "output_type": "stream",
       "stream": "stdout",
       "text": [
        "\n",
        "10827\n",
        "10829\n",
        "10831\n",
        "10833\n",
        "10835\n",
        "10837\n",
        "10839"
       ]
      },
      {
       "output_type": "stream",
       "stream": "stdout",
       "text": [
        "\n",
        "10841\n",
        "10843\n",
        "10845\n",
        "10847\n",
        "10849\n",
        "10851\n",
        "10853"
       ]
      },
      {
       "output_type": "stream",
       "stream": "stdout",
       "text": [
        "\n",
        "10855\n",
        "10857\n",
        "10859\n",
        "10861\n",
        "10863\n",
        "10865\n",
        "10867\n",
        "10869"
       ]
      },
      {
       "output_type": "stream",
       "stream": "stdout",
       "text": [
        "\n",
        "10871\n",
        "10873\n",
        "10875\n",
        "10877\n",
        "10879\n",
        "10881\n",
        "10883"
       ]
      },
      {
       "output_type": "stream",
       "stream": "stdout",
       "text": [
        "\n",
        "10885\n",
        "10887\n",
        "10889\n",
        "10891\n",
        "10893\n",
        "10895\n",
        "10897\n",
        "10899"
       ]
      },
      {
       "output_type": "stream",
       "stream": "stdout",
       "text": [
        "\n",
        "10901\n",
        "10903\n",
        "10905\n",
        "10907\n",
        "10909\n",
        "10911\n",
        "10913"
       ]
      },
      {
       "output_type": "stream",
       "stream": "stdout",
       "text": [
        "\n",
        "10915\n",
        "10917\n",
        "10919\n",
        "10921\n",
        "10923\n",
        "10925\n",
        "10927\n",
        "10929"
       ]
      },
      {
       "output_type": "stream",
       "stream": "stdout",
       "text": [
        "\n",
        "10931\n",
        "10933\n",
        "10935\n",
        "10937\n",
        "10939\n",
        "10941"
       ]
      },
      {
       "output_type": "stream",
       "stream": "stdout",
       "text": [
        "\n",
        "10943\n",
        "10945\n",
        "10947\n",
        "10949\n",
        "10951\n",
        "10953\n",
        "10955"
       ]
      },
      {
       "output_type": "stream",
       "stream": "stdout",
       "text": [
        "\n",
        "10957\n",
        "10959\n",
        "10961\n",
        "10963\n",
        "10965\n",
        "10967"
       ]
      },
      {
       "output_type": "stream",
       "stream": "stdout",
       "text": [
        "\n",
        "10969\n",
        "10971\n",
        "10973\n",
        "10975\n",
        "10977\n",
        "10979\n",
        "10981"
       ]
      },
      {
       "output_type": "stream",
       "stream": "stdout",
       "text": [
        "\n",
        "10983\n",
        "10985\n",
        "10987\n",
        "10990\n",
        "10992\n",
        "10994\n",
        "10996\n",
        "10998"
       ]
      },
      {
       "output_type": "stream",
       "stream": "stdout",
       "text": [
        "\n",
        "11000\n",
        "11002\n",
        "11004\n",
        "11006\n",
        "11008\n",
        "11010\n",
        "11012\n",
        "11014"
       ]
      },
      {
       "output_type": "stream",
       "stream": "stdout",
       "text": [
        "\n",
        "11016\n",
        "11018\n",
        "11020\n",
        "11022\n",
        "11024\n",
        "11026\n",
        "11028\n",
        "11030"
       ]
      },
      {
       "output_type": "stream",
       "stream": "stdout",
       "text": [
        "\n",
        "11032\n",
        "11034\n",
        "11036\n",
        "11038\n",
        "11040\n",
        "11042\n",
        "11044"
       ]
      },
      {
       "output_type": "stream",
       "stream": "stdout",
       "text": [
        "\n",
        "11046\n",
        "11048\n",
        "11050\n",
        "11052\n",
        "11054\n",
        "11056\n",
        "11058\n",
        "11060"
       ]
      },
      {
       "output_type": "stream",
       "stream": "stdout",
       "text": [
        "\n",
        "11062\n",
        "11064\n",
        "11066\n",
        "11068\n",
        "11070\n",
        "11073\n",
        "11075"
       ]
      },
      {
       "output_type": "stream",
       "stream": "stdout",
       "text": [
        "\n",
        "11077\n",
        "11079\n",
        "11081\n",
        "11083\n",
        "11085\n",
        "11087\n",
        "11089"
       ]
      },
      {
       "output_type": "stream",
       "stream": "stdout",
       "text": [
        "\n",
        "11091\n",
        "11093\n",
        "11095\n",
        "11097\n",
        "11099\n",
        "11101"
       ]
      },
      {
       "output_type": "stream",
       "stream": "stdout",
       "text": [
        "\n",
        "11103\n",
        "11105\n",
        "11107\n",
        "11109\n",
        "11111\n",
        "11113\n",
        "11115"
       ]
      },
      {
       "output_type": "stream",
       "stream": "stdout",
       "text": [
        "\n",
        "11117\n",
        "11119\n",
        "11121\n",
        "11123\n",
        "11125\n",
        "11127\n",
        "11129\n",
        "11131"
       ]
      },
      {
       "output_type": "stream",
       "stream": "stdout",
       "text": [
        "\n",
        "11133\n",
        "11135\n",
        "11137\n",
        "11139\n",
        "11141\n",
        "11143\n",
        "11145"
       ]
      },
      {
       "output_type": "stream",
       "stream": "stdout",
       "text": [
        "\n",
        "11147\n",
        "11149\n",
        "11151\n",
        "11153\n",
        "11155\n",
        "11157"
       ]
      },
      {
       "output_type": "stream",
       "stream": "stdout",
       "text": [
        "\n",
        "11159\n",
        "11161\n",
        "11164\n",
        "11166\n",
        "11168\n",
        "11170"
       ]
      },
      {
       "output_type": "stream",
       "stream": "stdout",
       "text": [
        "\n",
        "11172\n",
        "11174\n",
        "11176\n",
        "11178\n",
        "11180"
       ]
      },
      {
       "output_type": "stream",
       "stream": "stdout",
       "text": [
        "\n",
        "11182\n",
        "11184\n",
        "11186\n",
        "11188\n",
        "11190\n",
        "11192"
       ]
      },
      {
       "output_type": "stream",
       "stream": "stdout",
       "text": [
        "\n",
        "11194\n",
        "11196\n",
        "11198\n",
        "11200\n",
        "11202"
       ]
      },
      {
       "output_type": "stream",
       "stream": "stdout",
       "text": [
        "\n",
        "11204\n",
        "11206\n",
        "11208"
       ]
      },
      {
       "output_type": "stream",
       "stream": "stdout",
       "text": [
        "\n",
        "11210\n",
        "11212\n",
        "11214\n",
        "11216\n",
        "11218\n",
        "11220"
       ]
      },
      {
       "output_type": "stream",
       "stream": "stdout",
       "text": [
        "\n",
        "11222\n",
        "11224\n",
        "11226\n",
        "11228\n",
        "11230\n",
        "11232"
       ]
      },
      {
       "output_type": "stream",
       "stream": "stdout",
       "text": [
        "\n",
        "11234\n",
        "11236\n",
        "11238\n",
        "11240\n",
        "11242\n",
        "11244"
       ]
      },
      {
       "output_type": "stream",
       "stream": "stdout",
       "text": [
        "\n",
        "11246\n",
        "11248\n",
        "11250\n",
        "11252\n",
        "11254\n",
        "11256"
       ]
      },
      {
       "output_type": "stream",
       "stream": "stdout",
       "text": [
        "\n",
        "11258\n",
        "11260\n",
        "11262\n",
        "11264\n",
        "11266\n",
        "11268"
       ]
      },
      {
       "output_type": "stream",
       "stream": "stdout",
       "text": [
        "\n",
        "11270\n",
        "11272\n",
        "11274\n",
        "11276\n",
        "11278\n",
        "11280"
       ]
      },
      {
       "output_type": "stream",
       "stream": "stdout",
       "text": [
        "\n",
        "11282\n",
        "11284\n",
        "11286\n",
        "11288\n",
        "11290"
       ]
      },
      {
       "output_type": "stream",
       "stream": "stdout",
       "text": [
        "\n",
        "11292\n",
        "11294\n",
        "11296\n",
        "11298\n",
        "11300\n",
        "11302\n",
        "11304"
       ]
      },
      {
       "output_type": "stream",
       "stream": "stdout",
       "text": [
        "\n",
        "11306\n",
        "11308\n",
        "11310\n",
        "11312\n",
        "11314\n",
        "11316"
       ]
      },
      {
       "output_type": "stream",
       "stream": "stdout",
       "text": [
        "\n",
        "11318\n",
        "11320\n",
        "11322\n",
        "11324\n",
        "11326\n",
        "11328\n",
        "11330"
       ]
      },
      {
       "output_type": "stream",
       "stream": "stdout",
       "text": [
        "\n",
        "11332\n",
        "11334\n",
        "11336\n",
        "11338\n",
        "11340\n",
        "11342\n",
        "11344"
       ]
      },
      {
       "output_type": "stream",
       "stream": "stdout",
       "text": [
        "\n",
        "11346\n",
        "11348\n",
        "11350\n",
        "11352"
       ]
      },
      {
       "output_type": "stream",
       "stream": "stdout",
       "text": [
        "\n",
        "11354\n",
        "11356\n",
        "11358\n",
        "11360"
       ]
      },
      {
       "output_type": "stream",
       "stream": "stdout",
       "text": [
        "\n",
        "11362\n",
        "11364\n",
        "11366\n",
        "11368\n",
        "11370"
       ]
      },
      {
       "output_type": "stream",
       "stream": "stdout",
       "text": [
        "\n",
        "11372\n",
        "11374\n",
        "11376\n",
        "11378"
       ]
      },
      {
       "output_type": "stream",
       "stream": "stdout",
       "text": [
        "\n",
        "11380\n",
        "11382\n",
        "11384"
       ]
      },
      {
       "output_type": "stream",
       "stream": "stdout",
       "text": [
        "\n",
        "11386\n",
        "11388\n",
        "11390\n",
        "11392\n",
        "11394"
       ]
      },
      {
       "output_type": "stream",
       "stream": "stdout",
       "text": [
        "\n",
        "11396\n",
        "11398"
       ]
      },
      {
       "output_type": "stream",
       "stream": "stdout",
       "text": [
        "\n",
        "11400\n",
        "11402"
       ]
      },
      {
       "output_type": "stream",
       "stream": "stdout",
       "text": [
        "\n",
        "11404\n",
        "11406\n",
        "11408"
       ]
      },
      {
       "output_type": "stream",
       "stream": "stdout",
       "text": [
        "\n",
        "11410\n",
        "11412\n",
        "11414\n",
        "11416\n",
        "11418"
       ]
      },
      {
       "output_type": "stream",
       "stream": "stdout",
       "text": [
        "\n",
        "11420\n",
        "11422\n",
        "11424\n",
        "11426\n",
        "11428"
       ]
      },
      {
       "output_type": "stream",
       "stream": "stdout",
       "text": [
        "\n",
        "11430\n",
        "11432\n",
        "11434\n",
        "11436\n",
        "11438"
       ]
      },
      {
       "output_type": "stream",
       "stream": "stdout",
       "text": [
        "\n",
        "11440\n",
        "11442\n",
        "11444"
       ]
      },
      {
       "output_type": "stream",
       "stream": "stdout",
       "text": [
        "\n",
        "11446\n",
        "11448\n",
        "11450\n",
        "11452"
       ]
      },
      {
       "output_type": "stream",
       "stream": "stdout",
       "text": [
        "\n",
        "11454\n",
        "11456\n",
        "11458\n",
        "11460\n",
        "11462"
       ]
      },
      {
       "output_type": "stream",
       "stream": "stdout",
       "text": [
        "\n",
        "11464\n",
        "11466\n",
        "11468\n",
        "11470\n",
        "11472"
       ]
      },
      {
       "output_type": "stream",
       "stream": "stdout",
       "text": [
        "\n",
        "11474\n",
        "11476\n",
        "11478\n",
        "11480\n",
        "11482\n",
        "11484\n",
        "11486"
       ]
      },
      {
       "output_type": "stream",
       "stream": "stdout",
       "text": [
        "\n",
        "11488\n",
        "11490\n",
        "11492\n",
        "11494\n",
        "11496"
       ]
      },
      {
       "output_type": "stream",
       "stream": "stdout",
       "text": [
        "\n",
        "11498\n",
        "11500\n",
        "11502\n",
        "11504\n",
        "11506\n",
        "11509\n",
        "11511\n",
        "11513"
       ]
      },
      {
       "output_type": "stream",
       "stream": "stdout",
       "text": [
        "\n",
        "11515\n",
        "11517\n",
        "11519\n",
        "11521\n",
        "11523\n",
        "11525\n",
        "11527"
       ]
      },
      {
       "output_type": "stream",
       "stream": "stdout",
       "text": [
        "\n",
        "11529\n",
        "11531\n",
        "11533\n",
        "11535\n",
        "11537\n",
        "11539"
       ]
      },
      {
       "output_type": "stream",
       "stream": "stdout",
       "text": [
        "\n",
        "11541\n",
        "11543\n",
        "11545\n",
        "11547\n",
        "11549\n",
        "11551"
       ]
      },
      {
       "output_type": "stream",
       "stream": "stdout",
       "text": [
        "\n",
        "11553\n",
        "11555\n",
        "11557\n",
        "11559\n",
        "11561\n",
        "11563\n",
        "11565"
       ]
      },
      {
       "output_type": "stream",
       "stream": "stdout",
       "text": [
        "\n",
        "11567\n",
        "11569\n",
        "11571\n",
        "11573\n",
        "11575\n",
        "11577\n",
        "11579"
       ]
      },
      {
       "output_type": "stream",
       "stream": "stdout",
       "text": [
        "\n",
        "11581\n",
        "11583\n",
        "11585\n",
        "11587\n",
        "11589\n",
        "11591\n",
        "11593\n",
        "11595"
       ]
      },
      {
       "output_type": "stream",
       "stream": "stdout",
       "text": [
        "\n",
        "11597\n",
        "11599\n",
        "11601\n",
        "11603\n",
        "11605\n",
        "11607\n",
        "11609\n",
        "11611"
       ]
      },
      {
       "output_type": "stream",
       "stream": "stdout",
       "text": [
        "\n",
        "11613\n",
        "11615\n",
        "11617\n",
        "11619\n",
        "11621\n",
        "11623\n",
        "11625\n",
        "11627"
       ]
      },
      {
       "output_type": "stream",
       "stream": "stdout",
       "text": [
        "\n",
        "11629\n",
        "11631\n",
        "11633\n",
        "11635\n",
        "11637\n",
        "11639\n",
        "11641\n",
        "11643"
       ]
      },
      {
       "output_type": "stream",
       "stream": "stdout",
       "text": [
        "\n",
        "11645\n",
        "11647\n",
        "11649\n",
        "11651\n",
        "11653\n",
        "11655\n",
        "11657\n",
        "11659"
       ]
      },
      {
       "output_type": "stream",
       "stream": "stdout",
       "text": [
        "\n",
        "11661\n",
        "11663\n",
        "11665\n",
        "11667\n",
        "11669\n",
        "11672\n",
        "11674\n",
        "11676"
       ]
      },
      {
       "output_type": "stream",
       "stream": "stdout",
       "text": [
        "\n",
        "11678\n",
        "11680\n",
        "11682\n",
        "11684\n",
        "11686\n",
        "11688\n",
        "11690\n",
        "11692"
       ]
      },
      {
       "output_type": "stream",
       "stream": "stdout",
       "text": [
        "\n",
        "11694\n",
        "11696\n",
        "11698\n",
        "11700\n",
        "11702\n",
        "11704\n",
        "11706\n",
        "11708"
       ]
      },
      {
       "output_type": "stream",
       "stream": "stdout",
       "text": [
        "\n",
        "11710\n",
        "11712\n",
        "11714\n",
        "11716\n",
        "11718\n",
        "11720\n",
        "11722\n",
        "11724"
       ]
      },
      {
       "output_type": "stream",
       "stream": "stdout",
       "text": [
        "\n",
        "11726\n",
        "11728\n",
        "11730\n",
        "11732\n",
        "11734\n",
        "11736\n",
        "11738\n",
        "11740"
       ]
      },
      {
       "output_type": "stream",
       "stream": "stdout",
       "text": [
        "\n",
        "11742\n",
        "11744\n",
        "11746\n",
        "11748\n",
        "11750\n",
        "11752\n",
        "11754"
       ]
      },
      {
       "output_type": "stream",
       "stream": "stdout",
       "text": [
        "\n",
        "11756\n",
        "11758\n",
        "11760\n",
        "11762\n",
        "11764\n",
        "11766\n",
        "11768"
       ]
      },
      {
       "output_type": "stream",
       "stream": "stdout",
       "text": [
        "\n",
        "11770\n",
        "11772\n",
        "11774\n",
        "11776\n",
        "11778\n",
        "11780\n",
        "11782"
       ]
      },
      {
       "output_type": "stream",
       "stream": "stdout",
       "text": [
        "\n",
        "11784\n",
        "11786\n",
        "11788\n",
        "11790\n",
        "11792\n",
        "11794\n",
        "11796\n",
        "11798"
       ]
      },
      {
       "output_type": "stream",
       "stream": "stdout",
       "text": [
        "\n",
        "11800\n",
        "11802\n",
        "11804\n",
        "11806\n",
        "11808\n",
        "11810\n",
        "11812\n",
        "11814"
       ]
      },
      {
       "output_type": "stream",
       "stream": "stdout",
       "text": [
        "\n",
        "11816\n",
        "11818\n",
        "11820\n",
        "11822\n",
        "11824\n",
        "11826\n",
        "11828\n",
        "11830"
       ]
      },
      {
       "output_type": "stream",
       "stream": "stdout",
       "text": [
        "\n",
        "11832\n",
        "11834\n",
        "11836\n",
        "11838\n",
        "11840\n",
        "11842\n",
        "11844\n",
        "11846"
       ]
      },
      {
       "output_type": "stream",
       "stream": "stdout",
       "text": [
        "\n",
        "11848\n",
        "11850\n",
        "11852\n",
        "11854\n",
        "11856\n",
        "11858\n",
        "11860\n",
        "11862"
       ]
      },
      {
       "output_type": "stream",
       "stream": "stdout",
       "text": [
        "\n",
        "11864\n",
        "11866\n",
        "11868\n",
        "11870\n",
        "11872\n",
        "11874\n",
        "11876\n",
        "11878"
       ]
      },
      {
       "output_type": "stream",
       "stream": "stdout",
       "text": [
        "\n",
        "11880\n",
        "11882\n",
        "11884\n",
        "11886\n",
        "11888\n",
        "11890\n",
        "11892\n",
        "11894"
       ]
      },
      {
       "output_type": "stream",
       "stream": "stdout",
       "text": [
        "\n",
        "11896\n",
        "11898\n",
        "11900\n",
        "11902\n",
        "11904\n",
        "11906\n",
        "11908\n",
        "11910"
       ]
      },
      {
       "output_type": "stream",
       "stream": "stdout",
       "text": [
        "\n",
        "11912\n",
        "11914\n",
        "11916\n",
        "11918\n",
        "11920\n",
        "11922\n",
        "11924"
       ]
      },
      {
       "output_type": "stream",
       "stream": "stdout",
       "text": [
        "\n",
        "11926\n",
        "11928\n",
        "11930\n",
        "11933\n",
        "11935\n",
        "11937\n",
        "11939"
       ]
      },
      {
       "output_type": "stream",
       "stream": "stdout",
       "text": [
        "\n",
        "11941\n",
        "11943\n",
        "11945\n",
        "11947\n",
        "11949\n",
        "11951\n",
        "11953"
       ]
      },
      {
       "output_type": "stream",
       "stream": "stdout",
       "text": [
        "\n",
        "11955\n",
        "11957\n",
        "11959\n",
        "11961\n",
        "11963\n",
        "11965\n",
        "11967\n",
        "11969"
       ]
      },
      {
       "output_type": "stream",
       "stream": "stdout",
       "text": [
        "\n",
        "11971\n",
        "11973\n",
        "11975\n",
        "11977\n",
        "11979\n",
        "11981\n",
        "11983\n",
        "11985"
       ]
      },
      {
       "output_type": "stream",
       "stream": "stdout",
       "text": [
        "\n",
        "11987\n",
        "11989\n",
        "11991\n",
        "11993\n",
        "11995\n",
        "11997\n",
        "12000"
       ]
      },
      {
       "output_type": "stream",
       "stream": "stdout",
       "text": [
        "\n",
        "12002\n",
        "12004\n",
        "12006\n",
        "12008\n",
        "12010\n",
        "12012\n",
        "12014\n",
        "12016"
       ]
      },
      {
       "output_type": "stream",
       "stream": "stdout",
       "text": [
        "\n",
        "12018\n",
        "12021\n",
        "12023\n",
        "12025\n",
        "12027\n",
        "12029\n",
        "12031\n",
        "12033"
       ]
      },
      {
       "output_type": "stream",
       "stream": "stdout",
       "text": [
        "\n",
        "12035\n",
        "12037\n",
        "12039\n",
        "12041\n",
        "12043\n",
        "12045\n",
        "12047"
       ]
      },
      {
       "output_type": "stream",
       "stream": "stdout",
       "text": [
        "\n",
        "12049\n",
        "12051\n",
        "12053\n",
        "12055\n",
        "12057\n",
        "12059\n",
        "12061\n",
        "12063"
       ]
      },
      {
       "output_type": "stream",
       "stream": "stdout",
       "text": [
        "\n",
        "12065\n",
        "12067\n",
        "12069\n",
        "12071\n",
        "12073\n",
        "12075\n",
        "12077\n",
        "12079"
       ]
      },
      {
       "output_type": "stream",
       "stream": "stdout",
       "text": [
        "\n",
        "12081\n",
        "12084\n",
        "12086\n",
        "12088\n",
        "12090\n",
        "12092\n",
        "12094\n",
        "12096"
       ]
      },
      {
       "output_type": "stream",
       "stream": "stdout",
       "text": [
        "\n",
        "12098\n",
        "12100\n",
        "12102\n",
        "12104\n",
        "12106"
       ]
      },
      {
       "output_type": "stream",
       "stream": "stdout",
       "text": [
        "\n",
        "12108\n",
        "12110\n",
        "12112\n",
        "12114\n",
        "12116\n",
        "12119"
       ]
      },
      {
       "output_type": "stream",
       "stream": "stdout",
       "text": [
        "\n",
        "12121\n",
        "12123\n",
        "12125\n",
        "12127\n",
        "12129\n",
        "12131"
       ]
      },
      {
       "output_type": "stream",
       "stream": "stdout",
       "text": [
        "\n",
        "12133\n",
        "12135\n",
        "12137\n",
        "12139\n",
        "12141"
       ]
      },
      {
       "output_type": "stream",
       "stream": "stdout",
       "text": [
        "\n",
        "12143\n",
        "12145\n",
        "12147\n",
        "12149\n",
        "12151\n",
        "12153"
       ]
      },
      {
       "output_type": "stream",
       "stream": "stdout",
       "text": [
        "\n",
        "12155\n",
        "12157\n",
        "12159\n",
        "12161\n",
        "12163"
       ]
      },
      {
       "output_type": "stream",
       "stream": "stdout",
       "text": [
        "\n",
        "12165\n",
        "12167\n",
        "12169\n",
        "12171\n",
        "12173\n",
        "12175"
       ]
      },
      {
       "output_type": "stream",
       "stream": "stdout",
       "text": [
        "\n",
        "12177\n",
        "12179\n",
        "12182\n",
        "12184\n",
        "12186\n",
        "12188"
       ]
      },
      {
       "output_type": "stream",
       "stream": "stdout",
       "text": [
        "\n",
        "12190\n",
        "12192\n",
        "12194\n",
        "12196\n",
        "12198\n",
        "12200"
       ]
      },
      {
       "output_type": "stream",
       "stream": "stdout",
       "text": [
        "\n",
        "12202\n",
        "12204\n",
        "12206\n",
        "12208\n",
        "12210\n",
        "12212"
       ]
      },
      {
       "output_type": "stream",
       "stream": "stdout",
       "text": [
        "\n",
        "12214\n",
        "12216\n",
        "12218\n",
        "12220\n",
        "12222\n",
        "12224\n",
        "12226"
       ]
      },
      {
       "output_type": "stream",
       "stream": "stdout",
       "text": [
        "\n",
        "12228\n",
        "12230\n",
        "12232\n",
        "12234\n",
        "12236\n",
        "12238\n",
        "12240\n",
        "12242"
       ]
      },
      {
       "output_type": "stream",
       "stream": "stdout",
       "text": [
        "\n",
        "12244\n",
        "12246\n",
        "12248\n",
        "12250\n",
        "12252\n",
        "12254\n",
        "12256"
       ]
      },
      {
       "output_type": "stream",
       "stream": "stdout",
       "text": [
        "\n",
        "12258\n",
        "12260\n",
        "12262\n",
        "12264\n",
        "12266\n",
        "12268\n",
        "12271"
       ]
      },
      {
       "output_type": "stream",
       "stream": "stdout",
       "text": [
        "\n",
        "12273\n",
        "12275\n",
        "12277\n",
        "12281\n",
        "12283\n",
        "12285\n",
        "12288"
       ]
      },
      {
       "output_type": "stream",
       "stream": "stdout",
       "text": [
        "\n",
        "12290\n",
        "12292\n",
        "12294\n",
        "12296\n",
        "12298\n",
        "12301\n",
        "12303"
       ]
      },
      {
       "output_type": "stream",
       "stream": "stdout",
       "text": [
        "\n",
        "12305\n",
        "12307\n",
        "12309\n",
        "12311\n",
        "12313"
       ]
      },
      {
       "output_type": "stream",
       "stream": "stdout",
       "text": [
        "\n",
        "12315\n",
        "12317\n",
        "12319\n",
        "12321\n",
        "12324\n",
        "12326"
       ]
      },
      {
       "output_type": "stream",
       "stream": "stdout",
       "text": [
        "\n",
        "12328\n",
        "12331\n",
        "12333\n",
        "12335\n",
        "12337\n",
        "12339\n",
        "12341\n",
        "12343"
       ]
      },
      {
       "output_type": "stream",
       "stream": "stdout",
       "text": [
        "\n",
        "12345\n",
        "12347\n",
        "12349\n",
        "12351\n",
        "12353\n",
        "12355\n",
        "12357"
       ]
      },
      {
       "output_type": "stream",
       "stream": "stdout",
       "text": [
        "\n",
        "12359\n",
        "12361\n",
        "12364\n",
        "12367\n",
        "12369\n",
        "12371"
       ]
      },
      {
       "output_type": "stream",
       "stream": "stdout",
       "text": [
        "\n",
        "12373\n",
        "12375\n",
        "12377\n",
        "12379\n",
        "12381\n",
        "12383\n",
        "12385\n",
        "12387"
       ]
      },
      {
       "output_type": "stream",
       "stream": "stdout",
       "text": [
        "\n",
        "12389\n",
        "12391\n",
        "12393\n",
        "12396\n",
        "12398\n",
        "12400\n",
        "12402"
       ]
      },
      {
       "output_type": "stream",
       "stream": "stdout",
       "text": [
        "\n",
        "12404\n",
        "12406\n",
        "12408\n",
        "12410\n",
        "12412\n",
        "12414\n",
        "12416"
       ]
      },
      {
       "output_type": "stream",
       "stream": "stdout",
       "text": [
        "\n",
        "12418\n",
        "12420\n",
        "12422\n",
        "12424\n",
        "12426\n",
        "12428\n",
        "12430\n",
        "12432"
       ]
      },
      {
       "output_type": "stream",
       "stream": "stdout",
       "text": [
        "\n",
        "12434\n",
        "12436\n",
        "12438\n",
        "12440\n",
        "12442\n",
        "12444\n",
        "12448"
       ]
      },
      {
       "output_type": "stream",
       "stream": "stdout",
       "text": [
        "\n",
        "12450\n",
        "12452\n",
        "12455\n",
        "12457\n",
        "12459\n",
        "12462\n",
        "12464\n",
        "12466"
       ]
      },
      {
       "output_type": "stream",
       "stream": "stdout",
       "text": [
        "\n",
        "12468\n",
        "12470\n",
        "12472\n",
        "12474\n",
        "12476\n",
        "12478\n",
        "12480"
       ]
      },
      {
       "output_type": "stream",
       "stream": "stdout",
       "text": [
        "\n",
        "12482\n",
        "12484\n",
        "12487\n",
        "12490\n",
        "12493\n",
        "12496\n",
        "12527"
       ]
      },
      {
       "output_type": "stream",
       "stream": "stdout",
       "text": [
        "\n",
        "12529\n",
        "12531\n",
        "12533\n",
        "12535\n",
        "12537\n",
        "12539\n",
        "12541"
       ]
      },
      {
       "output_type": "stream",
       "stream": "stdout",
       "text": [
        "\n",
        "12543\n",
        "12545\n",
        "12547\n",
        "12549\n",
        "12551"
       ]
      },
      {
       "output_type": "stream",
       "stream": "stdout",
       "text": [
        "\n",
        "12553\n",
        "12555\n",
        "12557\n",
        "12559\n",
        "12561\n",
        "12563\n",
        "12565\n",
        "12567"
       ]
      },
      {
       "output_type": "stream",
       "stream": "stdout",
       "text": [
        "\n",
        "12569\n",
        "12571\n",
        "12573\n",
        "12575\n",
        "12577\n",
        "12579\n",
        "12581\n",
        "12583\n",
        "12585\n",
        "12587"
       ]
      },
      {
       "output_type": "stream",
       "stream": "stdout",
       "text": [
        "\n",
        "12589\n",
        "12591\n",
        "12593\n",
        "12595\n",
        "12597\n",
        "12599\n",
        "12601\n",
        "12603\n",
        "12605"
       ]
      },
      {
       "output_type": "stream",
       "stream": "stdout",
       "text": [
        "\n",
        "12607\n",
        "12609\n",
        "12611\n",
        "12613\n",
        "12615\n",
        "12617\n",
        "12619\n",
        "12621\n",
        "12623"
       ]
      },
      {
       "output_type": "stream",
       "stream": "stdout",
       "text": [
        "\n",
        "12625\n",
        "12627\n",
        "12629\n",
        "12631\n",
        "12633\n",
        "12635\n",
        "12637\n",
        "12639\n",
        "12641"
       ]
      },
      {
       "output_type": "stream",
       "stream": "stdout",
       "text": [
        "\n",
        "12643\n",
        "12645\n",
        "12647\n",
        "12649\n",
        "12651\n",
        "12653\n",
        "12655"
       ]
      },
      {
       "output_type": "stream",
       "stream": "stdout",
       "text": [
        "\n",
        "12657\n",
        "12659\n",
        "12661\n",
        "12663\n",
        "12665\n",
        "12667"
       ]
      },
      {
       "output_type": "stream",
       "stream": "stdout",
       "text": [
        "\n",
        "12669\n",
        "12671\n",
        "12673\n",
        "12675\n",
        "12677\n",
        "12679\n",
        "12681"
       ]
      },
      {
       "output_type": "stream",
       "stream": "stdout",
       "text": [
        "\n",
        "12683\n",
        "12685\n",
        "12687\n",
        "12689\n",
        "12691\n",
        "12693\n",
        "12695"
       ]
      },
      {
       "output_type": "stream",
       "stream": "stdout",
       "text": [
        "\n",
        "12697\n",
        "12699\n",
        "12701\n",
        "12703\n",
        "12705\n",
        "12707"
       ]
      },
      {
       "output_type": "stream",
       "stream": "stdout",
       "text": [
        "\n",
        "12709\n",
        "12711\n",
        "12713\n",
        "12715\n",
        "12717\n",
        "12719\n",
        "12721"
       ]
      },
      {
       "output_type": "stream",
       "stream": "stdout",
       "text": [
        "\n",
        "12723\n",
        "12725\n",
        "12727\n",
        "12729\n",
        "12731\n",
        "12733\n",
        "12735"
       ]
      },
      {
       "output_type": "stream",
       "stream": "stdout",
       "text": [
        "\n",
        "12737\n",
        "12739\n",
        "12741\n",
        "12743\n",
        "12745\n",
        "12747\n",
        "12749\n",
        "12751"
       ]
      },
      {
       "output_type": "stream",
       "stream": "stdout",
       "text": [
        "\n",
        "12753\n",
        "12755\n",
        "12757\n",
        "12759\n",
        "12761\n",
        "12763\n",
        "12765"
       ]
      },
      {
       "output_type": "stream",
       "stream": "stdout",
       "text": [
        "\n",
        "12767\n",
        "12769\n",
        "12771\n",
        "12773\n",
        "12775\n",
        "12777\n",
        "12779"
       ]
      },
      {
       "output_type": "stream",
       "stream": "stdout",
       "text": [
        "\n",
        "12781\n",
        "12783\n",
        "12785\n",
        "12787\n",
        "12789\n",
        "12791\n",
        "12793"
       ]
      },
      {
       "output_type": "stream",
       "stream": "stdout",
       "text": [
        "\n",
        "12795\n",
        "12797\n",
        "12799\n",
        "12801\n",
        "12803\n",
        "12805\n",
        "12807"
       ]
      },
      {
       "output_type": "stream",
       "stream": "stdout",
       "text": [
        "\n",
        "12809\n",
        "12811\n",
        "12813\n",
        "12815\n",
        "12817\n",
        "12819\n",
        "12821"
       ]
      },
      {
       "output_type": "stream",
       "stream": "stdout",
       "text": [
        "\n",
        "12823\n",
        "12825\n",
        "12827\n",
        "12829\n",
        "12831\n",
        "12833\n",
        "12835"
       ]
      },
      {
       "output_type": "stream",
       "stream": "stdout",
       "text": [
        "\n",
        "12837\n",
        "12839\n",
        "12841\n",
        "12843\n",
        "12845\n",
        "12847\n",
        "12849"
       ]
      },
      {
       "output_type": "stream",
       "stream": "stdout",
       "text": [
        "\n",
        "12851\n",
        "12853\n",
        "12855\n",
        "12857\n",
        "12859\n",
        "12861\n",
        "12863\n"
       ]
      },
      {
       "output_type": "stream",
       "stream": "stdout",
       "text": [
        "12865\n",
        "12867\n",
        "12869\n",
        "12871\n",
        "12873\n",
        "12875\n",
        "12877\n",
        "12879"
       ]
      },
      {
       "output_type": "stream",
       "stream": "stdout",
       "text": [
        "\n",
        "12881\n",
        "12883\n",
        "12885\n",
        "12887\n",
        "12889\n",
        "12891\n",
        "12893\n",
        "12895"
       ]
      },
      {
       "output_type": "stream",
       "stream": "stdout",
       "text": [
        "\n",
        "12897\n",
        "12899\n",
        "12901\n",
        "12903\n",
        "12905\n",
        "12907\n",
        "12909"
       ]
      },
      {
       "output_type": "stream",
       "stream": "stdout",
       "text": [
        "\n",
        "12911\n",
        "12913\n",
        "12915\n",
        "12917\n",
        "12919\n",
        "12921\n",
        "12923\n",
        "12925"
       ]
      },
      {
       "output_type": "stream",
       "stream": "stdout",
       "text": [
        "\n",
        "12927\n",
        "12929\n",
        "12931\n",
        "12933\n",
        "12935\n",
        "12937\n",
        "12939\n",
        "12941"
       ]
      },
      {
       "output_type": "stream",
       "stream": "stdout",
       "text": [
        "\n",
        "12943\n",
        "12945\n",
        "12947\n",
        "12949\n",
        "12951\n",
        "12953\n",
        "12955"
       ]
      },
      {
       "output_type": "stream",
       "stream": "stdout",
       "text": [
        "\n",
        "12957\n",
        "12959\n",
        "12961\n",
        "12963\n",
        "12965\n",
        "12967\n",
        "12969\n",
        "12971"
       ]
      },
      {
       "output_type": "stream",
       "stream": "stdout",
       "text": [
        "\n",
        "12973\n",
        "12975\n",
        "12977\n",
        "12979\n",
        "12981\n",
        "12983\n",
        "12985"
       ]
      },
      {
       "output_type": "stream",
       "stream": "stdout",
       "text": [
        "\n",
        "12987\n",
        "12989\n",
        "12991\n",
        "12993\n",
        "12995\n",
        "12997\n",
        "12999"
       ]
      },
      {
       "output_type": "stream",
       "stream": "stdout",
       "text": [
        "\n",
        "13001\n",
        "13003\n",
        "13005\n",
        "13007\n",
        "13009\n",
        "13011\n",
        "13013\n",
        "13015"
       ]
      },
      {
       "output_type": "stream",
       "stream": "stdout",
       "text": [
        "\n",
        "13017\n",
        "13019\n",
        "13021\n",
        "13023\n",
        "13025\n",
        "13027"
       ]
      },
      {
       "output_type": "stream",
       "stream": "stdout",
       "text": [
        "\n",
        "13029\n",
        "13031\n",
        "13033\n",
        "13035\n",
        "13037\n",
        "13039\n",
        "13041"
       ]
      },
      {
       "output_type": "stream",
       "stream": "stdout",
       "text": [
        "\n",
        "13043\n",
        "13045\n",
        "13047\n",
        "13049\n",
        "13051\n",
        "13053\n",
        "13055"
       ]
      },
      {
       "output_type": "stream",
       "stream": "stdout",
       "text": [
        "\n",
        "13057\n",
        "13059\n",
        "13061\n",
        "13063\n",
        "13065\n",
        "13067\n",
        "13069"
       ]
      },
      {
       "output_type": "stream",
       "stream": "stdout",
       "text": [
        "\n",
        "13071\n",
        "13073\n",
        "13075\n",
        "13077\n",
        "13079\n",
        "13081\n",
        "13083"
       ]
      },
      {
       "output_type": "stream",
       "stream": "stdout",
       "text": [
        "\n",
        "13085\n",
        "13087\n",
        "13089\n",
        "13091\n",
        "13093\n",
        "13095\n",
        "13097"
       ]
      },
      {
       "output_type": "stream",
       "stream": "stdout",
       "text": [
        "\n",
        "13099\n",
        "13101\n",
        "13103\n",
        "13105\n",
        "13107\n",
        "13109\n",
        "13111\n",
        "13113"
       ]
      },
      {
       "output_type": "stream",
       "stream": "stdout",
       "text": [
        "\n",
        "13115\n",
        "13117\n",
        "13119\n",
        "13121\n",
        "13123\n",
        "13125\n",
        "13127\n",
        "13129"
       ]
      },
      {
       "output_type": "stream",
       "stream": "stdout",
       "text": [
        "\n",
        "13131\n",
        "13133\n",
        "13135\n",
        "13137\n",
        "13139\n",
        "13141\n",
        "13143"
       ]
      },
      {
       "output_type": "stream",
       "stream": "stdout",
       "text": [
        "\n",
        "13145\n",
        "13147\n",
        "13149\n",
        "13151\n",
        "13153\n",
        "13155\n",
        "13157"
       ]
      },
      {
       "output_type": "stream",
       "stream": "stdout",
       "text": [
        "\n",
        "13159\n",
        "13161\n",
        "13163\n",
        "13165\n",
        "13167\n",
        "13169\n",
        "13171"
       ]
      },
      {
       "output_type": "stream",
       "stream": "stdout",
       "text": [
        "\n",
        "13173\n",
        "13175\n",
        "13177\n",
        "13179\n",
        "13181\n",
        "13183\n",
        "13185\n",
        "13187"
       ]
      },
      {
       "output_type": "stream",
       "stream": "stdout",
       "text": [
        "\n",
        "13189\n",
        "13191\n",
        "13193\n",
        "13195\n",
        "13197\n",
        "13199\n",
        "13201\n",
        "13203"
       ]
      },
      {
       "output_type": "stream",
       "stream": "stdout",
       "text": [
        "\n",
        "13205\n",
        "13207\n",
        "13209\n",
        "13211\n",
        "13213"
       ]
      },
      {
       "output_type": "stream",
       "stream": "stdout",
       "text": [
        "\n",
        "13215\n",
        "13217\n",
        "13219\n",
        "13221\n",
        "13223\n",
        "13225\n",
        "13227"
       ]
      },
      {
       "output_type": "stream",
       "stream": "stdout",
       "text": [
        "\n",
        "13229\n",
        "13231\n",
        "13233\n",
        "13235\n",
        "13237\n",
        "13239\n",
        "13241\n",
        "13243"
       ]
      },
      {
       "output_type": "stream",
       "stream": "stdout",
       "text": [
        "\n",
        "13245\n",
        "13247\n",
        "13249\n",
        "13251\n",
        "13253\n",
        "13255\n",
        "13257\n",
        "13259"
       ]
      },
      {
       "output_type": "stream",
       "stream": "stdout",
       "text": [
        "\n",
        "13261\n",
        "13263\n",
        "13265\n",
        "13267\n",
        "13269\n",
        "13271\n",
        "13273"
       ]
      },
      {
       "output_type": "stream",
       "stream": "stdout",
       "text": [
        "\n",
        "13275\n",
        "13277\n",
        "13279\n",
        "13281\n",
        "13283\n",
        "13285\n",
        "13287"
       ]
      },
      {
       "output_type": "stream",
       "stream": "stdout",
       "text": [
        "\n",
        "13289\n",
        "13291\n",
        "13293\n",
        "13295\n",
        "13297\n",
        "13299\n",
        "13301"
       ]
      },
      {
       "output_type": "stream",
       "stream": "stdout",
       "text": [
        "\n",
        "13303\n",
        "13305\n",
        "13307\n",
        "13309\n",
        "13311\n",
        "13313\n",
        "13315"
       ]
      },
      {
       "output_type": "stream",
       "stream": "stdout",
       "text": [
        "\n",
        "13317\n",
        "13319\n",
        "13321\n",
        "13323\n",
        "13325\n",
        "13327\n",
        "13329"
       ]
      },
      {
       "output_type": "stream",
       "stream": "stdout",
       "text": [
        "\n",
        "13331\n",
        "13333\n",
        "13335\n",
        "13337\n",
        "13339\n",
        "13341\n",
        "13343\n",
        "13345"
       ]
      },
      {
       "output_type": "stream",
       "stream": "stdout",
       "text": [
        "\n",
        "13347\n",
        "13349\n",
        "13351\n",
        "13353\n",
        "13355\n",
        "13357\n",
        "13359"
       ]
      },
      {
       "output_type": "stream",
       "stream": "stdout",
       "text": [
        "\n",
        "13361\n",
        "13363\n",
        "13365\n",
        "13367\n",
        "13369\n",
        "13371\n",
        "13373"
       ]
      },
      {
       "output_type": "stream",
       "stream": "stdout",
       "text": [
        "\n",
        "13375\n",
        "13377\n",
        "13379\n",
        "13381\n",
        "13383\n",
        "13385\n",
        "13387\n",
        "13389"
       ]
      },
      {
       "output_type": "stream",
       "stream": "stdout",
       "text": [
        "\n",
        "13391\n",
        "13393\n",
        "13395\n",
        "13397\n",
        "13399\n",
        "13401\n",
        "13403"
       ]
      },
      {
       "output_type": "stream",
       "stream": "stdout",
       "text": [
        "\n",
        "13405\n",
        "13407\n",
        "13409\n",
        "13411\n",
        "13413\n",
        "13415\n",
        "13417"
       ]
      },
      {
       "output_type": "stream",
       "stream": "stdout",
       "text": [
        "\n",
        "13419\n",
        "13421\n",
        "13423\n",
        "13425\n",
        "13427\n",
        "13429\n",
        "13431"
       ]
      },
      {
       "output_type": "stream",
       "stream": "stdout",
       "text": [
        "\n",
        "13433\n",
        "13435\n",
        "13437\n",
        "13439"
       ]
      },
      {
       "output_type": "stream",
       "stream": "stdout",
       "text": [
        "\n",
        "13441\n",
        "13443\n",
        "13445\n",
        "13447\n",
        "13449\n",
        "13451"
       ]
      },
      {
       "output_type": "stream",
       "stream": "stdout",
       "text": [
        "\n",
        "13453\n",
        "13455\n",
        "13457\n",
        "13459\n",
        "13461\n",
        "13463\n",
        "13465\n",
        "13467"
       ]
      },
      {
       "output_type": "stream",
       "stream": "stdout",
       "text": [
        "\n",
        "13469\n",
        "13471\n",
        "13473\n",
        "13475\n",
        "13477\n",
        "13479\n",
        "13481"
       ]
      },
      {
       "output_type": "stream",
       "stream": "stdout",
       "text": [
        "\n",
        "13483\n",
        "13485\n",
        "13487\n",
        "13489\n",
        "13491\n",
        "13493\n",
        "13495"
       ]
      },
      {
       "output_type": "stream",
       "stream": "stdout",
       "text": [
        "\n",
        "13497\n",
        "13499\n",
        "13501\n",
        "13503\n",
        "13505\n",
        "13507\n",
        "13509"
       ]
      },
      {
       "output_type": "stream",
       "stream": "stdout",
       "text": [
        "\n",
        "13511\n",
        "13513\n",
        "13515\n",
        "13517\n",
        "13519\n",
        "13521\n",
        "13523"
       ]
      },
      {
       "output_type": "stream",
       "stream": "stdout",
       "text": [
        "\n",
        "13525\n",
        "13527\n",
        "13529\n",
        "13531\n",
        "13533\n",
        "13535\n",
        "13537\n",
        "13539"
       ]
      },
      {
       "output_type": "stream",
       "stream": "stdout",
       "text": [
        "\n",
        "13541\n",
        "13543\n",
        "13545\n",
        "13547\n",
        "13549\n",
        "13551\n",
        "13553\n",
        "13555"
       ]
      },
      {
       "output_type": "stream",
       "stream": "stdout",
       "text": [
        "\n",
        "13557\n",
        "13559\n",
        "13561\n",
        "13563\n",
        "13565\n",
        "13567\n",
        "13569"
       ]
      },
      {
       "output_type": "stream",
       "stream": "stdout",
       "text": [
        "\n",
        "13571\n",
        "13573\n",
        "13575\n",
        "13577\n",
        "13579\n",
        "13581\n",
        "13583"
       ]
      },
      {
       "output_type": "stream",
       "stream": "stdout",
       "text": [
        "\n",
        "13585\n",
        "13587\n",
        "13589\n",
        "13591\n",
        "13593\n",
        "13595\n",
        "13597"
       ]
      },
      {
       "output_type": "stream",
       "stream": "stdout",
       "text": [
        "\n",
        "13599\n",
        "13601\n",
        "13603\n",
        "13605\n",
        "13607\n",
        "13609\n",
        "13611"
       ]
      },
      {
       "output_type": "stream",
       "stream": "stdout",
       "text": [
        "\n",
        "13613\n",
        "13615\n",
        "13617\n",
        "13619\n",
        "13621\n",
        "13623\n",
        "13625"
       ]
      },
      {
       "output_type": "stream",
       "stream": "stdout",
       "text": [
        "\n",
        "13627\n",
        "13629\n",
        "13631\n",
        "13633\n",
        "13635\n",
        "13637\n",
        "13639"
       ]
      },
      {
       "output_type": "stream",
       "stream": "stdout",
       "text": [
        "\n",
        "13641\n",
        "13643\n",
        "13645\n",
        "13647\n",
        "13649\n",
        "13651\n",
        "13653"
       ]
      },
      {
       "output_type": "stream",
       "stream": "stdout",
       "text": [
        "\n",
        "13655\n",
        "13657\n",
        "13659\n",
        "13661\n",
        "13663\n",
        "13665\n",
        "13667"
       ]
      },
      {
       "output_type": "stream",
       "stream": "stdout",
       "text": [
        "\n",
        "13669\n",
        "13671\n",
        "13673\n",
        "13675\n",
        "13677\n",
        "13679"
       ]
      },
      {
       "output_type": "stream",
       "stream": "stdout",
       "text": [
        "\n",
        "13681\n",
        "13683\n",
        "13685\n",
        "13687\n",
        "13689\n",
        "13691\n",
        "13693"
       ]
      },
      {
       "output_type": "stream",
       "stream": "stdout",
       "text": [
        "\n",
        "13695\n",
        "13697\n",
        "13699\n",
        "13701\n",
        "13703\n",
        "13705\n",
        "13707"
       ]
      },
      {
       "output_type": "stream",
       "stream": "stdout",
       "text": [
        "\n",
        "13709\n",
        "13711\n",
        "13713\n",
        "13715\n",
        "13717\n",
        "13719\n",
        "13721"
       ]
      },
      {
       "output_type": "stream",
       "stream": "stdout",
       "text": [
        "\n",
        "13723\n",
        "13725\n",
        "13727\n",
        "13729\n",
        "13731\n",
        "13733\n",
        "13735"
       ]
      },
      {
       "output_type": "stream",
       "stream": "stdout",
       "text": [
        "\n",
        "13737\n",
        "13739\n",
        "13741\n",
        "13743\n",
        "13745\n",
        "13747\n",
        "13749"
       ]
      },
      {
       "output_type": "stream",
       "stream": "stdout",
       "text": [
        "\n",
        "13751\n",
        "13753\n",
        "13755\n",
        "13757\n",
        "13759\n",
        "13761\n",
        "13763"
       ]
      },
      {
       "output_type": "stream",
       "stream": "stdout",
       "text": [
        "\n",
        "13765\n",
        "13767\n",
        "13769\n",
        "13771\n",
        "13773\n",
        "13775\n",
        "13777"
       ]
      },
      {
       "output_type": "stream",
       "stream": "stdout",
       "text": [
        "\n",
        "13779\n",
        "13781\n",
        "13783\n",
        "13785\n",
        "13787\n",
        "13789\n",
        "13791"
       ]
      },
      {
       "output_type": "stream",
       "stream": "stdout",
       "text": [
        "\n",
        "13793\n",
        "13795\n",
        "13797\n",
        "13799\n",
        "13801\n",
        "13803\n",
        "13805"
       ]
      },
      {
       "output_type": "stream",
       "stream": "stdout",
       "text": [
        "\n",
        "13807\n",
        "13809\n",
        "13811\n",
        "13813\n",
        "13815\n",
        "13817\n",
        "13819"
       ]
      },
      {
       "output_type": "stream",
       "stream": "stdout",
       "text": [
        "\n",
        "13821\n",
        "13823\n",
        "13825\n",
        "13827\n",
        "13829\n",
        "13831\n",
        "13833"
       ]
      },
      {
       "output_type": "stream",
       "stream": "stdout",
       "text": [
        "\n",
        "13835\n",
        "13837\n",
        "13839\n",
        "13841"
       ]
      },
      {
       "output_type": "stream",
       "stream": "stdout",
       "text": [
        "\n",
        "13843\n",
        "13845\n",
        "13847\n",
        "13849\n",
        "13851\n",
        "13853\n",
        "13855\n",
        "13857"
       ]
      },
      {
       "output_type": "stream",
       "stream": "stdout",
       "text": [
        "\n",
        "13859\n",
        "13861\n",
        "13863\n"
       ]
      }
     ],
     "prompt_number": 23
    },
    {
     "cell_type": "code",
     "collapsed": false,
     "input": [
      "df = pd.DataFrame({'azul': azules_length, 'roja': rojas_length, 'ambas': ambas_length}, columns=['azul', 'roja', 'ambas'], index = indice)"
     ],
     "language": "python",
     "metadata": {},
     "outputs": [],
     "prompt_number": 27
    },
    {
     "cell_type": "code",
     "collapsed": false,
     "input": [
      "df.iloc[0:10]"
     ],
     "language": "python",
     "metadata": {},
     "outputs": [
      {
       "html": [
        "<div style=\"max-height:1000px;max-width:1500px;overflow:auto;\">\n",
        "<table border=\"1\" class=\"dataframe\">\n",
        "  <thead>\n",
        "    <tr style=\"text-align: right;\">\n",
        "      <th></th>\n",
        "      <th>azul</th>\n",
        "      <th>roja</th>\n",
        "      <th>ambas</th>\n",
        "    </tr>\n",
        "  </thead>\n",
        "  <tbody>\n",
        "    <tr>\n",
        "      <th>0 </th>\n",
        "      <td> 1249</td>\n",
        "      <td> 1232</td>\n",
        "      <td> 1216</td>\n",
        "    </tr>\n",
        "    <tr>\n",
        "      <th>2 </th>\n",
        "      <td> 1223</td>\n",
        "      <td> 1193</td>\n",
        "      <td> 1154</td>\n",
        "    </tr>\n",
        "    <tr>\n",
        "      <th>4 </th>\n",
        "      <td> 1206</td>\n",
        "      <td> 1165</td>\n",
        "      <td> 1107</td>\n",
        "    </tr>\n",
        "    <tr>\n",
        "      <th>6 </th>\n",
        "      <td> 1157</td>\n",
        "      <td> 1167</td>\n",
        "      <td> 1134</td>\n",
        "    </tr>\n",
        "    <tr>\n",
        "      <th>8 </th>\n",
        "      <td> 1158</td>\n",
        "      <td> 1106</td>\n",
        "      <td> 1087</td>\n",
        "    </tr>\n",
        "    <tr>\n",
        "      <th>10</th>\n",
        "      <td> 1240</td>\n",
        "      <td>  519</td>\n",
        "      <td>  513</td>\n",
        "    </tr>\n",
        "    <tr>\n",
        "      <th>12</th>\n",
        "      <td> 1190</td>\n",
        "      <td> 1180</td>\n",
        "      <td> 1170</td>\n",
        "    </tr>\n",
        "    <tr>\n",
        "      <th>14</th>\n",
        "      <td> 1241</td>\n",
        "      <td>  519</td>\n",
        "      <td>  513</td>\n",
        "    </tr>\n",
        "    <tr>\n",
        "      <th>16</th>\n",
        "      <td>  844</td>\n",
        "      <td>  847</td>\n",
        "      <td>  838</td>\n",
        "    </tr>\n",
        "    <tr>\n",
        "      <th>18</th>\n",
        "      <td> 1126</td>\n",
        "      <td> 1077</td>\n",
        "      <td> 1066</td>\n",
        "    </tr>\n",
        "  </tbody>\n",
        "</table>\n",
        "</div>"
       ],
       "metadata": {},
       "output_type": "pyout",
       "prompt_number": 29,
       "text": [
        "    azul  roja  ambas\n",
        "0   1249  1232   1216\n",
        "2   1223  1193   1154\n",
        "4   1206  1165   1107\n",
        "6   1157  1167   1134\n",
        "8   1158  1106   1087\n",
        "10  1240   519    513\n",
        "12  1190  1180   1170\n",
        "14  1241   519    513\n",
        "16   844   847    838\n",
        "18  1126  1077   1066"
       ]
      }
     ],
     "prompt_number": 29
    },
    {
     "cell_type": "code",
     "collapsed": false,
     "input": [
      "df.to_csv('conteo.csv')"
     ],
     "language": "python",
     "metadata": {},
     "outputs": [],
     "prompt_number": 30
    },
    {
     "cell_type": "code",
     "collapsed": false,
     "input": [],
     "language": "python",
     "metadata": {},
     "outputs": []
    }
   ],
   "metadata": {}
  }
 ]
}